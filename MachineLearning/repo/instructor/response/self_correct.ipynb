{
 "cells": [
  {
   "cell_type": "code",
   "execution_count": 1,
   "metadata": {},
   "outputs": [],
   "source": [
    "from typing_extensions import Annotated\n",
    "from pydantic import BaseModel, BeforeValidator"
   ]
  },
  {
   "cell_type": "code",
   "execution_count": 9,
   "metadata": {},
   "outputs": [
    {
     "name": "stdout",
     "output_type": "stream",
     "text": [
      "Name: pydantic\n",
      "Version: 2.5.2\n",
      "Summary: Data validation using Python type hints\n",
      "Home-page: \n",
      "Author: \n",
      "Author-email: Samuel Colvin <s@muelcolvin.com>, Eric Jolibois <em.jolibois@gmail.com>, Hasan Ramezani <hasan.r67@gmail.com>, Adrian Garcia Badaracco <1755071+adriangb@users.noreply.github.com>, Terrence Dorsey <terry@pydantic.dev>, David Montague <david@pydantic.dev>, Serge Matveenko <lig@countzero.co>, Marcelo Trylesinski <marcelotryle@gmail.com>, Sydney Runkle <sydneymarierunkle@gmail.com>, David Hewitt <mail@davidhewitt.io>\n",
      "License: \n",
      "Location: c:\\Users\\18353\\AppData\\Local\\Programs\\Python\\Python311\\Lib\\site-packages\n",
      "Requires: annotated-types, pydantic-core, typing-extensions\n",
      "Required-by: chromadb, confection, elevenlabs, fastapi, gradio, inflect, instructor, langchain, langchain-core, langsmith, openai, openapi-schema-pydantic, pinecone-datasets, pydantic-extra-types, pydantic-settings, qdrant-client, replicate, spacy, thinc, weasel\n",
      "Note: you may need to restart the kernel to use updated packages.\n"
     ]
    }
   ],
   "source": [
    "%pip show pydantic"
   ]
  },
  {
   "cell_type": "code",
   "execution_count": 2,
   "metadata": {},
   "outputs": [],
   "source": [
    "class QuestionAnswer(BaseModel):\n",
    "    question: str\n",
    "    answer: str"
   ]
  },
  {
   "cell_type": "code",
   "execution_count": 3,
   "metadata": {},
   "outputs": [
    {
     "name": "stdout",
     "output_type": "stream",
     "text": [
      "resp model is <class '__main__.QuestionAnswer'>\n",
      "mode is Mode.FUNCTIONS\n",
      "start request\n",
      "before response\n",
      "func resp is ChatCompletion(id='chatcmpl-8aK3aqS0wYRI8PJ8CpvYHl9bm9sLt', choices=[Choice(finish_reason='stop', index=0, message=ChatCompletionMessage(content=None, role='assistant', function_call=FunctionCall(arguments='{\\n  \"question\": \"What is the meaning of life?\",\\n  \"answer\": \"According to the devil, the meaning of life is to live a life of sin and debauchery.\"\\n}', name='QuestionAnswer'), tool_calls=None), logprobs=None)], created=1703667598, model='gpt-3.5-turbo-0613', object='chat.completion', system_fingerprint=None, usage=CompletionUsage(completion_tokens=41, prompt_tokens=125, total_tokens=166))\n",
      "response is ChatCompletion(id='chatcmpl-8aK3aqS0wYRI8PJ8CpvYHl9bm9sLt', choices=[Choice(finish_reason='stop', index=0, message=ChatCompletionMessage(content=None, role='assistant', function_call=FunctionCall(arguments='{\\n  \"question\": \"What is the meaning of life?\",\\n  \"answer\": \"According to the devil, the meaning of life is to live a life of sin and debauchery.\"\\n}', name='QuestionAnswer'), tool_calls=None), logprobs=None)], created=1703667598, model='gpt-3.5-turbo-0613', object='chat.completion', system_fingerprint=None, usage=CompletionUsage(completion_tokens=41, prompt_tokens=125, total_tokens=166))\n"
     ]
    }
   ],
   "source": [
    "from openai import OpenAI\n",
    "import instructor\n",
    "\n",
    "# Apply the patch to the OpenAI client\n",
    "# enables response_model keyword\n",
    "client = instructor.patch(OpenAI())\n",
    "\n",
    "question = \"What is the meaning of life?\"\n",
    "context = \"The according to the devil the meaning of live is to live a life of sin and debauchery.\"\n",
    "\n",
    "qa: QuestionAnswer = client.chat.completions.create(\n",
    "    model=\"gpt-3.5-turbo\",\n",
    "    response_model=QuestionAnswer,\n",
    "    messages=[\n",
    "        {\n",
    "            \"role\": \"system\",\n",
    "            \"content\": \"You are a system that answers questions based on the context. answer exactly what the question asks using the context.\",\n",
    "        },\n",
    "        {\n",
    "            \"role\": \"user\",\n",
    "            \"content\": f\"using the context: {context}\\n\\nAnswer the following question: {question}\",\n",
    "        },\n",
    "    ],\n",
    ")"
   ]
  },
  {
   "cell_type": "code",
   "execution_count": 4,
   "metadata": {},
   "outputs": [
    {
     "data": {
      "text/plain": [
       "QuestionAnswer(question='What is the meaning of life?', answer='According to the devil, the meaning of life is to live a life of sin and debauchery.')"
      ]
     },
     "execution_count": 4,
     "metadata": {},
     "output_type": "execute_result"
    }
   ],
   "source": [
    "qa"
   ]
  },
  {
   "cell_type": "code",
   "execution_count": 5,
   "metadata": {},
   "outputs": [],
   "source": [
    "from instructor import llm_validator"
   ]
  },
  {
   "cell_type": "code",
   "execution_count": 6,
   "metadata": {},
   "outputs": [
    {
     "name": "stdout",
     "output_type": "stream",
     "text": [
      "resp model is <class '__main__.QuestionAnswerNoEvil'>\n",
      "mode is Mode.FUNCTIONS\n",
      "start request\n",
      "before response\n",
      "func resp is ChatCompletion(id='chatcmpl-8aK3hcIjFX4RzOtXpGgrBk1ym6c9N', choices=[Choice(finish_reason='stop', index=0, message=ChatCompletionMessage(content=None, role='assistant', function_call=FunctionCall(arguments='{\\n  \"question\": \"What is the meaning of life?\",\\n  \"answer\": \"According to the devil, the meaning of life is to live a life of sin and debauchery.\"\\n}', name='QuestionAnswerNoEvil'), tool_calls=None), logprobs=None)], created=1703667605, model='gpt-3.5-turbo-0613', object='chat.completion', system_fingerprint=None, usage=CompletionUsage(completion_tokens=41, prompt_tokens=134, total_tokens=175))\n",
      "response is ChatCompletion(id='chatcmpl-8aK3hcIjFX4RzOtXpGgrBk1ym6c9N', choices=[Choice(finish_reason='stop', index=0, message=ChatCompletionMessage(content=None, role='assistant', function_call=FunctionCall(arguments='{\\n  \"question\": \"What is the meaning of life?\",\\n  \"answer\": \"According to the devil, the meaning of life is to live a life of sin and debauchery.\"\\n}', name='QuestionAnswerNoEvil'), tool_calls=None), logprobs=None)], created=1703667605, model='gpt-3.5-turbo-0613', object='chat.completion', system_fingerprint=None, usage=CompletionUsage(completion_tokens=41, prompt_tokens=134, total_tokens=175))\n",
      "start llm\n",
      "'NoneType' object has no attribute 'chat'\n"
     ]
    }
   ],
   "source": [
    "class QuestionAnswerNoEvil(BaseModel):\n",
    "    question: str\n",
    "    answer: Annotated[\n",
    "        str,\n",
    "        BeforeValidator(\n",
    "            llm_validator(\"don't say objectionable things\", allow_override=True)\n",
    "        ),\n",
    "    ]\n",
    "\n",
    "try:\n",
    "    qa: QuestionAnswerNoEvil = client.chat.completions.create(\n",
    "        model=\"gpt-3.5-turbo\",\n",
    "        response_model=QuestionAnswerNoEvil,\n",
    "        messages=[\n",
    "            {\n",
    "                \"role\": \"system\",\n",
    "                \"content\": \"You are a system that answers questions based on the context. answer exactly what the question asks using the context.\",\n",
    "            },\n",
    "            {\n",
    "                \"role\": \"user\",\n",
    "                \"content\": f\"using the context: {context}\\n\\nAnswer the following question: {question}\",\n",
    "            },\n",
    "        ],\n",
    "    )\n",
    "except Exception as e:\n",
    "    print(e)"
   ]
  },
  {
   "cell_type": "code",
   "execution_count": 7,
   "metadata": {},
   "outputs": [
    {
     "name": "stdout",
     "output_type": "stream",
     "text": [
      "resp model is <class '__main__.QuestionAnswerNoEvil'>\n",
      "mode is Mode.FUNCTIONS\n",
      "start request\n",
      "before response\n",
      "func resp is ChatCompletion(id='chatcmpl-8aK3ojO27j0lj2jBg5SuRhz2e5eBe', choices=[Choice(finish_reason='stop', index=0, message=ChatCompletionMessage(content=None, role='assistant', function_call=FunctionCall(arguments='{\\n  \"question\": \"What is the meaning of life?\",\\n  \"answer\": \"The meaning of life, according to the devil, is to live a life of sin and debauchery.\"\\n}', name='QuestionAnswerNoEvil'), tool_calls=None), logprobs=None)], created=1703667612, model='gpt-3.5-turbo-0613', object='chat.completion', system_fingerprint=None, usage=CompletionUsage(completion_tokens=42, prompt_tokens=134, total_tokens=176))\n",
      "response is ChatCompletion(id='chatcmpl-8aK3ojO27j0lj2jBg5SuRhz2e5eBe', choices=[Choice(finish_reason='stop', index=0, message=ChatCompletionMessage(content=None, role='assistant', function_call=FunctionCall(arguments='{\\n  \"question\": \"What is the meaning of life?\",\\n  \"answer\": \"The meaning of life, according to the devil, is to live a life of sin and debauchery.\"\\n}', name='QuestionAnswerNoEvil'), tool_calls=None), logprobs=None)], created=1703667612, model='gpt-3.5-turbo-0613', object='chat.completion', system_fingerprint=None, usage=CompletionUsage(completion_tokens=42, prompt_tokens=134, total_tokens=176))\n",
      "start llm\n",
      "resp model is <class 'instructor.dsl.validators.Validator'>\n",
      "mode is Mode.FUNCTIONS\n",
      "start request\n",
      "before response\n"
     ]
    },
    {
     "name": "stderr",
     "output_type": "stream",
     "text": [
      "Retrying, exception: 1 validation error for QuestionAnswerNoEvil\n",
      "answer\n",
      "  Assertion failed, The statement promotes sin and debauchery, which can be considered objectionable. [type=assertion_error, input_value='The meaning of life, acc... of sin and debauchery.', input_type=str]\n",
      "    For further information visit https://errors.pydantic.dev/2.5/v/assertion_error\n",
      "Traceback (most recent call last):\n",
      "  File \"c:\\Users\\18353\\AppData\\Local\\Programs\\Python\\Python311\\Lib\\site-packages\\instructor\\patch.py\", line 282, in retry_sync\n",
      "    return process_response(\n",
      "           ^^^^^^^^^^^^^^^^^\n",
      "  File \"c:\\Users\\18353\\AppData\\Local\\Programs\\Python\\Python311\\Lib\\site-packages\\instructor\\patch.py\", line 166, in process_response\n",
      "    model = response_model.from_response(\n",
      "            ^^^^^^^^^^^^^^^^^^^^^^^^^^^^^\n",
      "  File \"c:\\Users\\18353\\AppData\\Local\\Programs\\Python\\Python311\\Lib\\site-packages\\instructor\\function_calls.py\", line 137, in from_response\n",
      "    return cls.model_validate_json(\n",
      "           ^^^^^^^^^^^^^^^^^^^^^^^^\n",
      "  File \"c:\\Users\\18353\\AppData\\Local\\Programs\\Python\\Python311\\Lib\\site-packages\\pydantic\\main.py\", line 532, in model_validate_json\n",
      "    return cls.__pydantic_validator__.validate_json(json_data, strict=strict, context=context)\n",
      "           ^^^^^^^^^^^^^^^^^^^^^^^^^^^^^^^^^^^^^^^^^^^^^^^^^^^^^^^^^^^^^^^^^^^^^^^^^^^^^^^^^^^\n",
      "pydantic_core._pydantic_core.ValidationError: 1 validation error for QuestionAnswerNoEvil\n",
      "answer\n",
      "  Assertion failed, The statement promotes sin and debauchery, which can be considered objectionable. [type=assertion_error, input_value='The meaning of life, acc... of sin and debauchery.', input_type=str]\n",
      "    For further information visit https://errors.pydantic.dev/2.5/v/assertion_error\n"
     ]
    },
    {
     "name": "stdout",
     "output_type": "stream",
     "text": [
      "func resp is ChatCompletion(id='chatcmpl-8aK3qIu2ngklFVRY4xgPw39j5fND8', choices=[Choice(finish_reason='stop', index=0, message=ChatCompletionMessage(content=None, role='assistant', function_call=FunctionCall(arguments='{\\n  \"is_valid\": false,\\n  \"reason\": \"The statement promotes sin and debauchery, which can be considered objectionable.\",\\n  \"fixed_value\": \"The meaning of life is to find happiness and fulfillment.\"\\n}', name='Validator'), tool_calls=None), logprobs=None)], created=1703667614, model='gpt-3.5-turbo-0613', object='chat.completion', system_fingerprint=None, usage=CompletionUsage(completion_tokens=48, prompt_tokens=194, total_tokens=242))\n",
      "response is ChatCompletion(id='chatcmpl-8aK3qIu2ngklFVRY4xgPw39j5fND8', choices=[Choice(finish_reason='stop', index=0, message=ChatCompletionMessage(content=None, role='assistant', function_call=FunctionCall(arguments='{\\n  \"is_valid\": false,\\n  \"reason\": \"The statement promotes sin and debauchery, which can be considered objectionable.\",\\n  \"fixed_value\": \"The meaning of life is to find happiness and fulfillment.\"\\n}', name='Validator'), tool_calls=None), logprobs=None)], created=1703667614, model='gpt-3.5-turbo-0613', object='chat.completion', system_fingerprint=None, usage=CompletionUsage(completion_tokens=48, prompt_tokens=194, total_tokens=242))\n",
      "resp is is_valid=False reason='The statement promotes sin and debauchery, which can be considered objectionable.' fixed_value='The meaning of life is to find happiness and fulfillment.'\n",
      "before response\n",
      "func resp is ChatCompletion(id='chatcmpl-8aK3s50SDjsfpfY38iwVhSqv2btpX', choices=[Choice(finish_reason='stop', index=0, message=ChatCompletionMessage(content=None, role='assistant', function_call=FunctionCall(arguments='{\\n  \"question\": \"What is the meaning of life?\",\\n  \"answer\": \"The meaning of life is to find purpose, seek happiness, and make meaningful connections with others.\"\\n}', name='QuestionAnswerNoEvil'), tool_calls=None), logprobs=None)], created=1703667616, model='gpt-3.5-turbo-0613', object='chat.completion', system_fingerprint=None, usage=CompletionUsage(completion_tokens=38, prompt_tokens=298, total_tokens=336))\n",
      "response is ChatCompletion(id='chatcmpl-8aK3s50SDjsfpfY38iwVhSqv2btpX', choices=[Choice(finish_reason='stop', index=0, message=ChatCompletionMessage(content=None, role='assistant', function_call=FunctionCall(arguments='{\\n  \"question\": \"What is the meaning of life?\",\\n  \"answer\": \"The meaning of life is to find purpose, seek happiness, and make meaningful connections with others.\"\\n}', name='QuestionAnswerNoEvil'), tool_calls=None), logprobs=None)], created=1703667616, model='gpt-3.5-turbo-0613', object='chat.completion', system_fingerprint=None, usage=CompletionUsage(completion_tokens=38, prompt_tokens=298, total_tokens=336))\n",
      "start llm\n",
      "resp model is <class 'instructor.dsl.validators.Validator'>\n",
      "mode is Mode.FUNCTIONS\n",
      "start request\n",
      "before response\n",
      "func resp is ChatCompletion(id='chatcmpl-8aK3t0S2TQwUx6zRHY7OLGFF7zyC3', choices=[Choice(finish_reason='stop', index=0, message=ChatCompletionMessage(content=None, role='assistant', function_call=FunctionCall(arguments='{\\n  \"is_valid\": true\\n}', name='Validator'), tool_calls=None), logprobs=None)], created=1703667617, model='gpt-3.5-turbo-0613', object='chat.completion', system_fingerprint=None, usage=CompletionUsage(completion_tokens=9, prompt_tokens=190, total_tokens=199))\n",
      "response is ChatCompletion(id='chatcmpl-8aK3t0S2TQwUx6zRHY7OLGFF7zyC3', choices=[Choice(finish_reason='stop', index=0, message=ChatCompletionMessage(content=None, role='assistant', function_call=FunctionCall(arguments='{\\n  \"is_valid\": true\\n}', name='Validator'), tool_calls=None), logprobs=None)], created=1703667617, model='gpt-3.5-turbo-0613', object='chat.completion', system_fingerprint=None, usage=CompletionUsage(completion_tokens=9, prompt_tokens=190, total_tokens=199))\n",
      "resp is is_valid=True reason=None fixed_value=None\n"
     ]
    }
   ],
   "source": [
    "class QuestionAnswerNoEvil(BaseModel):\n",
    "    question: str\n",
    "    answer: Annotated[\n",
    "        str,\n",
    "        BeforeValidator(\n",
    "            llm_validator(\"don't say objectionable things\", allow_override=True, openai_client=instructor.patch(OpenAI()))\n",
    "        ),\n",
    "    ]\n",
    "\n",
    "try:\n",
    "    qa: QuestionAnswerNoEvil = client.chat.completions.create(\n",
    "        model=\"gpt-3.5-turbo\",\n",
    "        response_model=QuestionAnswerNoEvil,\n",
    "        messages=[\n",
    "            {\n",
    "                \"role\": \"system\",\n",
    "                \"content\": \"You are a system that answers questions based on the context. answer exactly what the question asks using the context.\",\n",
    "            },\n",
    "            {\n",
    "                \"role\": \"user\",\n",
    "                \"content\": f\"using the context: {context}\\n\\nAnswer the following question: {question}\",\n",
    "            },\n",
    "        ],\n",
    "    )\n",
    "except Exception as e:\n",
    "    print(e)"
   ]
  },
  {
   "cell_type": "code",
   "execution_count": 8,
   "metadata": {},
   "outputs": [
    {
     "name": "stdout",
     "output_type": "stream",
     "text": [
      "resp model is <class '__main__.QuestionAnswerNoEvil'>\n",
      "mode is Mode.FUNCTIONS\n",
      "start request\n",
      "before response\n",
      "func resp is ChatCompletion(id='chatcmpl-8aK3uiq9PBy8i3lAebL5cGoyXvl5j', choices=[Choice(finish_reason='stop', index=0, message=ChatCompletionMessage(content=None, role='assistant', function_call=FunctionCall(arguments='{\\n  \"question\": \"What is the meaning of life?\",\\n  \"answer\": \"According to the devil, the meaning of life is to live a life of sin and debauchery.\"\\n}', name='QuestionAnswerNoEvil'), tool_calls=None), logprobs=None)], created=1703667618, model='gpt-3.5-turbo-0613', object='chat.completion', system_fingerprint=None, usage=CompletionUsage(completion_tokens=41, prompt_tokens=134, total_tokens=175))\n",
      "response is ChatCompletion(id='chatcmpl-8aK3uiq9PBy8i3lAebL5cGoyXvl5j', choices=[Choice(finish_reason='stop', index=0, message=ChatCompletionMessage(content=None, role='assistant', function_call=FunctionCall(arguments='{\\n  \"question\": \"What is the meaning of life?\",\\n  \"answer\": \"According to the devil, the meaning of life is to live a life of sin and debauchery.\"\\n}', name='QuestionAnswerNoEvil'), tool_calls=None), logprobs=None)], created=1703667618, model='gpt-3.5-turbo-0613', object='chat.completion', system_fingerprint=None, usage=CompletionUsage(completion_tokens=41, prompt_tokens=134, total_tokens=175))\n",
      "start llm\n",
      "resp model is <class 'instructor.dsl.validators.Validator'>\n",
      "mode is Mode.FUNCTIONS\n",
      "start request\n",
      "before response\n"
     ]
    },
    {
     "name": "stderr",
     "output_type": "stream",
     "text": [
      "Retrying, exception: 1 validation error for QuestionAnswerNoEvil\n",
      "answer\n",
      "  Assertion failed, The statement promotes sin and debauchery, which can be considered objectionable. [type=assertion_error, input_value='According to the devil, ... of sin and debauchery.', input_type=str]\n",
      "    For further information visit https://errors.pydantic.dev/2.5/v/assertion_error\n",
      "Traceback (most recent call last):\n",
      "  File \"c:\\Users\\18353\\AppData\\Local\\Programs\\Python\\Python311\\Lib\\site-packages\\instructor\\patch.py\", line 282, in retry_sync\n",
      "    return process_response(\n",
      "           ^^^^^^^^^^^^^^^^^\n",
      "  File \"c:\\Users\\18353\\AppData\\Local\\Programs\\Python\\Python311\\Lib\\site-packages\\instructor\\patch.py\", line 166, in process_response\n",
      "    model = response_model.from_response(\n",
      "            ^^^^^^^^^^^^^^^^^^^^^^^^^^^^^\n",
      "  File \"c:\\Users\\18353\\AppData\\Local\\Programs\\Python\\Python311\\Lib\\site-packages\\instructor\\function_calls.py\", line 137, in from_response\n",
      "    return cls.model_validate_json(\n",
      "           ^^^^^^^^^^^^^^^^^^^^^^^^\n",
      "  File \"c:\\Users\\18353\\AppData\\Local\\Programs\\Python\\Python311\\Lib\\site-packages\\pydantic\\main.py\", line 532, in model_validate_json\n",
      "    return cls.__pydantic_validator__.validate_json(json_data, strict=strict, context=context)\n",
      "           ^^^^^^^^^^^^^^^^^^^^^^^^^^^^^^^^^^^^^^^^^^^^^^^^^^^^^^^^^^^^^^^^^^^^^^^^^^^^^^^^^^^\n",
      "pydantic_core._pydantic_core.ValidationError: 1 validation error for QuestionAnswerNoEvil\n",
      "answer\n",
      "  Assertion failed, The statement promotes sin and debauchery, which can be considered objectionable. [type=assertion_error, input_value='According to the devil, ... of sin and debauchery.', input_type=str]\n",
      "    For further information visit https://errors.pydantic.dev/2.5/v/assertion_error\n"
     ]
    },
    {
     "name": "stdout",
     "output_type": "stream",
     "text": [
      "func resp is ChatCompletion(id='chatcmpl-8aK3w714QkrOlASeo3MCLewS8dbgI', choices=[Choice(finish_reason='stop', index=0, message=ChatCompletionMessage(content=None, role='assistant', function_call=FunctionCall(arguments='{\\n  \"is_valid\": false,\\n  \"reason\": \"The statement promotes sin and debauchery, which can be considered objectionable.\",\\n  \"fixed_value\": \"According to some people, the meaning of life is to find happiness and fulfillment.\"\\n}', name='Validator'), tool_calls=None), logprobs=None)], created=1703667620, model='gpt-3.5-turbo-0613', object='chat.completion', system_fingerprint=None, usage=CompletionUsage(completion_tokens=53, prompt_tokens=193, total_tokens=246))\n",
      "response is ChatCompletion(id='chatcmpl-8aK3w714QkrOlASeo3MCLewS8dbgI', choices=[Choice(finish_reason='stop', index=0, message=ChatCompletionMessage(content=None, role='assistant', function_call=FunctionCall(arguments='{\\n  \"is_valid\": false,\\n  \"reason\": \"The statement promotes sin and debauchery, which can be considered objectionable.\",\\n  \"fixed_value\": \"According to some people, the meaning of life is to find happiness and fulfillment.\"\\n}', name='Validator'), tool_calls=None), logprobs=None)], created=1703667620, model='gpt-3.5-turbo-0613', object='chat.completion', system_fingerprint=None, usage=CompletionUsage(completion_tokens=53, prompt_tokens=193, total_tokens=246))\n",
      "resp is is_valid=False reason='The statement promotes sin and debauchery, which can be considered objectionable.' fixed_value='According to some people, the meaning of life is to find happiness and fulfillment.'\n",
      "before response\n",
      "func resp is ChatCompletion(id='chatcmpl-8aK3yVNfYmSTvNXooYcLRzX8yzOzb', choices=[Choice(finish_reason='stop', index=0, message=ChatCompletionMessage(content=None, role='assistant', function_call=FunctionCall(arguments='{\\n  \"question\": \"What is the meaning of life?\",\\n  \"answer\": \"The meaning of life is subjective and can vary depending on a person\\'s beliefs and values. It is not limited to living a life of sin and debauchery.\"\\n}', name='QuestionAnswerNoEvil'), tool_calls=None), logprobs=None)], created=1703667622, model='gpt-3.5-turbo-0613', object='chat.completion', system_fingerprint=None, usage=CompletionUsage(completion_tokens=53, prompt_tokens=296, total_tokens=349))\n",
      "response is ChatCompletion(id='chatcmpl-8aK3yVNfYmSTvNXooYcLRzX8yzOzb', choices=[Choice(finish_reason='stop', index=0, message=ChatCompletionMessage(content=None, role='assistant', function_call=FunctionCall(arguments='{\\n  \"question\": \"What is the meaning of life?\",\\n  \"answer\": \"The meaning of life is subjective and can vary depending on a person\\'s beliefs and values. It is not limited to living a life of sin and debauchery.\"\\n}', name='QuestionAnswerNoEvil'), tool_calls=None), logprobs=None)], created=1703667622, model='gpt-3.5-turbo-0613', object='chat.completion', system_fingerprint=None, usage=CompletionUsage(completion_tokens=53, prompt_tokens=296, total_tokens=349))\n",
      "start llm\n",
      "resp model is <class 'instructor.dsl.validators.Validator'>\n",
      "mode is Mode.FUNCTIONS\n",
      "start request\n",
      "before response\n",
      "func resp is ChatCompletion(id='chatcmpl-8aK40tNl45I5PyZv7IgXDQanNvQ6r', choices=[Choice(finish_reason='stop', index=0, message=ChatCompletionMessage(content=None, role='assistant', function_call=FunctionCall(arguments='{\\n  \"is_valid\": true\\n}', name='Validator'), tool_calls=None), logprobs=None)], created=1703667624, model='gpt-3.5-turbo-0613', object='chat.completion', system_fingerprint=None, usage=CompletionUsage(completion_tokens=9, prompt_tokens=205, total_tokens=214))\n",
      "response is ChatCompletion(id='chatcmpl-8aK40tNl45I5PyZv7IgXDQanNvQ6r', choices=[Choice(finish_reason='stop', index=0, message=ChatCompletionMessage(content=None, role='assistant', function_call=FunctionCall(arguments='{\\n  \"is_valid\": true\\n}', name='Validator'), tool_calls=None), logprobs=None)], created=1703667624, model='gpt-3.5-turbo-0613', object='chat.completion', system_fingerprint=None, usage=CompletionUsage(completion_tokens=9, prompt_tokens=205, total_tokens=214))\n",
      "resp is is_valid=True reason=None fixed_value=None\n"
     ]
    }
   ],
   "source": [
    "qa: QuestionAnswerNoEvil = client.chat.completions.create(\n",
    "    model=\"gpt-3.5-turbo\",\n",
    "    response_model=QuestionAnswerNoEvil,\n",
    "    max_retries=1,\n",
    "    messages=[\n",
    "        {\n",
    "            \"role\": \"system\",\n",
    "            \"content\": \"You are a system that answers questions based on the context. answer exactly what the question asks using the context.\",\n",
    "        },\n",
    "        {\n",
    "            \"role\": \"user\",\n",
    "            \"content\": f\"using the context: {context}\\n\\nAnswer the following question: {question}\",\n",
    "        },\n",
    "    ],\n",
    ")"
   ]
  },
  {
   "cell_type": "code",
   "execution_count": 10,
   "metadata": {},
   "outputs": [
    {
     "data": {
      "text/plain": [
       "QuestionAnswerNoEvil(question='What is the meaning of life?', answer='According to the devil, the meaning of life is to live a purposeful and fulfilling existence.')"
      ]
     },
     "execution_count": 10,
     "metadata": {},
     "output_type": "execute_result"
    }
   ],
   "source": [
    "qa"
   ]
  },
  {
   "cell_type": "code",
   "execution_count": null,
   "metadata": {},
   "outputs": [],
   "source": []
  }
 ],
 "metadata": {
  "kernelspec": {
   "display_name": "Python 3",
   "language": "python",
   "name": "python3"
  },
  "language_info": {
   "codemirror_mode": {
    "name": "ipython",
    "version": 3
   },
   "file_extension": ".py",
   "mimetype": "text/x-python",
   "name": "python",
   "nbconvert_exporter": "python",
   "pygments_lexer": "ipython3",
   "version": "3.11.5"
  }
 },
 "nbformat": 4,
 "nbformat_minor": 2
}
