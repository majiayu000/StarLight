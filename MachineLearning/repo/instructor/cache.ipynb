{
 "cells": [
  {
   "cell_type": "code",
   "execution_count": 1,
   "metadata": {},
   "outputs": [
    {
     "name": "stdout",
     "output_type": "stream",
     "text": [
      "Collecting instructor\n",
      "  Downloading instructor-0.4.4-py3-none-any.whl.metadata (9.6 kB)\n",
      "Requirement already satisfied: aiohttp<4.0.0,>=3.9.1 in /Library/Frameworks/Python.framework/Versions/3.11/lib/python3.11/site-packages (from instructor) (3.9.1)\n",
      "Collecting docstring-parser<0.16,>=0.15 (from instructor)\n",
      "  Downloading docstring_parser-0.15-py3-none-any.whl (36 kB)\n",
      "Requirement already satisfied: openai<2.0.0,>=1.1.0 in /Library/Frameworks/Python.framework/Versions/3.11/lib/python3.11/site-packages (from instructor) (1.3.7)\n",
      "Requirement already satisfied: pydantic<3.0.0,>=2.0.2 in /Library/Frameworks/Python.framework/Versions/3.11/lib/python3.11/site-packages (from instructor) (2.5.2)\n",
      "Collecting rich<14.0.0,>=13.7.0 (from instructor)\n",
      "  Using cached rich-13.7.0-py3-none-any.whl.metadata (18 kB)\n",
      "Requirement already satisfied: typer<0.10.0,>=0.9.0 in /Library/Frameworks/Python.framework/Versions/3.11/lib/python3.11/site-packages (from instructor) (0.9.0)\n",
      "Requirement already satisfied: attrs>=17.3.0 in /Library/Frameworks/Python.framework/Versions/3.11/lib/python3.11/site-packages (from aiohttp<4.0.0,>=3.9.1->instructor) (22.2.0)\n",
      "Requirement already satisfied: multidict<7.0,>=4.5 in /Library/Frameworks/Python.framework/Versions/3.11/lib/python3.11/site-packages (from aiohttp<4.0.0,>=3.9.1->instructor) (6.0.4)\n",
      "Requirement already satisfied: yarl<2.0,>=1.0 in /Library/Frameworks/Python.framework/Versions/3.11/lib/python3.11/site-packages (from aiohttp<4.0.0,>=3.9.1->instructor) (1.8.2)\n",
      "Requirement already satisfied: frozenlist>=1.1.1 in /Library/Frameworks/Python.framework/Versions/3.11/lib/python3.11/site-packages (from aiohttp<4.0.0,>=3.9.1->instructor) (1.3.3)\n",
      "Requirement already satisfied: aiosignal>=1.1.2 in /Library/Frameworks/Python.framework/Versions/3.11/lib/python3.11/site-packages (from aiohttp<4.0.0,>=3.9.1->instructor) (1.3.1)\n",
      "Requirement already satisfied: anyio<4,>=3.5.0 in /Library/Frameworks/Python.framework/Versions/3.11/lib/python3.11/site-packages (from openai<2.0.0,>=1.1.0->instructor) (3.7.1)\n",
      "Requirement already satisfied: distro<2,>=1.7.0 in /Library/Frameworks/Python.framework/Versions/3.11/lib/python3.11/site-packages (from openai<2.0.0,>=1.1.0->instructor) (1.8.0)\n",
      "Requirement already satisfied: httpx<1,>=0.23.0 in /Library/Frameworks/Python.framework/Versions/3.11/lib/python3.11/site-packages (from openai<2.0.0,>=1.1.0->instructor) (0.25.2)\n",
      "Requirement already satisfied: sniffio in /Library/Frameworks/Python.framework/Versions/3.11/lib/python3.11/site-packages (from openai<2.0.0,>=1.1.0->instructor) (1.3.0)\n",
      "Requirement already satisfied: tqdm>4 in /Library/Frameworks/Python.framework/Versions/3.11/lib/python3.11/site-packages (from openai<2.0.0,>=1.1.0->instructor) (4.65.0)\n",
      "Requirement already satisfied: typing-extensions<5,>=4.5 in /Library/Frameworks/Python.framework/Versions/3.11/lib/python3.11/site-packages (from openai<2.0.0,>=1.1.0->instructor) (4.8.0)\n",
      "Requirement already satisfied: annotated-types>=0.4.0 in /Library/Frameworks/Python.framework/Versions/3.11/lib/python3.11/site-packages (from pydantic<3.0.0,>=2.0.2->instructor) (0.6.0)\n",
      "Requirement already satisfied: pydantic-core==2.14.5 in /Library/Frameworks/Python.framework/Versions/3.11/lib/python3.11/site-packages (from pydantic<3.0.0,>=2.0.2->instructor) (2.14.5)\n",
      "Requirement already satisfied: markdown-it-py>=2.2.0 in /Library/Frameworks/Python.framework/Versions/3.11/lib/python3.11/site-packages (from rich<14.0.0,>=13.7.0->instructor) (3.0.0)\n",
      "Requirement already satisfied: pygments<3.0.0,>=2.13.0 in /Users/lifcc/Library/Python/3.11/lib/python/site-packages (from rich<14.0.0,>=13.7.0->instructor) (2.16.1)\n",
      "Requirement already satisfied: click<9.0.0,>=7.1.1 in /Library/Frameworks/Python.framework/Versions/3.11/lib/python3.11/site-packages (from typer<0.10.0,>=0.9.0->instructor) (8.1.3)\n",
      "Requirement already satisfied: idna>=2.8 in /Library/Frameworks/Python.framework/Versions/3.11/lib/python3.11/site-packages (from anyio<4,>=3.5.0->openai<2.0.0,>=1.1.0->instructor) (3.4)\n",
      "Requirement already satisfied: certifi in /Library/Frameworks/Python.framework/Versions/3.11/lib/python3.11/site-packages (from httpx<1,>=0.23.0->openai<2.0.0,>=1.1.0->instructor) (2023.7.22)\n",
      "Requirement already satisfied: httpcore==1.* in /Library/Frameworks/Python.framework/Versions/3.11/lib/python3.11/site-packages (from httpx<1,>=0.23.0->openai<2.0.0,>=1.1.0->instructor) (1.0.2)\n",
      "Requirement already satisfied: h11<0.15,>=0.13 in /Library/Frameworks/Python.framework/Versions/3.11/lib/python3.11/site-packages (from httpcore==1.*->httpx<1,>=0.23.0->openai<2.0.0,>=1.1.0->instructor) (0.14.0)\n",
      "Requirement already satisfied: mdurl~=0.1 in /Library/Frameworks/Python.framework/Versions/3.11/lib/python3.11/site-packages (from markdown-it-py>=2.2.0->rich<14.0.0,>=13.7.0->instructor) (0.1.2)\n",
      "Downloading instructor-0.4.4-py3-none-any.whl (26 kB)\n",
      "Using cached rich-13.7.0-py3-none-any.whl (240 kB)\n",
      "Installing collected packages: docstring-parser, rich, instructor\n",
      "  Attempting uninstall: rich\n",
      "    Found existing installation: rich 13.5.3\n",
      "    Uninstalling rich-13.5.3:\n",
      "      Successfully uninstalled rich-13.5.3\n",
      "Successfully installed docstring-parser-0.15 instructor-0.4.4 rich-13.7.0\n"
     ]
    }
   ],
   "source": [
    "\n",
    "!pip install instructor "
   ]
  },
  {
   "cell_type": "code",
   "execution_count": 2,
   "metadata": {},
   "outputs": [],
   "source": [
    "import instructor\n",
    "from openai import OpenAI\n",
    "from pydantic import BaseModel"
   ]
  },
  {
   "cell_type": "code",
   "execution_count": 3,
   "metadata": {},
   "outputs": [],
   "source": [
    "client = instructor.patch(OpenAI())"
   ]
  },
  {
   "cell_type": "code",
   "execution_count": 6,
   "metadata": {},
   "outputs": [],
   "source": [
    "class UserDetail(BaseModel):\n",
    "    name: str\n",
    "    age: int\n",
    "    \n",
    "def extract(data: str) -> UserDetail:\n",
    "    return client.chat.completions.create(\n",
    "        model=\"gpt-4-1106-preview\",\n",
    "        response_model=UserDetail,\n",
    "        messages=[\n",
    "            {\"role\": \"user\", \"content\": data}\n",
    "        ]\n",
    "    )"
   ]
  },
  {
   "cell_type": "code",
   "execution_count": 8,
   "metadata": {},
   "outputs": [],
   "source": [
    "import functools\n",
    "\n",
    "@functools.cache\n",
    "def extract(data):  # noqa: F811\n",
    "    return client.chat.completions.create(\n",
    "        model=\"gpt-4-1106-preview\",\n",
    "        response_model=UserDetail,\n",
    "        messages=[\n",
    "            {\"role\": \"user\", \"content\": data}\n",
    "        ]\n",
    "    )"
   ]
  },
  {
   "cell_type": "code",
   "execution_count": 11,
   "metadata": {},
   "outputs": [
    {
     "name": "stdout",
     "output_type": "stream",
     "text": [
      "Time taken: 2.4124994524754584e-05\n",
      "Time taken: 1.7708996892906725e-05\n",
      "Time taken: 1.6999998479150236e-05\n"
     ]
    }
   ],
   "source": [
    "import time\n",
    "\n",
    "\n",
    "start = time.perf_counter()\n",
    "model = extract(\"Extract jason is 25 years old\")\n",
    "print(f\"Time taken: {time.perf_counter() - start}\")\n",
    "\n",
    "start = time.perf_counter()\n",
    "model = extract(\"Extract jason is 25 years old\")\n",
    "print(f\"Time taken: {time.perf_counter() - start}\")\n",
    "\n",
    "start = time.perf_counter()\n",
    "model = extract(\"Extract jason is 254 years old\")\n",
    "print(f\"Time taken: {time.perf_counter() - start}\")"
   ]
  },
  {
   "cell_type": "code",
   "execution_count": 13,
   "metadata": {},
   "outputs": [
    {
     "name": "stdout",
     "output_type": "stream",
     "text": [
      "Collecting diskcache\n",
      "  Downloading diskcache-5.6.3-py3-none-any.whl.metadata (20 kB)\n",
      "Downloading diskcache-5.6.3-py3-none-any.whl (45 kB)\n",
      "\u001b[2K   \u001b[90m━━━━━━━━━━━━━━━━━━━━━━━━━━━━━━━━━━━━━━━━\u001b[0m \u001b[32m45.5/45.5 kB\u001b[0m \u001b[31m2.5 MB/s\u001b[0m eta \u001b[36m0:00:00\u001b[0m\n",
      "\u001b[?25hInstalling collected packages: diskcache\n",
      "Successfully installed diskcache-5.6.3\n"
     ]
    }
   ],
   "source": [
    "!pip install diskcache"
   ]
  },
  {
   "cell_type": "code",
   "execution_count": 14,
   "metadata": {},
   "outputs": [],
   "source": [
    "import functools\n",
    "import inspect\n",
    "import instructor\n",
    "import diskcache\n",
    "\n",
    "from openai import OpenAI\n",
    "from pydantic import BaseModel"
   ]
  },
  {
   "cell_type": "code",
   "execution_count": 15,
   "metadata": {},
   "outputs": [],
   "source": [
    "client = instructor.patch(OpenAI())\n",
    "cache = diskcache.Cache(\"cache\")"
   ]
  },
  {
   "cell_type": "code",
   "execution_count": 19,
   "metadata": {},
   "outputs": [],
   "source": [
    "def instructor_cache(func):\n",
    "    \"\"\"Cache a function that returns a Pydantic model\"\"\"\n",
    "    return_type = inspect.signature(func).return_annotation\n",
    "    if not issubclass(return_type, BaseModel):\n",
    "        raise ValueError(\"The return type must be a Pydantic model\")\n",
    "    \n",
    "    @functools.wraps(func)\n",
    "    def wrapper(*args, **kwargs):\n",
    "        key = f\"{func.__name__}-{functools._make_key(args, kwargs, typed=False)}\"\n",
    "        # Check if the result is already cached\n",
    "        if (cached := cache.get(key)) is not None:\n",
    "            return return_type.model_validate_json(cached)\n",
    "        \n",
    "        # Call the function and cache its result\n",
    "        result = func(*args, **kwargs)\n",
    "        serialized_result = result.model_dump_json()\n",
    "        cache.set(key, serialized_result)\n",
    "        \n",
    "        return result\n",
    "    \n",
    "    return wrapper\n",
    "\n",
    "\n",
    "class UserDetail(BaseModel):\n",
    "    name: str\n",
    "    age: int"
   ]
  },
  {
   "cell_type": "code",
   "execution_count": 20,
   "metadata": {},
   "outputs": [],
   "source": [
    "@instructor_cache\n",
    "def extract(data) -> UserDetail:\n",
    "    return client.chat.completions.create(\n",
    "        model=\"gpt-4-1106-preview\",\n",
    "        response_model=UserDetail,\n",
    "        messages=[\n",
    "            {\"role\": \"user\", \"content\": data}\n",
    "        ]\n",
    "    )"
   ]
  },
  {
   "cell_type": "code",
   "execution_count": 27,
   "metadata": {},
   "outputs": [],
   "source": [
    "import redis\n",
    "import functools\n",
    "import inspect\n",
    "import json\n",
    "import instructor\n",
    "\n",
    "from openai import OpenAI\n",
    "from pydantic import BaseModel\n",
    "\n",
    "client = instructor.patch(OpenAI())\n",
    "cache = redis.Redis(host=\"localhost\", port=6379, db=0, password=\"123456\")"
   ]
  },
  {
   "cell_type": "code",
   "execution_count": 31,
   "metadata": {},
   "outputs": [],
   "source": [
    "def instructor_redis(func):\n",
    "    \"\"\"Cache a function that returns a Pydantic model\"\"\"\n",
    "    return_type = inspect.signature(func).return_annotation\n",
    "    if not issubclass(return_type, BaseModel):\n",
    "        raise ValueError(\"The return type must be a Pydantic model\")\n",
    "    \n",
    "    @functools.wraps(func)\n",
    "    def wrapper(*args, **kwargs):\n",
    "        key = f\"{func.__name__}-{functools._make_key(args, kwargs, typed=False)}\"\n",
    "        # Check if the result is already cached\n",
    "        if (cached := cache.get(key)) is not None:\n",
    "            return return_type.model_validate(json.loads(cached))\n",
    "        \n",
    "        # Call the function and cache its result\n",
    "        result = func(*args, **kwargs)\n",
    "        serialized_result = result.model_dump_json()\n",
    "        cache.set(key, serialized_result)\n",
    "        \n",
    "        return result\n",
    "    return wrapper\n",
    "\n",
    "\n",
    "class UserDetail(BaseModel):\n",
    "    name: str\n",
    "    age: int\n",
    "    \n",
    "@instructor_redis\n",
    "def extract_redis(data) -> UserDetail:\n",
    "    return client.chat.completions.create(\n",
    "        model=\"gpt-4-1106-preview\",\n",
    "        response_model=UserDetail,\n",
    "        messages=[\n",
    "            {\"role\": \"user\", \"content\": data}\n",
    "        ]\n",
    "    )"
   ]
  },
  {
   "cell_type": "code",
   "execution_count": 34,
   "metadata": {},
   "outputs": [
    {
     "name": "stdout",
     "output_type": "stream",
     "text": [
      "Time taken: 0.00898504200449679\n",
      "Time taken: 0.002607749993330799\n",
      "Time taken: 0.003841083002043888\n"
     ]
    }
   ],
   "source": [
    "import time\n",
    "\n",
    "\n",
    "start = time.perf_counter()\n",
    "model = extract_redis(\"Extract jason is 25 years old\")\n",
    "print(f\"Time taken: {time.perf_counter() - start}\")\n",
    "\n",
    "start = time.perf_counter()\n",
    "model = extract_redis(\"Extract jason is 25 years old\")\n",
    "print(f\"Time taken: {time.perf_counter() - start}\")\n",
    "\n",
    "start = time.perf_counter()\n",
    "model = extract_redis(\"Extract jason is 254 years old\")\n",
    "print(f\"Time taken: {time.perf_counter() - start}\") "
   ]
  },
  {
   "cell_type": "code",
   "execution_count": null,
   "metadata": {},
   "outputs": [],
   "source": []
  },
  {
   "cell_type": "code",
   "execution_count": null,
   "metadata": {},
   "outputs": [],
   "source": []
  }
 ],
 "metadata": {
  "kernelspec": {
   "display_name": "Python 3",
   "language": "python",
   "name": "python3"
  },
  "language_info": {
   "codemirror_mode": {
    "name": "ipython",
    "version": 3
   },
   "file_extension": ".py",
   "mimetype": "text/x-python",
   "name": "python",
   "nbconvert_exporter": "python",
   "pygments_lexer": "ipython3",
   "version": "3.11.2"
  }
 },
 "nbformat": 4,
 "nbformat_minor": 2
}
