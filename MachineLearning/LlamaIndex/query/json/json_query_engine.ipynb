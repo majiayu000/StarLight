{
 "cells": [
  {
   "cell_type": "code",
   "execution_count": 8,
   "metadata": {},
   "outputs": [
    {
     "name": "stdout",
     "output_type": "stream",
     "text": [
      "Name: llama-index\n",
      "Version: 0.9.35\n",
      "Summary: Interface between LLMs and your data\n",
      "Home-page: https://llamaindex.ai\n",
      "Author: Jerry Liu\n",
      "Author-email: jerry@llamaindex.ai\n",
      "License: MIT\n",
      "Location: c:\\Users\\18353\\AppData\\Local\\Programs\\Python\\Python311\\Lib\\site-packages\n",
      "Requires: aiohttp, dataclasses-json, deprecated, fsspec, httpx, nest-asyncio, networkx, nltk, numpy, openai, pandas, requests, SQLAlchemy, tenacity, tiktoken, typing-extensions, typing-inspect\n",
      "Required-by: \n",
      "Note: you may need to restart the kernel to use updated packages.\n"
     ]
    }
   ],
   "source": [
    "%pip show llama-index"
   ]
  },
  {
   "cell_type": "code",
   "execution_count": 13,
   "metadata": {},
   "outputs": [
    {
     "name": "stdout",
     "output_type": "stream",
     "text": [
      "Looking in indexes: https://pypi.douban.com/simple/\n",
      "Requirement already satisfied: llama-index in c:\\users\\18353\\appdata\\local\\programs\\python\\python311\\lib\\site-packages (0.9.16.post1)\n",
      "Collecting llama-index\n",
      "  Downloading https://mirrors.cloud.tencent.com/pypi/packages/90/6a/efcac09e0f82b3063d7d4de5c3fd76ec7179c810ac5bb97145a40269ce0c/llama_index-0.9.35-py3-none-any.whl (15.8 MB)\n",
      "     ---------------------------------------- 0.0/15.8 MB ? eta -:--:--\n",
      "     ---------------------------------------- 0.0/15.8 MB ? eta -:--:--\n",
      "     ---------------------------------------- 0.2/15.8 MB 5.1 MB/s eta 0:00:04\n",
      "      --------------------------------------- 0.3/15.8 MB 3.9 MB/s eta 0:00:04\n",
      "     - -------------------------------------- 0.5/15.8 MB 3.7 MB/s eta 0:00:05\n",
      "     - -------------------------------------- 0.6/15.8 MB 3.3 MB/s eta 0:00:05\n",
      "     - -------------------------------------- 0.7/15.8 MB 3.1 MB/s eta 0:00:05\n",
      "     -- ------------------------------------- 0.9/15.8 MB 3.3 MB/s eta 0:00:05\n",
      "     -- ------------------------------------- 1.0/15.8 MB 3.3 MB/s eta 0:00:05\n",
      "     -- ------------------------------------- 1.2/15.8 MB 3.1 MB/s eta 0:00:05\n",
      "     --- ------------------------------------ 1.3/15.8 MB 3.2 MB/s eta 0:00:05\n",
      "     --- ------------------------------------ 1.5/15.8 MB 3.2 MB/s eta 0:00:05\n",
      "     --- ------------------------------------ 1.6/15.8 MB 3.1 MB/s eta 0:00:05\n",
      "     ---- ----------------------------------- 1.7/15.8 MB 3.1 MB/s eta 0:00:05\n",
      "     ---- ----------------------------------- 1.8/15.8 MB 3.1 MB/s eta 0:00:05\n",
      "     ----- ---------------------------------- 2.0/15.8 MB 3.1 MB/s eta 0:00:05\n",
      "     ----- ---------------------------------- 2.1/15.8 MB 3.1 MB/s eta 0:00:05\n",
      "     ----- ---------------------------------- 2.3/15.8 MB 3.1 MB/s eta 0:00:05\n",
      "     ----- ---------------------------------- 2.3/15.8 MB 3.0 MB/s eta 0:00:05\n",
      "     ------ --------------------------------- 2.5/15.8 MB 3.0 MB/s eta 0:00:05\n",
      "     ------ --------------------------------- 2.6/15.8 MB 2.9 MB/s eta 0:00:05\n",
      "     ------ --------------------------------- 2.7/15.8 MB 2.9 MB/s eta 0:00:05\n",
      "     ------- -------------------------------- 2.9/15.8 MB 3.0 MB/s eta 0:00:05\n",
      "     ------- -------------------------------- 3.0/15.8 MB 3.0 MB/s eta 0:00:05\n",
      "     ------- -------------------------------- 3.2/15.8 MB 3.0 MB/s eta 0:00:05\n",
      "     -------- ------------------------------- 3.3/15.8 MB 2.9 MB/s eta 0:00:05\n",
      "     -------- ------------------------------- 3.4/15.8 MB 2.9 MB/s eta 0:00:05\n",
      "     -------- ------------------------------- 3.6/15.8 MB 3.0 MB/s eta 0:00:05\n",
      "     --------- ------------------------------ 3.7/15.8 MB 2.9 MB/s eta 0:00:05\n",
      "     --------- ------------------------------ 3.8/15.8 MB 3.0 MB/s eta 0:00:05\n",
      "     ---------- ----------------------------- 4.0/15.8 MB 2.9 MB/s eta 0:00:05\n",
      "     ---------- ----------------------------- 4.1/15.8 MB 3.0 MB/s eta 0:00:04\n",
      "     ---------- ----------------------------- 4.3/15.8 MB 3.0 MB/s eta 0:00:04\n",
      "     ----------- ---------------------------- 4.4/15.8 MB 3.0 MB/s eta 0:00:04\n",
      "     ----------- ---------------------------- 4.5/15.8 MB 3.0 MB/s eta 0:00:04\n",
      "     ----------- ---------------------------- 4.7/15.8 MB 3.0 MB/s eta 0:00:04\n",
      "     ------------ --------------------------- 4.8/15.8 MB 3.0 MB/s eta 0:00:04\n",
      "     ------------ --------------------------- 5.0/15.8 MB 3.0 MB/s eta 0:00:04\n",
      "     ------------ --------------------------- 5.1/15.8 MB 3.0 MB/s eta 0:00:04\n",
      "     ------------- -------------------------- 5.2/15.8 MB 3.0 MB/s eta 0:00:04\n",
      "     ------------- -------------------------- 5.4/15.8 MB 3.0 MB/s eta 0:00:04\n",
      "     ------------- -------------------------- 5.5/15.8 MB 3.0 MB/s eta 0:00:04\n",
      "     -------------- ------------------------- 5.7/15.8 MB 3.0 MB/s eta 0:00:04\n",
      "     -------------- ------------------------- 5.8/15.8 MB 3.0 MB/s eta 0:00:04\n",
      "     -------------- ------------------------- 5.9/15.8 MB 3.0 MB/s eta 0:00:04\n",
      "     --------------- ------------------------ 6.1/15.8 MB 3.0 MB/s eta 0:00:04\n",
      "     --------------- ------------------------ 6.2/15.8 MB 3.0 MB/s eta 0:00:04\n",
      "     ---------------- ----------------------- 6.4/15.8 MB 3.0 MB/s eta 0:00:04\n",
      "     ---------------- ----------------------- 6.5/15.8 MB 3.0 MB/s eta 0:00:04\n",
      "     ---------------- ----------------------- 6.6/15.8 MB 3.0 MB/s eta 0:00:04\n",
      "     ----------------- ---------------------- 6.8/15.8 MB 3.0 MB/s eta 0:00:04\n",
      "     ----------------- ---------------------- 6.9/15.8 MB 3.0 MB/s eta 0:00:04\n",
      "     ----------------- ---------------------- 7.0/15.8 MB 3.0 MB/s eta 0:00:03\n",
      "     ------------------ --------------------- 7.2/15.8 MB 3.0 MB/s eta 0:00:03\n",
      "     ------------------ --------------------- 7.3/15.8 MB 3.0 MB/s eta 0:00:03\n",
      "     ------------------ --------------------- 7.5/15.8 MB 3.0 MB/s eta 0:00:03\n",
      "     ------------------- -------------------- 7.6/15.8 MB 3.0 MB/s eta 0:00:03\n",
      "     ------------------- -------------------- 7.7/15.8 MB 3.0 MB/s eta 0:00:03\n",
      "     ------------------- -------------------- 7.9/15.8 MB 3.0 MB/s eta 0:00:03\n",
      "     -------------------- ------------------- 8.0/15.8 MB 3.0 MB/s eta 0:00:03\n",
      "     -------------------- ------------------- 8.2/15.8 MB 3.0 MB/s eta 0:00:03\n",
      "     -------------------- ------------------- 8.3/15.8 MB 3.0 MB/s eta 0:00:03\n",
      "     --------------------- ------------------ 8.4/15.8 MB 3.0 MB/s eta 0:00:03\n",
      "     --------------------- ------------------ 8.6/15.8 MB 3.0 MB/s eta 0:00:03\n",
      "     ---------------------- ----------------- 8.7/15.8 MB 3.0 MB/s eta 0:00:03\n",
      "     ---------------------- ----------------- 8.9/15.8 MB 3.0 MB/s eta 0:00:03\n",
      "     ---------------------- ----------------- 9.0/15.8 MB 3.0 MB/s eta 0:00:03\n",
      "     ----------------------- ---------------- 9.1/15.8 MB 3.0 MB/s eta 0:00:03\n",
      "     ----------------------- ---------------- 9.3/15.8 MB 3.0 MB/s eta 0:00:03\n",
      "     ----------------------- ---------------- 9.4/15.8 MB 3.0 MB/s eta 0:00:03\n",
      "     ------------------------ --------------- 9.5/15.8 MB 3.0 MB/s eta 0:00:03\n",
      "     ------------------------ --------------- 9.7/15.8 MB 3.0 MB/s eta 0:00:03\n",
      "     ------------------------ --------------- 9.9/15.8 MB 3.0 MB/s eta 0:00:03\n",
      "     ------------------------- -------------- 10.0/15.8 MB 3.0 MB/s eta 0:00:02\n",
      "     ------------------------- -------------- 10.1/15.8 MB 3.0 MB/s eta 0:00:02\n",
      "     ------------------------- -------------- 10.3/15.8 MB 3.0 MB/s eta 0:00:02\n",
      "     -------------------------- ------------- 10.4/15.8 MB 2.9 MB/s eta 0:00:02\n",
      "     -------------------------- ------------- 10.5/15.8 MB 3.0 MB/s eta 0:00:02\n",
      "     -------------------------- ------------- 10.7/15.8 MB 3.0 MB/s eta 0:00:02\n",
      "     --------------------------- ------------ 10.8/15.8 MB 3.0 MB/s eta 0:00:02\n",
      "     --------------------------- ------------ 11.0/15.8 MB 3.0 MB/s eta 0:00:02\n",
      "     --------------------------- ------------ 11.1/15.8 MB 3.0 MB/s eta 0:00:02\n",
      "     ---------------------------- ----------- 11.2/15.8 MB 3.0 MB/s eta 0:00:02\n",
      "     ---------------------------- ----------- 11.4/15.8 MB 3.0 MB/s eta 0:00:02\n",
      "     ----------------------------- ---------- 11.5/15.8 MB 3.0 MB/s eta 0:00:02\n",
      "     ----------------------------- ---------- 11.7/15.8 MB 3.0 MB/s eta 0:00:02\n",
      "     ----------------------------- ---------- 11.8/15.8 MB 3.0 MB/s eta 0:00:02\n",
      "     ------------------------------ --------- 11.9/15.8 MB 3.0 MB/s eta 0:00:02\n",
      "     ------------------------------ --------- 12.1/15.8 MB 3.0 MB/s eta 0:00:02\n",
      "     ------------------------------ --------- 12.2/15.8 MB 3.0 MB/s eta 0:00:02\n",
      "     ------------------------------- -------- 12.3/15.8 MB 2.9 MB/s eta 0:00:02\n",
      "     ------------------------------- -------- 12.5/15.8 MB 3.0 MB/s eta 0:00:02\n",
      "     ------------------------------- -------- 12.6/15.8 MB 3.0 MB/s eta 0:00:02\n",
      "     -------------------------------- ------- 12.8/15.8 MB 3.0 MB/s eta 0:00:02\n",
      "     -------------------------------- ------- 12.9/15.8 MB 3.0 MB/s eta 0:00:01\n",
      "     -------------------------------- ------- 13.0/15.8 MB 3.0 MB/s eta 0:00:01\n",
      "     --------------------------------- ------ 13.2/15.8 MB 3.0 MB/s eta 0:00:01\n",
      "     --------------------------------- ------ 13.3/15.8 MB 3.0 MB/s eta 0:00:01\n",
      "     --------------------------------- ------ 13.5/15.8 MB 3.0 MB/s eta 0:00:01\n",
      "     ---------------------------------- ----- 13.6/15.8 MB 3.0 MB/s eta 0:00:01\n",
      "     ---------------------------------- ----- 13.7/15.8 MB 3.0 MB/s eta 0:00:01\n",
      "     ----------------------------------- ---- 13.9/15.8 MB 3.0 MB/s eta 0:00:01\n",
      "     ----------------------------------- ---- 14.0/15.8 MB 3.0 MB/s eta 0:00:01\n",
      "     ----------------------------------- ---- 14.1/15.8 MB 3.0 MB/s eta 0:00:01\n",
      "     ------------------------------------ --- 14.3/15.8 MB 3.0 MB/s eta 0:00:01\n",
      "     ------------------------------------ --- 14.4/15.8 MB 3.0 MB/s eta 0:00:01\n",
      "     ------------------------------------ --- 14.6/15.8 MB 3.0 MB/s eta 0:00:01\n",
      "     ------------------------------------- -- 14.7/15.8 MB 3.0 MB/s eta 0:00:01\n",
      "     ------------------------------------- -- 14.8/15.8 MB 3.0 MB/s eta 0:00:01\n",
      "     ------------------------------------- -- 15.0/15.8 MB 3.0 MB/s eta 0:00:01\n",
      "     -------------------------------------- - 15.1/15.8 MB 3.0 MB/s eta 0:00:01\n",
      "     -------------------------------------- - 15.3/15.8 MB 3.0 MB/s eta 0:00:01\n",
      "     -------------------------------------- - 15.4/15.8 MB 3.0 MB/s eta 0:00:01\n",
      "     ---------------------------------------  15.5/15.8 MB 3.0 MB/s eta 0:00:01\n",
      "     ---------------------------------------  15.7/15.8 MB 3.0 MB/s eta 0:00:01\n",
      "     ---------------------------------------  15.8/15.8 MB 3.0 MB/s eta 0:00:01\n",
      "     ---------------------------------------- 15.8/15.8 MB 3.0 MB/s eta 0:00:00\n",
      "Requirement already satisfied: SQLAlchemy>=1.4.49 in c:\\users\\18353\\appdata\\local\\programs\\python\\python311\\lib\\site-packages (from SQLAlchemy[asyncio]>=1.4.49->llama-index) (2.0.23)\n",
      "Requirement already satisfied: aiohttp<4.0.0,>=3.8.6 in c:\\users\\18353\\appdata\\local\\programs\\python\\python311\\lib\\site-packages (from llama-index) (3.9.1)\n",
      "Requirement already satisfied: dataclasses-json in c:\\users\\18353\\appdata\\local\\programs\\python\\python311\\lib\\site-packages (from llama-index) (0.5.14)\n",
      "Requirement already satisfied: deprecated>=1.2.9.3 in c:\\users\\18353\\appdata\\local\\programs\\python\\python311\\lib\\site-packages (from llama-index) (1.2.14)\n",
      "Requirement already satisfied: fsspec>=2023.5.0 in c:\\users\\18353\\appdata\\local\\programs\\python\\python311\\lib\\site-packages (from llama-index) (2023.6.0)\n",
      "Requirement already satisfied: httpx in c:\\users\\18353\\appdata\\local\\programs\\python\\python311\\lib\\site-packages (from llama-index) (0.25.2)\n",
      "Requirement already satisfied: nest-asyncio<2.0.0,>=1.5.8 in c:\\users\\18353\\appdata\\roaming\\python\\python311\\site-packages (from llama-index) (1.5.8)\n",
      "Requirement already satisfied: networkx>=3.0 in c:\\users\\18353\\appdata\\local\\programs\\python\\python311\\lib\\site-packages (from llama-index) (3.1)\n",
      "Requirement already satisfied: nltk<4.0.0,>=3.8.1 in c:\\users\\18353\\appdata\\local\\programs\\python\\python311\\lib\\site-packages (from llama-index) (3.8.1)\n",
      "Requirement already satisfied: numpy in c:\\users\\18353\\appdata\\local\\programs\\python\\python311\\lib\\site-packages (from llama-index) (1.25.2)\n",
      "Requirement already satisfied: openai>=1.1.0 in c:\\users\\18353\\appdata\\local\\programs\\python\\python311\\lib\\site-packages (from llama-index) (1.7.2)\n",
      "Requirement already satisfied: pandas in c:\\users\\18353\\appdata\\local\\programs\\python\\python311\\lib\\site-packages (from llama-index) (2.1.3)\n",
      "Requirement already satisfied: requests>=2.31.0 in c:\\users\\18353\\appdata\\local\\programs\\python\\python311\\lib\\site-packages (from llama-index) (2.31.0)\n",
      "Requirement already satisfied: tenacity<9.0.0,>=8.2.0 in c:\\users\\18353\\appdata\\local\\programs\\python\\python311\\lib\\site-packages (from llama-index) (8.2.3)\n",
      "Requirement already satisfied: tiktoken>=0.3.3 in c:\\users\\18353\\appdata\\local\\programs\\python\\python311\\lib\\site-packages (from llama-index) (0.4.0)\n",
      "Requirement already satisfied: typing-extensions>=4.5.0 in c:\\users\\18353\\appdata\\local\\programs\\python\\python311\\lib\\site-packages (from llama-index) (4.8.0)\n",
      "Requirement already satisfied: typing-inspect>=0.8.0 in c:\\users\\18353\\appdata\\local\\programs\\python\\python311\\lib\\site-packages (from llama-index) (0.9.0)\n",
      "Requirement already satisfied: attrs>=17.3.0 in c:\\users\\18353\\appdata\\local\\programs\\python\\python311\\lib\\site-packages (from aiohttp<4.0.0,>=3.8.6->llama-index) (23.1.0)\n",
      "Requirement already satisfied: multidict<7.0,>=4.5 in c:\\users\\18353\\appdata\\local\\programs\\python\\python311\\lib\\site-packages (from aiohttp<4.0.0,>=3.8.6->llama-index) (6.0.4)\n",
      "Requirement already satisfied: yarl<2.0,>=1.0 in c:\\users\\18353\\appdata\\local\\programs\\python\\python311\\lib\\site-packages (from aiohttp<4.0.0,>=3.8.6->llama-index) (1.9.2)\n",
      "Requirement already satisfied: frozenlist>=1.1.1 in c:\\users\\18353\\appdata\\local\\programs\\python\\python311\\lib\\site-packages (from aiohttp<4.0.0,>=3.8.6->llama-index) (1.4.0)\n",
      "Requirement already satisfied: aiosignal>=1.1.2 in c:\\users\\18353\\appdata\\local\\programs\\python\\python311\\lib\\site-packages (from aiohttp<4.0.0,>=3.8.6->llama-index) (1.3.1)\n",
      "Requirement already satisfied: wrapt<2,>=1.10 in c:\\users\\18353\\appdata\\local\\programs\\python\\python311\\lib\\site-packages (from deprecated>=1.2.9.3->llama-index) (1.15.0)\n",
      "Requirement already satisfied: click in c:\\users\\18353\\appdata\\local\\programs\\python\\python311\\lib\\site-packages (from nltk<4.0.0,>=3.8.1->llama-index) (8.1.7)\n",
      "Requirement already satisfied: joblib in c:\\users\\18353\\appdata\\local\\programs\\python\\python311\\lib\\site-packages (from nltk<4.0.0,>=3.8.1->llama-index) (1.3.2)\n",
      "Requirement already satisfied: regex>=2021.8.3 in c:\\users\\18353\\appdata\\local\\programs\\python\\python311\\lib\\site-packages (from nltk<4.0.0,>=3.8.1->llama-index) (2023.8.8)\n",
      "Requirement already satisfied: tqdm in c:\\users\\18353\\appdata\\local\\programs\\python\\python311\\lib\\site-packages (from nltk<4.0.0,>=3.8.1->llama-index) (4.66.1)\n",
      "Requirement already satisfied: anyio<5,>=3.5.0 in c:\\users\\18353\\appdata\\local\\programs\\python\\python311\\lib\\site-packages (from openai>=1.1.0->llama-index) (3.7.1)\n",
      "Requirement already satisfied: distro<2,>=1.7.0 in c:\\users\\18353\\appdata\\local\\programs\\python\\python311\\lib\\site-packages (from openai>=1.1.0->llama-index) (1.8.0)\n",
      "Requirement already satisfied: pydantic<3,>=1.9.0 in c:\\users\\18353\\appdata\\local\\programs\\python\\python311\\lib\\site-packages (from openai>=1.1.0->llama-index) (2.5.2)\n",
      "Requirement already satisfied: sniffio in c:\\users\\18353\\appdata\\local\\programs\\python\\python311\\lib\\site-packages (from openai>=1.1.0->llama-index) (1.3.0)\n",
      "Requirement already satisfied: certifi in c:\\users\\18353\\appdata\\local\\programs\\python\\python311\\lib\\site-packages (from httpx->llama-index) (2023.7.22)\n",
      "Requirement already satisfied: httpcore==1.* in c:\\users\\18353\\appdata\\local\\programs\\python\\python311\\lib\\site-packages (from httpx->llama-index) (1.0.2)\n",
      "Requirement already satisfied: idna in c:\\users\\18353\\appdata\\local\\programs\\python\\python311\\lib\\site-packages (from httpx->llama-index) (3.4)\n",
      "Requirement already satisfied: h11<0.15,>=0.13 in c:\\users\\18353\\appdata\\local\\programs\\python\\python311\\lib\\site-packages (from httpcore==1.*->httpx->llama-index) (0.14.0)\n",
      "Requirement already satisfied: charset-normalizer<4,>=2 in c:\\users\\18353\\appdata\\local\\programs\\python\\python311\\lib\\site-packages (from requests>=2.31.0->llama-index) (3.2.0)\n",
      "Requirement already satisfied: urllib3<3,>=1.21.1 in c:\\users\\18353\\appdata\\local\\programs\\python\\python311\\lib\\site-packages (from requests>=2.31.0->llama-index) (2.0.7)\n",
      "Requirement already satisfied: greenlet!=0.4.17 in c:\\users\\18353\\appdata\\local\\programs\\python\\python311\\lib\\site-packages (from SQLAlchemy>=1.4.49->SQLAlchemy[asyncio]>=1.4.49->llama-index) (2.0.2)\n",
      "Requirement already satisfied: mypy-extensions>=0.3.0 in c:\\users\\18353\\appdata\\local\\programs\\python\\python311\\lib\\site-packages (from typing-inspect>=0.8.0->llama-index) (1.0.0)\n",
      "Requirement already satisfied: marshmallow<4.0.0,>=3.18.0 in c:\\users\\18353\\appdata\\local\\programs\\python\\python311\\lib\\site-packages (from dataclasses-json->llama-index) (3.20.1)\n",
      "Requirement already satisfied: python-dateutil>=2.8.2 in c:\\users\\18353\\appdata\\roaming\\python\\python311\\site-packages (from pandas->llama-index) (2.8.2)\n",
      "Requirement already satisfied: pytz>=2020.1 in c:\\users\\18353\\appdata\\local\\programs\\python\\python311\\lib\\site-packages (from pandas->llama-index) (2023.3.post1)\n",
      "Requirement already satisfied: tzdata>=2022.1 in c:\\users\\18353\\appdata\\local\\programs\\python\\python311\\lib\\site-packages (from pandas->llama-index) (2023.3)\n",
      "Requirement already satisfied: packaging>=17.0 in c:\\users\\18353\\appdata\\local\\programs\\python\\python311\\lib\\site-packages (from marshmallow<4.0.0,>=3.18.0->dataclasses-json->llama-index) (23.2)\n",
      "Requirement already satisfied: annotated-types>=0.4.0 in c:\\users\\18353\\appdata\\local\\programs\\python\\python311\\lib\\site-packages (from pydantic<3,>=1.9.0->openai>=1.1.0->llama-index) (0.5.0)\n",
      "Requirement already satisfied: pydantic-core==2.14.5 in c:\\users\\18353\\appdata\\local\\programs\\python\\python311\\lib\\site-packages (from pydantic<3,>=1.9.0->openai>=1.1.0->llama-index) (2.14.5)\n",
      "Requirement already satisfied: six>=1.5 in c:\\users\\18353\\appdata\\roaming\\python\\python311\\site-packages (from python-dateutil>=2.8.2->pandas->llama-index) (1.16.0)\n",
      "Requirement already satisfied: colorama in c:\\users\\18353\\appdata\\roaming\\python\\python311\\site-packages (from tqdm->nltk<4.0.0,>=3.8.1->llama-index) (0.4.6)\n",
      "Installing collected packages: llama-index\n",
      "  Attempting uninstall: llama-index\n",
      "    Found existing installation: llama-index 0.9.16.post1\n",
      "    Uninstalling llama-index-0.9.16.post1:\n",
      "      Successfully uninstalled llama-index-0.9.16.post1\n",
      "Successfully installed llama-index-0.9.35\n",
      "Note: you may need to restart the kernel to use updated packages.\n"
     ]
    }
   ],
   "source": [
    "%pip install -U llama-index"
   ]
  },
  {
   "cell_type": "code",
   "execution_count": 1,
   "metadata": {},
   "outputs": [
    {
     "name": "stdout",
     "output_type": "stream",
     "text": [
      "Looking in indexes: https://pypi.douban.com/simple/Note: you may need to restart the kernel to use updated packages.\n",
      "\n",
      "Collecting sqlite-utils\n",
      "  Downloading https://mirrors.cloud.tencent.com/pypi/packages/3a/70/c1917860d717d50c9cbb3c616afbf5c124e90a1609dccde4540375da3a2d/sqlite_utils-3.36-py3-none-any.whl (67 kB)\n",
      "     ---------------------------------------- 0.0/67.7 kB ? eta -:--:--\n",
      "     ---------------------------------------- 0.0/67.7 kB ? eta -:--:--\n",
      "     ---------------------------------------- 0.0/67.7 kB ? eta -:--:--\n",
      "     ---------------------------------------- 0.0/67.7 kB ? eta -:--:--\n",
      "     ---------------------------------------- 0.0/67.7 kB ? eta -:--:--\n",
      "     ---------------------------------------- 0.0/67.7 kB ? eta -:--:--\n",
      "     ---------------------------------------- 0.0/67.7 kB ? eta -:--:--\n",
      "     ----------------- -------------------- 30.7/67.7 kB 660.6 kB/s eta 0:00:01\n",
      "     ---------------------------- --------- 51.2/67.7 kB 525.1 kB/s eta 0:00:01\n",
      "     -------------------------------------- 67.7/67.7 kB 459.3 kB/s eta 0:00:00\n",
      "Collecting sqlite-fts4 (from sqlite-utils)\n",
      "  Downloading https://mirrors.cloud.tencent.com/pypi/packages/51/29/0096e8b1811aaa78cfb296996f621f41120c21c2f5cd448ae1d54979d9fc/sqlite_fts4-1.0.3-py3-none-any.whl (10.0 kB)\n",
      "Requirement already satisfied: click in c:\\users\\18353\\appdata\\local\\programs\\python\\python311\\lib\\site-packages (from sqlite-utils) (8.1.7)\n",
      "Collecting click-default-group>=1.2.3 (from sqlite-utils)\n",
      "  Downloading https://mirrors.cloud.tencent.com/pypi/packages/2c/1a/aff8bb287a4b1400f69e09a53bd65de96aa5cee5691925b38731c67fc695/click_default_group-1.2.4-py2.py3-none-any.whl (4.1 kB)\n",
      "Requirement already satisfied: tabulate in c:\\users\\18353\\appdata\\local\\programs\\python\\python311\\lib\\site-packages (from sqlite-utils) (0.9.0)\n",
      "Requirement already satisfied: python-dateutil in c:\\users\\18353\\appdata\\roaming\\python\\python311\\site-packages (from sqlite-utils) (2.8.2)\n",
      "Requirement already satisfied: pluggy in c:\\users\\18353\\appdata\\local\\programs\\python\\python311\\lib\\site-packages (from sqlite-utils) (1.3.0)\n",
      "Requirement already satisfied: colorama in c:\\users\\18353\\appdata\\roaming\\python\\python311\\site-packages (from click->sqlite-utils) (0.4.6)\n",
      "Requirement already satisfied: six>=1.5 in c:\\users\\18353\\appdata\\roaming\\python\\python311\\site-packages (from python-dateutil->sqlite-utils) (1.16.0)\n",
      "Installing collected packages: sqlite-fts4, click-default-group, sqlite-utils\n",
      "Successfully installed click-default-group-1.2.4 sqlite-fts4-1.0.3 sqlite-utils-3.36\n"
     ]
    }
   ],
   "source": [
    "%pip install sqlite-utils"
   ]
  },
  {
   "cell_type": "code",
   "execution_count": 1,
   "metadata": {},
   "outputs": [],
   "source": [
    "import logging\n",
    "import sys"
   ]
  },
  {
   "cell_type": "code",
   "execution_count": 2,
   "metadata": {},
   "outputs": [],
   "source": [
    "logging.basicConfig(stream=sys.stdout, level=logging.INFO)\n",
    "logging.getLogger().addHandler(logging.StreamHandler(stream=sys.stdout))"
   ]
  },
  {
   "cell_type": "code",
   "execution_count": 3,
   "metadata": {},
   "outputs": [],
   "source": [
    "import os\n",
    "from openai import OpenAI"
   ]
  },
  {
   "cell_type": "code",
   "execution_count": 4,
   "metadata": {},
   "outputs": [],
   "source": [
    "client = OpenAI(api_key=\"sk-\", base_url=\"https://\")"
   ]
  },
  {
   "cell_type": "code",
   "execution_count": 5,
   "metadata": {},
   "outputs": [],
   "source": [
    "from IPython.display import Markdown, display"
   ]
  },
  {
   "cell_type": "code",
   "execution_count": 6,
   "metadata": {},
   "outputs": [],
   "source": [
    "json_list = [\n",
    "    {\n",
    "        \"name\": \"John Doe\",\n",
    "        \"age\": 25,\n",
    "        \"major\": \"Computer Science\",\n",
    "        \"email\": \"john.doe@example.com\",\n",
    "        \"address\": \"123 Main St\",\n",
    "        \"city\": \"New York\",\n",
    "        \"state\": \"NY\",\n",
    "        \"country\": \"USA\",\n",
    "        \"phone\": \"+1 123-456-7890\",\n",
    "        \"occupation\": \"Software Engineer\",\n",
    "    },\n",
    "    {\n",
    "        \"name\": \"Jane Smith\",\n",
    "        \"age\": 30,\n",
    "        \"major\": \"Business Administration\",\n",
    "        \"email\": \"jane.smith@example.com\",\n",
    "        \"address\": \"456 Elm St\",\n",
    "        \"city\": \"San Francisco\",\n",
    "        \"state\": \"CA\",\n",
    "        \"country\": \"USA\",\n",
    "        \"phone\": \"+1 234-567-8901\",\n",
    "        \"occupation\": \"Marketing Manager\",\n",
    "    },\n",
    "    {\n",
    "        \"name\": \"Michael Johnson\",\n",
    "        \"age\": 35,\n",
    "        \"major\": \"Finance\",\n",
    "        \"email\": \"michael.johnson@example.com\",\n",
    "        \"address\": \"789 Oak Ave\",\n",
    "        \"city\": \"Chicago\",\n",
    "        \"state\": \"IL\",\n",
    "        \"country\": \"USA\",\n",
    "        \"phone\": \"+1 345-678-9012\",\n",
    "        \"occupation\": \"Financial Analyst\",\n",
    "    },\n",
    "    {\n",
    "        \"name\": \"Emily Davis\",\n",
    "        \"age\": 28,\n",
    "        \"major\": \"Psychology\",\n",
    "        \"email\": \"emily.davis@example.com\",\n",
    "        \"address\": \"234 Pine St\",\n",
    "        \"city\": \"Los Angeles\",\n",
    "        \"state\": \"CA\",\n",
    "        \"country\": \"USA\",\n",
    "        \"phone\": \"+1 456-789-0123\",\n",
    "        \"occupation\": \"Psychologist\",\n",
    "    },\n",
    "    {\n",
    "        \"name\": \"Alex Johnson\",\n",
    "        \"age\": 27,\n",
    "        \"major\": \"Engineering\",\n",
    "        \"email\": \"alex.johnson@example.com\",\n",
    "        \"address\": \"567 Cedar Ln\",\n",
    "        \"city\": \"Seattle\",\n",
    "        \"state\": \"WA\",\n",
    "        \"country\": \"USA\",\n",
    "        \"phone\": \"+1 567-890-1234\",\n",
    "        \"occupation\": \"Civil Engineer\",\n",
    "    },\n",
    "    {\n",
    "        \"name\": \"Jessica Williams\",\n",
    "        \"age\": 32,\n",
    "        \"major\": \"Biology\",\n",
    "        \"email\": \"jessica.williams@example.com\",\n",
    "        \"address\": \"890 Walnut Ave\",\n",
    "        \"city\": \"Boston\",\n",
    "        \"state\": \"MA\",\n",
    "        \"country\": \"USA\",\n",
    "        \"phone\": \"+1 678-901-2345\",\n",
    "        \"occupation\": \"Biologist\",\n",
    "    },\n",
    "    {\n",
    "        \"name\": \"Matthew Brown\",\n",
    "        \"age\": 26,\n",
    "        \"major\": \"English Literature\",\n",
    "        \"email\": \"matthew.brown@example.com\",\n",
    "        \"address\": \"123 Peach St\",\n",
    "        \"city\": \"Atlanta\",\n",
    "        \"state\": \"GA\",\n",
    "        \"country\": \"USA\",\n",
    "        \"phone\": \"+1 789-012-3456\",\n",
    "        \"occupation\": \"Writer\",\n",
    "    },\n",
    "    {\n",
    "        \"name\": \"Olivia Wilson\",\n",
    "        \"age\": 29,\n",
    "        \"major\": \"Art\",\n",
    "        \"email\": \"olivia.wilson@example.com\",\n",
    "        \"address\": \"456 Plum Ave\",\n",
    "        \"city\": \"Miami\",\n",
    "        \"state\": \"FL\",\n",
    "        \"country\": \"USA\",\n",
    "        \"phone\": \"+1 890-123-4567\",\n",
    "        \"occupation\": \"Artist\",\n",
    "    },\n",
    "    {\n",
    "        \"name\": \"Daniel Thompson\",\n",
    "        \"age\": 31,\n",
    "        \"major\": \"Physics\",\n",
    "        \"email\": \"daniel.thompson@example.com\",\n",
    "        \"address\": \"789 Apple St\",\n",
    "        \"city\": \"Denver\",\n",
    "        \"state\": \"CO\",\n",
    "        \"country\": \"USA\",\n",
    "        \"phone\": \"+1 901-234-5678\",\n",
    "        \"occupation\": \"Physicist\",\n",
    "    },\n",
    "    {\n",
    "        \"name\": \"Sophia Clark\",\n",
    "        \"age\": 27,\n",
    "        \"major\": \"Sociology\",\n",
    "        \"email\": \"sophia.clark@example.com\",\n",
    "        \"address\": \"234 Orange Ln\",\n",
    "        \"city\": \"Austin\",\n",
    "        \"state\": \"TX\",\n",
    "        \"country\": \"USA\",\n",
    "        \"phone\": \"+1 012-345-6789\",\n",
    "        \"occupation\": \"Social Worker\",\n",
    "    },\n",
    "    {\n",
    "        \"name\": \"Christopher Lee\",\n",
    "        \"age\": 33,\n",
    "        \"major\": \"Chemistry\",\n",
    "        \"email\": \"christopher.lee@example.com\",\n",
    "        \"address\": \"567 Mango St\",\n",
    "        \"city\": \"San Diego\",\n",
    "        \"state\": \"CA\",\n",
    "        \"country\": \"USA\",\n",
    "        \"phone\": \"+1 123-456-7890\",\n",
    "        \"occupation\": \"Chemist\",\n",
    "    },\n",
    "    {\n",
    "        \"name\": \"Ava Green\",\n",
    "        \"age\": 28,\n",
    "        \"major\": \"History\",\n",
    "        \"email\": \"ava.green@example.com\",\n",
    "        \"address\": \"890 Cherry Ave\",\n",
    "        \"city\": \"Philadelphia\",\n",
    "        \"state\": \"PA\",\n",
    "        \"country\": \"USA\",\n",
    "        \"phone\": \"+1 234-567-8901\",\n",
    "        \"occupation\": \"Historian\",\n",
    "    },\n",
    "    {\n",
    "        \"name\": \"Ethan Anderson\",\n",
    "        \"age\": 30,\n",
    "        \"major\": \"Business\",\n",
    "        \"email\": \"ethan.anderson@example.com\",\n",
    "        \"address\": \"123 Lemon Ln\",\n",
    "        \"city\": \"Houston\",\n",
    "        \"state\": \"TX\",\n",
    "        \"country\": \"USA\",\n",
    "        \"phone\": \"+1 345-678-9012\",\n",
    "        \"occupation\": \"Entrepreneur\",\n",
    "    },\n",
    "    {\n",
    "        \"name\": \"Isabella Carter\",\n",
    "        \"age\": 28,\n",
    "        \"major\": \"Mathematics\",\n",
    "        \"email\": \"isabella.carter@example.com\",\n",
    "        \"address\": \"456 Grape St\",\n",
    "        \"city\": \"Phoenix\",\n",
    "        \"state\": \"AZ\",\n",
    "        \"country\": \"USA\",\n",
    "        \"phone\": \"+1 456-789-0123\",\n",
    "        \"occupation\": \"Mathematician\",\n",
    "    },\n",
    "    {\n",
    "        \"name\": \"Andrew Walker\",\n",
    "        \"age\": 32,\n",
    "        \"major\": \"Economics\",\n",
    "        \"email\": \"andrew.walker@example.com\",\n",
    "        \"address\": \"789 Berry Ave\",\n",
    "        \"city\": \"Portland\",\n",
    "        \"state\": \"OR\",\n",
    "        \"country\": \"USA\",\n",
    "        \"phone\": \"+1 567-890-1234\",\n",
    "        \"occupation\": \"Economist\",\n",
    "    },\n",
    "    {\n",
    "        \"name\": \"Mia Evans\",\n",
    "        \"age\": 29,\n",
    "        \"major\": \"Political Science\",\n",
    "        \"email\": \"mia.evans@example.com\",\n",
    "        \"address\": \"234 Lime St\",\n",
    "        \"city\": \"Washington\",\n",
    "        \"state\": \"DC\",\n",
    "        \"country\": \"USA\",\n",
    "        \"phone\": \"+1 678-901-2345\",\n",
    "        \"occupation\": \"Political Analyst\",\n",
    "    },\n",
    "]\n"
   ]
  },
  {
   "cell_type": "code",
   "execution_count": 10,
   "metadata": {},
   "outputs": [],
   "source": [
    "from llama_index.indices.service_context import ServiceContext\n",
    "from llama_index.llms import OpenAI\n",
    "from llama_index.query_engine import JSONalyzeQueryEngine "
   ]
  },
  {
   "cell_type": "code",
   "execution_count": 14,
   "metadata": {},
   "outputs": [],
   "source": [
    "llm = OpenAI(model=\"gpt-3.5-turbo\")\n",
    "service_context = ServiceContext.from_defaults(llm=llm)\n",
    "json_stats_query_engine = JSONalyzeQueryEngine(\n",
    "    list_of_dict=json_list,\n",
    "    service_context=service_context,\n",
    "    verbose=True\n",
    ")"
   ]
  },
  {
   "cell_type": "code",
   "execution_count": 12,
   "metadata": {},
   "outputs": [],
   "source": [
    "questions = [\n",
    "    \"What is the average age of the individuals in the dataset?\",\n",
    "    \"What is the maximum age among the individuals?\",\n",
    "    \"What is the minimum age among the individuals?\",\n",
    "    \"How many individuals have a major in Psychology?\",\n",
    "    \"What is the most common major among the individuals?\",\n",
    "    \"What is the percentage of individuals residing in California (CA)?\",\n",
    "    \"How many individuals have an occupation related to science or engineering?\",\n",
    "    \"What is the average length of the email addresses in the dataset?\",\n",
    "    \"How many individuals have a phone number starting with '+1 234'?\",\n",
    "    \"What is the distribution of ages among the individuals?\",\n",
    "]"
   ]
  },
  {
   "cell_type": "code",
   "execution_count": 15,
   "metadata": {},
   "outputs": [
    {
     "name": "stdout",
     "output_type": "stream",
     "text": [
      "\u001b[1;3;32mQuery: What is the average age of the individuals in the dataset?\n",
      "\u001b[0mINFO:httpx:HTTP Request: POST https://api.openai.com/v1/chat/completions \"HTTP/1.1 200 OK\"\n",
      "HTTP Request: POST https://api.openai.com/v1/chat/completions \"HTTP/1.1 200 OK\"\n",
      "\u001b[1;3;34mSQL Query: SELECT AVG(age) FROM items\n",
      "\u001b[0m\u001b[1;3;36mTable Schema: {'name': <class 'str'>, 'age': <class 'int'>, 'major': <class 'str'>, 'email': <class 'str'>, 'address': <class 'str'>, 'city': <class 'str'>, 'state': <class 'str'>, 'country': <class 'str'>, 'phone': <class 'str'>, 'occupation': <class 'str'>}\n",
      "\u001b[0m\u001b[1;3;33mSQL Response: [{'AVG(age)': 29.375}]\n",
      "\u001b[0mINFO:httpx:HTTP Request: POST https://api.openai.com/v1/chat/completions \"HTTP/1.1 200 OK\"\n",
      "HTTP Request: POST https://api.openai.com/v1/chat/completions \"HTTP/1.1 200 OK\"\n",
      "\u001b[1;3;35mResponse: The average age of the individuals in the dataset is 29.375.\u001b[0m"
     ]
    },
    {
     "data": {
      "text/markdown": [
       "> Question: What is the average age of the individuals in the dataset?"
      ],
      "text/plain": [
       "<IPython.core.display.Markdown object>"
      ]
     },
     "metadata": {},
     "output_type": "display_data"
    },
    {
     "data": {
      "text/markdown": [
       "Answer: The average age of the individuals in the dataset is 29.375."
      ],
      "text/plain": [
       "<IPython.core.display.Markdown object>"
      ]
     },
     "metadata": {},
     "output_type": "display_data"
    }
   ],
   "source": [
    "display(\n",
    "    Markdown(\"> Question: {}\".format(questions[0])),\n",
    "    Markdown(\"Answer: {}\".format(json_stats_query_engine.query(questions[0]))),\n",
    ")"
   ]
  },
  {
   "cell_type": "code",
   "execution_count": 16,
   "metadata": {},
   "outputs": [
    {
     "name": "stdout",
     "output_type": "stream",
     "text": [
      "\u001b[1;3;32mQuery: What is the most common major among the individuals?\n",
      "\u001b[0mINFO:httpx:HTTP Request: POST https://api.openai.com/v1/chat/completions \"HTTP/1.1 200 OK\"\n",
      "HTTP Request: POST https://api.openai.com/v1/chat/completions \"HTTP/1.1 200 OK\"\n",
      "\u001b[1;3;34mSQL Query: SELECT major, COUNT(*) as count\n",
      "FROM items\n",
      "GROUP BY major\n",
      "ORDER BY count DESC\n",
      "LIMIT 1;\n",
      "\u001b[0m\u001b[1;3;36mTable Schema: {'name': <class 'str'>, 'age': <class 'int'>, 'major': <class 'str'>, 'email': <class 'str'>, 'address': <class 'str'>, 'city': <class 'str'>, 'state': <class 'str'>, 'country': <class 'str'>, 'phone': <class 'str'>, 'occupation': <class 'str'>}\n",
      "\u001b[0m\u001b[1;3;33mSQL Response: [{'major': 'Sociology', 'count': 1}]\n",
      "\u001b[0mINFO:httpx:HTTP Request: POST https://api.openai.com/v1/chat/completions \"HTTP/1.1 200 OK\"\n",
      "HTTP Request: POST https://api.openai.com/v1/chat/completions \"HTTP/1.1 200 OK\"\n",
      "\u001b[1;3;35mResponse: The most common major among the individuals is Sociology.\u001b[0m"
     ]
    },
    {
     "data": {
      "text/markdown": [
       "> Question: What is the most common major among the individuals?"
      ],
      "text/plain": [
       "<IPython.core.display.Markdown object>"
      ]
     },
     "metadata": {},
     "output_type": "display_data"
    },
    {
     "data": {
      "text/markdown": [
       "Answer: The most common major among the individuals is Sociology."
      ],
      "text/plain": [
       "<IPython.core.display.Markdown object>"
      ]
     },
     "metadata": {},
     "output_type": "display_data"
    }
   ],
   "source": [
    "display(\n",
    "    Markdown(\"> Question: {}\".format(questions[4])),\n",
    "    Markdown(\"Answer: {}\".format(json_stats_query_engine.query(questions[4]))),\n",
    ")"
   ]
  },
  {
   "cell_type": "code",
   "execution_count": 17,
   "metadata": {},
   "outputs": [
    {
     "name": "stdout",
     "output_type": "stream",
     "text": [
      "\u001b[1;3;32mQuery: who are you\n",
      "\u001b[0mINFO:httpx:HTTP Request: POST https://api.openai.com/v1/chat/completions \"HTTP/1.1 200 OK\"\n",
      "HTTP Request: POST https://api.openai.com/v1/chat/completions \"HTTP/1.1 200 OK\"\n",
      "\u001b[1;3;34mSQL Query: SELECT name FROM items WHERE name = 'you'\n",
      "\u001b[0m\u001b[1;3;36mTable Schema: {'name': <class 'str'>, 'age': <class 'int'>, 'major': <class 'str'>, 'email': <class 'str'>, 'address': <class 'str'>, 'city': <class 'str'>, 'state': <class 'str'>, 'country': <class 'str'>, 'phone': <class 'str'>, 'occupation': <class 'str'>}\n",
      "\u001b[0m\u001b[1;3;33mSQL Response: []\n",
      "\u001b[0mINFO:httpx:HTTP Request: POST https://api.openai.com/v1/chat/completions \"HTTP/1.1 200 OK\"\n",
      "HTTP Request: POST https://api.openai.com/v1/chat/completions \"HTTP/1.1 200 OK\"\n",
      "\u001b[1;3;35mResponse: I'm sorry, but I don't have any information about who you are.\u001b[0m"
     ]
    },
    {
     "data": {
      "text/markdown": [
       "> Question: What is the most common major among the individuals?"
      ],
      "text/plain": [
       "<IPython.core.display.Markdown object>"
      ]
     },
     "metadata": {},
     "output_type": "display_data"
    },
    {
     "data": {
      "text/markdown": [
       "Answer: I'm sorry, but I don't have any information about who you are."
      ],
      "text/plain": [
       "<IPython.core.display.Markdown object>"
      ]
     },
     "metadata": {},
     "output_type": "display_data"
    }
   ],
   "source": [
    "display(\n",
    "    Markdown(\"> Question: {}\".format(questions[4])),\n",
    "    Markdown(\"Answer: {}\".format(json_stats_query_engine.query(\"who are you\"))),\n",
    ")"
   ]
  },
  {
   "cell_type": "code",
   "execution_count": 18,
   "metadata": {},
   "outputs": [
    {
     "name": "stdout",
     "output_type": "stream",
     "text": [
      "\u001b[1;3;32mQuery: What is the percentage of individuals residing in California (CA)?\n",
      "\u001b[0mINFO:httpx:HTTP Request: POST https://api.openai.com/v1/chat/completions \"HTTP/1.1 200 OK\"\n",
      "HTTP Request: POST https://api.openai.com/v1/chat/completions \"HTTP/1.1 200 OK\"\n",
      "\u001b[1;3;34mSQL Query: SELECT (COUNT(*) * 100.0 / (SELECT COUNT(*) FROM items)) AS percentage\n",
      "FROM items\n",
      "WHERE state = 'CA'\n",
      "\u001b[0m\u001b[1;3;36mTable Schema: {'name': <class 'str'>, 'age': <class 'int'>, 'major': <class 'str'>, 'email': <class 'str'>, 'address': <class 'str'>, 'city': <class 'str'>, 'state': <class 'str'>, 'country': <class 'str'>, 'phone': <class 'str'>, 'occupation': <class 'str'>}\n",
      "\u001b[0m\u001b[1;3;33mSQL Response: [{'percentage': 18.75}]\n",
      "\u001b[0mINFO:httpx:HTTP Request: POST https://api.openai.com/v1/chat/completions \"HTTP/1.1 200 OK\"\n",
      "HTTP Request: POST https://api.openai.com/v1/chat/completions \"HTTP/1.1 200 OK\"\n",
      "\u001b[1;3;35mResponse: The percentage of individuals residing in California (CA) is 18.75%.\u001b[0m"
     ]
    },
    {
     "data": {
      "text/markdown": [
       "> Question: What is the percentage of individuals residing in California (CA)?"
      ],
      "text/plain": [
       "<IPython.core.display.Markdown object>"
      ]
     },
     "metadata": {},
     "output_type": "display_data"
    },
    {
     "data": {
      "text/markdown": [
       "Answer: The percentage of individuals residing in California (CA) is 18.75%."
      ],
      "text/plain": [
       "<IPython.core.display.Markdown object>"
      ]
     },
     "metadata": {},
     "output_type": "display_data"
    }
   ],
   "source": [
    "display(\n",
    "    Markdown(\"> Question: {}\".format(questions[5])),\n",
    "    Markdown(\"Answer: {}\".format(json_stats_query_engine.query(questions[5]))),\n",
    ")"
   ]
  },
  {
   "cell_type": "code",
   "execution_count": 19,
   "metadata": {},
   "outputs": [
    {
     "name": "stdout",
     "output_type": "stream",
     "text": [
      "\u001b[1;3;32mQuery: What is the distribution of ages among the individuals?\n",
      "\u001b[0mINFO:httpx:HTTP Request: POST https://api.openai.com/v1/chat/completions \"HTTP/1.1 200 OK\"\n",
      "HTTP Request: POST https://api.openai.com/v1/chat/completions \"HTTP/1.1 200 OK\"\n",
      "\u001b[1;3;34mSQL Query: SELECT age, COUNT(*) as count\n",
      "FROM items\n",
      "GROUP BY age\n",
      "\u001b[0m\u001b[1;3;36mTable Schema: {'name': <class 'str'>, 'age': <class 'int'>, 'major': <class 'str'>, 'email': <class 'str'>, 'address': <class 'str'>, 'city': <class 'str'>, 'state': <class 'str'>, 'country': <class 'str'>, 'phone': <class 'str'>, 'occupation': <class 'str'>}\n",
      "\u001b[0m\u001b[1;3;33mSQL Response: [{'age': 25, 'count': 1}, {'age': 26, 'count': 1}, {'age': 27, 'count': 2}, {'age': 28, 'count': 3}, {'age': 29, 'count': 2}, {'age': 30, 'count': 2}, {'age': 31, 'count': 1}, {'age': 32, 'count': 2}, {'age': 33, 'count': 1}, {'age': 35, 'count': 1}]\n",
      "\u001b[0mINFO:httpx:HTTP Request: POST https://api.openai.com/v1/chat/completions \"HTTP/1.1 200 OK\"\n",
      "HTTP Request: POST https://api.openai.com/v1/chat/completions \"HTTP/1.1 200 OK\"\n",
      "\u001b[1;3;35mResponse: The distribution of ages among the individuals is as follows:\n",
      "- 1 individual is 25 years old\n",
      "- 1 individual is 26 years old\n",
      "- 2 individuals are 27 years old\n",
      "- 3 individuals are 28 years old\n",
      "- 2 individuals are 29 years old\n",
      "- 2 individuals are 30 years old\n",
      "- 1 individual is 31 years old\n",
      "- 2 individuals are 32 years old\n",
      "- 1 individual is 33 years old\n",
      "- 1 individual is 35 years old\u001b[0m"
     ]
    },
    {
     "data": {
      "text/markdown": [
       "> Question: What is the distribution of ages among the individuals?"
      ],
      "text/plain": [
       "<IPython.core.display.Markdown object>"
      ]
     },
     "metadata": {},
     "output_type": "display_data"
    },
    {
     "data": {
      "text/markdown": [
       "Answer: The distribution of ages among the individuals is as follows:\n",
       "- 1 individual is 25 years old\n",
       "- 1 individual is 26 years old\n",
       "- 2 individuals are 27 years old\n",
       "- 3 individuals are 28 years old\n",
       "- 2 individuals are 29 years old\n",
       "- 2 individuals are 30 years old\n",
       "- 1 individual is 31 years old\n",
       "- 2 individuals are 32 years old\n",
       "- 1 individual is 33 years old\n",
       "- 1 individual is 35 years old"
      ],
      "text/plain": [
       "<IPython.core.display.Markdown object>"
      ]
     },
     "metadata": {},
     "output_type": "display_data"
    }
   ],
   "source": [
    "display(\n",
    "    Markdown(\"> Question: {}\".format(questions[9])),\n",
    "    Markdown(\"Answer: {}\".format(json_stats_query_engine.query(questions[9]))),\n",
    ")"
   ]
  },
  {
   "cell_type": "code",
   "execution_count": 20,
   "metadata": {},
   "outputs": [
    {
     "name": "stdout",
     "output_type": "stream",
     "text": [
      "\u001b[1;3;32mQuery: What is the average length of the email addresses in the dataset?\n",
      "\u001b[0mINFO:httpx:HTTP Request: POST https://api.openai.com/v1/chat/completions \"HTTP/1.1 200 OK\"\n",
      "HTTP Request: POST https://api.openai.com/v1/chat/completions \"HTTP/1.1 200 OK\"\n",
      "\u001b[1;3;34mSQL Query: SELECT AVG(LENGTH(email)) FROM items\n",
      "\u001b[0m\u001b[1;3;36mTable Schema: {'name': <class 'str'>, 'age': <class 'int'>, 'major': <class 'str'>, 'email': <class 'str'>, 'address': <class 'str'>, 'city': <class 'str'>, 'state': <class 'str'>, 'country': <class 'str'>, 'phone': <class 'str'>, 'occupation': <class 'str'>}\n",
      "\u001b[0m\u001b[1;3;33mSQL Response: [{'AVG(LENGTH(email))': 24.5}]\n",
      "\u001b[0mINFO:httpx:HTTP Request: POST https://api.openai.com/v1/chat/completions \"HTTP/1.1 200 OK\"\n",
      "HTTP Request: POST https://api.openai.com/v1/chat/completions \"HTTP/1.1 200 OK\"\n",
      "\u001b[1;3;35mResponse: The average length of the email addresses in the dataset is 24.5 characters.\u001b[0m"
     ]
    },
    {
     "data": {
      "text/markdown": [
       "> Question: What is the average length of the email addresses in the dataset?"
      ],
      "text/plain": [
       "<IPython.core.display.Markdown object>"
      ]
     },
     "metadata": {},
     "output_type": "display_data"
    },
    {
     "data": {
      "text/markdown": [
       "Answer: The average length of the email addresses in the dataset is 24.5 characters."
      ],
      "text/plain": [
       "<IPython.core.display.Markdown object>"
      ]
     },
     "metadata": {},
     "output_type": "display_data"
    }
   ],
   "source": [
    "display(\n",
    "    Markdown(\"> Question: {}\".format(questions[7])),\n",
    "    Markdown(\"Answer: {}\".format(json_stats_query_engine.query(questions[7]))),\n",
    ")"
   ]
  },
  {
   "cell_type": "code",
   "execution_count": null,
   "metadata": {},
   "outputs": [],
   "source": []
  }
 ],
 "metadata": {
  "kernelspec": {
   "display_name": "Python 3",
   "language": "python",
   "name": "python3"
  },
  "language_info": {
   "codemirror_mode": {
    "name": "ipython",
    "version": 3
   },
   "file_extension": ".py",
   "mimetype": "text/x-python",
   "name": "python",
   "nbconvert_exporter": "python",
   "pygments_lexer": "ipython3",
   "version": "3.11.5"
  }
 },
 "nbformat": 4,
 "nbformat_minor": 2
}
