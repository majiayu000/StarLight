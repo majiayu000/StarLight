{
 "cells": [
  {
   "cell_type": "code",
   "execution_count": 1,
   "metadata": {},
   "outputs": [],
   "source": [
    "def expected_score(rating1, rating2):\n",
    "    return 1 / (1 + 10 ** (rating2 - rating1) / 400)"
   ]
  },
  {
   "cell_type": "code",
   "execution_count": 2,
   "metadata": {},
   "outputs": [],
   "source": [
    "def calculate_elo(rating1, rating2, score1, K):\n",
    "    expected1 = expected_score(rating1, rating2)\n",
    "    return K * (score1 - expected1)"
   ]
  },
  {
   "cell_type": "code",
   "execution_count": null,
   "metadata": {},
   "outputs": [],
   "source": [
    "floating_elo = calculate_elo(rating1=elo1, rating2=elo2, score1=result, K=K)\n",
    "new_elo_1 = elo_1 + floating_elo\n",
    "new_elo_2 = elo_2 + floating_elo"
   ]
  }
 ],
 "metadata": {
  "language_info": {
   "name": "python"
  }
 },
 "nbformat": 4,
 "nbformat_minor": 2
}
