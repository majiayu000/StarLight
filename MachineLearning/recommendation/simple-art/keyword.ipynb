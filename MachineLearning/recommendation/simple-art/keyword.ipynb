{
 "cells": [
  {
   "cell_type": "code",
   "execution_count": 30,
   "metadata": {},
   "outputs": [],
   "source": [
    "import os\n",
    "import re\n",
    "import pickle\n",
    "from sklearn.feature_extraction.text import TfidfVectorizer\n",
    "from sklearn.metrics.pairwise import cosine_similarity\n",
    "from sklearn.cluster import KMeans\n",
    "from gensim.models import Word2Vec"
   ]
  },
  {
   "cell_type": "code",
   "execution_count": 13,
   "metadata": {},
   "outputs": [
    {
     "name": "stdout",
     "output_type": "stream",
     "text": [
      "c:\\learn\\star\\StarLight\\MachineLearning\\recommendation\\simple-art\\essay\n"
     ]
    }
   ],
   "source": [
    "base_dir = os.getcwd()\n",
    "target_dir = os.path.join(base_dir, 'essay')\n",
    "\n",
    "print(target_dir)"
   ]
  },
  {
   "cell_type": "code",
   "execution_count": 27,
   "metadata": {},
   "outputs": [],
   "source": [
    "essays = []\n",
    "\n",
    "for file in os.listdir(target_dir):\n",
    "    with open(os.path.join(target_dir, file), 'r', encoding='utf-8') as f:\n",
    "        content = f.read()\n",
    "        essays.append(content)"
   ]
  },
  {
   "cell_type": "code",
   "execution_count": 22,
   "metadata": {},
   "outputs": [
    {
     "data": {
      "text/plain": [
       "['时之彼处岸之未央\\n\\n\\u3000\\u3000如果你听得见我所说的。\\n\\n\\u3000\\u3000在遇见你之前，我一直以为爱是一件与运气有关的事。我把心事记录在书页间，焚烧往天国，等待去世的故人替我转交给天使。可是投递去天堂的书信，大概是被不小心分配至哪个无人查看的信箱，我静待多年，却从来没有人回复我的愿望。\\n\\n\\u3000\\u3000也许带着愿望去天堂的天使，能成功抵达的只有幸运的几位吧？那么，运气不好的我所写下的纸条，一定被莫名地遗忘在了人世间的某个地方。\\n\\n\\u3000\\u3000因为这样，我才见不到你吧。\\n\\n\\u3000\\u3000即便你终于来到我身边，可我已经不相信那个世界的存在了。那个需要运气才可以看见的世界。一定没有为我而留的位置吧？\\n\\n\\u3000\\u3000你不要趁着我沉睡时，与妖精们窃语。我并未抵达梦之彼处，只是想借着睡梦中不经意的口吻，告诉你。我内心的期望其实没有画上休止符。\\n\\n\\u3000\\u3000我怀有不甘的梦，是因为我明明在等待你的到来，却又害怕比邻之幸，将在离别之时蔓延成苦楚。假若真是如此，不如让不幸的我，一直不幸。\\n\\n\\u3000\\u3000我偷偷告诉你，我常常会害怕。我会害怕气球。\\n\\n\\u3000\\u3000他们轻如幸福，倘若手心有轻微的颤抖，他们便在你笨拙的捕捉间逃走。\\n\\n\\u3000\\u3000我害怕你给我的幻梦，也如手中那束气球。纵然绚烂如烟火，也会因为我胆怯的手心，使之于顷刻。\\n\\n\\u3000\\u3000我亦害怕，我日渐膨胀的愿望经不起细小的真相去触碰。\\n\\n\\u3000\\u3000你该怎样劝说这样的我。逃跑至天涯不再理睬这样任性懦弱胆小充满忧愁战战兢兢期待着你却又害怕着你不能给我永远的我。还是守护着等待着用你温暖的手掌一点一点填补我内心的空缺一步一步教会我小心翼翼滴驶向幸福的来路？\\n\\n\\u3000\\u3000后来我无数次想起那一天，你将盛宴呈现在我眼前，光之氤氲在小兔子们的瞳孔里，博物之间萤火如星星般浮在眼前。\\n\\n\\u3000\\u3000我丢失在岁月里的信件，在你问着我“你相信我么”的时候，终于抵达到我所希冀的地点。\\n\\n\\u3000\\u3000如果你听得见我说。请你不要责怪我。\\n\\n\\u3000\\u3000我仍然懦弱笨拙胆小一无是处没法变成让你不用担心的女孩。你用温暖建筑起来的回忆仍然构筑不起我对自己的信赖。然而我却开始彻底依仗着你所给的光芒存活。\\n\\n\\u3000\\u3000你知道么？\\n\\n\\u3000\\u3000我选择让你回到那个世界，选择让你去彼岸等着我找到你，并不是因为你给我的回忆让我充满勇气。而是因为，对方是那个一定会让我找到的你。\\n\\n\\u3000\\u3000我相信你，胜过于相信懦弱卑微的自己。',\n",
       " '生活，需要毅力\\n\\n\\u3000\\u3000生活需要的是什么？\\n\\n\\u3000\\u3000金钱、爱情、乐趣……\\n\\n\\u3000\\u3000但是也许都不是最主要的。“人要活下去，才是最重要的！”古代着名的历史学家司马迁又何尝不是这样吗！早朝上，汉武帝就大骂当时地狱匈奴的大将军李牧叛国。要记录下真实的历史的心愿，让他感到胸口压着什么其实昨天晚上，就连夜阅读了从战场上传来的战报，他感到大将军是无罪的。没有什么再能抑制住他了，他大步迈出毫无声响的群臣之际中，向汉武帝述说了自己的、正确的见解结果是，触怒了龙颜，他被关进了牢里面历史，他只有两个选择，死了，用自己的血来证明自己的清高，还是活下去，做一个不完整的人，继续完成副请临终前对他一遍又一遍的嘱托――记录下真实的历史，完成《史记》。他想到了伯夷兄弟，但一个人活着总比死了要好，更何况，他身上还有重大的责任。\\n\\n\\u3000\\u3000“人固有一死，或轻如鸿毛，或重于泰山。”他选择了泰山。以他坚强的毅力续写了他未完成的《史记》\\n\\n\\u3000\\u3000而生命的同样的光芒在保尔？柯察金身上。他是一名怀有崇高志向的革命战士。右眼的失明，让他提前退出了战场，回到家乡，他又以坚强的意志，不顾疲劳，日以继夜地为无产阶级事业献出自己的力量。他终于倒下了，他年轻的身体早以饱受了病痛的折磨。“我不但是要活下去，还要为人类最伟大的事业――无产阶级事业奋斗。”他躺在病床上，用以笔代刀的方式，继续回到了他所热爱的革命战场。',\n",
       " '信任自己\\n\\n\\u3000\\u3000小时侯，我和妈妈经常玩一种叫“信任后仰”的游戏，规则很简单：直挺挺地猝然后仰，相信在脑浆开花之前，对方一定会伸出双手等待着你。\\n\\n\\u3000\\u3000小时侯，我还不懂“信任”是什么，却知道在幼儿园门口傻傻地等妈妈几个小时，只是妈妈向我承诺过一定会来接我，我竟没有一秒钟想过离开，因为有种东西一直占据着我的心――信任\\n\\n\\u3000\\u3000小时侯，我还没有学会欺骗就学会了信任：面对任何一个陌生的叔叔阿姨都伸出双臂，因为我信任他们会给我拥抱，听说爸爸妈妈对此很苦恼，认为我是个傻子。\\n\\n\\u3000\\u3000小时侯，我以为世界上全部都是好人，就算“大灰狼”、“老巫婆”也是会改邪归正的，所以我就是连看人的眼神都是清澈的。记得有一次，妈妈告诉我：“要是你考上大学，我就带你去见白雪公主。”我兴奋极了，向幼儿园的同学们吹嘘：“我可以见到百雪公主了！”',\n",
       " '创造的生命\\n\\n\\u3000\\u3000生命，对每一个人都是公平的，每个人都只有一次。当它属于我们的时候，我们应该尽全力让生命散发出耀眼的光芒。\\n\\n\\u3000\\u3000灯光闪烁，掌声雷动，尽管这不是最豪华的舞台，尽管没有太多的聚光灯，但这里有一群因可爱而美丽，因坚持而耀眼的生命。他们用身体、动作、表情书写着自己的辉煌。这便是舞者。\\n\\n\\u3000\\u3000刚开始，我总是不太习惯去了解这些用肢体语言说话的舞者，害怕听到那一个个催人泪下的故事，看到那一张张辛酸的面庞和一道道深深的伤口。但当我看到舞台上那充满希望的眼神和优美的舞姿时，当我也成为他们中的一员时，我发现我是多么的愚昧无知，多么的幼稚。虽然“台上一分钟，台下十年功”。但是这是他们的选择，是他们的爱好。既然从心理喜欢舞蹈，便不会去在乎台下的辛酸，永远呈现在大家面前的，是他们刻苦的结果，是他们最美丽的一面。\\n\\n\\u3000\\u3000一直感动，感动于那份甜甜的笑，感动那追寻梦想的渴望。在那个属于自己的斑斓的舞台上，舞者伴着音乐，似乎给我们描述着他们内心的世界。从舞姿中，讲诉着快乐、伤心、忧愁、寂寞……\\n\\n\\u3000\\u3000我看见了舞者的成功，舞者的执着。舞者的坚韧、舞者的微笑。但他们曾经的绝望，曾经的灰心、曾经的失落、曾经的泪水却无法得知。但我相信，舞者们会成功，因为心有多大，舞台就有多大。\\n\\n\\u3000\\u3000我们无法选择生命，但可以创造生命，我们无法得知我们将要遇见什么，但我们可以用身躯撑起希望的明天。\\n\\n\\u3000\\u3000敬畏生命，敬畏这平凡的美丽。',\n",
       " '由白色引申到文笔\\n\\n\\u3000\\u3000白色是一个极端。\\n\\n\\u3000\\u3000跟写作一样，需要一个极端的心态。如果你的内心像一只藏匿在黑暗角落里瑟瑟颤栗，畏畏缩缩的猫，一只睁大双眼，不时射出警惕目光的猫，那么你的心境就不处在极端状态，而是一团混沌的色度，一个进退维谷的阶段。如果是这样，那就是胆怯掌控了你心中的领域，后来，逐渐趋向于自卑，封闭，猥琐的状态，在这样压抑的情况下，能否写出一篇真情四溅的文章？只有用像白色一样极端的文笔，极端的感情，不要优柔寡断，不要犹豫不决，想写什么就写什么，想吐露就吐露，想倾泄就倾泄！真情往往在直白与无意间流露。\\n\\n\\u3000\\u3000白色是一种“单质”。\\n\\n\\u3000\\u3000它不需要任何的华丽来修饰，不需要任何浑浊去充实，只需要一抹晶莹剔透的光，一段感情拾忆。\\n\\n\\u3000\\u3000把自己的心净化，沉淀。不用整天抓破脑皮的去想一些麻木的东西，不用整天去找寻一张粉饰的面具，只要用一颗干净的心，一颗弥漫着泥草清香的心去写，抛开一切冗杂繁复的思想，抛开一些无意义和透明的东西。\\n\\n\\u3000\\u3000“清水出芙蓉，天然去雕饰。”虚伪矫情的感情只会丑化自己，侮辱文学。']"
      ]
     },
     "execution_count": 22,
     "metadata": {},
     "output_type": "execute_result"
    }
   ],
   "source": [
    "essays"
   ]
  },
  {
   "cell_type": "code",
   "execution_count": 32,
   "metadata": {},
   "outputs": [],
   "source": [
    "def get_mean_vector(words, model):\n",
    "    word_vectors = [model.wv[w] for w in words if w in model.wv]\n",
    "    if len(word_vectors) == 0:\n",
    "        return None\n",
    "    return sum(word_vectors) / len(word_vectors)"
   ]
  },
  {
   "cell_type": "code",
   "execution_count": 38,
   "metadata": {},
   "outputs": [
    {
     "name": "stderr",
     "output_type": "stream",
     "text": [
      "c:\\Users\\18353\\AppData\\Local\\Programs\\Python\\Python311\\Lib\\site-packages\\sklearn\\cluster\\_kmeans.py:1416: FutureWarning: The default value of `n_init` will change from 10 to 'auto' in 1.4. Set the value of `n_init` explicitly to suppress the warning\n",
      "  super()._check_params_vs_input(X, default_n_init=10)\n"
     ]
    },
    {
     "name": "stdout",
     "output_type": "stream",
     "text": [
      "与关键词'友谊'相关的作文:\n",
      "Title: 落叶\n",
      "\n",
      "[wave]“落叶[/wave][wave]满地念念碎，落叶有存在的意义；秋雨点点恼人愁，秋雨有存在的意义；满月凄凄惹人醉，满月有存在的意义。可是每个人的存在又有着什么意义，每个 ...\n",
      "\n",
      "参考作文是:\n",
      "Title: 纸的幻想\n",
      "\n",
      "“上床睡觉吧。”妈妈催着我上床睡觉。“好。”一躺在床上，我便进入了梦乡。突然，我不知怎么就醒来，咦，我这是到了哪儿呀？怎么躺在一棵大树下？前边是一个[wave]热闹非凡[/w...\n",
      "与参考作文相似的作文:\n",
      "时之彼处岸之未央\n",
      "\n",
      "　　如果你听得见我所说的。\n",
      "\n",
      "　　在遇见你之前，我一直以为爱是一件与运气有关的事。我把心事记录在书页间，焚烧往天国，等待去世的故人替我转交给天使。可是投递去天堂的书信，大概是被不小... 相似度:1.00\n",
      "\n",
      "信任自己\n",
      "\n",
      "　　小时侯，我和妈妈经常玩一种叫“信任后仰”的游戏，规则很简单：直挺挺地猝然后仰，相信在脑浆开花之前，对方一定会伸出双手等待着你。\n",
      "\n",
      "　　小时侯，我还不懂“信任”是什么，却知道在幼儿园门口... 相似度:1.00\n",
      "\n",
      "Title: 秋菊\n",
      "\n",
      "早晨，当你踏入校园的第一步时，你会感觉到，一阵清香扑鼻而来，紧接着，一片[wave]红花衬绿树[/wave]的景象[wave]映入眼[/wave][wave]帘[/wave]。这... 相似度:1.00\n",
      "\n",
      "主题5并包含'友谊'和'家庭'标签的作文:\n"
     ]
    }
   ],
   "source": [
    "tfidf = TfidfVectorizer()\n",
    "tfidf_matrix = tfidf.fit_transform(essays)\n",
    "\n",
    "# 主题聚类\n",
    "num_clusters = 10\n",
    "kmeans = KMeans(n_clusters=num_clusters, random_state=0).fit(tfidf_matrix)\n",
    "topics = kmeans.labels_\n",
    "\n",
    "# Word2Vec训练\n",
    "sentences = [re.findall(r'\\w+', essay.lower()) for essay in essays]\n",
    "w2v_model = Word2Vec(sentences, vector_size=100, window=5, min_count=5, workers=4)\n",
    "\n",
    "# 标签系统\n",
    "tags = ['友谊', '家庭', '爱情', '成长', '励志', '人生', '理想', '青春', '读书', '旅行']\n",
    "\n",
    "# 关键词匹配推荐\n",
    "def keyword_recommendation(keyword):\n",
    "    matching_indices = []\n",
    "    for i, essay in enumerate(essays):\n",
    "        if keyword in essay:\n",
    "            matching_indices.append(i)\n",
    "    return [essays[i] for i in matching_indices]\n",
    "\n",
    "# Word2Vec相似度推荐\n",
    "def w2v_recommendation(ref_essay, topn=10):\n",
    "    ref_vector = get_mean_vector(re.findall(r'\\w+', ref_essay.lower()), w2v_model)\n",
    "    if ref_vector is None:\n",
    "        return []\n",
    "    similarities = [cosine_similarity([ref_vector], [w2v_model.wv[w]])[0][0] for w in w2v_model.wv.index_to_key]\n",
    "    top_indices = sorted(range(len(similarities)), key=lambda i: similarities[i], reverse=True)[:topn]\n",
    "    return [(essays[indices], similarities[indices]) for indices in top_indices]\n",
    "\n",
    "# 主题/标签筛选推荐\n",
    "def topic_tag_recommendation(topic_id=None, tags=None):\n",
    "    filtered = [(i, essay) for i, essay in enumerate(essays) if (topic_id is None or topics[i] == topic_id) and\n",
    "                (tags is None or all(tag in essay for tag in tags))]\n",
    "    return [essay for i, essay in filtered]\n",
    "\n",
    "# 示例用法\n",
    "keyword = '友谊'\n",
    "recommended = keyword_recommendation(keyword)\n",
    "print(f\"与关键词'{keyword}'相关的作文:\")\n",
    "for essay in recommended[:3]:\n",
    "    print(essay[:100], '...\\n')\n",
    "\n",
    "ref_essay = essays[20]\n",
    "recommended = w2v_recommendation(ref_essay)\n",
    "print(f\"参考作文是:\\n{ref_essay[:100]}...\")\n",
    "print(f\"与参考作文相似的作文:\")\n",
    "for essay, sim in recommended[:3]:\n",
    "    print(f\"{essay[:100]}... 相似度:{sim:.2f}\\n\")\n",
    "\n",
    "print(\"主题5并包含'友谊'和'家庭'标签的作文:\")    \n",
    "recommended = topic_tag_recommendation(topic_id=5, tags=['友谊', '家庭'])\n",
    "for essay in recommended[:3]:\n",
    "    print(essay[:100], '...\\n')"
   ]
  },
  {
   "cell_type": "code",
   "execution_count": null,
   "metadata": {},
   "outputs": [],
   "source": []
  }
 ],
 "metadata": {
  "kernelspec": {
   "display_name": "Python 3",
   "language": "python",
   "name": "python3"
  },
  "language_info": {
   "codemirror_mode": {
    "name": "ipython",
    "version": 3
   },
   "file_extension": ".py",
   "mimetype": "text/x-python",
   "name": "python",
   "nbconvert_exporter": "python",
   "pygments_lexer": "ipython3",
   "version": "3.11.5"
  }
 },
 "nbformat": 4,
 "nbformat_minor": 2
}
