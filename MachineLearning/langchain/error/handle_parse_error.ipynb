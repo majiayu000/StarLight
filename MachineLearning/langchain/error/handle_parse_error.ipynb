{
 "cells": [
  {
   "cell_type": "code",
   "execution_count": 2,
   "metadata": {},
   "outputs": [
    {
     "name": "stdout",
     "output_type": "stream",
     "text": [
      "Note: you may need to restart the kernel to use updated packages.\n"
     ]
    }
   ],
   "source": [
    "%pip install --upgrade --quiet  wikipedia"
   ]
  },
  {
   "cell_type": "code",
   "execution_count": 4,
   "metadata": {},
   "outputs": [
    {
     "name": "stdout",
     "output_type": "stream",
     "text": [
      "Looking in indexes: https://pypi.tuna.tsinghua.edu.cn/simpleNote: you may need to restart the kernel to use updated packages.\n",
      "\n",
      "Requirement already satisfied: langchain in c:\\users\\18353\\appdata\\local\\programs\\python\\python311\\lib\\site-packages (0.0.352)\n",
      "Collecting langchain\n",
      "  Downloading https://pypi.tuna.tsinghua.edu.cn/packages/ed/3e/93045d37eba24e0b5eb05312e30cd9e12805ea5f1ae9ba51ec8a7d2f5372/langchain-0.1.16-py3-none-any.whl (817 kB)\n",
      "     ---------------------------------------- 0.0/817.7 kB ? eta -:--:--\n",
      "     ---- ---------------------------------- 92.2/817.7 kB 2.6 MB/s eta 0:00:01\n",
      "     ------- ------------------------------ 153.6/817.7 kB 1.8 MB/s eta 0:00:01\n",
      "     ------- ------------------------------ 153.6/817.7 kB 1.8 MB/s eta 0:00:01\n",
      "     ------------ ------------------------- 276.5/817.7 kB 1.5 MB/s eta 0:00:01\n",
      "     --------------- ---------------------- 337.9/817.7 kB 1.5 MB/s eta 0:00:01\n",
      "     ------------------ ------------------- 399.4/817.7 kB 1.5 MB/s eta 0:00:01\n",
      "     --------------------- ---------------- 471.0/817.7 kB 1.5 MB/s eta 0:00:01\n",
      "     ------------------------ ------------- 522.2/817.7 kB 1.4 MB/s eta 0:00:01\n",
      "     --------------------------- ---------- 583.7/817.7 kB 1.4 MB/s eta 0:00:01\n",
      "     ----------------------------- -------- 645.1/817.7 kB 1.4 MB/s eta 0:00:01\n",
      "     -------------------------------- ----- 696.3/817.7 kB 1.4 MB/s eta 0:00:01\n",
      "     ----------------------------------- -- 768.0/817.7 kB 1.4 MB/s eta 0:00:01\n",
      "     -------------------------------------- 817.7/817.7 kB 1.4 MB/s eta 0:00:00\n",
      "Requirement already satisfied: PyYAML>=5.3 in c:\\users\\18353\\appdata\\local\\programs\\python\\python311\\lib\\site-packages (from langchain) (6.0.1)\n",
      "Requirement already satisfied: SQLAlchemy<3,>=1.4 in c:\\users\\18353\\appdata\\local\\programs\\python\\python311\\lib\\site-packages (from langchain) (2.0.23)\n",
      "Requirement already satisfied: aiohttp<4.0.0,>=3.8.3 in c:\\users\\18353\\appdata\\local\\programs\\python\\python311\\lib\\site-packages (from langchain) (3.9.1)\n",
      "Requirement already satisfied: dataclasses-json<0.7,>=0.5.7 in c:\\users\\18353\\appdata\\local\\programs\\python\\python311\\lib\\site-packages (from langchain) (0.5.14)\n",
      "Requirement already satisfied: jsonpatch<2.0,>=1.33 in c:\\users\\18353\\appdata\\local\\programs\\python\\python311\\lib\\site-packages (from langchain) (1.33)\n",
      "Collecting langchain-community<0.1,>=0.0.32 (from langchain)\n",
      "  Downloading https://pypi.tuna.tsinghua.edu.cn/packages/0a/48/40d8863d18160f3d148d173db3180b0a558525562e9c5ab8c2a338684919/langchain_community-0.0.34-py3-none-any.whl (1.9 MB)\n",
      "     ---------------------------------------- 0.0/1.9 MB ? eta -:--:--\n",
      "     - -------------------------------------- 0.1/1.9 MB 1.7 MB/s eta 0:00:02\n",
      "     --- ------------------------------------ 0.2/1.9 MB 1.5 MB/s eta 0:00:02\n",
      "     ---- ----------------------------------- 0.2/1.9 MB 1.4 MB/s eta 0:00:02\n",
      "     ----- ---------------------------------- 0.3/1.9 MB 1.5 MB/s eta 0:00:02\n",
      "     ------ --------------------------------- 0.3/1.9 MB 1.4 MB/s eta 0:00:02\n",
      "     -------- ------------------------------- 0.4/1.9 MB 1.4 MB/s eta 0:00:02\n",
      "     --------- ------------------------------ 0.5/1.9 MB 1.4 MB/s eta 0:00:02\n",
      "     ---------- ----------------------------- 0.5/1.9 MB 1.4 MB/s eta 0:00:02\n",
      "     ------------ --------------------------- 0.6/1.9 MB 1.4 MB/s eta 0:00:01\n",
      "     ------------- -------------------------- 0.6/1.9 MB 1.4 MB/s eta 0:00:01\n",
      "     -------------- ------------------------- 0.7/1.9 MB 1.4 MB/s eta 0:00:01\n",
      "     ---------------- ----------------------- 0.8/1.9 MB 1.4 MB/s eta 0:00:01\n",
      "     ----------------- ---------------------- 0.8/1.9 MB 1.3 MB/s eta 0:00:01\n",
      "     ------------------ --------------------- 0.9/1.9 MB 1.3 MB/s eta 0:00:01\n",
      "     ------------------- -------------------- 0.9/1.9 MB 1.3 MB/s eta 0:00:01\n",
      "     -------------------- ------------------- 1.0/1.9 MB 1.4 MB/s eta 0:00:01\n",
      "     ---------------------- ----------------- 1.1/1.9 MB 1.4 MB/s eta 0:00:01\n",
      "     ----------------------- ---------------- 1.1/1.9 MB 1.3 MB/s eta 0:00:01\n",
      "     ------------------------ --------------- 1.2/1.9 MB 1.3 MB/s eta 0:00:01\n",
      "     ------------------------ --------------- 1.2/1.9 MB 1.3 MB/s eta 0:00:01\n",
      "     -------------------------- ------------- 1.3/1.9 MB 1.3 MB/s eta 0:00:01\n",
      "     ---------------------------- ----------- 1.4/1.9 MB 1.3 MB/s eta 0:00:01\n",
      "     ----------------------------- ---------- 1.4/1.9 MB 1.4 MB/s eta 0:00:01\n",
      "     ------------------------------ --------- 1.5/1.9 MB 1.3 MB/s eta 0:00:01\n",
      "     -------------------------------- ------- 1.6/1.9 MB 1.3 MB/s eta 0:00:01\n",
      "     -------------------------------- ------- 1.6/1.9 MB 1.3 MB/s eta 0:00:01\n",
      "     ---------------------------------- ----- 1.7/1.9 MB 1.3 MB/s eta 0:00:01\n",
      "     ----------------------------------- ---- 1.7/1.9 MB 1.3 MB/s eta 0:00:01\n",
      "     ------------------------------------ --- 1.8/1.9 MB 1.3 MB/s eta 0:00:01\n",
      "     -------------------------------------- - 1.8/1.9 MB 1.3 MB/s eta 0:00:01\n",
      "     ---------------------------------------  1.9/1.9 MB 1.3 MB/s eta 0:00:01\n",
      "     ---------------------------------------- 1.9/1.9 MB 1.3 MB/s eta 0:00:00\n",
      "Collecting langchain-core<0.2.0,>=0.1.42 (from langchain)\n",
      "  Downloading https://pypi.tuna.tsinghua.edu.cn/packages/31/a9/77dbfa21d7fa97c2927857f6c0cd2bcf143c5a2a92ce14ff2ba0276e89dd/langchain_core-0.1.45-py3-none-any.whl (291 kB)\n",
      "     ---------------------------------------- 0.0/291.3 kB ? eta -:--:--\n",
      "     ------------------ ------------------- 143.4/291.3 kB 2.8 MB/s eta 0:00:01\n",
      "     ---------------------- --------------- 174.1/291.3 kB 2.1 MB/s eta 0:00:01\n",
      "     ------------------------------ ------- 235.5/291.3 kB 1.8 MB/s eta 0:00:01\n",
      "     -------------------------------------- 291.3/291.3 kB 1.6 MB/s eta 0:00:00\n",
      "Collecting langchain-text-splitters<0.1,>=0.0.1 (from langchain)\n",
      "  Downloading https://pypi.tuna.tsinghua.edu.cn/packages/9d/a1/aec824080111e9b4a4802b51b988032faa193828c865e11233d1b18e88fa/langchain_text_splitters-0.0.1-py3-none-any.whl (21 kB)\n",
      "Collecting langsmith<0.2.0,>=0.1.17 (from langchain)\n",
      "  Downloading https://pypi.tuna.tsinghua.edu.cn/packages/e2/ab/5aee4bceabd5ebc5a6c855f1850d320ecc955fb6bb54a197a1319152be9b/langsmith-0.1.50-py3-none-any.whl (115 kB)\n",
      "     ---------------------------------------- 0.0/115.5 kB ? eta -:--:--\n",
      "     ---------- ----------------------------- 30.7/115.5 kB ? eta -:--:--\n",
      "     -------------------------------------- 115.5/115.5 kB 1.3 MB/s eta 0:00:00\n",
      "Requirement already satisfied: numpy<2,>=1 in c:\\users\\18353\\appdata\\local\\programs\\python\\python311\\lib\\site-packages (from langchain) (1.25.2)\n",
      "Requirement already satisfied: pydantic<3,>=1 in c:\\users\\18353\\appdata\\local\\programs\\python\\python311\\lib\\site-packages (from langchain) (2.5.2)\n",
      "Requirement already satisfied: requests<3,>=2 in c:\\users\\18353\\appdata\\local\\programs\\python\\python311\\lib\\site-packages (from langchain) (2.31.0)\n",
      "Requirement already satisfied: tenacity<9.0.0,>=8.1.0 in c:\\users\\18353\\appdata\\local\\programs\\python\\python311\\lib\\site-packages (from langchain) (8.2.3)\n",
      "Requirement already satisfied: attrs>=17.3.0 in c:\\users\\18353\\appdata\\local\\programs\\python\\python311\\lib\\site-packages (from aiohttp<4.0.0,>=3.8.3->langchain) (23.1.0)\n",
      "Requirement already satisfied: multidict<7.0,>=4.5 in c:\\users\\18353\\appdata\\local\\programs\\python\\python311\\lib\\site-packages (from aiohttp<4.0.0,>=3.8.3->langchain) (6.0.4)\n",
      "Requirement already satisfied: yarl<2.0,>=1.0 in c:\\users\\18353\\appdata\\local\\programs\\python\\python311\\lib\\site-packages (from aiohttp<4.0.0,>=3.8.3->langchain) (1.9.2)\n",
      "Requirement already satisfied: frozenlist>=1.1.1 in c:\\users\\18353\\appdata\\local\\programs\\python\\python311\\lib\\site-packages (from aiohttp<4.0.0,>=3.8.3->langchain) (1.4.0)\n",
      "Requirement already satisfied: aiosignal>=1.1.2 in c:\\users\\18353\\appdata\\local\\programs\\python\\python311\\lib\\site-packages (from aiohttp<4.0.0,>=3.8.3->langchain) (1.3.1)\n",
      "Requirement already satisfied: marshmallow<4.0.0,>=3.18.0 in c:\\users\\18353\\appdata\\local\\programs\\python\\python311\\lib\\site-packages (from dataclasses-json<0.7,>=0.5.7->langchain) (3.20.1)\n",
      "Requirement already satisfied: typing-inspect<1,>=0.4.0 in c:\\users\\18353\\appdata\\local\\programs\\python\\python311\\lib\\site-packages (from dataclasses-json<0.7,>=0.5.7->langchain) (0.9.0)\n",
      "Requirement already satisfied: jsonpointer>=1.9 in c:\\users\\18353\\appdata\\local\\programs\\python\\python311\\lib\\site-packages (from jsonpatch<2.0,>=1.33->langchain) (2.4)\n",
      "Requirement already satisfied: packaging<24.0,>=23.2 in c:\\users\\18353\\appdata\\local\\programs\\python\\python311\\lib\\site-packages (from langchain-core<0.2.0,>=0.1.42->langchain) (23.2)\n",
      "Requirement already satisfied: orjson<4.0.0,>=3.9.14 in c:\\users\\18353\\appdata\\local\\programs\\python\\python311\\lib\\site-packages (from langsmith<0.2.0,>=0.1.17->langchain) (3.9.15)\n",
      "Requirement already satisfied: annotated-types>=0.4.0 in c:\\users\\18353\\appdata\\local\\programs\\python\\python311\\lib\\site-packages (from pydantic<3,>=1->langchain) (0.5.0)\n",
      "Requirement already satisfied: pydantic-core==2.14.5 in c:\\users\\18353\\appdata\\local\\programs\\python\\python311\\lib\\site-packages (from pydantic<3,>=1->langchain) (2.14.5)\n",
      "Requirement already satisfied: typing-extensions>=4.6.1 in c:\\users\\18353\\appdata\\local\\programs\\python\\python311\\lib\\site-packages (from pydantic<3,>=1->langchain) (4.8.0)\n",
      "Requirement already satisfied: charset-normalizer<4,>=2 in c:\\users\\18353\\appdata\\local\\programs\\python\\python311\\lib\\site-packages (from requests<3,>=2->langchain) (3.2.0)\n",
      "Requirement already satisfied: idna<4,>=2.5 in c:\\users\\18353\\appdata\\local\\programs\\python\\python311\\lib\\site-packages (from requests<3,>=2->langchain) (3.4)\n",
      "Requirement already satisfied: urllib3<3,>=1.21.1 in c:\\users\\18353\\appdata\\local\\programs\\python\\python311\\lib\\site-packages (from requests<3,>=2->langchain) (2.0.7)\n",
      "Requirement already satisfied: certifi>=2017.4.17 in c:\\users\\18353\\appdata\\local\\programs\\python\\python311\\lib\\site-packages (from requests<3,>=2->langchain) (2023.7.22)\n",
      "Requirement already satisfied: greenlet!=0.4.17 in c:\\users\\18353\\appdata\\local\\programs\\python\\python311\\lib\\site-packages (from SQLAlchemy<3,>=1.4->langchain) (3.0.3)\n",
      "Requirement already satisfied: mypy-extensions>=0.3.0 in c:\\users\\18353\\appdata\\local\\programs\\python\\python311\\lib\\site-packages (from typing-inspect<1,>=0.4.0->dataclasses-json<0.7,>=0.5.7->langchain) (1.0.0)\n",
      "Installing collected packages: langsmith, langchain-core, langchain-text-splitters, langchain-community, langchain\n",
      "  Attempting uninstall: langsmith\n",
      "    Found existing installation: langsmith 0.0.74\n",
      "    Uninstalling langsmith-0.0.74:\n",
      "      Successfully uninstalled langsmith-0.0.74\n",
      "  Attempting uninstall: langchain-core\n",
      "    Found existing installation: langchain-core 0.1.3\n",
      "    Uninstalling langchain-core-0.1.3:\n",
      "      Successfully uninstalled langchain-core-0.1.3\n",
      "  Attempting uninstall: langchain-community\n",
      "    Found existing installation: langchain-community 0.0.6\n",
      "    Uninstalling langchain-community-0.0.6:\n",
      "      Successfully uninstalled langchain-community-0.0.6\n",
      "  Attempting uninstall: langchain\n",
      "    Found existing installation: langchain 0.0.352\n",
      "    Uninstalling langchain-0.0.352:\n",
      "      Successfully uninstalled langchain-0.0.352\n",
      "Successfully installed langchain-0.1.16 langchain-community-0.0.34 langchain-core-0.1.45 langchain-text-splitters-0.0.1 langsmith-0.1.50\n"
     ]
    }
   ],
   "source": [
    "%pip install -U  langchain"
   ]
  },
  {
   "cell_type": "code",
   "execution_count": 5,
   "metadata": {},
   "outputs": [
    {
     "ename": "ImportError",
     "evalue": "cannot import name 'create_react_agent' from 'langchain.agents' (c:\\Users\\18353\\AppData\\Local\\Programs\\Python\\Python311\\Lib\\site-packages\\langchain\\agents\\__init__.py)",
     "output_type": "error",
     "traceback": [
      "\u001b[1;31m---------------------------------------------------------------------------\u001b[0m",
      "\u001b[1;31mImportError\u001b[0m                               Traceback (most recent call last)",
      "Cell \u001b[1;32mIn[5], line 2\u001b[0m\n\u001b[0;32m      1\u001b[0m \u001b[38;5;28;01mfrom\u001b[39;00m \u001b[38;5;21;01mlangchain\u001b[39;00m \u001b[38;5;28;01mimport\u001b[39;00m hub\n\u001b[1;32m----> 2\u001b[0m \u001b[38;5;28;01mfrom\u001b[39;00m \u001b[38;5;21;01mlangchain\u001b[39;00m\u001b[38;5;21;01m.\u001b[39;00m\u001b[38;5;21;01magents\u001b[39;00m \u001b[38;5;28;01mimport\u001b[39;00m AgentExecutor, create_react_agent\n\u001b[0;32m      3\u001b[0m \u001b[38;5;28;01mfrom\u001b[39;00m \u001b[38;5;21;01mlangchain_community\u001b[39;00m\u001b[38;5;21;01m.\u001b[39;00m\u001b[38;5;21;01mtools\u001b[39;00m \u001b[38;5;28;01mimport\u001b[39;00m WikipediaQueryRun\n\u001b[0;32m      4\u001b[0m \u001b[38;5;28;01mfrom\u001b[39;00m \u001b[38;5;21;01mlangchain_community\u001b[39;00m\u001b[38;5;21;01m.\u001b[39;00m\u001b[38;5;21;01mutilities\u001b[39;00m \u001b[38;5;28;01mimport\u001b[39;00m WikipediaAPIWrapper\n",
      "\u001b[1;31mImportError\u001b[0m: cannot import name 'create_react_agent' from 'langchain.agents' (c:\\Users\\18353\\AppData\\Local\\Programs\\Python\\Python311\\Lib\\site-packages\\langchain\\agents\\__init__.py)"
     ]
    }
   ],
   "source": [
    "from langchain import hub\n",
    "from langchain.agents import AgentExecutor, create_react_agent\n",
    "from langchain_community.tools import WikipediaQueryRun\n",
    "from langchain_community.utilities import WikipediaAPIWrapper\n",
    "from langchain_openai import OpenAI\n",
    "\n",
    "api_wrapper = WikipediaAPIWrapper(top_k_results=1, doc_content_chars_max=100)\n",
    "tool = WikipediaQueryRun(api_wrapper=api_wrapper)\n",
    "tools = [tool]\n",
    "\n",
    "# Get the prompt to use - you can modify this!\n",
    "# You can see the full prompt used at: https://smith.langchain.com/hub/hwchase17/react\n",
    "prompt = hub.pull(\"hwchase17/react\")\n",
    "\n",
    "llm = OpenAI(temperature=0)\n",
    "\n",
    "agent = create_react_agent(llm, tools, prompt)"
   ]
  },
  {
   "cell_type": "code",
   "execution_count": null,
   "metadata": {},
   "outputs": [],
   "source": [
    "agent_executor = AgentExecutor(\n",
    "    agent=agent, tools=tools, verbose=True, handle_parsing_errors=True\n",
    ")"
   ]
  }
 ],
 "metadata": {
  "kernelspec": {
   "display_name": "Python 3",
   "language": "python",
   "name": "python3"
  },
  "language_info": {
   "codemirror_mode": {
    "name": "ipython",
    "version": 3
   },
   "file_extension": ".py",
   "mimetype": "text/x-python",
   "name": "python",
   "nbconvert_exporter": "python",
   "pygments_lexer": "ipython3",
   "version": "3.11.5"
  }
 },
 "nbformat": 4,
 "nbformat_minor": 2
}
