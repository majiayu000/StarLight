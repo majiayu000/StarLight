{
 "cells": [
  {
   "cell_type": "code",
   "execution_count": 1,
   "id": "b52eb8c3",
   "metadata": {
    "_cell_guid": "b1076dfc-b9ad-4769-8c92-a6c4dae69d19",
    "_uuid": "8f2839f25d086af736a60e9eeb907d3b93b6e0e5",
    "execution": {
     "iopub.execute_input": "2023-10-19T07:00:13.970119Z",
     "iopub.status.busy": "2023-10-19T07:00:13.969214Z",
     "iopub.status.idle": "2023-10-19T07:00:14.340951Z",
     "shell.execute_reply": "2023-10-19T07:00:14.339903Z"
    },
    "papermill": {
     "duration": 0.381114,
     "end_time": "2023-10-19T07:00:14.343178",
     "exception": false,
     "start_time": "2023-10-19T07:00:13.962064",
     "status": "completed"
    },
    "tags": []
   },
   "outputs": [
    {
     "name": "stdout",
     "output_type": "stream",
     "text": [
      "/kaggle/input/titanic/train.csv\n",
      "/kaggle/input/titanic/test.csv\n",
      "/kaggle/input/titanic/gender_submission.csv\n"
     ]
    }
   ],
   "source": [
    "# This Python 3 environment comes with many helpful analytics libraries installed\n",
    "# It is defined by the kaggle/python Docker image: https://github.com/kaggle/docker-python\n",
    "# For example, here's several helpful packages to load\n",
    "\n",
    "import numpy as np # linear algebra\n",
    "import pandas as pd # data processing, CSV file I/O (e.g. pd.read_csv)\n",
    "\n",
    "# Input data files are available in the read-only \"../input/\" directory\n",
    "# For example, running this (by clicking run or pressing Shift+Enter) will list all files under the input directory\n",
    "\n",
    "import os\n",
    "for dirname, _, filenames in os.walk('/kaggle/input'):\n",
    "    for filename in filenames:\n",
    "        print(os.path.join(dirname, filename))\n",
    "\n",
    "# You can write up to 20GB to the current directory (/kaggle/working/) that gets preserved as output when you create a version using \"Save & Run All\" \n",
    "# You can also write temporary files to /kaggle/temp/, but they won't be saved outside of the current session"
   ]
  },
  {
   "cell_type": "code",
   "execution_count": 2,
   "id": "fc4cea38",
   "metadata": {
    "execution": {
     "iopub.execute_input": "2023-10-19T07:00:14.360154Z",
     "iopub.status.busy": "2023-10-19T07:00:14.359464Z",
     "iopub.status.idle": "2023-10-19T07:00:23.634049Z",
     "shell.execute_reply": "2023-10-19T07:00:23.632882Z"
    },
    "papermill": {
     "duration": 9.287773,
     "end_time": "2023-10-19T07:00:23.635965",
     "exception": false,
     "start_time": "2023-10-19T07:00:14.348192",
     "status": "completed"
    },
    "tags": []
   },
   "outputs": [
    {
     "name": "stdout",
     "output_type": "stream",
     "text": [
      "Found TF-DF 1.4.0\n"
     ]
    }
   ],
   "source": [
    "import tensorflow as tf\n",
    "import tensorflow_decision_forests as tfdf\n",
    "\n",
    "print(f\"Found TF-DF {tfdf.__version__}\")"
   ]
  },
  {
   "cell_type": "code",
   "execution_count": 3,
   "id": "605af908",
   "metadata": {
    "execution": {
     "iopub.execute_input": "2023-10-19T07:00:23.646534Z",
     "iopub.status.busy": "2023-10-19T07:00:23.645274Z",
     "iopub.status.idle": "2023-10-19T07:00:23.696080Z",
     "shell.execute_reply": "2023-10-19T07:00:23.695209Z"
    },
    "papermill": {
     "duration": 0.058128,
     "end_time": "2023-10-19T07:00:23.698280",
     "exception": false,
     "start_time": "2023-10-19T07:00:23.640152",
     "status": "completed"
    },
    "tags": []
   },
   "outputs": [
    {
     "data": {
      "text/html": [
       "<div>\n",
       "<style scoped>\n",
       "    .dataframe tbody tr th:only-of-type {\n",
       "        vertical-align: middle;\n",
       "    }\n",
       "\n",
       "    .dataframe tbody tr th {\n",
       "        vertical-align: top;\n",
       "    }\n",
       "\n",
       "    .dataframe thead th {\n",
       "        text-align: right;\n",
       "    }\n",
       "</style>\n",
       "<table border=\"1\" class=\"dataframe\">\n",
       "  <thead>\n",
       "    <tr style=\"text-align: right;\">\n",
       "      <th></th>\n",
       "      <th>PassengerId</th>\n",
       "      <th>Survived</th>\n",
       "      <th>Pclass</th>\n",
       "      <th>Name</th>\n",
       "      <th>Sex</th>\n",
       "      <th>Age</th>\n",
       "      <th>SibSp</th>\n",
       "      <th>Parch</th>\n",
       "      <th>Ticket</th>\n",
       "      <th>Fare</th>\n",
       "      <th>Cabin</th>\n",
       "      <th>Embarked</th>\n",
       "    </tr>\n",
       "  </thead>\n",
       "  <tbody>\n",
       "    <tr>\n",
       "      <th>0</th>\n",
       "      <td>1</td>\n",
       "      <td>0</td>\n",
       "      <td>3</td>\n",
       "      <td>Braund, Mr. Owen Harris</td>\n",
       "      <td>male</td>\n",
       "      <td>22.0</td>\n",
       "      <td>1</td>\n",
       "      <td>0</td>\n",
       "      <td>A/5 21171</td>\n",
       "      <td>7.2500</td>\n",
       "      <td>NaN</td>\n",
       "      <td>S</td>\n",
       "    </tr>\n",
       "    <tr>\n",
       "      <th>1</th>\n",
       "      <td>2</td>\n",
       "      <td>1</td>\n",
       "      <td>1</td>\n",
       "      <td>Cumings, Mrs. John Bradley (Florence Briggs Th...</td>\n",
       "      <td>female</td>\n",
       "      <td>38.0</td>\n",
       "      <td>1</td>\n",
       "      <td>0</td>\n",
       "      <td>PC 17599</td>\n",
       "      <td>71.2833</td>\n",
       "      <td>C85</td>\n",
       "      <td>C</td>\n",
       "    </tr>\n",
       "    <tr>\n",
       "      <th>2</th>\n",
       "      <td>3</td>\n",
       "      <td>1</td>\n",
       "      <td>3</td>\n",
       "      <td>Heikkinen, Miss. Laina</td>\n",
       "      <td>female</td>\n",
       "      <td>26.0</td>\n",
       "      <td>0</td>\n",
       "      <td>0</td>\n",
       "      <td>STON/O2. 3101282</td>\n",
       "      <td>7.9250</td>\n",
       "      <td>NaN</td>\n",
       "      <td>S</td>\n",
       "    </tr>\n",
       "    <tr>\n",
       "      <th>3</th>\n",
       "      <td>4</td>\n",
       "      <td>1</td>\n",
       "      <td>1</td>\n",
       "      <td>Futrelle, Mrs. Jacques Heath (Lily May Peel)</td>\n",
       "      <td>female</td>\n",
       "      <td>35.0</td>\n",
       "      <td>1</td>\n",
       "      <td>0</td>\n",
       "      <td>113803</td>\n",
       "      <td>53.1000</td>\n",
       "      <td>C123</td>\n",
       "      <td>S</td>\n",
       "    </tr>\n",
       "    <tr>\n",
       "      <th>4</th>\n",
       "      <td>5</td>\n",
       "      <td>0</td>\n",
       "      <td>3</td>\n",
       "      <td>Allen, Mr. William Henry</td>\n",
       "      <td>male</td>\n",
       "      <td>35.0</td>\n",
       "      <td>0</td>\n",
       "      <td>0</td>\n",
       "      <td>373450</td>\n",
       "      <td>8.0500</td>\n",
       "      <td>NaN</td>\n",
       "      <td>S</td>\n",
       "    </tr>\n",
       "    <tr>\n",
       "      <th>5</th>\n",
       "      <td>6</td>\n",
       "      <td>0</td>\n",
       "      <td>3</td>\n",
       "      <td>Moran, Mr. James</td>\n",
       "      <td>male</td>\n",
       "      <td>NaN</td>\n",
       "      <td>0</td>\n",
       "      <td>0</td>\n",
       "      <td>330877</td>\n",
       "      <td>8.4583</td>\n",
       "      <td>NaN</td>\n",
       "      <td>Q</td>\n",
       "    </tr>\n",
       "    <tr>\n",
       "      <th>6</th>\n",
       "      <td>7</td>\n",
       "      <td>0</td>\n",
       "      <td>1</td>\n",
       "      <td>McCarthy, Mr. Timothy J</td>\n",
       "      <td>male</td>\n",
       "      <td>54.0</td>\n",
       "      <td>0</td>\n",
       "      <td>0</td>\n",
       "      <td>17463</td>\n",
       "      <td>51.8625</td>\n",
       "      <td>E46</td>\n",
       "      <td>S</td>\n",
       "    </tr>\n",
       "    <tr>\n",
       "      <th>7</th>\n",
       "      <td>8</td>\n",
       "      <td>0</td>\n",
       "      <td>3</td>\n",
       "      <td>Palsson, Master. Gosta Leonard</td>\n",
       "      <td>male</td>\n",
       "      <td>2.0</td>\n",
       "      <td>3</td>\n",
       "      <td>1</td>\n",
       "      <td>349909</td>\n",
       "      <td>21.0750</td>\n",
       "      <td>NaN</td>\n",
       "      <td>S</td>\n",
       "    </tr>\n",
       "    <tr>\n",
       "      <th>8</th>\n",
       "      <td>9</td>\n",
       "      <td>1</td>\n",
       "      <td>3</td>\n",
       "      <td>Johnson, Mrs. Oscar W (Elisabeth Vilhelmina Berg)</td>\n",
       "      <td>female</td>\n",
       "      <td>27.0</td>\n",
       "      <td>0</td>\n",
       "      <td>2</td>\n",
       "      <td>347742</td>\n",
       "      <td>11.1333</td>\n",
       "      <td>NaN</td>\n",
       "      <td>S</td>\n",
       "    </tr>\n",
       "    <tr>\n",
       "      <th>9</th>\n",
       "      <td>10</td>\n",
       "      <td>1</td>\n",
       "      <td>2</td>\n",
       "      <td>Nasser, Mrs. Nicholas (Adele Achem)</td>\n",
       "      <td>female</td>\n",
       "      <td>14.0</td>\n",
       "      <td>1</td>\n",
       "      <td>0</td>\n",
       "      <td>237736</td>\n",
       "      <td>30.0708</td>\n",
       "      <td>NaN</td>\n",
       "      <td>C</td>\n",
       "    </tr>\n",
       "  </tbody>\n",
       "</table>\n",
       "</div>"
      ],
      "text/plain": [
       "   PassengerId  Survived  Pclass  \\\n",
       "0            1         0       3   \n",
       "1            2         1       1   \n",
       "2            3         1       3   \n",
       "3            4         1       1   \n",
       "4            5         0       3   \n",
       "5            6         0       3   \n",
       "6            7         0       1   \n",
       "7            8         0       3   \n",
       "8            9         1       3   \n",
       "9           10         1       2   \n",
       "\n",
       "                                                Name     Sex   Age  SibSp  \\\n",
       "0                            Braund, Mr. Owen Harris    male  22.0      1   \n",
       "1  Cumings, Mrs. John Bradley (Florence Briggs Th...  female  38.0      1   \n",
       "2                             Heikkinen, Miss. Laina  female  26.0      0   \n",
       "3       Futrelle, Mrs. Jacques Heath (Lily May Peel)  female  35.0      1   \n",
       "4                           Allen, Mr. William Henry    male  35.0      0   \n",
       "5                                   Moran, Mr. James    male   NaN      0   \n",
       "6                            McCarthy, Mr. Timothy J    male  54.0      0   \n",
       "7                     Palsson, Master. Gosta Leonard    male   2.0      3   \n",
       "8  Johnson, Mrs. Oscar W (Elisabeth Vilhelmina Berg)  female  27.0      0   \n",
       "9                Nasser, Mrs. Nicholas (Adele Achem)  female  14.0      1   \n",
       "\n",
       "   Parch            Ticket     Fare Cabin Embarked  \n",
       "0      0         A/5 21171   7.2500   NaN        S  \n",
       "1      0          PC 17599  71.2833   C85        C  \n",
       "2      0  STON/O2. 3101282   7.9250   NaN        S  \n",
       "3      0            113803  53.1000  C123        S  \n",
       "4      0            373450   8.0500   NaN        S  \n",
       "5      0            330877   8.4583   NaN        Q  \n",
       "6      0             17463  51.8625   E46        S  \n",
       "7      1            349909  21.0750   NaN        S  \n",
       "8      2            347742  11.1333   NaN        S  \n",
       "9      0            237736  30.0708   NaN        C  "
      ]
     },
     "execution_count": 3,
     "metadata": {},
     "output_type": "execute_result"
    }
   ],
   "source": [
    "train_df = pd.read_csv(\"/kaggle/input/titanic/train.csv\")\n",
    "serving_df = pd.read_csv(\"/kaggle/input/titanic/test.csv\")\n",
    "\n",
    "train_df.head(10)"
   ]
  },
  {
   "cell_type": "markdown",
   "id": "da8e7767",
   "metadata": {
    "papermill": {
     "duration": 0.004078,
     "end_time": "2023-10-19T07:00:23.706800",
     "exception": false,
     "start_time": "2023-10-19T07:00:23.702722",
     "status": "completed"
    },
    "tags": []
   },
   "source": [
    "# Prepare dataset"
   ]
  },
  {
   "cell_type": "code",
   "execution_count": 4,
   "id": "7f37b0f6",
   "metadata": {
    "execution": {
     "iopub.execute_input": "2023-10-19T07:00:23.717306Z",
     "iopub.status.busy": "2023-10-19T07:00:23.716376Z",
     "iopub.status.idle": "2023-10-19T07:00:23.743100Z",
     "shell.execute_reply": "2023-10-19T07:00:23.741876Z"
    },
    "papermill": {
     "duration": 0.034088,
     "end_time": "2023-10-19T07:00:23.745175",
     "exception": false,
     "start_time": "2023-10-19T07:00:23.711087",
     "status": "completed"
    },
    "tags": []
   },
   "outputs": [
    {
     "data": {
      "text/html": [
       "<div>\n",
       "<style scoped>\n",
       "    .dataframe tbody tr th:only-of-type {\n",
       "        vertical-align: middle;\n",
       "    }\n",
       "\n",
       "    .dataframe tbody tr th {\n",
       "        vertical-align: top;\n",
       "    }\n",
       "\n",
       "    .dataframe thead th {\n",
       "        text-align: right;\n",
       "    }\n",
       "</style>\n",
       "<table border=\"1\" class=\"dataframe\">\n",
       "  <thead>\n",
       "    <tr style=\"text-align: right;\">\n",
       "      <th></th>\n",
       "      <th>PassengerId</th>\n",
       "      <th>Survived</th>\n",
       "      <th>Pclass</th>\n",
       "      <th>Name</th>\n",
       "      <th>Sex</th>\n",
       "      <th>Age</th>\n",
       "      <th>SibSp</th>\n",
       "      <th>Parch</th>\n",
       "      <th>Ticket</th>\n",
       "      <th>Fare</th>\n",
       "      <th>Cabin</th>\n",
       "      <th>Embarked</th>\n",
       "      <th>Ticket_number</th>\n",
       "      <th>Ticket_item</th>\n",
       "    </tr>\n",
       "  </thead>\n",
       "  <tbody>\n",
       "    <tr>\n",
       "      <th>0</th>\n",
       "      <td>1</td>\n",
       "      <td>0</td>\n",
       "      <td>3</td>\n",
       "      <td>BraundMrOwenHarris</td>\n",
       "      <td>male</td>\n",
       "      <td>22.0</td>\n",
       "      <td>1</td>\n",
       "      <td>0</td>\n",
       "      <td>A/5 21171</td>\n",
       "      <td>7.2500</td>\n",
       "      <td>NaN</td>\n",
       "      <td>S</td>\n",
       "      <td>21171</td>\n",
       "      <td>A/5</td>\n",
       "    </tr>\n",
       "    <tr>\n",
       "      <th>1</th>\n",
       "      <td>2</td>\n",
       "      <td>1</td>\n",
       "      <td>1</td>\n",
       "      <td>CumingsMrsJohnBradleyFlorenceBriggsThayer</td>\n",
       "      <td>female</td>\n",
       "      <td>38.0</td>\n",
       "      <td>1</td>\n",
       "      <td>0</td>\n",
       "      <td>PC 17599</td>\n",
       "      <td>71.2833</td>\n",
       "      <td>C85</td>\n",
       "      <td>C</td>\n",
       "      <td>17599</td>\n",
       "      <td>PC</td>\n",
       "    </tr>\n",
       "    <tr>\n",
       "      <th>2</th>\n",
       "      <td>3</td>\n",
       "      <td>1</td>\n",
       "      <td>3</td>\n",
       "      <td>HeikkinenMissLaina</td>\n",
       "      <td>female</td>\n",
       "      <td>26.0</td>\n",
       "      <td>0</td>\n",
       "      <td>0</td>\n",
       "      <td>STON/O2. 3101282</td>\n",
       "      <td>7.9250</td>\n",
       "      <td>NaN</td>\n",
       "      <td>S</td>\n",
       "      <td>3101282</td>\n",
       "      <td>STON/O2.</td>\n",
       "    </tr>\n",
       "    <tr>\n",
       "      <th>3</th>\n",
       "      <td>4</td>\n",
       "      <td>1</td>\n",
       "      <td>1</td>\n",
       "      <td>FutrelleMrsJacquesHeathLilyMayPeel</td>\n",
       "      <td>female</td>\n",
       "      <td>35.0</td>\n",
       "      <td>1</td>\n",
       "      <td>0</td>\n",
       "      <td>113803</td>\n",
       "      <td>53.1000</td>\n",
       "      <td>C123</td>\n",
       "      <td>S</td>\n",
       "      <td>113803</td>\n",
       "      <td>None</td>\n",
       "    </tr>\n",
       "    <tr>\n",
       "      <th>4</th>\n",
       "      <td>5</td>\n",
       "      <td>0</td>\n",
       "      <td>3</td>\n",
       "      <td>AllenMrWilliamHenry</td>\n",
       "      <td>male</td>\n",
       "      <td>35.0</td>\n",
       "      <td>0</td>\n",
       "      <td>0</td>\n",
       "      <td>373450</td>\n",
       "      <td>8.0500</td>\n",
       "      <td>NaN</td>\n",
       "      <td>S</td>\n",
       "      <td>373450</td>\n",
       "      <td>None</td>\n",
       "    </tr>\n",
       "  </tbody>\n",
       "</table>\n",
       "</div>"
      ],
      "text/plain": [
       "   PassengerId  Survived  Pclass                                       Name  \\\n",
       "0            1         0       3                         BraundMrOwenHarris   \n",
       "1            2         1       1  CumingsMrsJohnBradleyFlorenceBriggsThayer   \n",
       "2            3         1       3                         HeikkinenMissLaina   \n",
       "3            4         1       1         FutrelleMrsJacquesHeathLilyMayPeel   \n",
       "4            5         0       3                        AllenMrWilliamHenry   \n",
       "\n",
       "      Sex   Age  SibSp  Parch            Ticket     Fare Cabin Embarked  \\\n",
       "0    male  22.0      1      0         A/5 21171   7.2500   NaN        S   \n",
       "1  female  38.0      1      0          PC 17599  71.2833   C85        C   \n",
       "2  female  26.0      0      0  STON/O2. 3101282   7.9250   NaN        S   \n",
       "3  female  35.0      1      0            113803  53.1000  C123        S   \n",
       "4    male  35.0      0      0            373450   8.0500   NaN        S   \n",
       "\n",
       "  Ticket_number Ticket_item  \n",
       "0         21171         A/5  \n",
       "1         17599          PC  \n",
       "2       3101282    STON/O2.  \n",
       "3        113803        None  \n",
       "4        373450        None  "
      ]
     },
     "execution_count": 4,
     "metadata": {},
     "output_type": "execute_result"
    }
   ],
   "source": [
    "def preprocess(df):\n",
    "    df = df.copy()\n",
    "    \n",
    "    def normalize_name(x):\n",
    "        return \"\".join([v.strip(\",()[].\\\"'\") for v in x.split(\" \")])\n",
    "    \n",
    "    def ticket_number(x):\n",
    "        return x.split(\" \")[-1]\n",
    "    \n",
    "    def ticket_item(x):\n",
    "        items = x.split(\" \")\n",
    "        if len(items) == 1:\n",
    "            return \"None\"\n",
    "        return \"-\".join(items[0:-1])\n",
    "    \n",
    "    df[\"Name\"] = df[\"Name\"].apply(normalize_name)\n",
    "    df[\"Ticket_number\"] = df[\"Ticket\"].apply(ticket_number)\n",
    "    df[\"Ticket_item\"] = df[\"Ticket\"].apply(ticket_item)\n",
    "    return df\n",
    "\n",
    "preprocessed_train_df = preprocess(train_df)\n",
    "preprocessed_serving_df = preprocess(serving_df)\n",
    "\n",
    "preprocessed_train_df.head(5)"
   ]
  },
  {
   "cell_type": "code",
   "execution_count": 5,
   "id": "ae4deadb",
   "metadata": {
    "execution": {
     "iopub.execute_input": "2023-10-19T07:00:23.756488Z",
     "iopub.status.busy": "2023-10-19T07:00:23.755582Z",
     "iopub.status.idle": "2023-10-19T07:00:23.761448Z",
     "shell.execute_reply": "2023-10-19T07:00:23.760356Z"
    },
    "papermill": {
     "duration": 0.013445,
     "end_time": "2023-10-19T07:00:23.763231",
     "exception": false,
     "start_time": "2023-10-19T07:00:23.749786",
     "status": "completed"
    },
    "tags": []
   },
   "outputs": [
    {
     "name": "stdout",
     "output_type": "stream",
     "text": [
      "Input features: ['Pclass', 'Name', 'Sex', 'Age', 'SibSp', 'Parch', 'Fare', 'Cabin', 'Embarked', 'Ticket_number', 'Ticket_item']\n"
     ]
    }
   ],
   "source": [
    "input_features = list(preprocessed_train_df.columns)\n",
    "input_features.remove(\"Ticket\")\n",
    "input_features.remove(\"PassengerId\")\n",
    "input_features.remove(\"Survived\")\n",
    "\n",
    "print(f\"Input features: {input_features}\")"
   ]
  },
  {
   "cell_type": "markdown",
   "id": "b57ed640",
   "metadata": {
    "papermill": {
     "duration": 0.004243,
     "end_time": "2023-10-19T07:00:23.772010",
     "exception": false,
     "start_time": "2023-10-19T07:00:23.767767",
     "status": "completed"
    },
    "tags": []
   },
   "source": [
    "## Convert Pandas dataset to TensorFlow Dataset"
   ]
  },
  {
   "cell_type": "code",
   "execution_count": 6,
   "id": "de3cb140",
   "metadata": {
    "execution": {
     "iopub.execute_input": "2023-10-19T07:00:23.782217Z",
     "iopub.status.busy": "2023-10-19T07:00:23.781372Z",
     "iopub.status.idle": "2023-10-19T07:00:24.066576Z",
     "shell.execute_reply": "2023-10-19T07:00:24.065331Z"
    },
    "papermill": {
     "duration": 0.292529,
     "end_time": "2023-10-19T07:00:24.068907",
     "exception": false,
     "start_time": "2023-10-19T07:00:23.776378",
     "status": "completed"
    },
    "tags": []
   },
   "outputs": [],
   "source": [
    "def tokenize_names(features, labels=None):\n",
    "    features[\"Name\"] = tf.strings.split(features[\"Name\"])\n",
    "    return features, labels\n",
    "\n",
    "train_ds = tfdf.keras.pd_dataframe_to_tf_dataset(preprocessed_train_df, label=\"Survived\").map(tokenize_names)\n",
    "serving_ds = tfdf.keras.pd_dataframe_to_tf_dataset(preprocessed_serving_df).map(tokenize_names)"
   ]
  },
  {
   "cell_type": "markdown",
   "id": "99d7975f",
   "metadata": {
    "papermill": {
     "duration": 0.004433,
     "end_time": "2023-10-19T07:00:24.078418",
     "exception": false,
     "start_time": "2023-10-19T07:00:24.073985",
     "status": "completed"
    },
    "tags": []
   },
   "source": [
    "## Train model with default parameters"
   ]
  },
  {
   "cell_type": "code",
   "execution_count": 7,
   "id": "4f967821",
   "metadata": {
    "execution": {
     "iopub.execute_input": "2023-10-19T07:00:24.089624Z",
     "iopub.status.busy": "2023-10-19T07:00:24.089284Z",
     "iopub.status.idle": "2023-10-19T07:00:33.725616Z",
     "shell.execute_reply": "2023-10-19T07:00:33.724357Z"
    },
    "papermill": {
     "duration": 9.645388,
     "end_time": "2023-10-19T07:00:33.728276",
     "exception": false,
     "start_time": "2023-10-19T07:00:24.082888",
     "status": "completed"
    },
    "tags": []
   },
   "outputs": [
    {
     "name": "stderr",
     "output_type": "stream",
     "text": [
      "[WARNING 23-10-19 07:00:24.1239 UTC gradient_boosted_trees.cc:1818] \"goss_alpha\" set but \"sampling_method\" not equal to \"GOSS\".\n",
      "[WARNING 23-10-19 07:00:24.1242 UTC gradient_boosted_trees.cc:1829] \"goss_beta\" set but \"sampling_method\" not equal to \"GOSS\".\n",
      "[WARNING 23-10-19 07:00:24.1243 UTC gradient_boosted_trees.cc:1843] \"selective_gradient_boosting_ratio\" set but \"sampling_method\" not equal to \"SELGB\".\n",
      "[INFO 23-10-19 07:00:28.9240 UTC kernel.cc:1243] Loading model from path /tmp/tmprlzzlhez/model/ with prefix d561e0a24da84aab\n",
      "[INFO 23-10-19 07:00:28.9333 UTC abstract_model.cc:1311] Engine \"GradientBoostedTreesQuickScorerExtended\" built\n",
      "[INFO 23-10-19 07:00:28.9336 UTC kernel.cc:1075] Use fast generic engine\n"
     ]
    },
    {
     "name": "stdout",
     "output_type": "stream",
     "text": [
      "WARNING: AutoGraph could not transform <function simple_ml_inference_op_with_handle at 0x79cf04179ea0> and will run it as-is.\n",
      "Please report this to the TensorFlow team. When filing the bug, set the verbosity to 10 (on Linux, `export AUTOGRAPH_VERBOSITY=10`) and attach the full output.\n",
      "Cause: could not get source code\n",
      "To silence this warning, decorate the function with @tf.autograph.experimental.do_not_convert\n",
      "Accuracy: 0.8152173757553101 Loss:0.8874582648277283\n"
     ]
    }
   ],
   "source": [
    "model = tfdf.keras.GradientBoostedTreesModel(\n",
    "    verbose=0, # Very few logs\n",
    "    features=[tfdf.keras.FeatureUsage(name=n) for n in input_features],\n",
    "    exclude_non_specified_features=True, # Only use the features in \"features\"\n",
    "    random_seed=1234,\n",
    ")\n",
    "model.fit(train_ds)\n",
    "\n",
    "self_evaluation = model.make_inspector().evaluation()\n",
    "print(f\"Accuracy: {self_evaluation.accuracy} Loss:{self_evaluation.loss}\")"
   ]
  },
  {
   "cell_type": "markdown",
   "id": "a9b69de0",
   "metadata": {
    "papermill": {
     "duration": 0.004929,
     "end_time": "2023-10-19T07:00:33.738375",
     "exception": false,
     "start_time": "2023-10-19T07:00:33.733446",
     "status": "completed"
    },
    "tags": []
   },
   "source": [
    "## Train model with improved default parameters"
   ]
  },
  {
   "cell_type": "code",
   "execution_count": 8,
   "id": "8e073f71",
   "metadata": {
    "execution": {
     "iopub.execute_input": "2023-10-19T07:00:33.749668Z",
     "iopub.status.busy": "2023-10-19T07:00:33.749341Z",
     "iopub.status.idle": "2023-10-19T07:00:35.281020Z",
     "shell.execute_reply": "2023-10-19T07:00:35.279930Z"
    },
    "papermill": {
     "duration": 1.53969,
     "end_time": "2023-10-19T07:00:35.282972",
     "exception": false,
     "start_time": "2023-10-19T07:00:33.743282",
     "status": "completed"
    },
    "tags": []
   },
   "outputs": [
    {
     "name": "stderr",
     "output_type": "stream",
     "text": [
      "[WARNING 23-10-19 07:00:33.7606 UTC gradient_boosted_trees.cc:1818] \"goss_alpha\" set but \"sampling_method\" not equal to \"GOSS\".\n",
      "[WARNING 23-10-19 07:00:33.7607 UTC gradient_boosted_trees.cc:1829] \"goss_beta\" set but \"sampling_method\" not equal to \"GOSS\".\n",
      "[WARNING 23-10-19 07:00:33.7607 UTC gradient_boosted_trees.cc:1843] \"selective_gradient_boosting_ratio\" set but \"sampling_method\" not equal to \"SELGB\".\n",
      "[INFO 23-10-19 07:00:34.6325 UTC decision_forest.cc:660] Model loaded with 45 root(s), 2415 node(s), and 9 input feature(s).\n",
      "[INFO 23-10-19 07:00:34.6351 UTC decision_forest.cc:660] Model loaded with 45 root(s), 2415 node(s), and 9 input feature(s).\n",
      "[INFO[INFO 23-10-19 07:00:34.6355 UTC decision_forest.cc:660] Model loaded with 45 root(s), 2415 node(s), and 9 input feature(s).\n",
      " 23-10-19 07:00:34.6355 UTC decision_forest.cc:660] Model loaded with 45 root(s), 2415 node(s), and 9 input feature(s).\n",
      "[INFO 23-10-19 07:00:34.6363 UTC decision_forest.cc:660] Model loaded with 45 root(s), 2415 node(s), and 9 input feature(s).\n",
      "[INFO 23-10-19 07:00:34.6382 UTC decision_forest.cc:660] Model loaded with 45 root(s), 2415 node(s), and 9 input feature(s).\n",
      "[INFO 23-10-19 07:00:34.6383 UTC decision_forest.cc:660] Model loaded with 45 root(s), 2415 node(s), and 9 input feature(s).\n",
      "[INFO 23-10-19 07:00:34.6385 UTC decision_forest.cc:660] Model loaded with 45 root(s), 2415 node(s), and 9 input feature(s).\n",
      "[INFO 23-10-19 07:00:34.6391 UTC decision_forest.cc:660] Model loaded with 45 root(s), 2415 node(s), and 9 input feature(s).\n",
      "[INFO 23-10-19 07:00:34.6410 UTC decision_forest.cc:660] Model loaded with 45 root(s), 2415 node(s), and 9 input feature(s).\n",
      "[INFO 23-10-19 07:00:34.6412 UTC decision_forest.cc:660] Model loaded with 45 root(s), 2415 node(s), and 9 input feature(s).\n",
      "[INFO 23-10-19 07:00:34.6419 UTC decision_forest.cc:660] Model loaded with 45 root(s), 2415 node(s), and 9 input feature(s).\n",
      "[INFO 23-10-19 07:00:34.6632 UTC kernel.cc:1243] Loading model from path /tmp/tmplu_z9ytf/model/ with prefix 213bcf288ef24390\n",
      "[INFO 23-10-19 07:00:34.6733 UTC decision_forest.cc:660] Model loaded with 45 root(s), 2415 node(s), and 9 input feature(s).\n",
      "[INFO 23-10-19 07:00:34.6734 UTC kernel.cc:1075] Use fast generic engine\n"
     ]
    },
    {
     "name": "stdout",
     "output_type": "stream",
     "text": [
      "Accuracy: 0.77173912525177 Loss: 1.046138882637024 \n"
     ]
    }
   ],
   "source": [
    "model = tfdf.keras.GradientBoostedTreesModel(\n",
    "    verbose=0,\n",
    "    features=[tfdf.keras.FeatureUsage(name=n) for n in input_features],\n",
    "    exclude_non_specified_features=True,\n",
    "    \n",
    "    # Only for GBT.\n",
    "    # Slow but great to understand the model\n",
    "    compute_permutation_variable_importance=True,\n",
    "    \n",
    "    min_examples=1,\n",
    "    categorical_algorithm=\"RANDOM\",\n",
    "    shrinkage=0.05,\n",
    "    split_axis=\"SPARSE_OBLIQUE\",\n",
    "    sparse_oblique_normalization=\"MIN_MAX\",\n",
    "    sparse_oblique_num_projections_exponent=2.0,\n",
    "    num_trees=2000,\n",
    "    random_seed=1234\n",
    "    )\n",
    "\n",
    "model.fit(train_ds)\n",
    "\n",
    "self_evaluation = model.make_inspector().evaluation()\n",
    "print(f\"Accuracy: {self_evaluation.accuracy} Loss: {self_evaluation.loss} \")\n"
   ]
  },
  {
   "cell_type": "code",
   "execution_count": 9,
   "id": "1af482a0",
   "metadata": {
    "execution": {
     "iopub.execute_input": "2023-10-19T07:00:35.294848Z",
     "iopub.status.busy": "2023-10-19T07:00:35.294549Z",
     "iopub.status.idle": "2023-10-19T07:00:35.309024Z",
     "shell.execute_reply": "2023-10-19T07:00:35.307889Z"
    },
    "papermill": {
     "duration": 0.024764,
     "end_time": "2023-10-19T07:00:35.313082",
     "exception": false,
     "start_time": "2023-10-19T07:00:35.288318",
     "status": "completed"
    },
    "tags": []
   },
   "outputs": [
    {
     "name": "stdout",
     "output_type": "stream",
     "text": [
      "Model: \"gradient_boosted_trees_model_1\"\n",
      "_________________________________________________________________\n",
      " Layer (type)                Output Shape              Param #   \n",
      "=================================================================\n",
      "=================================================================\n",
      "Total params: 1\n",
      "Trainable params: 0\n",
      "Non-trainable params: 1\n",
      "_________________________________________________________________\n",
      "Type: \"GRADIENT_BOOSTED_TREES\"\n",
      "Task: CLASSIFICATION\n",
      "Label: \"__LABEL\"\n",
      "\n",
      "Input Features (11):\n",
      "\tAge\n",
      "\tCabin\n",
      "\tEmbarked\n",
      "\tFare\n",
      "\tName\n",
      "\tParch\n",
      "\tPclass\n",
      "\tSex\n",
      "\tSibSp\n",
      "\tTicket_item\n",
      "\tTicket_number\n",
      "\n",
      "No weights\n",
      "\n",
      "Variable Importance: INV_MEAN_MIN_DEPTH:\n",
      "    1.           \"Sex\"  1.000000 ################\n",
      "    2.           \"Age\"  0.392952 ####\n",
      "    3.          \"Fare\"  0.266457 #\n",
      "    4.   \"Ticket_item\"  0.180694 \n",
      "    5.      \"Embarked\"  0.177936 \n",
      "    6. \"Ticket_number\"  0.176046 \n",
      "    7.        \"Pclass\"  0.174016 \n",
      "    8.         \"Parch\"  0.172822 \n",
      "    9.         \"SibSp\"  0.171494 \n",
      "\n",
      "Variable Importance: MEAN_DECREASE_IN_ACCURACY:\n",
      "    1.           \"Sex\"  0.239130 ################\n",
      "    2.          \"Fare\"  0.086957 ######\n",
      "    3.           \"Age\"  0.043478 ###\n",
      "    4.        \"Pclass\"  0.032609 ###\n",
      "    5.         \"Cabin\"  0.000000 #\n",
      "    6.          \"Name\"  0.000000 #\n",
      "    7.         \"Parch\"  0.000000 #\n",
      "    8.   \"Ticket_item\"  0.000000 #\n",
      "    9. \"Ticket_number\"  0.000000 #\n",
      "   10.      \"Embarked\" -0.010870 \n",
      "   11.         \"SibSp\" -0.021739 \n",
      "\n",
      "Variable Importance: MEAN_DECREASE_IN_AP_2_VS_OTHERS:\n",
      "    1.           \"Sex\"  0.330314 ################\n",
      "    2.        \"Pclass\"  0.092767 #####\n",
      "    3.          \"Fare\"  0.059265 ###\n",
      "    4.      \"Embarked\"  0.009765 #\n",
      "    5.   \"Ticket_item\"  0.006811 #\n",
      "    6.         \"Parch\"  0.006146 #\n",
      "    7.         \"Cabin\"  0.002674 #\n",
      "    8.          \"Name\" -0.000000 #\n",
      "    9. \"Ticket_number\" -0.000000 #\n",
      "   10.           \"Age\" -0.008243 \n",
      "   11.         \"SibSp\" -0.024782 \n",
      "\n",
      "Variable Importance: MEAN_DECREASE_IN_AUC_2_VS_OTHERS:\n",
      "    1.           \"Sex\"  0.255000 ################\n",
      "    2.        \"Pclass\"  0.060000 ####\n",
      "    3.          \"Fare\"  0.059762 ####\n",
      "    4.      \"Embarked\"  0.019286 #\n",
      "    5.   \"Ticket_item\"  0.010714 #\n",
      "    6.         \"Parch\"  0.007619 #\n",
      "    7.         \"Cabin\"  0.002857 \n",
      "    8.          \"Name\"  0.000000 \n",
      "    9. \"Ticket_number\"  0.000000 \n",
      "   10.         \"SibSp\" -0.012857 \n",
      "   11.           \"Age\" -0.013571 \n",
      "\n",
      "Variable Importance: MEAN_DECREASE_IN_PRAUC_2_VS_OTHERS:\n",
      "    1.           \"Sex\"  0.327044 ################\n",
      "    2.        \"Pclass\"  0.089223 #####\n",
      "    3.          \"Fare\"  0.058083 ###\n",
      "    4.      \"Embarked\"  0.009701 #\n",
      "    5.   \"Ticket_item\"  0.006836 #\n",
      "    6.         \"Parch\"  0.006074 #\n",
      "    7.         \"Cabin\"  0.002621 #\n",
      "    8.          \"Name\" -0.000000 #\n",
      "    9. \"Ticket_number\" -0.000000 #\n",
      "   10.           \"Age\" -0.007942 \n",
      "   11.         \"SibSp\" -0.024248 \n",
      "\n",
      "Variable Importance: NUM_AS_ROOT:\n",
      "    1. \"Sex\" 45.000000 \n",
      "\n",
      "Variable Importance: NUM_NODES:\n",
      "    1.           \"Age\" 625.000000 ################\n",
      "    2.          \"Fare\" 356.000000 #########\n",
      "    3.   \"Ticket_item\" 66.000000 #\n",
      "    4.           \"Sex\" 45.000000 \n",
      "    5. \"Ticket_number\" 29.000000 \n",
      "    6.         \"Parch\" 25.000000 \n",
      "    7.      \"Embarked\" 19.000000 \n",
      "    8.        \"Pclass\" 13.000000 \n",
      "    9.         \"SibSp\"  7.000000 \n",
      "\n",
      "Variable Importance: SUM_SCORE:\n",
      "    1.           \"Sex\" 548.990975 ################\n",
      "    2.           \"Age\" 469.379053 #############\n",
      "    3.          \"Fare\" 306.443187 ########\n",
      "    4.   \"Ticket_item\" 31.830239 \n",
      "    5. \"Ticket_number\" 25.168756 \n",
      "    6.        \"Pclass\" 13.332155 \n",
      "    7.      \"Embarked\"  8.830098 \n",
      "    8.         \"Parch\"  6.109019 \n",
      "    9.         \"SibSp\"  1.125690 \n",
      "\n",
      "\n",
      "\n",
      "Loss: BINOMIAL_LOG_LIKELIHOOD\n",
      "Validation loss value: 1.04614\n",
      "Number of trees per iteration: 1\n",
      "Node format: NOT_SET\n",
      "Number of trees: 45\n",
      "Total number of nodes: 2415\n",
      "\n",
      "Number of nodes by tree:\n",
      "Count: 45 Average: 53.6667 StdDev: 4.6188\n",
      "Min: 41 Max: 63 Ignored: 0\n",
      "----------------------------------------------\n",
      "[ 41, 42) 1   2.22%   2.22% #\n",
      "[ 42, 43) 0   0.00%   2.22%\n",
      "[ 43, 44) 0   0.00%   2.22%\n",
      "[ 44, 45) 0   0.00%   2.22%\n",
      "[ 45, 46) 0   0.00%   2.22%\n",
      "[ 46, 47) 0   0.00%   2.22%\n",
      "[ 47, 49) 3   6.67%   8.89% ####\n",
      "[ 49, 50) 8  17.78%  26.67% ##########\n",
      "[ 50, 51) 0   0.00%  26.67%\n",
      "[ 51, 52) 4   8.89%  35.56% #####\n",
      "[ 52, 53) 0   0.00%  35.56%\n",
      "[ 53, 54) 7  15.56%  51.11% #########\n",
      "[ 54, 55) 0   0.00%  51.11%\n",
      "[ 55, 57) 8  17.78%  68.89% ##########\n",
      "[ 57, 58) 5  11.11%  80.00% ######\n",
      "[ 58, 59) 0   0.00%  80.00%\n",
      "[ 59, 60) 5  11.11%  91.11% ######\n",
      "[ 60, 61) 0   0.00%  91.11%\n",
      "[ 61, 62) 3   6.67%  97.78% ####\n",
      "[ 62, 63] 1   2.22% 100.00% #\n",
      "\n",
      "Depth by leafs:\n",
      "Count: 1230 Average: 4.85772 StdDev: 0.421092\n",
      "Min: 2 Max: 5 Ignored: 0\n",
      "----------------------------------------------\n",
      "[ 2, 3)    1   0.08%   0.08%\n",
      "[ 3, 4)   31   2.52%   2.60%\n",
      "[ 4, 5)  110   8.94%  11.54% #\n",
      "[ 5, 5] 1088  88.46% 100.00% ##########\n",
      "\n",
      "Number of training obs by leaf:\n",
      "Count: 1230 Average: 29.2317 StdDev: 69.7463\n",
      "Min: 1 Max: 462 Ignored: 0\n",
      "----------------------------------------------\n",
      "[   1,  24) 958  77.89%  77.89% ##########\n",
      "[  24,  47)  94   7.64%  85.53% #\n",
      "[  47,  70)  51   4.15%  89.67% #\n",
      "[  70,  93)  28   2.28%  91.95%\n",
      "[  93, 116)  10   0.81%  92.76%\n",
      "[ 116, 139)  11   0.89%  93.66%\n",
      "[ 139, 162)  19   1.54%  95.20%\n",
      "[ 162, 185)  14   1.14%  96.34%\n",
      "[ 185, 208)   1   0.08%  96.42%\n",
      "[ 208, 232)   3   0.24%  96.67%\n",
      "[ 232, 255)   4   0.33%  96.99%\n",
      "[ 255, 278)   2   0.16%  97.15%\n",
      "[ 278, 301)   2   0.16%  97.32%\n",
      "[ 301, 324)   1   0.08%  97.40%\n",
      "[ 324, 347)   6   0.49%  97.89%\n",
      "[ 347, 370)   7   0.57%  98.46%\n",
      "[ 370, 393)   7   0.57%  99.02%\n",
      "[ 393, 416)   8   0.65%  99.67%\n",
      "[ 416, 439)   3   0.24%  99.92%\n",
      "[ 439, 462]   1   0.08% 100.00%\n",
      "\n",
      "Attribute in nodes:\n",
      "\t625 : Age [NUMERICAL]\n",
      "\t356 : Fare [NUMERICAL]\n",
      "\t66 : Ticket_item [CATEGORICAL]\n",
      "\t45 : Sex [CATEGORICAL]\n",
      "\t29 : Ticket_number [CATEGORICAL]\n",
      "\t25 : Parch [NUMERICAL]\n",
      "\t19 : Embarked [CATEGORICAL]\n",
      "\t13 : Pclass [NUMERICAL]\n",
      "\t7 : SibSp [NUMERICAL]\n",
      "\n",
      "Attribute in nodes with depth <= 0:\n",
      "\t45 : Sex [CATEGORICAL]\n",
      "\n",
      "Attribute in nodes with depth <= 1:\n",
      "\t62 : Age [NUMERICAL]\n",
      "\t45 : Sex [CATEGORICAL]\n",
      "\t25 : Fare [NUMERICAL]\n",
      "\t2 : Pclass [NUMERICAL]\n",
      "\t1 : Embarked [CATEGORICAL]\n",
      "\n",
      "Attribute in nodes with depth <= 2:\n",
      "\t163 : Age [NUMERICAL]\n",
      "\t83 : Fare [NUMERICAL]\n",
      "\t45 : Sex [CATEGORICAL]\n",
      "\t9 : Embarked [CATEGORICAL]\n",
      "\t6 : Ticket_item [CATEGORICAL]\n",
      "\t5 : Ticket_number [CATEGORICAL]\n",
      "\t2 : Pclass [NUMERICAL]\n",
      "\t1 : Parch [NUMERICAL]\n",
      "\n",
      "Attribute in nodes with depth <= 3:\n",
      "\t316 : Age [NUMERICAL]\n",
      "\t200 : Fare [NUMERICAL]\n",
      "\t45 : Sex [CATEGORICAL]\n",
      "\t37 : Ticket_item [CATEGORICAL]\n",
      "\t15 : Ticket_number [CATEGORICAL]\n",
      "\t13 : Embarked [CATEGORICAL]\n",
      "\t7 : Parch [NUMERICAL]\n",
      "\t5 : Pclass [NUMERICAL]\n",
      "\t3 : SibSp [NUMERICAL]\n",
      "\n",
      "Attribute in nodes with depth <= 5:\n",
      "\t625 : Age [NUMERICAL]\n",
      "\t356 : Fare [NUMERICAL]\n",
      "\t66 : Ticket_item [CATEGORICAL]\n",
      "\t45 : Sex [CATEGORICAL]\n",
      "\t29 : Ticket_number [CATEGORICAL]\n",
      "\t25 : Parch [NUMERICAL]\n",
      "\t19 : Embarked [CATEGORICAL]\n",
      "\t13 : Pclass [NUMERICAL]\n",
      "\t7 : SibSp [NUMERICAL]\n",
      "\n",
      "Condition type in nodes:\n",
      "\t1026 : ObliqueCondition\n",
      "\t159 : ContainsBitmapCondition\n",
      "Condition type in nodes with depth <= 0:\n",
      "\t45 : ContainsBitmapCondition\n",
      "Condition type in nodes with depth <= 1:\n",
      "\t89 : ObliqueCondition\n",
      "\t46 : ContainsBitmapCondition\n",
      "Condition type in nodes with depth <= 2:\n",
      "\t249 : ObliqueCondition\n",
      "\t65 : ContainsBitmapCondition\n",
      "Condition type in nodes with depth <= 3:\n",
      "\t531 : ObliqueCondition\n",
      "\t110 : ContainsBitmapCondition\n",
      "Condition type in nodes with depth <= 5:\n",
      "\t1026 : ObliqueCondition\n",
      "\t159 : ContainsBitmapCondition\n",
      "\n",
      "Training logs:\n",
      "Number of iteration to final model: 45\n",
      "\tIter:1 train-loss:1.264594 valid-loss:1.360749  train-accuracy:0.624531 valid-accuracy:0.543478\n",
      "\tIter:2 train-loss:1.211583 valid-loss:1.319524  train-accuracy:0.624531 valid-accuracy:0.543478\n",
      "\tIter:3 train-loss:1.163197 valid-loss:1.287010  train-accuracy:0.624531 valid-accuracy:0.543478\n",
      "\tIter:4 train-loss:1.118790 valid-loss:1.263208  train-accuracy:0.624531 valid-accuracy:0.543478\n",
      "\tIter:5 train-loss:1.078327 valid-loss:1.242357  train-accuracy:0.801001 valid-accuracy:0.717391\n",
      "\tIter:6 train-loss:1.041264 valid-loss:1.223400  train-accuracy:0.832290 valid-accuracy:0.750000\n",
      "\tIter:16 train-loss:0.792271 valid-loss:1.091522  train-accuracy:0.908636 valid-accuracy:0.739130\n",
      "\tIter:26 train-loss:0.652931 valid-loss:1.069085  train-accuracy:0.914894 valid-accuracy:0.739130\n",
      "\tIter:36 train-loss:0.560748 valid-loss:1.054175  train-accuracy:0.924906 valid-accuracy:0.760870\n",
      "\tIter:46 train-loss:0.497409 valid-loss:1.046287  train-accuracy:0.932416 valid-accuracy:0.771739\n",
      "\tIter:56 train-loss:0.455415 valid-loss:1.070445  train-accuracy:0.939925 valid-accuracy:0.771739\n",
      "\tIter:66 train-loss:0.421377 valid-loss:1.079202  train-accuracy:0.942428 valid-accuracy:0.771739\n",
      "\n"
     ]
    }
   ],
   "source": [
    "model.summary()"
   ]
  },
  {
   "cell_type": "markdown",
   "id": "aa7133ed",
   "metadata": {
    "papermill": {
     "duration": 0.00553,
     "end_time": "2023-10-19T07:00:35.324610",
     "exception": false,
     "start_time": "2023-10-19T07:00:35.319080",
     "status": "completed"
    },
    "tags": []
   },
   "source": [
    "## Make predictions"
   ]
  },
  {
   "cell_type": "code",
   "execution_count": 10,
   "id": "9a6ef55c",
   "metadata": {
    "execution": {
     "iopub.execute_input": "2023-10-19T07:00:35.337278Z",
     "iopub.status.busy": "2023-10-19T07:00:35.336915Z",
     "iopub.status.idle": "2023-10-19T07:00:36.594194Z",
     "shell.execute_reply": "2023-10-19T07:00:36.592677Z"
    },
    "papermill": {
     "duration": 1.266568,
     "end_time": "2023-10-19T07:00:36.596828",
     "exception": false,
     "start_time": "2023-10-19T07:00:35.330260",
     "status": "completed"
    },
    "tags": []
   },
   "outputs": [
    {
     "name": "stdout",
     "output_type": "stream",
     "text": [
      "Submission exported to /kaggle/working/submission.csv\n",
      "PassengerId,Survived\r\n",
      "892,0\r\n",
      "893,0\r\n",
      "894,0\r\n",
      "895,0\r\n",
      "896,0\r\n",
      "897,0\r\n",
      "898,0\r\n",
      "899,0\r\n",
      "900,1\r\n"
     ]
    }
   ],
   "source": [
    "def prediction_to_kaggle_format(model, threshold=0.5):\n",
    "    proba_survive = model.predict(serving_ds, verbose=0)[:,0]\n",
    "    return pd.DataFrame({\n",
    "        \"PassengerId\": serving_df[\"PassengerId\"],\n",
    "        \"Survived\": (proba_survive >= threshold).astype(int)\n",
    "    })\n",
    "\n",
    "def make_submission(kaggle_predictions):\n",
    "    path = \"/kaggle/working/submission.csv\"\n",
    "    kaggle_predictions.to_csv(path, index=False)\n",
    "    print(f\"Submission exported to {path}\")\n",
    "    \n",
    "kaggle_predictions = prediction_to_kaggle_format(model)\n",
    "make_submission(kaggle_predictions)\n",
    "!head /kaggle/working/submission.csv"
   ]
  },
  {
   "cell_type": "markdown",
   "id": "6f0c8e6e",
   "metadata": {
    "papermill": {
     "duration": 0.005973,
     "end_time": "2023-10-19T07:00:36.608989",
     "exception": false,
     "start_time": "2023-10-19T07:00:36.603016",
     "status": "completed"
    },
    "tags": []
   },
   "source": [
    "## Training a model with hyperparameter tuning"
   ]
  },
  {
   "cell_type": "code",
   "execution_count": 11,
   "id": "9a839632",
   "metadata": {
    "execution": {
     "iopub.execute_input": "2023-10-19T07:00:36.622472Z",
     "iopub.status.busy": "2023-10-19T07:00:36.622078Z",
     "iopub.status.idle": "2023-10-19T07:02:34.573285Z",
     "shell.execute_reply": "2023-10-19T07:02:34.572065Z"
    },
    "papermill": {
     "duration": 117.960735,
     "end_time": "2023-10-19T07:02:34.575425",
     "exception": false,
     "start_time": "2023-10-19T07:00:36.614690",
     "status": "completed"
    },
    "tags": []
   },
   "outputs": [
    {
     "name": "stdout",
     "output_type": "stream",
     "text": [
      "Use /tmp/tmp5n95xgcq as temporary training directory\n"
     ]
    },
    {
     "name": "stderr",
     "output_type": "stream",
     "text": [
      "[WARNING 23-10-19 07:00:36.6442 UTC gradient_boosted_trees.cc:1818] \"goss_alpha\" set but \"sampling_method\" not equal to \"GOSS\".\n",
      "[WARNING 23-10-19 07:00:36.6443 UTC gradient_boosted_trees.cc:1829] \"goss_beta\" set but \"sampling_method\" not equal to \"GOSS\".\n",
      "[WARNING 23-10-19 07:00:36.6443 UTC gradient_boosted_trees.cc:1843] \"selective_gradient_boosting_ratio\" set but \"sampling_method\" not equal to \"SELGB\".\n",
      "[INFO 23-10-19 07:02:34.2076 UTC kernel.cc:1243] Loading model from path /tmp/tmp5n95xgcq/model/ with prefix 8d29845f0c224a89\n",
      "[INFO 23-10-19 07:02:34.2292 UTC decision_forest.cc:660] Model loaded with 79 root(s), 2283 node(s), and 11 input feature(s).\n",
      "[INFO 23-10-19 07:02:34.2292 UTC abstract_model.cc:1311] Engine \"GradientBoostedTreesGeneric\" built\n",
      "[INFO 23-10-19 07:02:34.2293 UTC kernel.cc:1075] Use fast generic engine\n"
     ]
    },
    {
     "name": "stdout",
     "output_type": "stream",
     "text": [
      "Accuracy: 0.835616409778595 Loss: 0.609738826751709\n"
     ]
    }
   ],
   "source": [
    "tuner = tfdf.tuner.RandomSearch(num_trials=1000)\n",
    "tuner.choice(\"min_examples\", [2, 5, 7, 10])\n",
    "tuner.choice(\"categorical_algorithm\", [\"CART\", \"RANDOM\"])\n",
    "\n",
    "local_search_space = tuner.choice(\"growing_strategy\", [\"LOCAL\"])\n",
    "local_search_space.choice(\"max_depth\", [3, 4, 5, 6, 8])\n",
    "\n",
    "global_search_space = tuner.choice(\"growing_strategy\", [\"BEST_FIRST_GLOBAL\"], merge=True)\n",
    "global_search_space.choice(\"max_num_nodes\", [16, 32, 64, 128, 256])\n",
    "\n",
    "#tuner.choice(\"use_hessian_gain\", [True, False])\n",
    "tuner.choice(\"shrinkage\", [0.02, 0.05, 0.10, 0.15])\n",
    "tuner.choice(\"num_candidate_attributes_ratio\", [0.2, 0.5, 0.9, 1.0])\n",
    "\n",
    "tuner.choice(\"split_axis\", [\"AXIS_ALIGNED\"])\n",
    "oblique_space = tuner.choice(\"split_axis\", [\"SPARSE_OBLIQUE\"], merge=True)\n",
    "oblique_space.choice(\"sparse_oblique_normalization\",\n",
    "                     [\"NONE\", \"STANDARD_DEVIATION\", \"MIN_MAX\"])\n",
    "oblique_space.choice(\"sparse_oblique_weights\", [\"BINARY\", \"CONTINUOUS\"])\n",
    "oblique_space.choice(\"sparse_oblique_num_projections_exponent\", [1.0, 1.5])\n",
    "\n",
    "# Tune the model. Notice the `tuner=tuner`.\n",
    "tuned_model = tfdf.keras.GradientBoostedTreesModel(tuner=tuner)\n",
    "tuned_model.fit(train_ds, verbose=0)\n",
    "\n",
    "tuned_self_evaluation = tuned_model.make_inspector().evaluation()\n",
    "print(f\"Accuracy: {tuned_self_evaluation.accuracy} Loss: {tuned_self_evaluation.loss}\")"
   ]
  },
  {
   "cell_type": "markdown",
   "id": "1da89b6a",
   "metadata": {
    "papermill": {
     "duration": 0.006047,
     "end_time": "2023-10-19T07:02:34.588205",
     "exception": false,
     "start_time": "2023-10-19T07:02:34.582158",
     "status": "completed"
    },
    "tags": []
   },
   "source": [
    "In the last line in the cell above, you can see the accuracy is higher than previously with default parameters and parameters set by hand.\n",
    "\n",
    "This is the main idea behing hyperparameter tuning.\n",
    "\n",
    "For more information you can follow this tutorial: [Automated hyper-parameter tuning](https://www.tensorflow.org/decision_forests/tutorials/automatic_tuning_colab)"
   ]
  },
  {
   "cell_type": "markdown",
   "id": "96955429",
   "metadata": {
    "papermill": {
     "duration": 0.005748,
     "end_time": "2023-10-19T07:02:34.599983",
     "exception": false,
     "start_time": "2023-10-19T07:02:34.594235",
     "status": "completed"
    },
    "tags": []
   },
   "source": [
    "## Making an ensemble"
   ]
  },
  {
   "cell_type": "code",
   "execution_count": 12,
   "id": "f70a276a",
   "metadata": {
    "execution": {
     "iopub.execute_input": "2023-10-19T07:02:34.614291Z",
     "iopub.status.busy": "2023-10-19T07:02:34.613438Z",
     "iopub.status.idle": "2023-10-19T07:04:16.778428Z",
     "shell.execute_reply": "2023-10-19T07:04:16.777217Z"
    },
    "papermill": {
     "duration": 102.17434,
     "end_time": "2023-10-19T07:04:16.780289",
     "exception": false,
     "start_time": "2023-10-19T07:02:34.605949",
     "status": "completed"
    },
    "tags": []
   },
   "outputs": [
    {
     "name": "stdout",
     "output_type": "stream",
     "text": [
      "i; 0\n"
     ]
    },
    {
     "name": "stderr",
     "output_type": "stream",
     "text": [
      "[WARNING 23-10-19 07:02:34.6265 UTC gradient_boosted_trees.cc:1818] \"goss_alpha\" set but \"sampling_method\" not equal to \"GOSS\".\n",
      "[WARNING 23-10-19 07:02:34.6265 UTC gradient_boosted_trees.cc:1829] \"goss_beta\" set but \"sampling_method\" not equal to \"GOSS\".\n",
      "[WARNING 23-10-19 07:02:34.6266 UTC gradient_boosted_trees.cc:1843] \"selective_gradient_boosting_ratio\" set but \"sampling_method\" not equal to \"SELGB\".\n",
      "[INFO 23-10-19 07:02:35.1572 UTC kernel.cc:1243] Loading model from path /tmp/tmpzj43spj1/model/ with prefix 5b7b2c478f95457a\n",
      "[INFO 23-10-19 07:02:35.1638 UTC kernel.cc:1075] Use fast generic engine\n"
     ]
    },
    {
     "name": "stdout",
     "output_type": "stream",
     "text": [
      "i; 1\n"
     ]
    },
    {
     "name": "stderr",
     "output_type": "stream",
     "text": [
      "[WARNING 23-10-19 07:02:35.5553 UTC gradient_boosted_trees.cc:1818] \"goss_alpha\" set but \"sampling_method\" not equal to \"GOSS\".\n",
      "[WARNING 23-10-19 07:02:35.5554 UTC gradient_boosted_trees.cc:1829] \"goss_beta\" set but \"sampling_method\" not equal to \"GOSS\".\n",
      "[WARNING 23-10-19 07:02:35.5554 UTC gradient_boosted_trees.cc:1843] \"selective_gradient_boosting_ratio\" set but \"sampling_method\" not equal to \"SELGB\".\n",
      "[INFO 23-10-19 07:02:36.1804 UTC kernel.cc:1243] Loading model from path /tmp/tmpgw6y5s8n/model/ with prefix c668cff9bb124e77\n",
      "[INFO 23-10-19 07:02:36.1907 UTC kernel.cc:1075] Use fast generic engine\n"
     ]
    },
    {
     "name": "stdout",
     "output_type": "stream",
     "text": [
      "i; 2\n"
     ]
    },
    {
     "name": "stderr",
     "output_type": "stream",
     "text": [
      "[WARNING 23-10-19 07:02:36.5801 UTC gradient_boosted_trees.cc:1818] \"goss_alpha\" set but \"sampling_method\" not equal to \"GOSS\".\n",
      "[WARNING 23-10-19 07:02:36.5802 UTC gradient_boosted_trees.cc:1829] \"goss_beta\" set but \"sampling_method\" not equal to \"GOSS\".\n",
      "[WARNING 23-10-19 07:02:36.5802 UTC gradient_boosted_trees.cc:1843] \"selective_gradient_boosting_ratio\" set but \"sampling_method\" not equal to \"SELGB\".\n",
      "[INFO 23-10-19 07:02:37.3286 UTC kernel.cc:1243] Loading model from path /tmp/tmp26rm01gg/model/ with prefix 6eaa95170e764caf\n",
      "[INFO 23-10-19 07:02:37.3436 UTC kernel.cc:1075] Use fast generic engine\n"
     ]
    },
    {
     "name": "stdout",
     "output_type": "stream",
     "text": [
      "i; 3\n"
     ]
    },
    {
     "name": "stderr",
     "output_type": "stream",
     "text": [
      "[WARNING 23-10-19 07:02:37.7323 UTC gradient_boosted_trees.cc:1818] \"goss_alpha\" set but \"sampling_method\" not equal to \"GOSS\".\n",
      "[WARNING 23-10-19 07:02:37.7324 UTC gradient_boosted_trees.cc:1829] \"goss_beta\" set but \"sampling_method\" not equal to \"GOSS\".\n",
      "[WARNING 23-10-19 07:02:37.7324 UTC gradient_boosted_trees.cc:1843] \"selective_gradient_boosting_ratio\" set but \"sampling_method\" not equal to \"SELGB\".\n",
      "[INFO 23-10-19 07:02:38.2758 UTC kernel.cc:1243] Loading model from path /tmp/tmper1w21fv/model/ with prefix 2c8fdf014abd4b12\n",
      "[INFO 23-10-19 07:02:38.2835 UTC kernel.cc:1075] Use fast generic engine\n"
     ]
    },
    {
     "name": "stdout",
     "output_type": "stream",
     "text": [
      "i; 4\n"
     ]
    },
    {
     "name": "stderr",
     "output_type": "stream",
     "text": [
      "[WARNING 23-10-19 07:02:38.6583 UTC gradient_boosted_trees.cc:1818] \"goss_alpha\" set but \"sampling_method\" not equal to \"GOSS\".\n",
      "[WARNING 23-10-19 07:02:38.6584 UTC gradient_boosted_trees.cc:1829] \"goss_beta\" set but \"sampling_method\" not equal to \"GOSS\".\n",
      "[WARNING 23-10-19 07:02:38.6584 UTC gradient_boosted_trees.cc:1843] \"selective_gradient_boosting_ratio\" set but \"sampling_method\" not equal to \"SELGB\".\n",
      "[INFO 23-10-19 07:02:39.1190 UTC kernel.cc:1243] Loading model from path /tmp/tmpgdpl8817/model/ with prefix 8e60d100e7a140d8\n",
      "[INFO 23-10-19 07:02:39.1232 UTC kernel.cc:1075] Use fast generic engine\n"
     ]
    },
    {
     "name": "stdout",
     "output_type": "stream",
     "text": [
      "i; 5\n"
     ]
    },
    {
     "name": "stderr",
     "output_type": "stream",
     "text": [
      "[WARNING 23-10-19 07:02:39.5105 UTC gradient_boosted_trees.cc:1818] \"goss_alpha\" set but \"sampling_method\" not equal to \"GOSS\".\n",
      "[WARNING 23-10-19 07:02:39.5106 UTC gradient_boosted_trees.cc:1829] \"goss_beta\" set but \"sampling_method\" not equal to \"GOSS\".\n",
      "[WARNING 23-10-19 07:02:39.5106 UTC gradient_boosted_trees.cc:1843] \"selective_gradient_boosting_ratio\" set but \"sampling_method\" not equal to \"SELGB\".\n",
      "[INFO 23-10-19 07:02:39.9712 UTC kernel.cc:1243] Loading model from path /tmp/tmpha8zy16k/model/ with prefix d4687b58b35a4b27\n",
      "[INFO 23-10-19 07:02:39.9745 UTC kernel.cc:1075] Use fast generic engine\n"
     ]
    },
    {
     "name": "stdout",
     "output_type": "stream",
     "text": [
      "i; 6\n"
     ]
    },
    {
     "name": "stderr",
     "output_type": "stream",
     "text": [
      "[WARNING 23-10-19 07:02:40.3763 UTC gradient_boosted_trees.cc:1818] \"goss_alpha\" set but \"sampling_method\" not equal to \"GOSS\".\n",
      "[WARNING 23-10-19 07:02:40.3763 UTC gradient_boosted_trees.cc:1829] \"goss_beta\" set but \"sampling_method\" not equal to \"GOSS\".\n",
      "[WARNING 23-10-19 07:02:40.3763 UTC gradient_boosted_trees.cc:1843] \"selective_gradient_boosting_ratio\" set but \"sampling_method\" not equal to \"SELGB\".\n",
      "[INFO 23-10-19 07:02:40.8958 UTC kernel.cc:1243] Loading model from path /tmp/tmpbki6yc18/model/ with prefix 97a2106069cd4317\n",
      "[INFO 23-10-19 07:02:40.9023 UTC kernel.cc:1075] Use fast generic engine\n"
     ]
    },
    {
     "name": "stdout",
     "output_type": "stream",
     "text": [
      "i; 7\n"
     ]
    },
    {
     "name": "stderr",
     "output_type": "stream",
     "text": [
      "[WARNING 23-10-19 07:02:41.2758 UTC gradient_boosted_trees.cc:1818] \"goss_alpha\" set but \"sampling_method\" not equal to \"GOSS\".\n",
      "[WARNING 23-10-19 07:02:41.2758 UTC gradient_boosted_trees.cc:1829] \"goss_beta\" set but \"sampling_method\" not equal to \"GOSS\".\n",
      "[WARNING 23-10-19 07:02:41.2758 UTC gradient_boosted_trees.cc:1843] \"selective_gradient_boosting_ratio\" set but \"sampling_method\" not equal to \"SELGB\".\n",
      "[INFO 23-10-19 07:02:41.8379 UTC kernel.cc:1243] Loading model from path /tmp/tmpsv3zrpbi/model/ with prefix e6519238f3a24999\n",
      "[INFO 23-10-19 07:02:41.8456 UTC kernel.cc:1075] Use fast generic engine\n"
     ]
    },
    {
     "name": "stdout",
     "output_type": "stream",
     "text": [
      "i; 8\n"
     ]
    },
    {
     "name": "stderr",
     "output_type": "stream",
     "text": [
      "[WARNING 23-10-19 07:02:42.2721 UTC gradient_boosted_trees.cc:1818] \"goss_alpha\" set but \"sampling_method\" not equal to \"GOSS\".\n",
      "[WARNING 23-10-19 07:02:42.2721 UTC gradient_boosted_trees.cc:1829] \"goss_beta\" set but \"sampling_method\" not equal to \"GOSS\".\n",
      "[WARNING 23-10-19 07:02:42.2721 UTC gradient_boosted_trees.cc:1843] \"selective_gradient_boosting_ratio\" set but \"sampling_method\" not equal to \"SELGB\".\n",
      "[INFO 23-10-19 07:02:43.3138 UTC kernel.cc:1243] Loading model from path /tmp/tmppsrxnpl_/model/ with prefix 5487754a1d7b44cb\n",
      "[INFO 23-10-19 07:02:43.3277 UTC kernel.cc:1075] Use fast generic engine\n"
     ]
    },
    {
     "name": "stdout",
     "output_type": "stream",
     "text": [
      "i; 9\n"
     ]
    },
    {
     "name": "stderr",
     "output_type": "stream",
     "text": [
      "[WARNING 23-10-19 07:02:44.2880 UTC gradient_boosted_trees.cc:1818] \"goss_alpha\" set but \"sampling_method\" not equal to \"GOSS\".\n",
      "[WARNING 23-10-19 07:02:44.2880 UTC gradient_boosted_trees.cc:1829] \"goss_beta\" set but \"sampling_method\" not equal to \"GOSS\".\n",
      "[WARNING 23-10-19 07:02:44.2880 UTC gradient_boosted_trees.cc:1843] \"selective_gradient_boosting_ratio\" set but \"sampling_method\" not equal to \"SELGB\".\n",
      "[INFO 23-10-19 07:02:44.7865 UTC kernel.cc:1243] Loading model from path /tmp/tmpahfvindv/model/ with prefix 830b818e21c64749\n",
      "[INFO 23-10-19 07:02:44.7916 UTC abstract_model.cc:1311] Engine \"GradientBoostedTreesQuickScorerExtended\" built\n",
      "[INFO 23-10-19 07:02:44.7917 UTC kernel.cc:1075] Use fast generic engine\n"
     ]
    },
    {
     "name": "stdout",
     "output_type": "stream",
     "text": [
      "i; 10\n"
     ]
    },
    {
     "name": "stderr",
     "output_type": "stream",
     "text": [
      "[WARNING 23-10-19 07:02:45.1726 UTC gradient_boosted_trees.cc:1818] \"goss_alpha\" set but \"sampling_method\" not equal to \"GOSS\".\n",
      "[WARNING 23-10-19 07:02:45.1726 UTC gradient_boosted_trees.cc:1829] \"goss_beta\" set but \"sampling_method\" not equal to \"GOSS\".\n",
      "[WARNING 23-10-19 07:02:45.1726 UTC gradient_boosted_trees.cc:1843] \"selective_gradient_boosting_ratio\" set but \"sampling_method\" not equal to \"SELGB\".\n",
      "[INFO 23-10-19 07:02:45.7608 UTC kernel.cc:1243] Loading model from path /tmp/tmpj495k7it/model/ with prefix ef127485258542e6\n",
      "[INFO 23-10-19 07:02:45.7700 UTC kernel.cc:1075] Use fast generic engine\n"
     ]
    },
    {
     "name": "stdout",
     "output_type": "stream",
     "text": [
      "i; 11\n"
     ]
    },
    {
     "name": "stderr",
     "output_type": "stream",
     "text": [
      "[WARNING 23-10-19 07:02:46.1451 UTC gradient_boosted_trees.cc:1818] \"goss_alpha\" set but \"sampling_method\" not equal to \"GOSS\".\n",
      "[WARNING 23-10-19 07:02:46.1451 UTC gradient_boosted_trees.cc:1829] \"goss_beta\" set but \"sampling_method\" not equal to \"GOSS\".\n",
      "[WARNING 23-10-19 07:02:46.1451 UTC gradient_boosted_trees.cc:1843] \"selective_gradient_boosting_ratio\" set but \"sampling_method\" not equal to \"SELGB\".\n",
      "[INFO 23-10-19 07:02:46.6038 UTC kernel.cc:1243] Loading model from path /tmp/tmpl4go65os/model/ with prefix 54ad91a32bbe49ae\n",
      "[INFO 23-10-19 07:02:46.6081 UTC kernel.cc:1075] Use fast generic engine\n"
     ]
    },
    {
     "name": "stdout",
     "output_type": "stream",
     "text": [
      "i; 12\n"
     ]
    },
    {
     "name": "stderr",
     "output_type": "stream",
     "text": [
      "[WARNING 23-10-19 07:02:46.9809 UTC gradient_boosted_trees.cc:1818] \"goss_alpha\" set but \"sampling_method\" not equal to \"GOSS\".\n",
      "[WARNING 23-10-19 07:02:46.9809 UTC gradient_boosted_trees.cc:1829] \"goss_beta\" set but \"sampling_method\" not equal to \"GOSS\".\n",
      "[WARNING 23-10-19 07:02:46.9810 UTC gradient_boosted_trees.cc:1843] \"selective_gradient_boosting_ratio\" set but \"sampling_method\" not equal to \"SELGB\".\n",
      "[INFO 23-10-19 07:02:47.5636 UTC kernel.cc:1243] Loading model from path /tmp/tmpbup9tjza/model/ with prefix bd0950690c004559\n",
      "[INFO 23-10-19 07:02:47.5731 UTC kernel.cc:1075] Use fast generic engine\n"
     ]
    },
    {
     "name": "stdout",
     "output_type": "stream",
     "text": [
      "i; 13\n"
     ]
    },
    {
     "name": "stderr",
     "output_type": "stream",
     "text": [
      "[WARNING 23-10-19 07:02:47.9495 UTC gradient_boosted_trees.cc:1818] \"goss_alpha\" set but \"sampling_method\" not equal to \"GOSS\".\n",
      "[WARNING 23-10-19 07:02:47.9495 UTC gradient_boosted_trees.cc:1829] \"goss_beta\" set but \"sampling_method\" not equal to \"GOSS\".\n",
      "[WARNING 23-10-19 07:02:47.9495 UTC gradient_boosted_trees.cc:1843] \"selective_gradient_boosting_ratio\" set but \"sampling_method\" not equal to \"SELGB\".\n",
      "[INFO 23-10-19 07:02:48.5328 UTC kernel.cc:1243] Loading model from path /tmp/tmp7dvg0wwd/model/ with prefix 76df4bb4d98c43b4\n",
      "[INFO 23-10-19 07:02:48.5421 UTC kernel.cc:1075] Use fast generic engine\n"
     ]
    },
    {
     "name": "stdout",
     "output_type": "stream",
     "text": [
      "i; 14\n"
     ]
    },
    {
     "name": "stderr",
     "output_type": "stream",
     "text": [
      "[WARNING 23-10-19 07:02:48.9386 UTC gradient_boosted_trees.cc:1818] \"goss_alpha\" set but \"sampling_method\" not equal to \"GOSS\".\n",
      "[WARNING 23-10-19 07:02:48.9387 UTC gradient_boosted_trees.cc:1829] \"goss_beta\" set but \"sampling_method\" not equal to \"GOSS\".\n",
      "[WARNING 23-10-19 07:02:48.9387 UTC gradient_boosted_trees.cc:1843] \"selective_gradient_boosting_ratio\" set but \"sampling_method\" not equal to \"SELGB\".\n",
      "[INFO 23-10-19 07:02:49.6770 UTC kernel.cc:1243] Loading model from path /tmp/tmp149rputg/model/ with prefix 5e0ab22a64eb4131\n",
      "[INFO 23-10-19 07:02:49.6920 UTC kernel.cc:1075] Use fast generic engine\n"
     ]
    },
    {
     "name": "stdout",
     "output_type": "stream",
     "text": [
      "i; 15\n"
     ]
    },
    {
     "name": "stderr",
     "output_type": "stream",
     "text": [
      "[WARNING 23-10-19 07:02:50.1170 UTC gradient_boosted_trees.cc:1818] \"goss_alpha\" set but \"sampling_method\" not equal to \"GOSS\".\n",
      "[WARNING 23-10-19 07:02:50.1171 UTC gradient_boosted_trees.cc:1829] \"goss_beta\" set but \"sampling_method\" not equal to \"GOSS\".\n",
      "[WARNING 23-10-19 07:02:50.1171 UTC gradient_boosted_trees.cc:1843] \"selective_gradient_boosting_ratio\" set but \"sampling_method\" not equal to \"SELGB\".\n",
      "[INFO 23-10-19 07:02:50.5794 UTC kernel.cc:1243] Loading model from path /tmp/tmpu_blkrhh/model/ with prefix f1d88b054e98421f\n",
      "[INFO 23-10-19 07:02:50.5832 UTC kernel.cc:1075] Use fast generic engine\n"
     ]
    },
    {
     "name": "stdout",
     "output_type": "stream",
     "text": [
      "i; 16\n"
     ]
    },
    {
     "name": "stderr",
     "output_type": "stream",
     "text": [
      "[WARNING 23-10-19 07:02:50.9619 UTC gradient_boosted_trees.cc:1818] \"goss_alpha\" set but \"sampling_method\" not equal to \"GOSS\".\n",
      "[WARNING 23-10-19 07:02:50.9619 UTC gradient_boosted_trees.cc:1829] \"goss_beta\" set but \"sampling_method\" not equal to \"GOSS\".\n",
      "[WARNING 23-10-19 07:02:50.9619 UTC gradient_boosted_trees.cc:1843] \"selective_gradient_boosting_ratio\" set but \"sampling_method\" not equal to \"SELGB\".\n",
      "[INFO 23-10-19 07:02:51.6288 UTC kernel.cc:1243] Loading model from path /tmp/tmpi0vih797/model/ with prefix 84b3d1689b5e41ee\n",
      "[INFO 23-10-19 07:02:51.6408 UTC kernel.cc:1075] Use fast generic engine\n"
     ]
    },
    {
     "name": "stdout",
     "output_type": "stream",
     "text": [
      "i; 17\n"
     ]
    },
    {
     "name": "stderr",
     "output_type": "stream",
     "text": [
      "[WARNING 23-10-19 07:02:52.0180 UTC gradient_boosted_trees.cc:1818] \"goss_alpha\" set but \"sampling_method\" not equal to \"GOSS\".\n",
      "[WARNING 23-10-19 07:02:52.0181 UTC gradient_boosted_trees.cc:1829] \"goss_beta\" set but \"sampling_method\" not equal to \"GOSS\".\n",
      "[WARNING 23-10-19 07:02:52.0181 UTC gradient_boosted_trees.cc:1843] \"selective_gradient_boosting_ratio\" set but \"sampling_method\" not equal to \"SELGB\".\n",
      "[INFO 23-10-19 07:02:52.5249 UTC kernel.cc:1243] Loading model from path /tmp/tmpmwtp1e9t/model/ with prefix e259c2e62f864908\n",
      "[INFO 23-10-19 07:02:52.5312 UTC kernel.cc:1075] Use fast generic engine\n"
     ]
    },
    {
     "name": "stdout",
     "output_type": "stream",
     "text": [
      "i; 18\n"
     ]
    },
    {
     "name": "stderr",
     "output_type": "stream",
     "text": [
      "[WARNING 23-10-19 07:02:52.9242 UTC gradient_boosted_trees.cc:1818] \"goss_alpha\" set but \"sampling_method\" not equal to \"GOSS\".\n",
      "[WARNING 23-10-19 07:02:52.9242 UTC gradient_boosted_trees.cc:1829] \"goss_beta\" set but \"sampling_method\" not equal to \"GOSS\".\n",
      "[WARNING 23-10-19 07:02:52.9243 UTC gradient_boosted_trees.cc:1843] \"selective_gradient_boosting_ratio\" set but \"sampling_method\" not equal to \"SELGB\".\n",
      "[INFO 23-10-19 07:02:53.4518 UTC kernel.cc:1243] Loading model from path /tmp/tmp1ax6xwdk/model/ with prefix e9ebc1de8fa144ce\n",
      "[INFO 23-10-19 07:02:53.4584 UTC kernel.cc:1075] Use fast generic engine\n"
     ]
    },
    {
     "name": "stdout",
     "output_type": "stream",
     "text": [
      "i; 19\n"
     ]
    },
    {
     "name": "stderr",
     "output_type": "stream",
     "text": [
      "[WARNING 23-10-19 07:02:53.8582 UTC gradient_boosted_trees.cc:1818] \"goss_alpha\" set but \"sampling_method\" not equal to \"GOSS\".\n",
      "[WARNING 23-10-19 07:02:53.8582 UTC gradient_boosted_trees.cc:1829] \"goss_beta\" set but \"sampling_method\" not equal to \"GOSS\".\n",
      "[WARNING 23-10-19 07:02:53.8583 UTC gradient_boosted_trees.cc:1843] \"selective_gradient_boosting_ratio\" set but \"sampling_method\" not equal to \"SELGB\".\n",
      "[INFO 23-10-19 07:02:54.5438 UTC kernel.cc:1243] Loading model from path /tmp/tmpjy9iod0_/model/ with prefix d1f1ccb3c97548eb\n",
      "[INFO 23-10-19 07:02:54.5543 UTC kernel.cc:1075] Use fast generic engine\n"
     ]
    },
    {
     "name": "stdout",
     "output_type": "stream",
     "text": [
      "i; 20\n"
     ]
    },
    {
     "name": "stderr",
     "output_type": "stream",
     "text": [
      "[WARNING 23-10-19 07:02:54.9552 UTC gradient_boosted_trees.cc:1818] \"goss_alpha\" set but \"sampling_method\" not equal to \"GOSS\".\n",
      "[WARNING 23-10-19 07:02:54.9552 UTC gradient_boosted_trees.cc:1829] \"goss_beta\" set but \"sampling_method\" not equal to \"GOSS\".\n",
      "[WARNING 23-10-19 07:02:54.9552 UTC gradient_boosted_trees.cc:1843] \"selective_gradient_boosting_ratio\" set but \"sampling_method\" not equal to \"SELGB\".\n",
      "[INFO 23-10-19 07:02:55.4352 UTC kernel.cc:1243] Loading model from path /tmp/tmpc9izl8cj/model/ with prefix 9fc31d4607684711\n",
      "[INFO 23-10-19 07:02:55.4396 UTC abstract_model.cc:1311] Engine \"GradientBoostedTreesQuickScorerExtended\" built\n",
      "[INFO 23-10-19 07:02:55.4396 UTC kernel.cc:1075] Use fast generic engine\n"
     ]
    },
    {
     "name": "stdout",
     "output_type": "stream",
     "text": [
      "i; 21\n"
     ]
    },
    {
     "name": "stderr",
     "output_type": "stream",
     "text": [
      "[WARNING 23-10-19 07:02:55.8140 UTC gradient_boosted_trees.cc:1818] \"goss_alpha\" set but \"sampling_method\" not equal to \"GOSS\".\n",
      "[WARNING 23-10-19 07:02:55.8140 UTC gradient_boosted_trees.cc:1829] \"goss_beta\" set but \"sampling_method\" not equal to \"GOSS\".\n",
      "[WARNING 23-10-19 07:02:55.8140 UTC gradient_boosted_trees.cc:1843] \"selective_gradient_boosting_ratio\" set but \"sampling_method\" not equal to \"SELGB\".\n",
      "[INFO 23-10-19 07:02:56.3348 UTC kernel.cc:1243] Loading model from path /tmp/tmpw0hv8auo/model/ with prefix 1912ea4e77514e69\n",
      "[INFO 23-10-19 07:02:56.3409 UTC kernel.cc:1075] Use fast generic engine\n"
     ]
    },
    {
     "name": "stdout",
     "output_type": "stream",
     "text": [
      "i; 22\n"
     ]
    },
    {
     "name": "stderr",
     "output_type": "stream",
     "text": [
      "[WARNING 23-10-19 07:02:56.8109 UTC gradient_boosted_trees.cc:1818] \"goss_alpha\" set but \"sampling_method\" not equal to \"GOSS\".\n",
      "[WARNING 23-10-19 07:02:56.8109 UTC gradient_boosted_trees.cc:1829] \"goss_beta\" set but \"sampling_method\" not equal to \"GOSS\".\n",
      "[WARNING 23-10-19 07:02:56.8109 UTC gradient_boosted_trees.cc:1843] \"selective_gradient_boosting_ratio\" set but \"sampling_method\" not equal to \"SELGB\".\n",
      "[INFO 23-10-19 07:02:57.2511 UTC kernel.cc:1243] Loading model from path /tmp/tmp7cysugc8/model/ with prefix 9bf976d0fb11494b\n",
      "[INFO 23-10-19 07:02:57.2547 UTC kernel.cc:1075] Use fast generic engine\n"
     ]
    },
    {
     "name": "stdout",
     "output_type": "stream",
     "text": [
      "i; 23\n"
     ]
    },
    {
     "name": "stderr",
     "output_type": "stream",
     "text": [
      "[WARNING 23-10-19 07:02:57.6379 UTC gradient_boosted_trees.cc:1818] \"goss_alpha\" set but \"sampling_method\" not equal to \"GOSS\".\n",
      "[WARNING 23-10-19 07:02:57.6380 UTC gradient_boosted_trees.cc:1829] \"goss_beta\" set but \"sampling_method\" not equal to \"GOSS\".\n",
      "[WARNING 23-10-19 07:02:57.6380 UTC gradient_boosted_trees.cc:1843] \"selective_gradient_boosting_ratio\" set but \"sampling_method\" not equal to \"SELGB\".\n",
      "[INFO 23-10-19 07:02:58.2488 UTC kernel.cc:1243] Loading model from path /tmp/tmp61vfwk24/model/ with prefix 8939dbd75a044583\n",
      "[INFO 23-10-19 07:02:58.2584 UTC kernel.cc:1075] Use fast generic engine\n"
     ]
    },
    {
     "name": "stdout",
     "output_type": "stream",
     "text": [
      "i; 24\n"
     ]
    },
    {
     "name": "stderr",
     "output_type": "stream",
     "text": [
      "[WARNING 23-10-19 07:02:58.6436 UTC gradient_boosted_trees.cc:1818] \"goss_alpha\" set but \"sampling_method\" not equal to \"GOSS\".\n",
      "[WARNING 23-10-19 07:02:58.6436 UTC gradient_boosted_trees.cc:1829] \"goss_beta\" set but \"sampling_method\" not equal to \"GOSS\".\n",
      "[WARNING 23-10-19 07:02:58.6436 UTC gradient_boosted_trees.cc:1843] \"selective_gradient_boosting_ratio\" set but \"sampling_method\" not equal to \"SELGB\".\n",
      "[INFO 23-10-19 07:02:59.1006 UTC kernel.cc:1243] Loading model from path /tmp/tmpohkyw45w/model/ with prefix 06641458c5864a70\n",
      "[INFO 23-10-19 07:02:59.1044 UTC kernel.cc:1075] Use fast generic engine\n"
     ]
    },
    {
     "name": "stdout",
     "output_type": "stream",
     "text": [
      "i; 25\n"
     ]
    },
    {
     "name": "stderr",
     "output_type": "stream",
     "text": [
      "[WARNING 23-10-19 07:02:59.4780 UTC gradient_boosted_trees.cc:1818] \"goss_alpha\" set but \"sampling_method\" not equal to \"GOSS\".\n",
      "[WARNING 23-10-19 07:02:59.4780 UTC gradient_boosted_trees.cc:1829] \"goss_beta\" set but \"sampling_method\" not equal to \"GOSS\".\n",
      "[WARNING 23-10-19 07:02:59.4780 UTC gradient_boosted_trees.cc:1843] \"selective_gradient_boosting_ratio\" set but \"sampling_method\" not equal to \"SELGB\".\n",
      "[INFO 23-10-19 07:03:00.2022 UTC kernel.cc:1243] Loading model from path /tmp/tmp5eey4zlj/model/ with prefix ea05dea6cbde4495\n",
      "[INFO 23-10-19 07:03:00.2143 UTC kernel.cc:1075] Use fast generic engine\n"
     ]
    },
    {
     "name": "stdout",
     "output_type": "stream",
     "text": [
      "i; 26\n"
     ]
    },
    {
     "name": "stderr",
     "output_type": "stream",
     "text": [
      "[WARNING 23-10-19 07:03:00.5903 UTC gradient_boosted_trees.cc:1818] \"goss_alpha\" set but \"sampling_method\" not equal to \"GOSS\".\n",
      "[WARNING 23-10-19 07:03:00.5903 UTC gradient_boosted_trees.cc:1829] \"goss_beta\" set but \"sampling_method\" not equal to \"GOSS\".\n",
      "[WARNING 23-10-19 07:03:00.5903 UTC gradient_boosted_trees.cc:1843] \"selective_gradient_boosting_ratio\" set but \"sampling_method\" not equal to \"SELGB\".\n",
      "[INFO 23-10-19 07:03:01.2902 UTC kernel.cc:1243] Loading model from path /tmp/tmpwmh516k9/model/ with prefix 1dd908036c2e4b1c\n",
      "[INFO 23-10-19 07:03:01.3035 UTC kernel.cc:1075] Use fast generic engine\n"
     ]
    },
    {
     "name": "stdout",
     "output_type": "stream",
     "text": [
      "i; 27\n"
     ]
    },
    {
     "name": "stderr",
     "output_type": "stream",
     "text": [
      "[WARNING 23-10-19 07:03:01.6804 UTC gradient_boosted_trees.cc:1818] \"goss_alpha\" set but \"sampling_method\" not equal to \"GOSS\".\n",
      "[WARNING 23-10-19 07:03:01.6804 UTC gradient_boosted_trees.cc:1829] \"goss_beta\" set but \"sampling_method\" not equal to \"GOSS\".\n",
      "[WARNING 23-10-19 07:03:01.6805 UTC gradient_boosted_trees.cc:1843] \"selective_gradient_boosting_ratio\" set but \"sampling_method\" not equal to \"SELGB\".\n",
      "[INFO 23-10-19 07:03:02.1957 UTC kernel.cc:1243] Loading model from path /tmp/tmpa5e_srka/model/ with prefix 8599efa1cfb14fea\n",
      "[INFO 23-10-19 07:03:02.2019 UTC kernel.cc:1075] Use fast generic engine\n"
     ]
    },
    {
     "name": "stdout",
     "output_type": "stream",
     "text": [
      "i; 28\n"
     ]
    },
    {
     "name": "stderr",
     "output_type": "stream",
     "text": [
      "[WARNING 23-10-19 07:03:02.5758 UTC gradient_boosted_trees.cc:1818] \"goss_alpha\" set but \"sampling_method\" not equal to \"GOSS\".\n",
      "[WARNING 23-10-19 07:03:02.5759 UTC gradient_boosted_trees.cc:1829] \"goss_beta\" set but \"sampling_method\" not equal to \"GOSS\".\n",
      "[WARNING 23-10-19 07:03:02.5759 UTC gradient_boosted_trees.cc:1843] \"selective_gradient_boosting_ratio\" set but \"sampling_method\" not equal to \"SELGB\".\n",
      "[INFO 23-10-19 07:03:03.0229 UTC kernel.cc:1243] Loading model from path /tmp/tmp524kpqow/model/ with prefix c44f6f02ce014673\n",
      "[INFO 23-10-19 07:03:03.0261 UTC kernel.cc:1075] Use fast generic engine\n"
     ]
    },
    {
     "name": "stdout",
     "output_type": "stream",
     "text": [
      "i; 29\n"
     ]
    },
    {
     "name": "stderr",
     "output_type": "stream",
     "text": [
      "[WARNING 23-10-19 07:03:03.4069 UTC gradient_boosted_trees.cc:1818] \"goss_alpha\" set but \"sampling_method\" not equal to \"GOSS\".\n",
      "[WARNING 23-10-19 07:03:03.4069 UTC gradient_boosted_trees.cc:1829] \"goss_beta\" set but \"sampling_method\" not equal to \"GOSS\".\n",
      "[WARNING 23-10-19 07:03:03.4070 UTC gradient_boosted_trees.cc:1843] \"selective_gradient_boosting_ratio\" set but \"sampling_method\" not equal to \"SELGB\".\n",
      "[INFO 23-10-19 07:03:03.9761 UTC kernel.cc:1243] Loading model from path /tmp/tmprbcqfxca/model/ with prefix 667a95867a1545dd\n",
      "[INFO 23-10-19 07:03:03.9844 UTC kernel.cc:1075] Use fast generic engine\n"
     ]
    },
    {
     "name": "stdout",
     "output_type": "stream",
     "text": [
      "i; 30\n"
     ]
    },
    {
     "name": "stderr",
     "output_type": "stream",
     "text": [
      "[WARNING 23-10-19 07:03:04.3589 UTC gradient_boosted_trees.cc:1818] \"goss_alpha\" set but \"sampling_method\" not equal to \"GOSS\".\n",
      "[WARNING 23-10-19 07:03:04.3589 UTC gradient_boosted_trees.cc:1829] \"goss_beta\" set but \"sampling_method\" not equal to \"GOSS\".\n",
      "[WARNING 23-10-19 07:03:04.3589 UTC gradient_boosted_trees.cc:1843] \"selective_gradient_boosting_ratio\" set but \"sampling_method\" not equal to \"SELGB\".\n",
      "[INFO 23-10-19 07:03:05.4003 UTC kernel.cc:1243] Loading model from path /tmp/tmprta921qm/model/ with prefix a5e0614b6bb6425a\n",
      "[INFO 23-10-19 07:03:05.4103 UTC kernel.cc:1075] Use fast generic engine\n"
     ]
    },
    {
     "name": "stdout",
     "output_type": "stream",
     "text": [
      "i; 31\n"
     ]
    },
    {
     "name": "stderr",
     "output_type": "stream",
     "text": [
      "[WARNING 23-10-19 07:03:05.8147 UTC gradient_boosted_trees.cc:1818] \"goss_alpha\" set but \"sampling_method\" not equal to \"GOSS\".\n",
      "[WARNING 23-10-19 07:03:05.8147 UTC gradient_boosted_trees.cc:1829] \"goss_beta\" set but \"sampling_method\" not equal to \"GOSS\".\n",
      "[WARNING 23-10-19 07:03:05.8147 UTC gradient_boosted_trees.cc:1843] \"selective_gradient_boosting_ratio\" set but \"sampling_method\" not equal to \"SELGB\".\n",
      "[INFO 23-10-19 07:03:06.6279 UTC kernel.cc:1243] Loading model from path /tmp/tmpcrvw_95l/model/ with prefix 0d61125c4a8e475a\n",
      "[INFO 23-10-19 07:03:06.6455 UTC abstract_model.cc:1311] Engine \"GradientBoostedTreesQuickScorerExtended\" built\n",
      "[INFO 23-10-19 07:03:06.6455 UTC kernel.cc:1075] Use fast generic engine\n"
     ]
    },
    {
     "name": "stdout",
     "output_type": "stream",
     "text": [
      "i; 32\n"
     ]
    },
    {
     "name": "stderr",
     "output_type": "stream",
     "text": [
      "[WARNING 23-10-19 07:03:07.4699 UTC gradient_boosted_trees.cc:1818] \"goss_alpha\" set but \"sampling_method\" not equal to \"GOSS\".\n",
      "[WARNING 23-10-19 07:03:07.4699 UTC gradient_boosted_trees.cc:1829] \"goss_beta\" set but \"sampling_method\" not equal to \"GOSS\".\n",
      "[WARNING 23-10-19 07:03:07.4699 UTC gradient_boosted_trees.cc:1843] \"selective_gradient_boosting_ratio\" set but \"sampling_method\" not equal to \"SELGB\".\n",
      "[INFO 23-10-19 07:03:08.0153 UTC kernel.cc:1243] Loading model from path /tmp/tmpmpnhizg8/model/ with prefix 498e7f577bfe4b1f\n",
      "[INFO 23-10-19 07:03:08.0224 UTC kernel.cc:1075] Use fast generic engine\n"
     ]
    },
    {
     "name": "stdout",
     "output_type": "stream",
     "text": [
      "i; 33\n"
     ]
    },
    {
     "name": "stderr",
     "output_type": "stream",
     "text": [
      "[WARNING 23-10-19 07:03:08.4274 UTC gradient_boosted_trees.cc:1818] \"goss_alpha\" set but \"sampling_method\" not equal to \"GOSS\".\n",
      "[WARNING 23-10-19 07:03:08.4275 UTC gradient_boosted_trees.cc:1829] \"goss_beta\" set but \"sampling_method\" not equal to \"GOSS\".\n",
      "[WARNING 23-10-19 07:03:08.4275 UTC gradient_boosted_trees.cc:1843] \"selective_gradient_boosting_ratio\" set but \"sampling_method\" not equal to \"SELGB\".\n",
      "[INFO 23-10-19 07:03:08.9573 UTC kernel.cc:1243] Loading model from path /tmp/tmpszzlvmgb/model/ with prefix cfd16133105741b3\n",
      "[INFO 23-10-19 07:03:08.9633 UTC kernel.cc:1075] Use fast generic engine\n"
     ]
    },
    {
     "name": "stdout",
     "output_type": "stream",
     "text": [
      "i; 34\n"
     ]
    },
    {
     "name": "stderr",
     "output_type": "stream",
     "text": [
      "[WARNING 23-10-19 07:03:09.3427 UTC gradient_boosted_trees.cc:1818] \"goss_alpha\" set but \"sampling_method\" not equal to \"GOSS\".\n",
      "[WARNING 23-10-19 07:03:09.3428 UTC gradient_boosted_trees.cc:1829] \"goss_beta\" set but \"sampling_method\" not equal to \"GOSS\".\n",
      "[WARNING 23-10-19 07:03:09.3428 UTC gradient_boosted_trees.cc:1843] \"selective_gradient_boosting_ratio\" set but \"sampling_method\" not equal to \"SELGB\".\n",
      "[INFO 23-10-19 07:03:10.1086 UTC kernel.cc:1243] Loading model from path /tmp/tmp3trtzc3y/model/ with prefix 7fd811a21f26462a\n",
      "[INFO 23-10-19 07:03:10.1223 UTC kernel.cc:1075] Use fast generic engine\n"
     ]
    },
    {
     "name": "stdout",
     "output_type": "stream",
     "text": [
      "i; 35\n"
     ]
    },
    {
     "name": "stderr",
     "output_type": "stream",
     "text": [
      "[WARNING 23-10-19 07:03:10.5098 UTC gradient_boosted_trees.cc:1818] \"goss_alpha\" set but \"sampling_method\" not equal to \"GOSS\".\n",
      "[WARNING 23-10-19 07:03:10.5098 UTC gradient_boosted_trees.cc:1829] \"goss_beta\" set but \"sampling_method\" not equal to \"GOSS\".\n",
      "[WARNING 23-10-19 07:03:10.5099 UTC gradient_boosted_trees.cc:1843] \"selective_gradient_boosting_ratio\" set but \"sampling_method\" not equal to \"SELGB\".\n",
      "[INFO 23-10-19 07:03:11.0285 UTC kernel.cc:1243] Loading model from path /tmp/tmpelr6es75/model/ with prefix f78d32e5c7f04d9d\n",
      "[INFO 23-10-19 07:03:11.0348 UTC kernel.cc:1075] Use fast generic engine\n"
     ]
    },
    {
     "name": "stdout",
     "output_type": "stream",
     "text": [
      "i; 36\n"
     ]
    },
    {
     "name": "stderr",
     "output_type": "stream",
     "text": [
      "[WARNING 23-10-19 07:03:11.5101 UTC gradient_boosted_trees.cc:1818] \"goss_alpha\" set but \"sampling_method\" not equal to \"GOSS\".\n",
      "[WARNING 23-10-19 07:03:11.5101 UTC gradient_boosted_trees.cc:1829] \"goss_beta\" set but \"sampling_method\" not equal to \"GOSS\".\n",
      "[WARNING 23-10-19 07:03:11.5101 UTC gradient_boosted_trees.cc:1843] \"selective_gradient_boosting_ratio\" set but \"sampling_method\" not equal to \"SELGB\".\n",
      "[INFO 23-10-19 07:03:11.9535 UTC kernel.cc:1243] Loading model from path /tmp/tmp8liqye73/model/ with prefix 31976d7ad4c94836\n",
      "[INFO 23-10-19 07:03:11.9564 UTC kernel.cc:1075] Use fast generic engine\n"
     ]
    },
    {
     "name": "stdout",
     "output_type": "stream",
     "text": [
      "i; 37\n"
     ]
    },
    {
     "name": "stderr",
     "output_type": "stream",
     "text": [
      "[WARNING 23-10-19 07:03:12.5072 UTC gradient_boosted_trees.cc:1818] \"goss_alpha\" set but \"sampling_method\" not equal to \"GOSS\".\n",
      "[WARNING 23-10-19 07:03:12.5072 UTC gradient_boosted_trees.cc:1829] \"goss_beta\" set but \"sampling_method\" not equal to \"GOSS\".\n",
      "[WARNING 23-10-19 07:03:12.5072 UTC gradient_boosted_trees.cc:1843] \"selective_gradient_boosting_ratio\" set but \"sampling_method\" not equal to \"SELGB\".\n",
      "[INFO 23-10-19 07:03:12.9703 UTC kernel.cc:1243] Loading model from path /tmp/tmp9bv7p9_r/model/ with prefix 41bed313c83844e9\n",
      "[INFO 23-10-19 07:03:12.9743 UTC kernel.cc:1075] Use fast generic engine\n"
     ]
    },
    {
     "name": "stdout",
     "output_type": "stream",
     "text": [
      "i; 38\n"
     ]
    },
    {
     "name": "stderr",
     "output_type": "stream",
     "text": [
      "[WARNING 23-10-19 07:03:13.4982 UTC gradient_boosted_trees.cc:1818] \"goss_alpha\" set but \"sampling_method\" not equal to \"GOSS\".\n",
      "[WARNING 23-10-19 07:03:13.4982 UTC gradient_boosted_trees.cc:1829] \"goss_beta\" set but \"sampling_method\" not equal to \"GOSS\".\n",
      "[WARNING 23-10-19 07:03:13.4983 UTC gradient_boosted_trees.cc:1843] \"selective_gradient_boosting_ratio\" set but \"sampling_method\" not equal to \"SELGB\".\n",
      "[INFO 23-10-19 07:03:14.0792 UTC kernel.cc:1243] Loading model from path /tmp/tmp0jw3pxac/model/ with prefix cb11378a44a14dc4\n",
      "[INFO 23-10-19 07:03:14.0877 UTC kernel.cc:1075] Use fast generic engine\n"
     ]
    },
    {
     "name": "stdout",
     "output_type": "stream",
     "text": [
      "i; 39\n"
     ]
    },
    {
     "name": "stderr",
     "output_type": "stream",
     "text": [
      "[WARNING 23-10-19 07:03:14.4719 UTC gradient_boosted_trees.cc:1818] \"goss_alpha\" set but \"sampling_method\" not equal to \"GOSS\".\n",
      "[WARNING 23-10-19 07:03:14.4720 UTC gradient_boosted_trees.cc:1829] \"goss_beta\" set but \"sampling_method\" not equal to \"GOSS\".\n",
      "[WARNING 23-10-19 07:03:14.4720 UTC gradient_boosted_trees.cc:1843] \"selective_gradient_boosting_ratio\" set but \"sampling_method\" not equal to \"SELGB\".\n",
      "[INFO 23-10-19 07:03:15.0198 UTC kernel.cc:1243] Loading model from path /tmp/tmpeqw49954/model/ with prefix 754c1d22808e48bf\n",
      "[INFO 23-10-19 07:03:15.0272 UTC kernel.cc:1075] Use fast generic engine\n"
     ]
    },
    {
     "name": "stdout",
     "output_type": "stream",
     "text": [
      "i; 40\n"
     ]
    },
    {
     "name": "stderr",
     "output_type": "stream",
     "text": [
      "[WARNING 23-10-19 07:03:15.4659 UTC gradient_boosted_trees.cc:1818] \"goss_alpha\" set but \"sampling_method\" not equal to \"GOSS\".\n",
      "[WARNING 23-10-19 07:03:15.4659 UTC gradient_boosted_trees.cc:1829] \"goss_beta\" set but \"sampling_method\" not equal to \"GOSS\".\n",
      "[WARNING 23-10-19 07:03:15.4659 UTC gradient_boosted_trees.cc:1843] \"selective_gradient_boosting_ratio\" set but \"sampling_method\" not equal to \"SELGB\".\n",
      "[INFO 23-10-19 07:03:15.9380 UTC kernel.cc:1243] Loading model from path /tmp/tmpt9gd24u8/model/ with prefix cbc753680dc74bc1\n",
      "[INFO 23-10-19 07:03:15.9422 UTC kernel.cc:1075] Use fast generic engine\n"
     ]
    },
    {
     "name": "stdout",
     "output_type": "stream",
     "text": [
      "i; 41\n"
     ]
    },
    {
     "name": "stderr",
     "output_type": "stream",
     "text": [
      "[WARNING 23-10-19 07:03:16.4680 UTC gradient_boosted_trees.cc:1818] \"goss_alpha\" set but \"sampling_method\" not equal to \"GOSS\".\n",
      "[WARNING 23-10-19 07:03:16.4681 UTC gradient_boosted_trees.cc:1829] \"goss_beta\" set but \"sampling_method\" not equal to \"GOSS\".\n",
      "[WARNING 23-10-19 07:03:16.4681 UTC gradient_boosted_trees.cc:1843] \"selective_gradient_boosting_ratio\" set but \"sampling_method\" not equal to \"SELGB\".\n",
      "[INFO 23-10-19 07:03:17.0605 UTC kernel.cc:1243] Loading model from path /tmp/tmpmif9tf08/model/ with prefix 485cd0137be24d60\n",
      "[INFO 23-10-19 07:03:17.0692 UTC abstract_model.cc:1311] Engine \"GradientBoostedTreesQuickScorerExtended\" built\n",
      "[INFO 23-10-19 07:03:17.0692 UTC kernel.cc:1075] Use fast generic engine\n"
     ]
    },
    {
     "name": "stdout",
     "output_type": "stream",
     "text": [
      "i; 42\n"
     ]
    },
    {
     "name": "stderr",
     "output_type": "stream",
     "text": [
      "[WARNING 23-10-19 07:03:17.4589 UTC gradient_boosted_trees.cc:1818] \"goss_alpha\" set but \"sampling_method\" not equal to \"GOSS\".\n",
      "[WARNING 23-10-19 07:03:17.4589 UTC gradient_boosted_trees.cc:1829] \"goss_beta\" set but \"sampling_method\" not equal to \"GOSS\".\n",
      "[WARNING 23-10-19 07:03:17.4589 UTC gradient_boosted_trees.cc:1843] \"selective_gradient_boosting_ratio\" set but \"sampling_method\" not equal to \"SELGB\".\n",
      "[INFO 23-10-19 07:03:17.9359 UTC kernel.cc:1243] Loading model from path /tmp/tmp2fkad3t9/model/ with prefix 9a67a13929bc46f3\n",
      "[INFO 23-10-19 07:03:17.9403 UTC kernel.cc:1075] Use fast generic engine\n"
     ]
    },
    {
     "name": "stdout",
     "output_type": "stream",
     "text": [
      "i; 43\n"
     ]
    },
    {
     "name": "stderr",
     "output_type": "stream",
     "text": [
      "[WARNING 23-10-19 07:03:18.3302 UTC gradient_boosted_trees.cc:1818] \"goss_alpha\" set but \"sampling_method\" not equal to \"GOSS\".\n",
      "[WARNING 23-10-19 07:03:18.3302 UTC gradient_boosted_trees.cc:1829] \"goss_beta\" set but \"sampling_method\" not equal to \"GOSS\".\n",
      "[WARNING 23-10-19 07:03:18.3302 UTC gradient_boosted_trees.cc:1843] \"selective_gradient_boosting_ratio\" set but \"sampling_method\" not equal to \"SELGB\".\n",
      "[INFO 23-10-19 07:03:18.8198 UTC kernel.cc:1243] Loading model from path /tmp/tmpuw03_j0r/model/ with prefix 98ac111807bd4e9d\n",
      "[INFO 23-10-19 07:03:18.8247 UTC kernel.cc:1075] Use fast generic engine\n"
     ]
    },
    {
     "name": "stdout",
     "output_type": "stream",
     "text": [
      "i; 44\n"
     ]
    },
    {
     "name": "stderr",
     "output_type": "stream",
     "text": [
      "[WARNING 23-10-19 07:03:19.1998 UTC gradient_boosted_trees.cc:1818] \"goss_alpha\" set but \"sampling_method\" not equal to \"GOSS\".\n",
      "[WARNING 23-10-19 07:03:19.1999 UTC gradient_boosted_trees.cc:1829] \"goss_beta\" set but \"sampling_method\" not equal to \"GOSS\".\n",
      "[WARNING 23-10-19 07:03:19.1999 UTC gradient_boosted_trees.cc:1843] \"selective_gradient_boosting_ratio\" set but \"sampling_method\" not equal to \"SELGB\".\n",
      "[INFO 23-10-19 07:03:19.7242 UTC kernel.cc:1243] Loading model from path /tmp/tmp7dbkrsxe/model/ with prefix ed13144b84ce46ba\n",
      "[INFO 23-10-19 07:03:19.7296 UTC kernel.cc:1075] Use fast generic engine\n"
     ]
    },
    {
     "name": "stdout",
     "output_type": "stream",
     "text": [
      "i; 45\n"
     ]
    },
    {
     "name": "stderr",
     "output_type": "stream",
     "text": [
      "[WARNING 23-10-19 07:03:20.2092 UTC gradient_boosted_trees.cc:1818] \"goss_alpha\" set but \"sampling_method\" not equal to \"GOSS\".\n",
      "[WARNING 23-10-19 07:03:20.2092 UTC gradient_boosted_trees.cc:1829] \"goss_beta\" set but \"sampling_method\" not equal to \"GOSS\".\n",
      "[WARNING 23-10-19 07:03:20.2092 UTC gradient_boosted_trees.cc:1843] \"selective_gradient_boosting_ratio\" set but \"sampling_method\" not equal to \"SELGB\".\n",
      "[INFO 23-10-19 07:03:20.7193 UTC kernel.cc:1243] Loading model from path /tmp/tmp2e6asa2_/model/ with prefix c42779b84c5449a4\n",
      "[INFO 23-10-19 07:03:20.7256 UTC kernel.cc:1075] Use fast generic engine\n"
     ]
    },
    {
     "name": "stdout",
     "output_type": "stream",
     "text": [
      "i; 46\n"
     ]
    },
    {
     "name": "stderr",
     "output_type": "stream",
     "text": [
      "[WARNING 23-10-19 07:03:21.1045 UTC gradient_boosted_trees.cc:1818] \"goss_alpha\" set but \"sampling_method\" not equal to \"GOSS\".\n",
      "[WARNING 23-10-19 07:03:21.1046 UTC gradient_boosted_trees.cc:1829] \"goss_beta\" set but \"sampling_method\" not equal to \"GOSS\".\n",
      "[WARNING 23-10-19 07:03:21.1046 UTC gradient_boosted_trees.cc:1843] \"selective_gradient_boosting_ratio\" set but \"sampling_method\" not equal to \"SELGB\".\n",
      "[INFO 23-10-19 07:03:21.7636 UTC kernel.cc:1243] Loading model from path /tmp/tmpzwrelsks/model/ with prefix e53fec8dbcef4900\n",
      "[INFO 23-10-19 07:03:21.7753 UTC kernel.cc:1075] Use fast generic engine\n"
     ]
    },
    {
     "name": "stdout",
     "output_type": "stream",
     "text": [
      "i; 47\n"
     ]
    },
    {
     "name": "stderr",
     "output_type": "stream",
     "text": [
      "[WARNING 23-10-19 07:03:22.7410 UTC gradient_boosted_trees.cc:1818] \"goss_alpha\" set but \"sampling_method\" not equal to \"GOSS\".\n",
      "[WARNING 23-10-19 07:03:22.7410 UTC gradient_boosted_trees.cc:1829] \"goss_beta\" set but \"sampling_method\" not equal to \"GOSS\".\n",
      "[WARNING 23-10-19 07:03:22.7410 UTC gradient_boosted_trees.cc:1843] \"selective_gradient_boosting_ratio\" set but \"sampling_method\" not equal to \"SELGB\".\n",
      "[INFO 23-10-19 07:03:23.3221 UTC kernel.cc:1243] Loading model from path /tmp/tmpvg714yo6/model/ with prefix e4a79323531a4ae0\n",
      "[INFO 23-10-19 07:03:23.3304 UTC kernel.cc:1075] Use fast generic engine\n"
     ]
    },
    {
     "name": "stdout",
     "output_type": "stream",
     "text": [
      "i; 48\n"
     ]
    },
    {
     "name": "stderr",
     "output_type": "stream",
     "text": [
      "[WARNING 23-10-19 07:03:23.7157 UTC gradient_boosted_trees.cc:1818] \"goss_alpha\" set but \"sampling_method\" not equal to \"GOSS\".\n",
      "[WARNING 23-10-19 07:03:23.7158 UTC gradient_boosted_trees.cc:1829] \"goss_beta\" set but \"sampling_method\" not equal to \"GOSS\".\n",
      "[WARNING 23-10-19 07:03:23.7158 UTC gradient_boosted_trees.cc:1843] \"selective_gradient_boosting_ratio\" set but \"sampling_method\" not equal to \"SELGB\".\n",
      "[INFO 23-10-19 07:03:24.1987 UTC kernel.cc:1243] Loading model from path /tmp/tmpwx1zfcec/model/ with prefix eab525aa548247b8\n",
      "[INFO 23-10-19 07:03:24.2033 UTC kernel.cc:1075] Use fast generic engine\n"
     ]
    },
    {
     "name": "stdout",
     "output_type": "stream",
     "text": [
      "i; 49\n"
     ]
    },
    {
     "name": "stderr",
     "output_type": "stream",
     "text": [
      "[WARNING 23-10-19 07:03:24.6032 UTC gradient_boosted_trees.cc:1818] \"goss_alpha\" set but \"sampling_method\" not equal to \"GOSS\".\n",
      "[WARNING 23-10-19 07:03:24.6032 UTC gradient_boosted_trees.cc:1829] \"goss_beta\" set but \"sampling_method\" not equal to \"GOSS\".\n",
      "[WARNING 23-10-19 07:03:24.6032 UTC gradient_boosted_trees.cc:1843] \"selective_gradient_boosting_ratio\" set but \"sampling_method\" not equal to \"SELGB\".\n",
      "[INFO 23-10-19 07:03:25.1931 UTC kernel.cc:1243] Loading model from path /tmp/tmpzvkujoz7/model/ with prefix 9afe7c94167644a5\n",
      "[INFO 23-10-19 07:03:25.2015 UTC kernel.cc:1075] Use fast generic engine\n"
     ]
    },
    {
     "name": "stdout",
     "output_type": "stream",
     "text": [
      "i; 50\n"
     ]
    },
    {
     "name": "stderr",
     "output_type": "stream",
     "text": [
      "[WARNING 23-10-19 07:03:25.6194 UTC gradient_boosted_trees.cc:1818] \"goss_alpha\" set but \"sampling_method\" not equal to \"GOSS\".\n",
      "[WARNING 23-10-19 07:03:25.6194 UTC gradient_boosted_trees.cc:1829] \"goss_beta\" set but \"sampling_method\" not equal to \"GOSS\".\n",
      "[WARNING 23-10-19 07:03:25.6195 UTC gradient_boosted_trees.cc:1843] \"selective_gradient_boosting_ratio\" set but \"sampling_method\" not equal to \"SELGB\".\n",
      "[INFO 23-10-19 07:03:26.3295 UTC kernel.cc:1243] Loading model from path /tmp/tmp9a5cb3oh/model/ with prefix e1ba20617fe8421a\n",
      "[INFO 23-10-19 07:03:26.3405 UTC kernel.cc:1075] Use fast generic engine\n"
     ]
    },
    {
     "name": "stdout",
     "output_type": "stream",
     "text": [
      "i; 51\n"
     ]
    },
    {
     "name": "stderr",
     "output_type": "stream",
     "text": [
      "[WARNING 23-10-19 07:03:26.7368 UTC gradient_boosted_trees.cc:1818] \"goss_alpha\" set but \"sampling_method\" not equal to \"GOSS\".\n",
      "[WARNING 23-10-19 07:03:26.7368 UTC gradient_boosted_trees.cc:1829] \"goss_beta\" set but \"sampling_method\" not equal to \"GOSS\".\n",
      "[WARNING 23-10-19 07:03:26.7368 UTC gradient_boosted_trees.cc:1843] \"selective_gradient_boosting_ratio\" set but \"sampling_method\" not equal to \"SELGB\".\n",
      "[INFO 23-10-19 07:03:27.4641 UTC kernel.cc:1243] Loading model from path /tmp/tmpui2kon65/model/ with prefix 33730e91e37846ca\n",
      "[INFO 23-10-19 07:03:27.4779 UTC abstract_model.cc:1311] Engine \"GradientBoostedTreesQuickScorerExtended\" built\n",
      "[INFO 23-10-19 07:03:27.4779 UTC kernel.cc:1075] Use fast generic engine\n"
     ]
    },
    {
     "name": "stdout",
     "output_type": "stream",
     "text": [
      "i; 52\n"
     ]
    },
    {
     "name": "stderr",
     "output_type": "stream",
     "text": [
      "[WARNING 23-10-19 07:03:27.8716 UTC gradient_boosted_trees.cc:1818] \"goss_alpha\" set but \"sampling_method\" not equal to \"GOSS\".\n",
      "[WARNING 23-10-19 07:03:27.8717 UTC gradient_boosted_trees.cc:1829] \"goss_beta\" set but \"sampling_method\" not equal to \"GOSS\".\n",
      "[WARNING 23-10-19 07:03:27.8717 UTC gradient_boosted_trees.cc:1843] \"selective_gradient_boosting_ratio\" set but \"sampling_method\" not equal to \"SELGB\".\n",
      "[INFO 23-10-19 07:03:28.3564 UTC kernel.cc:1243] Loading model from path /tmp/tmp1zno0jz5/model/ with prefix bb65cf37f62b46a7\n",
      "[INFO 23-10-19 07:03:28.3609 UTC kernel.cc:1075] Use fast generic engine\n"
     ]
    },
    {
     "name": "stdout",
     "output_type": "stream",
     "text": [
      "i; 53\n"
     ]
    },
    {
     "name": "stderr",
     "output_type": "stream",
     "text": [
      "[WARNING 23-10-19 07:03:28.7391 UTC gradient_boosted_trees.cc:1818] \"goss_alpha\" set but \"sampling_method\" not equal to \"GOSS\".\n",
      "[WARNING 23-10-19 07:03:28.7392 UTC gradient_boosted_trees.cc:1829] \"goss_beta\" set but \"sampling_method\" not equal to \"GOSS\".\n",
      "[WARNING 23-10-19 07:03:28.7392 UTC gradient_boosted_trees.cc:1843] \"selective_gradient_boosting_ratio\" set but \"sampling_method\" not equal to \"SELGB\".\n",
      "[INFO 23-10-19 07:03:29.3767 UTC kernel.cc:1243] Loading model from path /tmp/tmpfgl6kid_/model/ with prefix b9297505b6494df1\n",
      "[INFO 23-10-19 07:03:29.3881 UTC kernel.cc:1075] Use fast generic engine\n"
     ]
    },
    {
     "name": "stdout",
     "output_type": "stream",
     "text": [
      "i; 54\n"
     ]
    },
    {
     "name": "stderr",
     "output_type": "stream",
     "text": [
      "[WARNING 23-10-19 07:03:30.3821 UTC gradient_boosted_trees.cc:1818] \"goss_alpha\" set but \"sampling_method\" not equal to \"GOSS\".\n",
      "[WARNING 23-10-19 07:03:30.3822 UTC gradient_boosted_trees.cc:1829] \"goss_beta\" set but \"sampling_method\" not equal to \"GOSS\".\n",
      "[WARNING 23-10-19 07:03:30.3822 UTC gradient_boosted_trees.cc:1843] \"selective_gradient_boosting_ratio\" set but \"sampling_method\" not equal to \"SELGB\".\n",
      "[INFO 23-10-19 07:03:31.4387 UTC kernel.cc:1243] Loading model from path /tmp/tmpyf5zq9lb/model/ with prefix f543e878cfbd4cbc\n",
      "[INFO 23-10-19 07:03:31.4465 UTC kernel.cc:1075] Use fast generic engine\n"
     ]
    },
    {
     "name": "stdout",
     "output_type": "stream",
     "text": [
      "i; 55\n"
     ]
    },
    {
     "name": "stderr",
     "output_type": "stream",
     "text": [
      "[WARNING 23-10-19 07:03:31.8482 UTC gradient_boosted_trees.cc:1818] \"goss_alpha\" set but \"sampling_method\" not equal to \"GOSS\".\n",
      "[WARNING 23-10-19 07:03:31.8482 UTC gradient_boosted_trees.cc:1829] \"goss_beta\" set but \"sampling_method\" not equal to \"GOSS\".\n",
      "[WARNING 23-10-19 07:03:31.8483 UTC gradient_boosted_trees.cc:1843] \"selective_gradient_boosting_ratio\" set but \"sampling_method\" not equal to \"SELGB\".\n",
      "[INFO 23-10-19 07:03:32.3908 UTC kernel.cc:1243] Loading model from path /tmp/tmpfzmd087p/model/ with prefix 60e626928e554c7b\n",
      "[INFO 23-10-19 07:03:32.3979 UTC kernel.cc:1075] Use fast generic engine\n"
     ]
    },
    {
     "name": "stdout",
     "output_type": "stream",
     "text": [
      "i; 56\n"
     ]
    },
    {
     "name": "stderr",
     "output_type": "stream",
     "text": [
      "[WARNING 23-10-19 07:03:32.7914 UTC gradient_boosted_trees.cc:1818] \"goss_alpha\" set but \"sampling_method\" not equal to \"GOSS\".\n",
      "[WARNING 23-10-19 07:03:32.7915 UTC gradient_boosted_trees.cc:1829] \"goss_beta\" set but \"sampling_method\" not equal to \"GOSS\".\n",
      "[WARNING 23-10-19 07:03:32.7915 UTC gradient_boosted_trees.cc:1843] \"selective_gradient_boosting_ratio\" set but \"sampling_method\" not equal to \"SELGB\".\n",
      "[INFO 23-10-19 07:03:33.5444 UTC kernel.cc:1243] Loading model from path /tmp/tmpk9g8xviu/model/ with prefix b08a520f05a04d28\n",
      "[INFO 23-10-19 07:03:33.5604 UTC kernel.cc:1075] Use fast generic engine\n"
     ]
    },
    {
     "name": "stdout",
     "output_type": "stream",
     "text": [
      "i; 57\n"
     ]
    },
    {
     "name": "stderr",
     "output_type": "stream",
     "text": [
      "[WARNING 23-10-19 07:03:33.9465 UTC gradient_boosted_trees.cc:1818] \"goss_alpha\" set but \"sampling_method\" not equal to \"GOSS\".\n",
      "[WARNING 23-10-19 07:03:33.9466 UTC gradient_boosted_trees.cc:1829] \"goss_beta\" set but \"sampling_method\" not equal to \"GOSS\".\n",
      "[WARNING 23-10-19 07:03:33.9466 UTC gradient_boosted_trees.cc:1843] \"selective_gradient_boosting_ratio\" set but \"sampling_method\" not equal to \"SELGB\".\n",
      "[INFO 23-10-19 07:03:34.4072 UTC kernel.cc:1243] Loading model from path /tmp/tmp5gsxd9s_/model/ with prefix c877f9a7f864468f\n",
      "[INFO 23-10-19 07:03:34.4110 UTC kernel.cc:1075] Use fast generic engine\n"
     ]
    },
    {
     "name": "stdout",
     "output_type": "stream",
     "text": [
      "i; 58\n"
     ]
    },
    {
     "name": "stderr",
     "output_type": "stream",
     "text": [
      "[WARNING 23-10-19 07:03:34.7932 UTC gradient_boosted_trees.cc:1818] \"goss_alpha\" set but \"sampling_method\" not equal to \"GOSS\".\n",
      "[WARNING 23-10-19 07:03:34.7933 UTC gradient_boosted_trees.cc:1829] \"goss_beta\" set but \"sampling_method\" not equal to \"GOSS\".\n",
      "[WARNING 23-10-19 07:03:34.7933 UTC gradient_boosted_trees.cc:1843] \"selective_gradient_boosting_ratio\" set but \"sampling_method\" not equal to \"SELGB\".\n",
      "[INFO 23-10-19 07:03:35.3944 UTC kernel.cc:1243] Loading model from path /tmp/tmpwakqqgc3/model/ with prefix bc3a8ed4fc744db2\n",
      "[INFO 23-10-19 07:03:35.4039 UTC kernel.cc:1075] Use fast generic engine\n"
     ]
    },
    {
     "name": "stdout",
     "output_type": "stream",
     "text": [
      "i; 59\n"
     ]
    },
    {
     "name": "stderr",
     "output_type": "stream",
     "text": [
      "[WARNING 23-10-19 07:03:35.7856 UTC gradient_boosted_trees.cc:1818] \"goss_alpha\" set but \"sampling_method\" not equal to \"GOSS\".\n",
      "[WARNING 23-10-19 07:03:35.7856 UTC gradient_boosted_trees.cc:1829] \"goss_beta\" set but \"sampling_method\" not equal to \"GOSS\".\n",
      "[WARNING 23-10-19 07:03:35.7856 UTC gradient_boosted_trees.cc:1843] \"selective_gradient_boosting_ratio\" set but \"sampling_method\" not equal to \"SELGB\".\n",
      "[INFO 23-10-19 07:03:36.5141 UTC kernel.cc:1243] Loading model from path /tmp/tmpydc39gf7/model/ with prefix ed67f98a34bb4e23\n",
      "[INFO 23-10-19 07:03:36.5293 UTC kernel.cc:1075] Use fast generic engine\n"
     ]
    },
    {
     "name": "stdout",
     "output_type": "stream",
     "text": [
      "i; 60\n"
     ]
    },
    {
     "name": "stderr",
     "output_type": "stream",
     "text": [
      "[WARNING 23-10-19 07:03:36.9069 UTC gradient_boosted_trees.cc:1818] \"goss_alpha\" set but \"sampling_method\" not equal to \"GOSS\".\n",
      "[WARNING 23-10-19 07:03:36.9069 UTC gradient_boosted_trees.cc:1829] \"goss_beta\" set but \"sampling_method\" not equal to \"GOSS\".\n",
      "[WARNING 23-10-19 07:03:36.9069 UTC gradient_boosted_trees.cc:1843] \"selective_gradient_boosting_ratio\" set but \"sampling_method\" not equal to \"SELGB\".\n",
      "[INFO 23-10-19 07:03:37.4092 UTC kernel.cc:1243] Loading model from path /tmp/tmpx965_9rw/model/ with prefix e779f5acb884415c\n",
      "[INFO 23-10-19 07:03:37.4148 UTC kernel.cc:1075] Use fast generic engine\n"
     ]
    },
    {
     "name": "stdout",
     "output_type": "stream",
     "text": [
      "i; 61\n"
     ]
    },
    {
     "name": "stderr",
     "output_type": "stream",
     "text": [
      "[WARNING 23-10-19 07:03:37.7909 UTC gradient_boosted_trees.cc:1818] \"goss_alpha\" set but \"sampling_method\" not equal to \"GOSS\".\n",
      "[WARNING 23-10-19 07:03:37.7910 UTC gradient_boosted_trees.cc:1829] \"goss_beta\" set but \"sampling_method\" not equal to \"GOSS\".\n",
      "[WARNING 23-10-19 07:03:37.7910 UTC gradient_boosted_trees.cc:1843] \"selective_gradient_boosting_ratio\" set but \"sampling_method\" not equal to \"SELGB\".\n",
      "[INFO 23-10-19 07:03:38.2777 UTC kernel.cc:1243] Loading model from path /tmp/tmpuu2eii0v/model/ with prefix 2c4a805287524fa6\n",
      "[INFO 23-10-19 07:03:38.2825 UTC abstract_model.cc:1311] Engine \"GradientBoostedTreesQuickScorerExtended\" built\n",
      "[INFO 23-10-19 07:03:38.2826 UTC kernel.cc:1075] Use fast generic engine\n"
     ]
    },
    {
     "name": "stdout",
     "output_type": "stream",
     "text": [
      "i; 62\n"
     ]
    },
    {
     "name": "stderr",
     "output_type": "stream",
     "text": [
      "[WARNING 23-10-19 07:03:38.6539 UTC gradient_boosted_trees.cc:1818] \"goss_alpha\" set but \"sampling_method\" not equal to \"GOSS\".\n",
      "[WARNING 23-10-19 07:03:38.6539 UTC gradient_boosted_trees.cc:1829] \"goss_beta\" set but \"sampling_method\" not equal to \"GOSS\".\n",
      "[WARNING 23-10-19 07:03:38.6539 UTC gradient_boosted_trees.cc:1843] \"selective_gradient_boosting_ratio\" set but \"sampling_method\" not equal to \"SELGB\".\n",
      "[INFO 23-10-19 07:03:39.1757 UTC kernel.cc:1243] Loading model from path /tmp/tmpc_legvux/model/ with prefix 4558a482008849a4\n",
      "[INFO 23-10-19 07:03:39.1821 UTC kernel.cc:1075] Use fast generic engine\n"
     ]
    },
    {
     "name": "stdout",
     "output_type": "stream",
     "text": [
      "i; 63\n"
     ]
    },
    {
     "name": "stderr",
     "output_type": "stream",
     "text": [
      "[WARNING 23-10-19 07:03:39.5625 UTC gradient_boosted_trees.cc:1818] \"goss_alpha\" set but \"sampling_method\" not equal to \"GOSS\".\n",
      "[WARNING 23-10-19 07:03:39.5625 UTC gradient_boosted_trees.cc:1829] \"goss_beta\" set but \"sampling_method\" not equal to \"GOSS\".\n",
      "[WARNING 23-10-19 07:03:39.5625 UTC gradient_boosted_trees.cc:1843] \"selective_gradient_boosting_ratio\" set but \"sampling_method\" not equal to \"SELGB\".\n",
      "[INFO 23-10-19 07:03:40.1393 UTC kernel.cc:1243] Loading model from path /tmp/tmp0vxr34ul/model/ with prefix b50867abf1e846c8\n",
      "[INFO 23-10-19 07:03:40.1462 UTC kernel.cc:1075] Use fast generic engine\n"
     ]
    },
    {
     "name": "stdout",
     "output_type": "stream",
     "text": [
      "i; 64\n"
     ]
    },
    {
     "name": "stderr",
     "output_type": "stream",
     "text": [
      "[WARNING 23-10-19 07:03:40.5265 UTC gradient_boosted_trees.cc:1818] \"goss_alpha\" set but \"sampling_method\" not equal to \"GOSS\".\n",
      "[WARNING 23-10-19 07:03:40.5265 UTC gradient_boosted_trees.cc:1829] \"goss_beta\" set but \"sampling_method\" not equal to \"GOSS\".\n",
      "[WARNING 23-10-19 07:03:40.5265 UTC gradient_boosted_trees.cc:1843] \"selective_gradient_boosting_ratio\" set but \"sampling_method\" not equal to \"SELGB\".\n",
      "[INFO 23-10-19 07:03:41.0216 UTC kernel.cc:1243] Loading model from path /tmp/tmpngc6nkhh/model/ with prefix d53fca1266bd41ea\n",
      "[INFO 23-10-19 07:03:41.0269 UTC kernel.cc:1075] Use fast generic engine\n"
     ]
    },
    {
     "name": "stdout",
     "output_type": "stream",
     "text": [
      "i; 65\n"
     ]
    },
    {
     "name": "stderr",
     "output_type": "stream",
     "text": [
      "[WARNING 23-10-19 07:03:41.5343 UTC gradient_boosted_trees.cc:1818] \"goss_alpha\" set but \"sampling_method\" not equal to \"GOSS\".\n",
      "[WARNING 23-10-19 07:03:41.5343 UTC gradient_boosted_trees.cc:1829] \"goss_beta\" set but \"sampling_method\" not equal to \"GOSS\".\n",
      "[WARNING 23-10-19 07:03:41.5344 UTC gradient_boosted_trees.cc:1843] \"selective_gradient_boosting_ratio\" set but \"sampling_method\" not equal to \"SELGB\".\n",
      "[INFO 23-10-19 07:03:42.0080 UTC kernel.cc:1243] Loading model from path /tmp/tmpa_aj8e3l/model/ with prefix 9708628a04854865\n",
      "[INFO 23-10-19 07:03:42.0120 UTC kernel.cc:1075] Use fast generic engine\n"
     ]
    },
    {
     "name": "stdout",
     "output_type": "stream",
     "text": [
      "i; 66\n"
     ]
    },
    {
     "name": "stderr",
     "output_type": "stream",
     "text": [
      "[WARNING 23-10-19 07:03:42.3869 UTC gradient_boosted_trees.cc:1818] \"goss_alpha\" set but \"sampling_method\" not equal to \"GOSS\".\n",
      "[WARNING 23-10-19 07:03:42.3869 UTC gradient_boosted_trees.cc:1829] \"goss_beta\" set but \"sampling_method\" not equal to \"GOSS\".\n",
      "[WARNING 23-10-19 07:03:42.3869 UTC gradient_boosted_trees.cc:1843] \"selective_gradient_boosting_ratio\" set but \"sampling_method\" not equal to \"SELGB\".\n",
      "[INFO 23-10-19 07:03:42.8836 UTC kernel.cc:1243] Loading model from path /tmp/tmpexf5m88e/model/ with prefix 3a5a7b7d14454159\n",
      "[INFO 23-10-19 07:03:42.8888 UTC kernel.cc:1075] Use fast generic engine\n"
     ]
    },
    {
     "name": "stdout",
     "output_type": "stream",
     "text": [
      "i; 67\n"
     ]
    },
    {
     "name": "stderr",
     "output_type": "stream",
     "text": [
      "[WARNING 23-10-19 07:03:43.2628 UTC gradient_boosted_trees.cc:1818] \"goss_alpha\" set but \"sampling_method\" not equal to \"GOSS\".\n",
      "[WARNING 23-10-19 07:03:43.2628 UTC gradient_boosted_trees.cc:1829] \"goss_beta\" set but \"sampling_method\" not equal to \"GOSS\".\n",
      "[WARNING 23-10-19 07:03:43.2628 UTC gradient_boosted_trees.cc:1843] \"selective_gradient_boosting_ratio\" set but \"sampling_method\" not equal to \"SELGB\".\n",
      "[INFO 23-10-19 07:03:43.9807 UTC kernel.cc:1243] Loading model from path /tmp/tmp08s0ffkc/model/ with prefix fe299df2634f4297\n",
      "[INFO 23-10-19 07:03:43.9940 UTC kernel.cc:1075] Use fast generic engine\n"
     ]
    },
    {
     "name": "stdout",
     "output_type": "stream",
     "text": [
      "i; 68\n"
     ]
    },
    {
     "name": "stderr",
     "output_type": "stream",
     "text": [
      "[WARNING 23-10-19 07:03:44.9030 UTC gradient_boosted_trees.cc:1818] \"goss_alpha\" set but \"sampling_method\" not equal to \"GOSS\".\n",
      "[WARNING 23-10-19 07:03:44.9030 UTC gradient_boosted_trees.cc:1829] \"goss_beta\" set but \"sampling_method\" not equal to \"GOSS\".\n",
      "[WARNING 23-10-19 07:03:44.9030 UTC gradient_boosted_trees.cc:1843] \"selective_gradient_boosting_ratio\" set but \"sampling_method\" not equal to \"SELGB\".\n",
      "[INFO 23-10-19 07:03:45.5035 UTC kernel.cc:1243] Loading model from path /tmp/tmph_yu8c_e/model/ with prefix 6ef7f51f1a7646b1\n",
      "[INFO 23-10-19 07:03:45.5125 UTC kernel.cc:1075] Use fast generic engine\n"
     ]
    },
    {
     "name": "stdout",
     "output_type": "stream",
     "text": [
      "i; 69\n"
     ]
    },
    {
     "name": "stderr",
     "output_type": "stream",
     "text": [
      "[WARNING 23-10-19 07:03:45.8956 UTC gradient_boosted_trees.cc:1818] \"goss_alpha\" set but \"sampling_method\" not equal to \"GOSS\".\n",
      "[WARNING 23-10-19 07:03:45.8956 UTC gradient_boosted_trees.cc:1829] \"goss_beta\" set but \"sampling_method\" not equal to \"GOSS\".\n",
      "[WARNING 23-10-19 07:03:45.8957 UTC gradient_boosted_trees.cc:1843] \"selective_gradient_boosting_ratio\" set but \"sampling_method\" not equal to \"SELGB\".\n",
      "[INFO 23-10-19 07:03:46.3902 UTC kernel.cc:1243] Loading model from path /tmp/tmpj2svkm62/model/ with prefix 60b93ad81fd74a2d\n",
      "[INFO 23-10-19 07:03:46.3949 UTC kernel.cc:1075] Use fast generic engine\n"
     ]
    },
    {
     "name": "stdout",
     "output_type": "stream",
     "text": [
      "i; 70\n"
     ]
    },
    {
     "name": "stderr",
     "output_type": "stream",
     "text": [
      "[WARNING 23-10-19 07:03:46.7704 UTC gradient_boosted_trees.cc:1818] \"goss_alpha\" set but \"sampling_method\" not equal to \"GOSS\".\n",
      "[WARNING 23-10-19 07:03:46.7705 UTC gradient_boosted_trees.cc:1829] \"goss_beta\" set but \"sampling_method\" not equal to \"GOSS\".\n",
      "[WARNING 23-10-19 07:03:46.7705 UTC gradient_boosted_trees.cc:1843] \"selective_gradient_boosting_ratio\" set but \"sampling_method\" not equal to \"SELGB\".\n",
      "[INFO 23-10-19 07:03:47.2891 UTC kernel.cc:1243] Loading model from path /tmp/tmpbn8abm5t/model/ with prefix 345047e5256643b8\n",
      "[INFO 23-10-19 07:03:47.2948 UTC kernel.cc:1075] Use fast generic engine\n"
     ]
    },
    {
     "name": "stdout",
     "output_type": "stream",
     "text": [
      "i; 71\n"
     ]
    },
    {
     "name": "stderr",
     "output_type": "stream",
     "text": [
      "[WARNING 23-10-19 07:03:47.6670 UTC gradient_boosted_trees.cc:1818] \"goss_alpha\" set but \"sampling_method\" not equal to \"GOSS\".\n",
      "[WARNING 23-10-19 07:03:47.6670 UTC gradient_boosted_trees.cc:1829] \"goss_beta\" set but \"sampling_method\" not equal to \"GOSS\".\n",
      "[WARNING 23-10-19 07:03:47.6670 UTC gradient_boosted_trees.cc:1843] \"selective_gradient_boosting_ratio\" set but \"sampling_method\" not equal to \"SELGB\".\n",
      "[INFO 23-10-19 07:03:48.1226 UTC kernel.cc:1243] Loading model from path /tmp/tmp90skft5n/model/ with prefix 23e6d696f8184d5f\n",
      "[INFO 23-10-19 07:03:48.1260 UTC kernel.cc:1075] Use fast generic engine\n"
     ]
    },
    {
     "name": "stdout",
     "output_type": "stream",
     "text": [
      "i; 72\n"
     ]
    },
    {
     "name": "stderr",
     "output_type": "stream",
     "text": [
      "[WARNING 23-10-19 07:03:48.5118 UTC gradient_boosted_trees.cc:1818] \"goss_alpha\" set but \"sampling_method\" not equal to \"GOSS\".\n",
      "[WARNING 23-10-19 07:03:48.5118 UTC gradient_boosted_trees.cc:1829] \"goss_beta\" set but \"sampling_method\" not equal to \"GOSS\".\n",
      "[WARNING 23-10-19 07:03:48.5118 UTC gradient_boosted_trees.cc:1843] \"selective_gradient_boosting_ratio\" set but \"sampling_method\" not equal to \"SELGB\".\n",
      "[INFO 23-10-19 07:03:49.1210 UTC kernel.cc:1243] Loading model from path /tmp/tmpc_c889mz/model/ with prefix fee024e586374de4\n",
      "[INFO 23-10-19 07:03:49.1305 UTC abstract_model.cc:1311] Engine \"GradientBoostedTreesQuickScorerExtended\" built\n",
      "[INFO 23-10-19 07:03:49.1305 UTC kernel.cc:1075] Use fast generic engine\n"
     ]
    },
    {
     "name": "stdout",
     "output_type": "stream",
     "text": [
      "i; 73\n"
     ]
    },
    {
     "name": "stderr",
     "output_type": "stream",
     "text": [
      "[WARNING 23-10-19 07:03:49.5239 UTC gradient_boosted_trees.cc:1818] \"goss_alpha\" set but \"sampling_method\" not equal to \"GOSS\".\n",
      "[WARNING 23-10-19 07:03:49.5240 UTC gradient_boosted_trees.cc:1829] \"goss_beta\" set but \"sampling_method\" not equal to \"GOSS\".\n",
      "[WARNING 23-10-19 07:03:49.5240 UTC gradient_boosted_trees.cc:1843] \"selective_gradient_boosting_ratio\" set but \"sampling_method\" not equal to \"SELGB\".\n",
      "[INFO 23-10-19 07:03:50.1867 UTC kernel.cc:1243] Loading model from path /tmp/tmpmw86zz_o/model/ with prefix 21fe2aa49b26483d\n",
      "[INFO 23-10-19 07:03:50.1962 UTC kernel.cc:1075] Use fast generic engine\n"
     ]
    },
    {
     "name": "stdout",
     "output_type": "stream",
     "text": [
      "i; 74\n"
     ]
    },
    {
     "name": "stderr",
     "output_type": "stream",
     "text": [
      "[WARNING 23-10-19 07:03:50.5805 UTC gradient_boosted_trees.cc:1818] \"goss_alpha\" set but \"sampling_method\" not equal to \"GOSS\".\n",
      "[WARNING 23-10-19 07:03:50.5806 UTC gradient_boosted_trees.cc:1829] \"goss_beta\" set but \"sampling_method\" not equal to \"GOSS\".\n",
      "[WARNING 23-10-19 07:03:50.5806 UTC gradient_boosted_trees.cc:1843] \"selective_gradient_boosting_ratio\" set but \"sampling_method\" not equal to \"SELGB\".\n",
      "[INFO 23-10-19 07:03:51.3747 UTC kernel.cc:1243] Loading model from path /tmp/tmp7ai8tpju/model/ with prefix 3f7141e035cb4925\n",
      "[INFO 23-10-19 07:03:51.3915 UTC kernel.cc:1075] Use fast generic engine\n"
     ]
    },
    {
     "name": "stdout",
     "output_type": "stream",
     "text": [
      "i; 75\n"
     ]
    },
    {
     "name": "stderr",
     "output_type": "stream",
     "text": [
      "[WARNING 23-10-19 07:03:51.7799 UTC gradient_boosted_trees.cc:1818] \"goss_alpha\" set but \"sampling_method\" not equal to \"GOSS\".\n",
      "[WARNING 23-10-19 07:03:51.7800 UTC gradient_boosted_trees.cc:1829] \"goss_beta\" set but \"sampling_method\" not equal to \"GOSS\".\n",
      "[WARNING 23-10-19 07:03:51.7800 UTC gradient_boosted_trees.cc:1843] \"selective_gradient_boosting_ratio\" set but \"sampling_method\" not equal to \"SELGB\".\n",
      "[INFO 23-10-19 07:03:52.3228 UTC kernel.cc:1243] Loading model from path /tmp/tmpf371h6ia/model/ with prefix 57b69828cd9a4078\n",
      "[INFO 23-10-19 07:03:52.3290 UTC kernel.cc:1075] Use fast generic engine\n"
     ]
    },
    {
     "name": "stdout",
     "output_type": "stream",
     "text": [
      "i; 76\n"
     ]
    },
    {
     "name": "stderr",
     "output_type": "stream",
     "text": [
      "[WARNING 23-10-19 07:03:52.7130 UTC gradient_boosted_trees.cc:1818] \"goss_alpha\" set but \"sampling_method\" not equal to \"GOSS\".\n",
      "[WARNING 23-10-19 07:03:52.7130 UTC gradient_boosted_trees.cc:1829] \"goss_beta\" set but \"sampling_method\" not equal to \"GOSS\".\n",
      "[WARNING 23-10-19 07:03:52.7130 UTC gradient_boosted_trees.cc:1843] \"selective_gradient_boosting_ratio\" set but \"sampling_method\" not equal to \"SELGB\".\n",
      "[INFO 23-10-19 07:03:53.1573 UTC kernel.cc:1243] Loading model from path /tmp/tmpe19htu9s/model/ with prefix 30158b3404c44ab0\n",
      "[INFO 23-10-19 07:03:53.1603 UTC kernel.cc:1075] Use fast generic engine\n"
     ]
    },
    {
     "name": "stdout",
     "output_type": "stream",
     "text": [
      "i; 77\n"
     ]
    },
    {
     "name": "stderr",
     "output_type": "stream",
     "text": [
      "[WARNING 23-10-19 07:03:53.5366 UTC gradient_boosted_trees.cc:1818] \"goss_alpha\" set but \"sampling_method\" not equal to \"GOSS\".\n",
      "[WARNING 23-10-19 07:03:53.5366 UTC gradient_boosted_trees.cc:1829] \"goss_beta\" set but \"sampling_method\" not equal to \"GOSS\".\n",
      "[WARNING 23-10-19 07:03:53.5366 UTC gradient_boosted_trees.cc:1843] \"selective_gradient_boosting_ratio\" set but \"sampling_method\" not equal to \"SELGB\".\n",
      "[INFO 23-10-19 07:03:54.0240 UTC kernel.cc:1243] Loading model from path /tmp/tmp2g5tk9vu/model/ with prefix ce5e6227d64d47b6\n",
      "[INFO 23-10-19 07:03:54.0280 UTC kernel.cc:1075] Use fast generic engine\n"
     ]
    },
    {
     "name": "stdout",
     "output_type": "stream",
     "text": [
      "i; 78\n"
     ]
    },
    {
     "name": "stderr",
     "output_type": "stream",
     "text": [
      "[WARNING 23-10-19 07:03:54.4027 UTC gradient_boosted_trees.cc:1818] \"goss_alpha\" set but \"sampling_method\" not equal to \"GOSS\".\n",
      "[WARNING 23-10-19 07:03:54.4027 UTC gradient_boosted_trees.cc:1829] \"goss_beta\" set but \"sampling_method\" not equal to \"GOSS\".\n",
      "[WARNING 23-10-19 07:03:54.4027 UTC gradient_boosted_trees.cc:1843] \"selective_gradient_boosting_ratio\" set but \"sampling_method\" not equal to \"SELGB\".\n",
      "[INFO 23-10-19 07:03:54.9003 UTC kernel.cc:1243] Loading model from path /tmp/tmpakcu5768/model/ with prefix c4ef47b292e44016\n",
      "[INFO 23-10-19 07:03:54.9045 UTC kernel.cc:1075] Use fast generic engine\n"
     ]
    },
    {
     "name": "stdout",
     "output_type": "stream",
     "text": [
      "i; 79\n"
     ]
    },
    {
     "name": "stderr",
     "output_type": "stream",
     "text": [
      "[WARNING 23-10-19 07:03:55.2768 UTC gradient_boosted_trees.cc:1818] \"goss_alpha\" set but \"sampling_method\" not equal to \"GOSS\".\n",
      "[WARNING 23-10-19 07:03:55.2768 UTC gradient_boosted_trees.cc:1829] \"goss_beta\" set but \"sampling_method\" not equal to \"GOSS\".\n",
      "[WARNING 23-10-19 07:03:55.2768 UTC gradient_boosted_trees.cc:1843] \"selective_gradient_boosting_ratio\" set but \"sampling_method\" not equal to \"SELGB\".\n",
      "[INFO 23-10-19 07:03:56.3980 UTC kernel.cc:1243] Loading model from path /tmp/tmp1x_r1os4/model/ with prefix d158e77349554af7\n",
      "[INFO 23-10-19 07:03:56.4060 UTC kernel.cc:1075] Use fast generic engine\n"
     ]
    },
    {
     "name": "stdout",
     "output_type": "stream",
     "text": [
      "i; 80\n"
     ]
    },
    {
     "name": "stderr",
     "output_type": "stream",
     "text": [
      "[WARNING 23-10-19 07:03:56.8446 UTC gradient_boosted_trees.cc:1818] \"goss_alpha\" set but \"sampling_method\" not equal to \"GOSS\".\n",
      "[WARNING 23-10-19 07:03:56.8447 UTC gradient_boosted_trees.cc:1829] \"goss_beta\" set but \"sampling_method\" not equal to \"GOSS\".\n",
      "[WARNING 23-10-19 07:03:56.8447 UTC gradient_boosted_trees.cc:1843] \"selective_gradient_boosting_ratio\" set but \"sampling_method\" not equal to \"SELGB\".\n",
      "[INFO 23-10-19 07:03:57.4588 UTC kernel.cc:1243] Loading model from path /tmp/tmpxunq5pzq/model/ with prefix 961ff996b7f84b30\n",
      "[INFO 23-10-19 07:03:57.4667 UTC kernel.cc:1075] Use fast generic engine\n"
     ]
    },
    {
     "name": "stdout",
     "output_type": "stream",
     "text": [
      "i; 81\n"
     ]
    },
    {
     "name": "stderr",
     "output_type": "stream",
     "text": [
      "[WARNING 23-10-19 07:03:57.8766 UTC gradient_boosted_trees.cc:1818] \"goss_alpha\" set but \"sampling_method\" not equal to \"GOSS\".\n",
      "[WARNING 23-10-19 07:03:57.8766 UTC gradient_boosted_trees.cc:1829] \"goss_beta\" set but \"sampling_method\" not equal to \"GOSS\".\n",
      "[WARNING 23-10-19 07:03:57.8766 UTC gradient_boosted_trees.cc:1843] \"selective_gradient_boosting_ratio\" set but \"sampling_method\" not equal to \"SELGB\".\n",
      "[INFO 23-10-19 07:03:58.3767 UTC kernel.cc:1243] Loading model from path /tmp/tmp1d1datno/model/ with prefix b0e7fc7e565e43b9\n",
      "[INFO 23-10-19 07:03:58.3817 UTC kernel.cc:1075] Use fast generic engine\n"
     ]
    },
    {
     "name": "stdout",
     "output_type": "stream",
     "text": [
      "i; 82\n"
     ]
    },
    {
     "name": "stderr",
     "output_type": "stream",
     "text": [
      "[WARNING 23-10-19 07:03:58.8987 UTC gradient_boosted_trees.cc:1818] \"goss_alpha\" set but \"sampling_method\" not equal to \"GOSS\".\n",
      "[WARNING 23-10-19 07:03:58.8988 UTC gradient_boosted_trees.cc:1829] \"goss_beta\" set but \"sampling_method\" not equal to \"GOSS\".\n",
      "[WARNING 23-10-19 07:03:58.8988 UTC gradient_boosted_trees.cc:1843] \"selective_gradient_boosting_ratio\" set but \"sampling_method\" not equal to \"SELGB\".\n",
      "[INFO 23-10-19 07:03:59.7039 UTC kernel.cc:1243] Loading model from path /tmp/tmpen5jvpxc/model/ with prefix cb065949e4c2403c\n",
      "[INFO 23-10-19 07:03:59.7211 UTC abstract_model.cc:1311] Engine \"GradientBoostedTreesQuickScorerExtended\" built\n",
      "[INFO 23-10-19 07:03:59.7211 UTC kernel.cc:1075] Use fast generic engine\n"
     ]
    },
    {
     "name": "stdout",
     "output_type": "stream",
     "text": [
      "i; 83\n"
     ]
    },
    {
     "name": "stderr",
     "output_type": "stream",
     "text": [
      "[WARNING 23-10-19 07:04:00.1364 UTC gradient_boosted_trees.cc:1818] \"goss_alpha\" set but \"sampling_method\" not equal to \"GOSS\".\n",
      "[WARNING 23-10-19 07:04:00.1364 UTC gradient_boosted_trees.cc:1829] \"goss_beta\" set but \"sampling_method\" not equal to \"GOSS\".\n",
      "[WARNING 23-10-19 07:04:00.1364 UTC gradient_boosted_trees.cc:1843] \"selective_gradient_boosting_ratio\" set but \"sampling_method\" not equal to \"SELGB\".\n",
      "[INFO 23-10-19 07:04:00.6522 UTC kernel.cc:1243] Loading model from path /tmp/tmpbpu3lx8f/model/ with prefix be3929cf6fec42b0\n",
      "[INFO 23-10-19 07:04:00.6576 UTC kernel.cc:1075] Use fast generic engine\n"
     ]
    },
    {
     "name": "stdout",
     "output_type": "stream",
     "text": [
      "i; 84\n"
     ]
    },
    {
     "name": "stderr",
     "output_type": "stream",
     "text": [
      "[WARNING 23-10-19 07:04:01.0384 UTC gradient_boosted_trees.cc:1818] \"goss_alpha\" set but \"sampling_method\" not equal to \"GOSS\".\n",
      "[WARNING 23-10-19 07:04:01.0385 UTC gradient_boosted_trees.cc:1829] \"goss_beta\" set but \"sampling_method\" not equal to \"GOSS\".\n",
      "[WARNING 23-10-19 07:04:01.0385 UTC gradient_boosted_trees.cc:1843] \"selective_gradient_boosting_ratio\" set but \"sampling_method\" not equal to \"SELGB\".\n",
      "[INFO 23-10-19 07:04:01.8144 UTC kernel.cc:1243] Loading model from path /tmp/tmp22v919co/model/ with prefix 296d85314789480f\n",
      "[INFO 23-10-19 07:04:01.8303 UTC kernel.cc:1075] Use fast generic engine\n"
     ]
    },
    {
     "name": "stdout",
     "output_type": "stream",
     "text": [
      "i; 85\n"
     ]
    },
    {
     "name": "stderr",
     "output_type": "stream",
     "text": [
      "[WARNING 23-10-19 07:04:02.2169 UTC gradient_boosted_trees.cc:1818] \"goss_alpha\" set but \"sampling_method\" not equal to \"GOSS\".\n",
      "[WARNING 23-10-19 07:04:02.2169 UTC gradient_boosted_trees.cc:1829] \"goss_beta\" set but \"sampling_method\" not equal to \"GOSS\".\n",
      "[WARNING 23-10-19 07:04:02.2170 UTC gradient_boosted_trees.cc:1843] \"selective_gradient_boosting_ratio\" set but \"sampling_method\" not equal to \"SELGB\".\n",
      "[INFO 23-10-19 07:04:02.6566 UTC kernel.cc:1243] Loading model from path /tmp/tmp3li1dep6/model/ with prefix 33c95813e3b6445e\n",
      "[INFO 23-10-19 07:04:02.6592 UTC kernel.cc:1075] Use fast generic engine\n"
     ]
    },
    {
     "name": "stdout",
     "output_type": "stream",
     "text": [
      "i; 86\n"
     ]
    },
    {
     "name": "stderr",
     "output_type": "stream",
     "text": [
      "[WARNING 23-10-19 07:04:03.0365 UTC gradient_boosted_trees.cc:1818] \"goss_alpha\" set but \"sampling_method\" not equal to \"GOSS\".\n",
      "[WARNING 23-10-19 07:04:03.0366 UTC gradient_boosted_trees.cc:1829] \"goss_beta\" set but \"sampling_method\" not equal to \"GOSS\".\n",
      "[WARNING 23-10-19 07:04:03.0366 UTC gradient_boosted_trees.cc:1843] \"selective_gradient_boosting_ratio\" set but \"sampling_method\" not equal to \"SELGB\".\n",
      "[INFO 23-10-19 07:04:03.8975 UTC kernel.cc:1243] Loading model from path /tmp/tmp0fmd8aau/model/ with prefix 2b99dec081134f0c\n",
      "[INFO 23-10-19 07:04:03.9179 UTC kernel.cc:1075] Use fast generic engine\n"
     ]
    },
    {
     "name": "stdout",
     "output_type": "stream",
     "text": [
      "i; 87\n"
     ]
    },
    {
     "name": "stderr",
     "output_type": "stream",
     "text": [
      "[WARNING 23-10-19 07:04:04.2925 UTC gradient_boosted_trees.cc:1818] \"goss_alpha\" set but \"sampling_method\" not equal to \"GOSS\".\n",
      "[WARNING 23-10-19 07:04:04.2926 UTC gradient_boosted_trees.cc:1829] \"goss_beta\" set but \"sampling_method\" not equal to \"GOSS\".\n",
      "[WARNING 23-10-19 07:04:04.2927 UTC gradient_boosted_trees.cc:1843] \"selective_gradient_boosting_ratio\" set but \"sampling_method\" not equal to \"SELGB\".\n",
      "[INFO 23-10-19 07:04:04.8215 UTC kernel.cc:1243] Loading model from path /tmp/tmpgt_2wflb/model/ with prefix 3c2ea6f089d247bb\n",
      "[INFO 23-10-19 07:04:04.8277 UTC kernel.cc:1075] Use fast generic engine\n"
     ]
    },
    {
     "name": "stdout",
     "output_type": "stream",
     "text": [
      "i; 88\n"
     ]
    },
    {
     "name": "stderr",
     "output_type": "stream",
     "text": [
      "[WARNING 23-10-19 07:04:05.1973 UTC gradient_boosted_trees.cc:1818] \"goss_alpha\" set but \"sampling_method\" not equal to \"GOSS\".\n",
      "[WARNING 23-10-19 07:04:05.1974 UTC gradient_boosted_trees.cc:1829] \"goss_beta\" set but \"sampling_method\" not equal to \"GOSS\".\n",
      "[WARNING 23-10-19 07:04:05.1975 UTC gradient_boosted_trees.cc:1843] \"selective_gradient_boosting_ratio\" set but \"sampling_method\" not equal to \"SELGB\".\n",
      "[INFO 23-10-19 07:04:05.6660 UTC kernel.cc:1243] Loading model from path /tmp/tmpy1nibtal/model/ with prefix e2132195e42d43c2\n",
      "[INFO 23-10-19 07:04:05.6702 UTC kernel.cc:1075] Use fast generic engine\n"
     ]
    },
    {
     "name": "stdout",
     "output_type": "stream",
     "text": [
      "i; 89\n"
     ]
    },
    {
     "name": "stderr",
     "output_type": "stream",
     "text": [
      "[WARNING 23-10-19 07:04:06.0419 UTC gradient_boosted_trees.cc:1818] \"goss_alpha\" set but \"sampling_method\" not equal to \"GOSS\".\n",
      "[WARNING 23-10-19 07:04:06.0421 UTC gradient_boosted_trees.cc:1829] \"goss_beta\" set but \"sampling_method\" not equal to \"GOSS\".\n",
      "[WARNING 23-10-19 07:04:06.0421 UTC gradient_boosted_trees.cc:1843] \"selective_gradient_boosting_ratio\" set but \"sampling_method\" not equal to \"SELGB\".\n",
      "[INFO 23-10-19 07:04:06.7651 UTC kernel.cc:1243] Loading model from path /tmp/tmplgz6k_5d/model/ with prefix c660171b68614613\n",
      "[INFO 23-10-19 07:04:06.7793 UTC kernel.cc:1075] Use fast generic engine\n"
     ]
    },
    {
     "name": "stdout",
     "output_type": "stream",
     "text": [
      "i; 90\n"
     ]
    },
    {
     "name": "stderr",
     "output_type": "stream",
     "text": [
      "[WARNING 23-10-19 07:04:07.1599 UTC gradient_boosted_trees.cc:1818] \"goss_alpha\" set but \"sampling_method\" not equal to \"GOSS\".\n",
      "[WARNING 23-10-19 07:04:07.1600 UTC gradient_boosted_trees.cc:1829] \"goss_beta\" set but \"sampling_method\" not equal to \"GOSS\".\n",
      "[WARNING 23-10-19 07:04:07.1600 UTC gradient_boosted_trees.cc:1843] \"selective_gradient_boosting_ratio\" set but \"sampling_method\" not equal to \"SELGB\".\n",
      "[INFO 23-10-19 07:04:07.7497 UTC kernel.cc:1243] Loading model from path /tmp/tmphqxe0nxz/model/ with prefix b6e920d1396746f2\n",
      "[INFO 23-10-19 07:04:07.7580 UTC kernel.cc:1075] Use fast generic engine\n"
     ]
    },
    {
     "name": "stdout",
     "output_type": "stream",
     "text": [
      "i; 91\n"
     ]
    },
    {
     "name": "stderr",
     "output_type": "stream",
     "text": [
      "[WARNING 23-10-19 07:04:08.1334 UTC gradient_boosted_trees.cc:1818] \"goss_alpha\" set but \"sampling_method\" not equal to \"GOSS\".\n",
      "[WARNING 23-10-19 07:04:08.1334 UTC gradient_boosted_trees.cc:1829] \"goss_beta\" set but \"sampling_method\" not equal to \"GOSS\".\n",
      "[WARNING 23-10-19 07:04:08.1334 UTC gradient_boosted_trees.cc:1843] \"selective_gradient_boosting_ratio\" set but \"sampling_method\" not equal to \"SELGB\".\n",
      "[INFO 23-10-19 07:04:08.6974 UTC kernel.cc:1243] Loading model from path /tmp/tmpqq3w9iu1/model/ with prefix 118fce823b9c42f5\n",
      "[INFO 23-10-19 07:04:08.7043 UTC kernel.cc:1075] Use fast generic engine\n"
     ]
    },
    {
     "name": "stdout",
     "output_type": "stream",
     "text": [
      "i; 92\n"
     ]
    },
    {
     "name": "stderr",
     "output_type": "stream",
     "text": [
      "[WARNING 23-10-19 07:04:09.0788 UTC gradient_boosted_trees.cc:1818] \"goss_alpha\" set but \"sampling_method\" not equal to \"GOSS\".\n",
      "[WARNING 23-10-19 07:04:09.0789 UTC gradient_boosted_trees.cc:1829] \"goss_beta\" set but \"sampling_method\" not equal to \"GOSS\".\n",
      "[WARNING 23-10-19 07:04:09.0789 UTC gradient_boosted_trees.cc:1843] \"selective_gradient_boosting_ratio\" set but \"sampling_method\" not equal to \"SELGB\".\n",
      "[INFO 23-10-19 07:04:09.8368 UTC kernel.cc:1243] Loading model from path /tmp/tmp6dcpx5qe/model/ with prefix d66d7a44bde04c18\n",
      "[INFO 23-10-19 07:04:09.8515 UTC abstract_model.cc:1311] Engine \"GradientBoostedTreesQuickScorerExtended\" built\n",
      "[INFO 23-10-19 07:04:09.8515 UTC kernel.cc:1075] Use fast generic engine\n"
     ]
    },
    {
     "name": "stdout",
     "output_type": "stream",
     "text": [
      "i; 93\n"
     ]
    },
    {
     "name": "stderr",
     "output_type": "stream",
     "text": [
      "[WARNING 23-10-19 07:04:10.2514 UTC gradient_boosted_trees.cc:1818] \"goss_alpha\" set but \"sampling_method\" not equal to \"GOSS\".\n",
      "[WARNING 23-10-19 07:04:10.2514 UTC gradient_boosted_trees.cc:1829] \"goss_beta\" set but \"sampling_method\" not equal to \"GOSS\".\n",
      "[WARNING 23-10-19 07:04:10.2514 UTC gradient_boosted_trees.cc:1843] \"selective_gradient_boosting_ratio\" set but \"sampling_method\" not equal to \"SELGB\".\n",
      "[INFO 23-10-19 07:04:10.8498 UTC kernel.cc:1243] Loading model from path /tmp/tmpltf45_jw/model/ with prefix 7ff34d8a1f864377\n",
      "[INFO 23-10-19 07:04:10.8589 UTC kernel.cc:1075] Use fast generic engine\n"
     ]
    },
    {
     "name": "stdout",
     "output_type": "stream",
     "text": [
      "i; 94\n"
     ]
    },
    {
     "name": "stderr",
     "output_type": "stream",
     "text": [
      "[WARNING 23-10-19 07:04:11.2341 UTC gradient_boosted_trees.cc:1818] \"goss_alpha\" set but \"sampling_method\" not equal to \"GOSS\".\n",
      "[WARNING 23-10-19 07:04:11.2341 UTC gradient_boosted_trees.cc:1829] \"goss_beta\" set but \"sampling_method\" not equal to \"GOSS\".\n",
      "[WARNING 23-10-19 07:04:11.2341 UTC gradient_boosted_trees.cc:1843] \"selective_gradient_boosting_ratio\" set but \"sampling_method\" not equal to \"SELGB\".\n",
      "[INFO 23-10-19 07:04:11.7409 UTC kernel.cc:1243] Loading model from path /tmp/tmp6sz0onqn/model/ with prefix d3093250e5804aff\n",
      "[INFO 23-10-19 07:04:11.7457 UTC kernel.cc:1075] Use fast generic engine\n"
     ]
    },
    {
     "name": "stdout",
     "output_type": "stream",
     "text": [
      "i; 95\n"
     ]
    },
    {
     "name": "stderr",
     "output_type": "stream",
     "text": [
      "[WARNING 23-10-19 07:04:12.1245 UTC gradient_boosted_trees.cc:1818] \"goss_alpha\" set but \"sampling_method\" not equal to \"GOSS\".\n",
      "[WARNING 23-10-19 07:04:12.1245 UTC gradient_boosted_trees.cc:1829] \"goss_beta\" set but \"sampling_method\" not equal to \"GOSS\".\n",
      "[WARNING 23-10-19 07:04:12.1245 UTC gradient_boosted_trees.cc:1843] \"selective_gradient_boosting_ratio\" set but \"sampling_method\" not equal to \"SELGB\".\n",
      "[INFO 23-10-19 07:04:12.6293 UTC kernel.cc:1243] Loading model from path /tmp/tmp5434p0qx/model/ with prefix 4a309ab1f0224c46\n",
      "[INFO 23-10-19 07:04:12.6337 UTC kernel.cc:1075] Use fast generic engine\n"
     ]
    },
    {
     "name": "stdout",
     "output_type": "stream",
     "text": [
      "i; 96\n"
     ]
    },
    {
     "name": "stderr",
     "output_type": "stream",
     "text": [
      "[WARNING 23-10-19 07:04:13.0038 UTC gradient_boosted_trees.cc:1818] \"goss_alpha\" set but \"sampling_method\" not equal to \"GOSS\".\n",
      "[WARNING 23-10-19 07:04:13.0038 UTC gradient_boosted_trees.cc:1829] \"goss_beta\" set but \"sampling_method\" not equal to \"GOSS\".\n",
      "[WARNING 23-10-19 07:04:13.0039 UTC gradient_boosted_trees.cc:1843] \"selective_gradient_boosting_ratio\" set but \"sampling_method\" not equal to \"SELGB\".\n",
      "[INFO 23-10-19 07:04:13.5448 UTC kernel.cc:1243] Loading model from path /tmp/tmpsx01eyh8/model/ with prefix bd1437ce268642cf\n",
      "[INFO 23-10-19 07:04:13.5516 UTC kernel.cc:1075] Use fast generic engine\n"
     ]
    },
    {
     "name": "stdout",
     "output_type": "stream",
     "text": [
      "i; 97\n"
     ]
    },
    {
     "name": "stderr",
     "output_type": "stream",
     "text": [
      "[WARNING 23-10-19 07:04:13.9350 UTC gradient_boosted_trees.cc:1818] \"goss_alpha\" set but \"sampling_method\" not equal to \"GOSS\".\n",
      "[WARNING 23-10-19 07:04:13.9350 UTC gradient_boosted_trees.cc:1829] \"goss_beta\" set but \"sampling_method\" not equal to \"GOSS\".\n",
      "[WARNING 23-10-19 07:04:13.9350 UTC gradient_boosted_trees.cc:1843] \"selective_gradient_boosting_ratio\" set but \"sampling_method\" not equal to \"SELGB\".\n",
      "[INFO 23-10-19 07:04:14.4426 UTC kernel.cc:1243] Loading model from path /tmp/tmplfvolmsy/model/ with prefix b7939e778ef64b66\n",
      "[INFO 23-10-19 07:04:14.4477 UTC kernel.cc:1075] Use fast generic engine\n"
     ]
    },
    {
     "name": "stdout",
     "output_type": "stream",
     "text": [
      "i; 98\n"
     ]
    },
    {
     "name": "stderr",
     "output_type": "stream",
     "text": [
      "[WARNING 23-10-19 07:04:14.8329 UTC gradient_boosted_trees.cc:1818] \"goss_alpha\" set but \"sampling_method\" not equal to \"GOSS\".\n",
      "[WARNING 23-10-19 07:04:14.8329 UTC gradient_boosted_trees.cc:1829] \"goss_beta\" set but \"sampling_method\" not equal to \"GOSS\".\n",
      "[WARNING 23-10-19 07:04:14.8329 UTC gradient_boosted_trees.cc:1843] \"selective_gradient_boosting_ratio\" set but \"sampling_method\" not equal to \"SELGB\".\n",
      "[INFO 23-10-19 07:04:15.3595 UTC kernel.cc:1243] Loading model from path /tmp/tmp9pg0tgxm/model/ with prefix 6ac25de7c6854024\n",
      "[INFO 23-10-19 07:04:15.3657 UTC kernel.cc:1075] Use fast generic engine\n"
     ]
    },
    {
     "name": "stdout",
     "output_type": "stream",
     "text": [
      "i; 99\n"
     ]
    },
    {
     "name": "stderr",
     "output_type": "stream",
     "text": [
      "[WARNING 23-10-19 07:04:15.7545 UTC gradient_boosted_trees.cc:1818] \"goss_alpha\" set but \"sampling_method\" not equal to \"GOSS\".\n",
      "[WARNING 23-10-19 07:04:15.7546 UTC gradient_boosted_trees.cc:1829] \"goss_beta\" set but \"sampling_method\" not equal to \"GOSS\".\n",
      "[WARNING 23-10-19 07:04:15.7546 UTC gradient_boosted_trees.cc:1843] \"selective_gradient_boosting_ratio\" set but \"sampling_method\" not equal to \"SELGB\".\n",
      "[INFO 23-10-19 07:04:16.2577 UTC kernel.cc:1243] Loading model from path /tmp/tmpbm0dyoyk/model/ with prefix a975dedc22e64a22\n",
      "[INFO 23-10-19 07:04:16.2622 UTC kernel.cc:1075] Use fast generic engine\n"
     ]
    },
    {
     "name": "stdout",
     "output_type": "stream",
     "text": [
      "Submission exported to /kaggle/working/submission.csv\n"
     ]
    }
   ],
   "source": [
    "predictions = None\n",
    "num_predictions = 0\n",
    "\n",
    "for i in range(100):\n",
    "    print(f\"i; {i}\")\n",
    "    \n",
    "    model = tfdf.keras.GradientBoostedTreesModel(\n",
    "    verbose=0,\n",
    "    features=[tfdf.keras.FeatureUsage(name=n) for n in input_features],\n",
    "    exclude_non_specified_features=True,\n",
    "    \n",
    "    random_seed=i,\n",
    "    honest=True,\n",
    "    )\n",
    "    \n",
    "    model.fit(train_ds)\n",
    "    \n",
    "    sub_predictions = model.predict(serving_ds, verbose=0)[:,0]\n",
    "    if predictions is None:\n",
    "        predictions = sub_predictions\n",
    "    else:\n",
    "        predictions += sub_predictions\n",
    "    num_predictions += 1\n",
    "    \n",
    "predictions /= num_predictions\n",
    "\n",
    "kaggle_predictions = pd.DataFrame({\n",
    "    \"PassengerId\": serving_df[\"PassengerId\"],\n",
    "    \"Survived\": (predictions >= 0.5).astype(int)\n",
    "})\n",
    "\n",
    "make_submission(kaggle_predictions)\n",
    "    "
   ]
  },
  {
   "cell_type": "code",
   "execution_count": null,
   "id": "9277cfe0",
   "metadata": {
    "papermill": {
     "duration": 0.020282,
     "end_time": "2023-10-19T07:04:16.821456",
     "exception": false,
     "start_time": "2023-10-19T07:04:16.801174",
     "status": "completed"
    },
    "tags": []
   },
   "outputs": [],
   "source": []
  }
 ],
 "metadata": {
  "kernelspec": {
   "display_name": "Python 3",
   "language": "python",
   "name": "python3"
  },
  "language_info": {
   "codemirror_mode": {
    "name": "ipython",
    "version": 3
   },
   "file_extension": ".py",
   "mimetype": "text/x-python",
   "name": "python",
   "nbconvert_exporter": "python",
   "pygments_lexer": "ipython3",
   "version": "3.10.12"
  },
  "papermill": {
   "default_parameters": {},
   "duration": 249.343867,
   "end_time": "2023-10-19T07:04:20.251085",
   "environment_variables": {},
   "exception": null,
   "input_path": "__notebook__.ipynb",
   "output_path": "__notebook__.ipynb",
   "parameters": {},
   "start_time": "2023-10-19T07:00:10.907218",
   "version": "2.4.0"
  }
 },
 "nbformat": 4,
 "nbformat_minor": 5
}
