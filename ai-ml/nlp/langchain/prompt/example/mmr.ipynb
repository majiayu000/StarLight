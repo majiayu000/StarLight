{
 "cells": [
  {
   "cell_type": "markdown",
   "metadata": {},
   "source": [
    "\n",
    "MMR（Maximal Marginal Relevance）和SSE（Semantic Similarity ExampleSelector，基于上文的代码）之间的主要区别在于它们选择示例的方式和策略。以下是两者之间的核心差异：\n",
    "\n",
    "1. 选择策略：\n",
    "\n",
    "MMR (Maximal Marginal Relevance): MMR结合了两个目标：选择与输入最相似的示例和优化示例之间的多样性。这意味着，当MMR选择示例时，它不仅仅是基于与当前输入的相似性，还会考虑已选示例之间的差异性。如果一个示例与输入非常相似，但与已经选择的其他示例也非常相似，那么它可能会受到惩罚，不会被选择。\n",
    "\n",
    "SSE (Semantic Similarity ExampleSelector): SSE主要是基于与输入的语义相似性来选择示例。它并不优化或考虑示例之间的多样性。这意味着，它可能会选择与输入非常相似的多个示例，即使这些示例之间可能非常相似或重复。\n",
    "\n",
    "2. 结果的多样性：\n",
    "\n",
    "使用MMR的结果可能会更加多样化。这是因为MMR在选择过程中优化了示例之间的差异性，从而尽量避免选择重复或相似的示例。\n",
    "\n",
    "使用SSE的结果可能与输入更为相似，但示例之间可能会有更多的重复或相似性。\n",
    "\n",
    "3. 应用场景：\n",
    "\n",
    "当你希望得到与输入非常相关，但又具有一定多样性的示例时，可以使用MMR。\n",
    "\n",
    "当你只关心与输入的最大相似性，而不太关心示例之间的多样性时，可以使用SSE。\n",
    "\n",
    "综上所述，MMR和SSE提供了两种不同的示例选择策略，分别适用于需要多样性和只关心最大相似性的场景。"
   ]
  },
  {
   "cell_type": "code",
   "execution_count": 1,
   "metadata": {},
   "outputs": [],
   "source": [
    "from langchain.prompts.example_selector import (\n",
    "    MaxMarginalRelevanceExampleSelector,\n",
    "    SemanticSimilarityExampleSelector,\n",
    ")\n",
    "from langchain.vectorstores import FAISS\n",
    "from langchain.embeddings import OpenAIEmbeddings\n",
    "from langchain.prompts import FewShotPromptTemplate, PromptTemplate\n",
    "\n",
    "example_prompt = PromptTemplate(\n",
    "    input_variables=[\"input\", \"output\"],\n",
    "    template=\"Input: {input}\\nOutput: {output}\",\n",
    ")\n",
    "\n",
    "# Examples of a pretend task of creating antonyms.\n",
    "examples = [\n",
    "    {\"input\": \"happy\", \"output\": \"sad\"},\n",
    "    {\"input\": \"tall\", \"output\": \"short\"},\n",
    "    {\"input\": \"energetic\", \"output\": \"lethargic\"},\n",
    "    {\"input\": \"sunny\", \"output\": \"gloomy\"},\n",
    "    {\"input\": \"windy\", \"output\": \"calm\"},\n",
    "]"
   ]
  },
  {
   "cell_type": "code",
   "execution_count": null,
   "metadata": {},
   "outputs": [],
   "source": [
    "example_selector = MaxMarginalRelevanceExampleSelector.from_examples(\n",
    "    # The list of examples available to select from.\n",
    "    examples,\n",
    "    # The embedding class used to produce embeddings which are used to measure semantic similarity.\n",
    "    OpenAIEmbeddings(),\n",
    "    # The VectorStore class that is used to store the embeddings and do a similarity search over.\n",
    "    FAISS,\n",
    "    # The number of examples to produce.\n",
    "    k=2,\n",
    ")\n",
    "mmr_prompt = FewShotPromptTemplate(\n",
    "    # We provide an ExampleSelector instead of examples.\n",
    "    example_selector=example_selector,\n",
    "    example_prompt=example_prompt,\n",
    "    prefix=\"Give the antonym of every input\",\n",
    "    suffix=\"Input: {adjective}\\nOutput:\",\n",
    "    input_variables=[\"adjective\"],\n",
    ")"
   ]
  },
  {
   "cell_type": "code",
   "execution_count": null,
   "metadata": {},
   "outputs": [],
   "source": [
    "example_selector = SemanticSimilarityExampleSelector.from_examples(\n",
    "    # The list of examples available to select from.\n",
    "    examples,\n",
    "    # The embedding class used to produce embeddings which are used to measure semantic similarity.\n",
    "    OpenAIEmbeddings(),\n",
    "    # The VectorStore class that is used to store the embeddings and do a similarity search over.\n",
    "    FAISS,\n",
    "    # The number of examples to produce.\n",
    "    k=2,\n",
    ")\n",
    "similar_prompt = FewShotPromptTemplate(\n",
    "    # We provide an ExampleSelector instead of examples.\n",
    "    example_selector=example_selector,\n",
    "    example_prompt=example_prompt,\n",
    "    prefix=\"Give the antonym of every input\",\n",
    "    suffix=\"Input: {adjective}\\nOutput:\",\n",
    "    input_variables=[\"adjective\"],\n",
    ")\n",
    "print(similar_prompt.format(adjective=\"worried\"))"
   ]
  }
 ],
 "metadata": {
  "kernelspec": {
   "display_name": "Python 3",
   "language": "python",
   "name": "python3"
  },
  "language_info": {
   "codemirror_mode": {
    "name": "ipython",
    "version": 3
   },
   "file_extension": ".py",
   "mimetype": "text/x-python",
   "name": "python",
   "nbconvert_exporter": "python",
   "pygments_lexer": "ipython3",
   "version": "3.11.5"
  }
 },
 "nbformat": 4,
 "nbformat_minor": 2
}
