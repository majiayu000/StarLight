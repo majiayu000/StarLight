{
 "cells": [
  {
   "cell_type": "code",
   "execution_count": 2,
   "metadata": {},
   "outputs": [],
   "source": [
    "from langchain.llms import OpenAI\n",
    "from langchain.memory import ConversationKGMemory"
   ]
  },
  {
   "cell_type": "code",
   "execution_count": 3,
   "metadata": {},
   "outputs": [],
   "source": [
    "llm = OpenAI(temperature=0)\n",
    "memory = ConversationKGMemory(llm=llm)\n",
    "memory.save_context({\"input\": \"say hi to sam\"}, {\"output\": \"who is sam\"})\n",
    "memory.save_context({\"input\": \"sam is a friend\"}, {\"output\": \"Okay\"})"
   ]
  },
  {
   "cell_type": "code",
   "execution_count": 4,
   "metadata": {},
   "outputs": [
    {
     "data": {
      "text/plain": [
       "{'history': 'On Sam: Sam is friend.'}"
      ]
     },
     "execution_count": 4,
     "metadata": {},
     "output_type": "execute_result"
    }
   ],
   "source": [
    "memory.load_memory_variables({\"input\": \"who is sam\"})"
   ]
  },
  {
   "cell_type": "code",
   "execution_count": 6,
   "metadata": {},
   "outputs": [
    {
     "data": {
      "text/plain": [
       "{'history': ''}"
      ]
     },
     "execution_count": 6,
     "metadata": {},
     "output_type": "execute_result"
    }
   ],
   "source": [
    "memory.load_memory_variables({\"input\": \"who is bob\"})"
   ]
  },
  {
   "cell_type": "code",
   "execution_count": 7,
   "metadata": {},
   "outputs": [],
   "source": [
    "memory = ConversationKGMemory(llm=llm, return_messages=True)\n",
    "memory.save_context({\"input\": \"say hi to sam\"}, {\"output\": \"who is sam\"})\n",
    "memory.save_context({\"input\": \"sam is a friend\"}, {\"output\": \"Okay\"})"
   ]
  },
  {
   "cell_type": "code",
   "execution_count": 9,
   "metadata": {},
   "outputs": [
    {
     "data": {
      "text/plain": [
       "{'history': [SystemMessage(content='On Sam: Sam is friend.')]}"
      ]
     },
     "execution_count": 9,
     "metadata": {},
     "output_type": "execute_result"
    }
   ],
   "source": [
    "memory.load_memory_variables({\"input\": \"who is sam\"})"
   ]
  },
  {
   "cell_type": "code",
   "execution_count": 10,
   "metadata": {},
   "outputs": [
    {
     "data": {
      "text/plain": [
       "['Sam']"
      ]
     },
     "execution_count": 10,
     "metadata": {},
     "output_type": "execute_result"
    }
   ],
   "source": [
    "memory.get_current_entities(\"what's Sams favorite color?\")"
   ]
  },
  {
   "cell_type": "code",
   "execution_count": 11,
   "metadata": {},
   "outputs": [
    {
     "data": {
      "text/plain": [
       "[KnowledgeTriple(subject='Sam', predicate='favorite color', object_='blue')]"
      ]
     },
     "execution_count": 11,
     "metadata": {},
     "output_type": "execute_result"
    }
   ],
   "source": [
    "memory.get_knowledge_triplets(\"her favorite color is blue\")"
   ]
  },
  {
   "cell_type": "code",
   "execution_count": 12,
   "metadata": {},
   "outputs": [],
   "source": [
    "from langchain.globals import set_verbose\n",
    "\n",
    "set_verbose(True)"
   ]
  },
  {
   "cell_type": "code",
   "execution_count": 13,
   "metadata": {},
   "outputs": [
    {
     "name": "stdout",
     "output_type": "stream",
     "text": [
      "\n",
      "\n",
      "\u001b[1m> Entering new LLMChain chain...\u001b[0m\n",
      "Prompt after formatting:\n",
      "\u001b[32;1m\u001b[1;3mYou are a networked intelligence helping a human track knowledge triples about all relevant people, things, concepts, etc. and integrating them with your knowledge stored within your weights as well as that stored in a knowledge graph. Extract all of the knowledge triples from the last line of conversation. A knowledge triple is a clause that contains a subject, a predicate, and an object. The subject is the entity being described, the predicate is the property of the subject that is being described, and the object is the value of the property.\n",
      "\n",
      "EXAMPLE\n",
      "Conversation history:\n",
      "Person #1: Did you hear aliens landed in Area 51?\n",
      "AI: No, I didn't hear that. What do you know about Area 51?\n",
      "Person #1: It's a secret military base in Nevada.\n",
      "AI: What do you know about Nevada?\n",
      "Last line of conversation:\n",
      "Person #1: It's a state in the US. It's also the number 1 producer of gold in the US.\n",
      "\n",
      "Output: (Nevada, is a, state)<|>(Nevada, is in, US)<|>(Nevada, is the number 1 producer of, gold)\n",
      "END OF EXAMPLE\n",
      "\n",
      "EXAMPLE\n",
      "Conversation history:\n",
      "Person #1: Hello.\n",
      "AI: Hi! How are you?\n",
      "Person #1: I'm good. How are you?\n",
      "AI: I'm good too.\n",
      "Last line of conversation:\n",
      "Person #1: I'm going to the store.\n",
      "\n",
      "Output: NONE\n",
      "END OF EXAMPLE\n",
      "\n",
      "EXAMPLE\n",
      "Conversation history:\n",
      "Person #1: What do you know about Descartes?\n",
      "AI: Descartes was a French philosopher, mathematician, and scientist who lived in the 17th century.\n",
      "Person #1: The Descartes I'm referring to is a standup comedian and interior designer from Montreal.\n",
      "AI: Oh yes, He is a comedian and an interior designer. He has been in the industry for 30 years. His favorite food is baked bean pie.\n",
      "Last line of conversation:\n",
      "Person #1: Oh huh. I know Descartes likes to drive antique scooters and play the mandolin.\n",
      "Output: (Descartes, likes to drive, antique scooters)<|>(Descartes, plays, mandolin)\n",
      "END OF EXAMPLE\n",
      "\n",
      "Conversation history (for reference only):\n",
      "Human: say hi to sam\n",
      "AI: who is sam\n",
      "Human: sam is a friend\n",
      "AI: Okay\n",
      "Last line of conversation (for extraction):\n",
      "Human: her favorite color is blue\n",
      "\n",
      "Output:\u001b[0m\n",
      "\n",
      "\u001b[1m> Finished chain.\u001b[0m\n"
     ]
    },
    {
     "data": {
      "text/plain": [
       "[KnowledgeTriple(subject='Sam', predicate='favorite color', object_='blue')]"
      ]
     },
     "execution_count": 13,
     "metadata": {},
     "output_type": "execute_result"
    }
   ],
   "source": [
    "memory.get_knowledge_triplets(\"her favorite color is blue\")"
   ]
  },
  {
   "cell_type": "code",
   "execution_count": 14,
   "metadata": {},
   "outputs": [
    {
     "name": "stdout",
     "output_type": "stream",
     "text": [
      "\n",
      "\n",
      "\u001b[1m> Entering new LLMChain chain...\u001b[0m\n",
      "Prompt after formatting:\n",
      "\u001b[32;1m\u001b[1;3mYou are a networked intelligence helping a human track knowledge triples about all relevant people, things, concepts, etc. and integrating them with your knowledge stored within your weights as well as that stored in a knowledge graph. Extract all of the knowledge triples from the last line of conversation. A knowledge triple is a clause that contains a subject, a predicate, and an object. The subject is the entity being described, the predicate is the property of the subject that is being described, and the object is the value of the property.\n",
      "\n",
      "EXAMPLE\n",
      "Conversation history:\n",
      "Person #1: Did you hear aliens landed in Area 51?\n",
      "AI: No, I didn't hear that. What do you know about Area 51?\n",
      "Person #1: It's a secret military base in Nevada.\n",
      "AI: What do you know about Nevada?\n",
      "Last line of conversation:\n",
      "Person #1: It's a state in the US. It's also the number 1 producer of gold in the US.\n",
      "\n",
      "Output: (Nevada, is a, state)<|>(Nevada, is in, US)<|>(Nevada, is the number 1 producer of, gold)\n",
      "END OF EXAMPLE\n",
      "\n",
      "EXAMPLE\n",
      "Conversation history:\n",
      "Person #1: Hello.\n",
      "AI: Hi! How are you?\n",
      "Person #1: I'm good. How are you?\n",
      "AI: I'm good too.\n",
      "Last line of conversation:\n",
      "Person #1: I'm going to the store.\n",
      "\n",
      "Output: NONE\n",
      "END OF EXAMPLE\n",
      "\n",
      "EXAMPLE\n",
      "Conversation history:\n",
      "Person #1: What do you know about Descartes?\n",
      "AI: Descartes was a French philosopher, mathematician, and scientist who lived in the 17th century.\n",
      "Person #1: The Descartes I'm referring to is a standup comedian and interior designer from Montreal.\n",
      "AI: Oh yes, He is a comedian and an interior designer. He has been in the industry for 30 years. His favorite food is baked bean pie.\n",
      "Last line of conversation:\n",
      "Person #1: Oh huh. I know Descartes likes to drive antique scooters and play the mandolin.\n",
      "Output: (Descartes, likes to drive, antique scooters)<|>(Descartes, plays, mandolin)\n",
      "END OF EXAMPLE\n",
      "\n",
      "Conversation history (for reference only):\n",
      "Human: say hi to sam\n",
      "AI: who is sam\n",
      "Human: sam is a friend\n",
      "AI: Okay\n",
      "Last line of conversation (for extraction):\n",
      "Human: sam is a boy\n",
      "\n",
      "Output:\u001b[0m\n",
      "\n",
      "\u001b[1m> Finished chain.\u001b[0m\n"
     ]
    },
    {
     "data": {
      "text/plain": [
       "[KnowledgeTriple(subject='Sam', predicate='is', object_='boy')]"
      ]
     },
     "execution_count": 14,
     "metadata": {},
     "output_type": "execute_result"
    }
   ],
   "source": [
    "memory.get_knowledge_triplets(\"sam is a boy\")"
   ]
  },
  {
   "cell_type": "code",
   "execution_count": null,
   "metadata": {},
   "outputs": [],
   "source": []
  }
 ],
 "metadata": {
  "kernelspec": {
   "display_name": "Python 3",
   "language": "python",
   "name": "python3"
  },
  "language_info": {
   "codemirror_mode": {
    "name": "ipython",
    "version": 3
   },
   "file_extension": ".py",
   "mimetype": "text/x-python",
   "name": "python",
   "nbconvert_exporter": "python",
   "pygments_lexer": "ipython3",
   "version": "3.11.2"
  }
 },
 "nbformat": 4,
 "nbformat_minor": 2
}
