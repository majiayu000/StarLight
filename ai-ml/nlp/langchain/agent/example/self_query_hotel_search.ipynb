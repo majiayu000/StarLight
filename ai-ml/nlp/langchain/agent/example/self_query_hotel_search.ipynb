{
  "cells": [
    {
      "cell_type": "markdown",
      "id": "f2605a68-4ec8-40c5-aefc-e5ae7b23b884",
      "metadata": {
        "id": "f2605a68-4ec8-40c5-aefc-e5ae7b23b884"
      },
      "source": [
        "# Building hotel room search with self-querying retrieval\n",
        "\n",
        "In this example we'll walk through how to build and iterate on a hotel room search service that leverages an LLM to generate structured filter queries that can then be passed to a vector store.\n",
        "\n",
        "For an introduction to self-querying retrieval [check out the docs](https://python.langchain.com/docs/modules/data_connection/retrievers/self_query)."
      ]
    },
    {
      "cell_type": "markdown",
      "id": "d621de99-d993-4f4b-b94a-d02b2c7ad4e0",
      "metadata": {
        "id": "d621de99-d993-4f4b-b94a-d02b2c7ad4e0"
      },
      "source": [
        "## Imports and data prep\n",
        "\n",
        "In this example we use `ChatOpenAI` for the model and `ElasticsearchStore` for the vector store, but these can be swapped out with an LLM/ChatModel and [any VectorStore that support self-querying](https://python.langchain.com/docs/integrations/retrievers/self_query/).\n",
        "\n",
        "Download data from: https://www.kaggle.com/datasets/keshavramaiah/hotel-recommendation"
      ]
    },
    {
      "cell_type": "code",
      "execution_count": null,
      "id": "8ecd1fbb-bdba-420b-bcc7-5ea8a232ab11",
      "metadata": {
        "colab": {
          "base_uri": "https://localhost:8080/"
        },
        "id": "8ecd1fbb-bdba-420b-bcc7-5ea8a232ab11",
        "outputId": "5f71641d-7889-466d-c618-5364d562f950"
      },
      "outputs": [
        {
          "output_type": "stream",
          "name": "stdout",
          "text": [
            "Collecting langchain\n",
            "  Downloading langchain-0.0.335-py3-none-any.whl (2.0 MB)\n",
            "\u001b[2K     \u001b[90m━━━━━━━━━━━━━━━━━━━━━━━━━━━━━━━━━━━━━━━━\u001b[0m \u001b[32m2.0/2.0 MB\u001b[0m \u001b[31m19.6 MB/s\u001b[0m eta \u001b[36m0:00:00\u001b[0m\n",
            "\u001b[?25hCollecting lark\n",
            "  Downloading lark-1.1.8-py3-none-any.whl (111 kB)\n",
            "\u001b[2K     \u001b[90m━━━━━━━━━━━━━━━━━━━━━━━━━━━━━━━━━━━━━━━━\u001b[0m \u001b[32m111.6/111.6 kB\u001b[0m \u001b[31m11.5 MB/s\u001b[0m eta \u001b[36m0:00:00\u001b[0m\n",
            "\u001b[?25hCollecting openai\n",
            "  Downloading openai-1.2.4-py3-none-any.whl (220 kB)\n",
            "\u001b[2K     \u001b[90m━━━━━━━━━━━━━━━━━━━━━━━━━━━━━━━━━━━━━━━━\u001b[0m \u001b[32m220.2/220.2 kB\u001b[0m \u001b[31m20.5 MB/s\u001b[0m eta \u001b[36m0:00:00\u001b[0m\n",
            "\u001b[?25hCollecting elasticsearch\n",
            "  Downloading elasticsearch-8.11.0-py3-none-any.whl (412 kB)\n",
            "\u001b[2K     \u001b[90m━━━━━━━━━━━━━━━━━━━━━━━━━━━━━━━━━━━━━━━━\u001b[0m \u001b[32m412.6/412.6 kB\u001b[0m \u001b[31m33.6 MB/s\u001b[0m eta \u001b[36m0:00:00\u001b[0m\n",
            "\u001b[?25hRequirement already satisfied: pandas in /usr/local/lib/python3.10/dist-packages (1.5.3)\n",
            "Requirement already satisfied: PyYAML>=5.3 in /usr/local/lib/python3.10/dist-packages (from langchain) (6.0.1)\n",
            "Requirement already satisfied: SQLAlchemy<3,>=1.4 in /usr/local/lib/python3.10/dist-packages (from langchain) (2.0.23)\n",
            "Requirement already satisfied: aiohttp<4.0.0,>=3.8.3 in /usr/local/lib/python3.10/dist-packages (from langchain) (3.8.6)\n",
            "Requirement already satisfied: anyio<4.0 in /usr/local/lib/python3.10/dist-packages (from langchain) (3.7.1)\n",
            "Requirement already satisfied: async-timeout<5.0.0,>=4.0.0 in /usr/local/lib/python3.10/dist-packages (from langchain) (4.0.3)\n",
            "Collecting dataclasses-json<0.7,>=0.5.7 (from langchain)\n",
            "  Downloading dataclasses_json-0.6.2-py3-none-any.whl (28 kB)\n",
            "Collecting jsonpatch<2.0,>=1.33 (from langchain)\n",
            "  Downloading jsonpatch-1.33-py2.py3-none-any.whl (12 kB)\n",
            "Collecting langsmith<0.1.0,>=0.0.63 (from langchain)\n",
            "  Downloading langsmith-0.0.64-py3-none-any.whl (45 kB)\n",
            "\u001b[2K     \u001b[90m━━━━━━━━━━━━━━━━━━━━━━━━━━━━━━━━━━━━━━━━\u001b[0m \u001b[32m45.5/45.5 kB\u001b[0m \u001b[31m4.4 MB/s\u001b[0m eta \u001b[36m0:00:00\u001b[0m\n",
            "\u001b[?25hRequirement already satisfied: numpy<2,>=1 in /usr/local/lib/python3.10/dist-packages (from langchain) (1.23.5)\n",
            "Requirement already satisfied: pydantic<3,>=1 in /usr/local/lib/python3.10/dist-packages (from langchain) (1.10.13)\n",
            "Requirement already satisfied: requests<3,>=2 in /usr/local/lib/python3.10/dist-packages (from langchain) (2.31.0)\n",
            "Requirement already satisfied: tenacity<9.0.0,>=8.1.0 in /usr/local/lib/python3.10/dist-packages (from langchain) (8.2.3)\n",
            "Requirement already satisfied: distro<2,>=1.7.0 in /usr/lib/python3/dist-packages (from openai) (1.7.0)\n",
            "Collecting httpx<1,>=0.23.0 (from openai)\n",
            "  Downloading httpx-0.25.1-py3-none-any.whl (75 kB)\n",
            "\u001b[2K     \u001b[90m━━━━━━━━━━━━━━━━━━━━━━━━━━━━━━━━━━━━━━━━\u001b[0m \u001b[32m75.0/75.0 kB\u001b[0m \u001b[31m9.6 MB/s\u001b[0m eta \u001b[36m0:00:00\u001b[0m\n",
            "\u001b[?25hRequirement already satisfied: tqdm>4 in /usr/local/lib/python3.10/dist-packages (from openai) (4.66.1)\n",
            "Requirement already satisfied: typing-extensions<5,>=4.5 in /usr/local/lib/python3.10/dist-packages (from openai) (4.5.0)\n",
            "Collecting elastic-transport<9,>=8 (from elasticsearch)\n",
            "  Downloading elastic_transport-8.10.0-py3-none-any.whl (59 kB)\n",
            "\u001b[2K     \u001b[90m━━━━━━━━━━━━━━━━━━━━━━━━━━━━━━━━━━━━━━━━\u001b[0m \u001b[32m59.8/59.8 kB\u001b[0m \u001b[31m6.0 MB/s\u001b[0m eta \u001b[36m0:00:00\u001b[0m\n",
            "\u001b[?25hRequirement already satisfied: python-dateutil>=2.8.1 in /usr/local/lib/python3.10/dist-packages (from pandas) (2.8.2)\n",
            "Requirement already satisfied: pytz>=2020.1 in /usr/local/lib/python3.10/dist-packages (from pandas) (2023.3.post1)\n",
            "Requirement already satisfied: attrs>=17.3.0 in /usr/local/lib/python3.10/dist-packages (from aiohttp<4.0.0,>=3.8.3->langchain) (23.1.0)\n",
            "Requirement already satisfied: charset-normalizer<4.0,>=2.0 in /usr/local/lib/python3.10/dist-packages (from aiohttp<4.0.0,>=3.8.3->langchain) (3.3.2)\n",
            "Requirement already satisfied: multidict<7.0,>=4.5 in /usr/local/lib/python3.10/dist-packages (from aiohttp<4.0.0,>=3.8.3->langchain) (6.0.4)\n",
            "Requirement already satisfied: yarl<2.0,>=1.0 in /usr/local/lib/python3.10/dist-packages (from aiohttp<4.0.0,>=3.8.3->langchain) (1.9.2)\n",
            "Requirement already satisfied: frozenlist>=1.1.1 in /usr/local/lib/python3.10/dist-packages (from aiohttp<4.0.0,>=3.8.3->langchain) (1.4.0)\n",
            "Requirement already satisfied: aiosignal>=1.1.2 in /usr/local/lib/python3.10/dist-packages (from aiohttp<4.0.0,>=3.8.3->langchain) (1.3.1)\n",
            "Requirement already satisfied: idna>=2.8 in /usr/local/lib/python3.10/dist-packages (from anyio<4.0->langchain) (3.4)\n",
            "Requirement already satisfied: sniffio>=1.1 in /usr/local/lib/python3.10/dist-packages (from anyio<4.0->langchain) (1.3.0)\n",
            "Requirement already satisfied: exceptiongroup in /usr/local/lib/python3.10/dist-packages (from anyio<4.0->langchain) (1.1.3)\n",
            "Collecting marshmallow<4.0.0,>=3.18.0 (from dataclasses-json<0.7,>=0.5.7->langchain)\n",
            "  Downloading marshmallow-3.20.1-py3-none-any.whl (49 kB)\n",
            "\u001b[2K     \u001b[90m━━━━━━━━━━━━━━━━━━━━━━━━━━━━━━━━━━━━━━━━\u001b[0m \u001b[32m49.4/49.4 kB\u001b[0m \u001b[31m6.6 MB/s\u001b[0m eta \u001b[36m0:00:00\u001b[0m\n",
            "\u001b[?25hCollecting typing-inspect<1,>=0.4.0 (from dataclasses-json<0.7,>=0.5.7->langchain)\n",
            "  Downloading typing_inspect-0.9.0-py3-none-any.whl (8.8 kB)\n",
            "Requirement already satisfied: urllib3<3,>=1.26.2 in /usr/local/lib/python3.10/dist-packages (from elastic-transport<9,>=8->elasticsearch) (2.0.7)\n",
            "Requirement already satisfied: certifi in /usr/local/lib/python3.10/dist-packages (from elastic-transport<9,>=8->elasticsearch) (2023.7.22)\n",
            "Collecting httpcore (from httpx<1,>=0.23.0->openai)\n",
            "  Downloading httpcore-1.0.2-py3-none-any.whl (76 kB)\n",
            "\u001b[2K     \u001b[90m━━━━━━━━━━━━━━━━━━━━━━━━━━━━━━━━━━━━━━━━\u001b[0m \u001b[32m76.9/76.9 kB\u001b[0m \u001b[31m11.0 MB/s\u001b[0m eta \u001b[36m0:00:00\u001b[0m\n",
            "\u001b[?25hCollecting jsonpointer>=1.9 (from jsonpatch<2.0,>=1.33->langchain)\n",
            "  Downloading jsonpointer-2.4-py2.py3-none-any.whl (7.8 kB)\n",
            "Requirement already satisfied: six>=1.5 in /usr/local/lib/python3.10/dist-packages (from python-dateutil>=2.8.1->pandas) (1.16.0)\n",
            "Requirement already satisfied: greenlet!=0.4.17 in /usr/local/lib/python3.10/dist-packages (from SQLAlchemy<3,>=1.4->langchain) (3.0.1)\n",
            "Requirement already satisfied: packaging>=17.0 in /usr/local/lib/python3.10/dist-packages (from marshmallow<4.0.0,>=3.18.0->dataclasses-json<0.7,>=0.5.7->langchain) (23.2)\n",
            "Collecting mypy-extensions>=0.3.0 (from typing-inspect<1,>=0.4.0->dataclasses-json<0.7,>=0.5.7->langchain)\n",
            "  Downloading mypy_extensions-1.0.0-py3-none-any.whl (4.7 kB)\n",
            "Collecting h11<0.15,>=0.13 (from httpcore->httpx<1,>=0.23.0->openai)\n",
            "  Downloading h11-0.14.0-py3-none-any.whl (58 kB)\n",
            "\u001b[2K     \u001b[90m━━━━━━━━━━━━━━━━━━━━━━━━━━━━━━━━━━━━━━━━\u001b[0m \u001b[32m58.3/58.3 kB\u001b[0m \u001b[31m7.5 MB/s\u001b[0m eta \u001b[36m0:00:00\u001b[0m\n",
            "\u001b[?25hInstalling collected packages: mypy-extensions, marshmallow, lark, jsonpointer, h11, elastic-transport, typing-inspect, langsmith, jsonpatch, httpcore, elasticsearch, httpx, dataclasses-json, openai, langchain\n",
            "\u001b[31mERROR: pip's dependency resolver does not currently take into account all the packages that are installed. This behaviour is the source of the following dependency conflicts.\n",
            "llmx 0.0.15a0 requires cohere, which is not installed.\n",
            "llmx 0.0.15a0 requires tiktoken, which is not installed.\u001b[0m\u001b[31m\n",
            "\u001b[0mSuccessfully installed dataclasses-json-0.6.2 elastic-transport-8.10.0 elasticsearch-8.11.0 h11-0.14.0 httpcore-1.0.2 httpx-0.25.1 jsonpatch-1.33 jsonpointer-2.4 langchain-0.0.335 langsmith-0.0.64 lark-1.1.8 marshmallow-3.20.1 mypy-extensions-1.0.0 openai-1.2.4 typing-inspect-0.9.0\n"
          ]
        }
      ],
      "source": [
        "!pip install langchain lark openai elasticsearch pandas"
      ]
    },
    {
      "cell_type": "code",
      "execution_count": 1,
      "id": "14d48ff6-2552-4b95-95a9-42dd444471d9",
      "metadata": {
        "id": "14d48ff6-2552-4b95-95a9-42dd444471d9"
      },
      "outputs": [],
      "source": [
        "import pandas as pd"
      ]
    },
    {
      "cell_type": "code",
      "execution_count": 3,
      "id": "b852ec6e-7bf6-405e-ae7f-f457eb6e17f1",
      "metadata": {
        "id": "b852ec6e-7bf6-405e-ae7f-f457eb6e17f1"
      },
      "outputs": [],
      "source": [
        "details = (\n",
        "    pd.read_csv(\"/content/Hotel_details.csv\")\n",
        "    .drop_duplicates(subset=\"hotelid\")\n",
        "    .set_index(\"hotelid\")\n",
        ")\n",
        "attributes = pd.read_csv(\n",
        "    \"./Hotel_Room_attributes.csv\", index_col=\"id\"\n",
        ")\n",
        "price = pd.read_csv(\"./hotels_RoomPrice.csv\", index_col=\"id\")"
      ]
    },
    {
      "cell_type": "code",
      "execution_count": 4,
      "id": "35a32177-2ca5-4d10-b8dc-f34c25795630",
      "metadata": {
        "id": "35a32177-2ca5-4d10-b8dc-f34c25795630",
        "outputId": "226cfe33-0ac6-405f-c579-86bdb5591c58",
        "colab": {
          "base_uri": "https://localhost:8080/",
          "height": 310
        }
      },
      "outputs": [
        {
          "output_type": "execute_result",
          "data": {
            "text/plain": [
              "                                  roomtype  onsiterate  \\\n",
              "0                            Vacation Home      636.09   \n",
              "1                            Vacation Home      591.74   \n",
              "2  Guest room, Queen or Twin/Single Bed(s)        0.00   \n",
              "3         Bargemaster King Accessible Room      379.08   \n",
              "4                                Twin Room      156.17   \n",
              "\n",
              "                                       roomamenities  maxoccupancy  \\\n",
              "0  Air conditioning: ;Closet: ;Fireplace: ;Free W...           4.0   \n",
              "1  Air conditioning: ;Closet: ;Dishwasher: ;Firep...           4.0   \n",
              "2                                                NaN           2.0   \n",
              "3  Air conditioning: ;Free Wi-Fi in all rooms!: ;...           2.0   \n",
              "4  Additional toilet: ;Air conditioning: ;Blackou...           2.0   \n",
              "\n",
              "                                     roomdescription  \\\n",
              "0  Shower, Kitchenette, 2 bedrooms, 1 double bed ...   \n",
              "1  Shower, Kitchenette, 2 bedrooms, 1 double bed ...   \n",
              "2                                                NaN   \n",
              "3                                             Shower   \n",
              "4  Room size: 15 m²/161 ft², Non-smoking, Shower,...   \n",
              "\n",
              "                           hotelname        city         country  starrating  \\\n",
              "0                          Pantlleni  Beddgelert  United Kingdom         3.0   \n",
              "1                     Willow Cottage    Beverley  United Kingdom         3.0   \n",
              "2  AC Hotel Manchester Salford Quays  Manchester  United Kingdom         4.0   \n",
              "3                                NaN         NaN             NaN         NaN   \n",
              "4           Ibis London Canning Town      London  United Kingdom         3.0   \n",
              "\n",
              "   mealsincluded  \n",
              "0          False  \n",
              "1          False  \n",
              "2          False  \n",
              "3           True  \n",
              "4           True  "
            ],
            "text/html": [
              "\n",
              "  <div id=\"df-6b73d8bb-300f-46b4-b9f4-745e5eb510bc\" class=\"colab-df-container\">\n",
              "    <div>\n",
              "<style scoped>\n",
              "    .dataframe tbody tr th:only-of-type {\n",
              "        vertical-align: middle;\n",
              "    }\n",
              "\n",
              "    .dataframe tbody tr th {\n",
              "        vertical-align: top;\n",
              "    }\n",
              "\n",
              "    .dataframe thead th {\n",
              "        text-align: right;\n",
              "    }\n",
              "</style>\n",
              "<table border=\"1\" class=\"dataframe\">\n",
              "  <thead>\n",
              "    <tr style=\"text-align: right;\">\n",
              "      <th></th>\n",
              "      <th>roomtype</th>\n",
              "      <th>onsiterate</th>\n",
              "      <th>roomamenities</th>\n",
              "      <th>maxoccupancy</th>\n",
              "      <th>roomdescription</th>\n",
              "      <th>hotelname</th>\n",
              "      <th>city</th>\n",
              "      <th>country</th>\n",
              "      <th>starrating</th>\n",
              "      <th>mealsincluded</th>\n",
              "    </tr>\n",
              "  </thead>\n",
              "  <tbody>\n",
              "    <tr>\n",
              "      <th>0</th>\n",
              "      <td>Vacation Home</td>\n",
              "      <td>636.09</td>\n",
              "      <td>Air conditioning: ;Closet: ;Fireplace: ;Free W...</td>\n",
              "      <td>4.0</td>\n",
              "      <td>Shower, Kitchenette, 2 bedrooms, 1 double bed ...</td>\n",
              "      <td>Pantlleni</td>\n",
              "      <td>Beddgelert</td>\n",
              "      <td>United Kingdom</td>\n",
              "      <td>3.0</td>\n",
              "      <td>False</td>\n",
              "    </tr>\n",
              "    <tr>\n",
              "      <th>1</th>\n",
              "      <td>Vacation Home</td>\n",
              "      <td>591.74</td>\n",
              "      <td>Air conditioning: ;Closet: ;Dishwasher: ;Firep...</td>\n",
              "      <td>4.0</td>\n",
              "      <td>Shower, Kitchenette, 2 bedrooms, 1 double bed ...</td>\n",
              "      <td>Willow Cottage</td>\n",
              "      <td>Beverley</td>\n",
              "      <td>United Kingdom</td>\n",
              "      <td>3.0</td>\n",
              "      <td>False</td>\n",
              "    </tr>\n",
              "    <tr>\n",
              "      <th>2</th>\n",
              "      <td>Guest room, Queen or Twin/Single Bed(s)</td>\n",
              "      <td>0.00</td>\n",
              "      <td>NaN</td>\n",
              "      <td>2.0</td>\n",
              "      <td>NaN</td>\n",
              "      <td>AC Hotel Manchester Salford Quays</td>\n",
              "      <td>Manchester</td>\n",
              "      <td>United Kingdom</td>\n",
              "      <td>4.0</td>\n",
              "      <td>False</td>\n",
              "    </tr>\n",
              "    <tr>\n",
              "      <th>3</th>\n",
              "      <td>Bargemaster King Accessible Room</td>\n",
              "      <td>379.08</td>\n",
              "      <td>Air conditioning: ;Free Wi-Fi in all rooms!: ;...</td>\n",
              "      <td>2.0</td>\n",
              "      <td>Shower</td>\n",
              "      <td>NaN</td>\n",
              "      <td>NaN</td>\n",
              "      <td>NaN</td>\n",
              "      <td>NaN</td>\n",
              "      <td>True</td>\n",
              "    </tr>\n",
              "    <tr>\n",
              "      <th>4</th>\n",
              "      <td>Twin Room</td>\n",
              "      <td>156.17</td>\n",
              "      <td>Additional toilet: ;Air conditioning: ;Blackou...</td>\n",
              "      <td>2.0</td>\n",
              "      <td>Room size: 15 m²/161 ft², Non-smoking, Shower,...</td>\n",
              "      <td>Ibis London Canning Town</td>\n",
              "      <td>London</td>\n",
              "      <td>United Kingdom</td>\n",
              "      <td>3.0</td>\n",
              "      <td>True</td>\n",
              "    </tr>\n",
              "  </tbody>\n",
              "</table>\n",
              "</div>\n",
              "    <div class=\"colab-df-buttons\">\n",
              "\n",
              "  <div class=\"colab-df-container\">\n",
              "    <button class=\"colab-df-convert\" onclick=\"convertToInteractive('df-6b73d8bb-300f-46b4-b9f4-745e5eb510bc')\"\n",
              "            title=\"Convert this dataframe to an interactive table.\"\n",
              "            style=\"display:none;\">\n",
              "\n",
              "  <svg xmlns=\"http://www.w3.org/2000/svg\" height=\"24px\" viewBox=\"0 -960 960 960\">\n",
              "    <path d=\"M120-120v-720h720v720H120Zm60-500h600v-160H180v160Zm220 220h160v-160H400v160Zm0 220h160v-160H400v160ZM180-400h160v-160H180v160Zm440 0h160v-160H620v160ZM180-180h160v-160H180v160Zm440 0h160v-160H620v160Z\"/>\n",
              "  </svg>\n",
              "    </button>\n",
              "\n",
              "  <style>\n",
              "    .colab-df-container {\n",
              "      display:flex;\n",
              "      gap: 12px;\n",
              "    }\n",
              "\n",
              "    .colab-df-convert {\n",
              "      background-color: #E8F0FE;\n",
              "      border: none;\n",
              "      border-radius: 50%;\n",
              "      cursor: pointer;\n",
              "      display: none;\n",
              "      fill: #1967D2;\n",
              "      height: 32px;\n",
              "      padding: 0 0 0 0;\n",
              "      width: 32px;\n",
              "    }\n",
              "\n",
              "    .colab-df-convert:hover {\n",
              "      background-color: #E2EBFA;\n",
              "      box-shadow: 0px 1px 2px rgba(60, 64, 67, 0.3), 0px 1px 3px 1px rgba(60, 64, 67, 0.15);\n",
              "      fill: #174EA6;\n",
              "    }\n",
              "\n",
              "    .colab-df-buttons div {\n",
              "      margin-bottom: 4px;\n",
              "    }\n",
              "\n",
              "    [theme=dark] .colab-df-convert {\n",
              "      background-color: #3B4455;\n",
              "      fill: #D2E3FC;\n",
              "    }\n",
              "\n",
              "    [theme=dark] .colab-df-convert:hover {\n",
              "      background-color: #434B5C;\n",
              "      box-shadow: 0px 1px 3px 1px rgba(0, 0, 0, 0.15);\n",
              "      filter: drop-shadow(0px 1px 2px rgba(0, 0, 0, 0.3));\n",
              "      fill: #FFFFFF;\n",
              "    }\n",
              "  </style>\n",
              "\n",
              "    <script>\n",
              "      const buttonEl =\n",
              "        document.querySelector('#df-6b73d8bb-300f-46b4-b9f4-745e5eb510bc button.colab-df-convert');\n",
              "      buttonEl.style.display =\n",
              "        google.colab.kernel.accessAllowed ? 'block' : 'none';\n",
              "\n",
              "      async function convertToInteractive(key) {\n",
              "        const element = document.querySelector('#df-6b73d8bb-300f-46b4-b9f4-745e5eb510bc');\n",
              "        const dataTable =\n",
              "          await google.colab.kernel.invokeFunction('convertToInteractive',\n",
              "                                                    [key], {});\n",
              "        if (!dataTable) return;\n",
              "\n",
              "        const docLinkHtml = 'Like what you see? Visit the ' +\n",
              "          '<a target=\"_blank\" href=https://colab.research.google.com/notebooks/data_table.ipynb>data table notebook</a>'\n",
              "          + ' to learn more about interactive tables.';\n",
              "        element.innerHTML = '';\n",
              "        dataTable['output_type'] = 'display_data';\n",
              "        await google.colab.output.renderOutput(dataTable, element);\n",
              "        const docLink = document.createElement('div');\n",
              "        docLink.innerHTML = docLinkHtml;\n",
              "        element.appendChild(docLink);\n",
              "      }\n",
              "    </script>\n",
              "  </div>\n",
              "\n",
              "\n",
              "<div id=\"df-9d028717-7e52-4db4-83a9-e7c11901177e\">\n",
              "  <button class=\"colab-df-quickchart\" onclick=\"quickchart('df-9d028717-7e52-4db4-83a9-e7c11901177e')\"\n",
              "            title=\"Suggest charts\"\n",
              "            style=\"display:none;\">\n",
              "\n",
              "<svg xmlns=\"http://www.w3.org/2000/svg\" height=\"24px\"viewBox=\"0 0 24 24\"\n",
              "     width=\"24px\">\n",
              "    <g>\n",
              "        <path d=\"M19 3H5c-1.1 0-2 .9-2 2v14c0 1.1.9 2 2 2h14c1.1 0 2-.9 2-2V5c0-1.1-.9-2-2-2zM9 17H7v-7h2v7zm4 0h-2V7h2v10zm4 0h-2v-4h2v4z\"/>\n",
              "    </g>\n",
              "</svg>\n",
              "  </button>\n",
              "\n",
              "<style>\n",
              "  .colab-df-quickchart {\n",
              "      --bg-color: #E8F0FE;\n",
              "      --fill-color: #1967D2;\n",
              "      --hover-bg-color: #E2EBFA;\n",
              "      --hover-fill-color: #174EA6;\n",
              "      --disabled-fill-color: #AAA;\n",
              "      --disabled-bg-color: #DDD;\n",
              "  }\n",
              "\n",
              "  [theme=dark] .colab-df-quickchart {\n",
              "      --bg-color: #3B4455;\n",
              "      --fill-color: #D2E3FC;\n",
              "      --hover-bg-color: #434B5C;\n",
              "      --hover-fill-color: #FFFFFF;\n",
              "      --disabled-bg-color: #3B4455;\n",
              "      --disabled-fill-color: #666;\n",
              "  }\n",
              "\n",
              "  .colab-df-quickchart {\n",
              "    background-color: var(--bg-color);\n",
              "    border: none;\n",
              "    border-radius: 50%;\n",
              "    cursor: pointer;\n",
              "    display: none;\n",
              "    fill: var(--fill-color);\n",
              "    height: 32px;\n",
              "    padding: 0;\n",
              "    width: 32px;\n",
              "  }\n",
              "\n",
              "  .colab-df-quickchart:hover {\n",
              "    background-color: var(--hover-bg-color);\n",
              "    box-shadow: 0 1px 2px rgba(60, 64, 67, 0.3), 0 1px 3px 1px rgba(60, 64, 67, 0.15);\n",
              "    fill: var(--button-hover-fill-color);\n",
              "  }\n",
              "\n",
              "  .colab-df-quickchart-complete:disabled,\n",
              "  .colab-df-quickchart-complete:disabled:hover {\n",
              "    background-color: var(--disabled-bg-color);\n",
              "    fill: var(--disabled-fill-color);\n",
              "    box-shadow: none;\n",
              "  }\n",
              "\n",
              "  .colab-df-spinner {\n",
              "    border: 2px solid var(--fill-color);\n",
              "    border-color: transparent;\n",
              "    border-bottom-color: var(--fill-color);\n",
              "    animation:\n",
              "      spin 1s steps(1) infinite;\n",
              "  }\n",
              "\n",
              "  @keyframes spin {\n",
              "    0% {\n",
              "      border-color: transparent;\n",
              "      border-bottom-color: var(--fill-color);\n",
              "      border-left-color: var(--fill-color);\n",
              "    }\n",
              "    20% {\n",
              "      border-color: transparent;\n",
              "      border-left-color: var(--fill-color);\n",
              "      border-top-color: var(--fill-color);\n",
              "    }\n",
              "    30% {\n",
              "      border-color: transparent;\n",
              "      border-left-color: var(--fill-color);\n",
              "      border-top-color: var(--fill-color);\n",
              "      border-right-color: var(--fill-color);\n",
              "    }\n",
              "    40% {\n",
              "      border-color: transparent;\n",
              "      border-right-color: var(--fill-color);\n",
              "      border-top-color: var(--fill-color);\n",
              "    }\n",
              "    60% {\n",
              "      border-color: transparent;\n",
              "      border-right-color: var(--fill-color);\n",
              "    }\n",
              "    80% {\n",
              "      border-color: transparent;\n",
              "      border-right-color: var(--fill-color);\n",
              "      border-bottom-color: var(--fill-color);\n",
              "    }\n",
              "    90% {\n",
              "      border-color: transparent;\n",
              "      border-bottom-color: var(--fill-color);\n",
              "    }\n",
              "  }\n",
              "</style>\n",
              "\n",
              "  <script>\n",
              "    async function quickchart(key) {\n",
              "      const quickchartButtonEl =\n",
              "        document.querySelector('#' + key + ' button');\n",
              "      quickchartButtonEl.disabled = true;  // To prevent multiple clicks.\n",
              "      quickchartButtonEl.classList.add('colab-df-spinner');\n",
              "      try {\n",
              "        const charts = await google.colab.kernel.invokeFunction(\n",
              "            'suggestCharts', [key], {});\n",
              "      } catch (error) {\n",
              "        console.error('Error during call to suggestCharts:', error);\n",
              "      }\n",
              "      quickchartButtonEl.classList.remove('colab-df-spinner');\n",
              "      quickchartButtonEl.classList.add('colab-df-quickchart-complete');\n",
              "    }\n",
              "    (() => {\n",
              "      let quickchartButtonEl =\n",
              "        document.querySelector('#df-9d028717-7e52-4db4-83a9-e7c11901177e button');\n",
              "      quickchartButtonEl.style.display =\n",
              "        google.colab.kernel.accessAllowed ? 'block' : 'none';\n",
              "    })();\n",
              "  </script>\n",
              "</div>\n",
              "    </div>\n",
              "  </div>\n"
            ]
          },
          "metadata": {},
          "execution_count": 4
        }
      ],
      "source": [
        "latest_price = price.drop_duplicates(subset=\"refid\", keep=\"last\")[\n",
        "    [\n",
        "        \"hotelcode\",\n",
        "        \"roomtype\",\n",
        "        \"onsiterate\",\n",
        "        \"roomamenities\",\n",
        "        \"maxoccupancy\",\n",
        "        \"mealinclusiontype\",\n",
        "    ]\n",
        "]\n",
        "latest_price[\"ratedescription\"] = attributes.loc[latest_price.index][\"ratedescription\"]\n",
        "latest_price = latest_price.join(\n",
        "    details[[\"hotelname\", \"city\", \"country\", \"starrating\"]], on=\"hotelcode\"\n",
        ")\n",
        "latest_price = latest_price.rename({\"ratedescription\": \"roomdescription\"}, axis=1)\n",
        "latest_price[\"mealsincluded\"] = ~latest_price[\"mealinclusiontype\"].isnull()\n",
        "latest_price.pop(\"hotelcode\")\n",
        "latest_price.pop(\"mealinclusiontype\")\n",
        "latest_price = latest_price.reset_index(drop=True)\n",
        "latest_price.head()"
      ]
    },
    {
      "cell_type": "markdown",
      "id": "1e4742af-c178-4cf7-a548-b97b3e37bd55",
      "metadata": {
        "id": "1e4742af-c178-4cf7-a548-b97b3e37bd55"
      },
      "source": [
        "## Describe data attributes\n",
        "\n",
        "We'll use a self-query retriever, which requires us to describe the metadata we can filter on.\n",
        "\n",
        "Or if we're feeling lazy we can have a model write a draft of the descriptions for us :)"
      ]
    },
    {
      "cell_type": "code",
      "source": [
        "from google.colab import userdata\n",
        "\n",
        "\n",
        "api_key = userdata.get('us_api_key')\n",
        "base_url = userdata.get('us_url')"
      ],
      "metadata": {
        "id": "kvbOELqBuoYA"
      },
      "id": "kvbOELqBuoYA",
      "execution_count": 6,
      "outputs": []
    },
    {
      "cell_type": "code",
      "execution_count": 15,
      "id": "5e2cb352-9111-47b8-9808-37228ba81f87",
      "metadata": {
        "id": "5e2cb352-9111-47b8-9808-37228ba81f87"
      },
      "outputs": [],
      "source": [
        "from langchain.chat_models import ChatOpenAI\n",
        "\n",
        "model = ChatOpenAI(openai_api_key=api_key, base_url=base_url, model=\"gpt-4\")\n",
        "res = model.predict(\n",
        "    \"Below is a table with information about hotel rooms. \"\n",
        "    \"Return a JSON list with an entry for each column. Each entry should have \"\n",
        "    '{\"name\": \"column name\", \"description\": \"column description\", \"type\": \"column data type\"}'\n",
        "    f\"\\n\\n{latest_price.head()}\\n\\nJSON:\\n\"\n",
        ")"
      ]
    },
    {
      "cell_type": "code",
      "execution_count": 18,
      "id": "d831664d-68cd-4dba-aad2-9248f10c7663",
      "metadata": {
        "id": "d831664d-68cd-4dba-aad2-9248f10c7663",
        "outputId": "1ac1c828-9e07-4af1-bda2-8d47925227c7",
        "colab": {
          "base_uri": "https://localhost:8080/"
        }
      },
      "outputs": [
        {
          "output_type": "execute_result",
          "data": {
            "text/plain": [
              "[{'name': 'roomtype',\n",
              "  'description': 'The type of room available in the hotel',\n",
              "  'type': 'string'},\n",
              " {'name': 'onsiterate',\n",
              "  'description': 'The rate of the room per night in dollars',\n",
              "  'type': 'float'},\n",
              " {'name': 'roomamenities',\n",
              "  'description': 'Amenities available in the room',\n",
              "  'type': 'string'},\n",
              " {'name': 'maxoccupancy',\n",
              "  'description': 'The maximum number of people that can occupy the room',\n",
              "  'type': 'float'},\n",
              " {'name': 'roomdescription',\n",
              "  'description': 'A description of the room',\n",
              "  'type': 'string'},\n",
              " {'name': 'hotelname',\n",
              "  'description': 'The name of the hotel',\n",
              "  'type': 'string'},\n",
              " {'name': 'city',\n",
              "  'description': 'The city where the hotel is located',\n",
              "  'type': 'string'},\n",
              " {'name': 'country',\n",
              "  'description': 'The country where the hotel is located',\n",
              "  'type': 'string'},\n",
              " {'name': 'starrating',\n",
              "  'description': 'The star rating of the hotel',\n",
              "  'type': 'float'},\n",
              " {'name': 'mealsincluded',\n",
              "  'description': 'Whether meals are included in the room rate',\n",
              "  'type': 'boolean'}]"
            ]
          },
          "metadata": {},
          "execution_count": 18
        }
      ],
      "source": [
        "import json\n",
        "\n",
        "attribute_info = json.loads(res)\n",
        "attribute_info"
      ]
    },
    {
      "cell_type": "markdown",
      "id": "aadb16c5-9f70-4bcc-b4fa-1af31bc8e38a",
      "metadata": {
        "id": "aadb16c5-9f70-4bcc-b4fa-1af31bc8e38a"
      },
      "source": [
        "For low cardinality features, let's include the valid values in the description"
      ]
    },
    {
      "cell_type": "code",
      "execution_count": 19,
      "id": "cce77f43-980a-4ab6-923a-0f9d70a093d6",
      "metadata": {
        "id": "cce77f43-980a-4ab6-923a-0f9d70a093d6",
        "outputId": "ddec58fe-f95c-48d0-a244-f3c9ff6df481",
        "colab": {
          "base_uri": "https://localhost:8080/"
        }
      },
      "outputs": [
        {
          "output_type": "execute_result",
          "data": {
            "text/plain": [
              "maxoccupancy      9\n",
              "country          24\n",
              "starrating        3\n",
              "mealsincluded     2\n",
              "dtype: int64"
            ]
          },
          "metadata": {},
          "execution_count": 19
        }
      ],
      "source": [
        "latest_price.nunique()[latest_price.nunique() < 40]"
      ]
    },
    {
      "cell_type": "code",
      "execution_count": 20,
      "id": "2db33ed8-4f91-4a2d-9613-9dd6c9fcdbcb",
      "metadata": {
        "id": "2db33ed8-4f91-4a2d-9613-9dd6c9fcdbcb"
      },
      "outputs": [],
      "source": [
        "attribute_info[-2][\n",
        "    \"description\"\n",
        "] += f\". Valid values are {sorted(latest_price['starrating'].value_counts().index.tolist())}\"\n",
        "attribute_info[3][\n",
        "    \"description\"\n",
        "] += f\". Valid values are {sorted(latest_price['maxoccupancy'].value_counts().index.tolist())}\"\n",
        "attribute_info[-3][\n",
        "    \"description\"\n",
        "] += f\". Valid values are {sorted(latest_price['country'].value_counts().index.tolist())}\""
      ]
    },
    {
      "cell_type": "code",
      "execution_count": 21,
      "id": "89c7461b-e6f7-4608-9929-ae952fb3348c",
      "metadata": {
        "id": "89c7461b-e6f7-4608-9929-ae952fb3348c",
        "outputId": "39bc360c-9aa8-4765-89d4-8b12ef882bb5",
        "colab": {
          "base_uri": "https://localhost:8080/"
        }
      },
      "outputs": [
        {
          "output_type": "execute_result",
          "data": {
            "text/plain": [
              "[{'name': 'roomtype',\n",
              "  'description': 'The type of room available in the hotel',\n",
              "  'type': 'string'},\n",
              " {'name': 'onsiterate',\n",
              "  'description': 'The rate of the room per night in dollars',\n",
              "  'type': 'float'},\n",
              " {'name': 'roomamenities',\n",
              "  'description': 'Amenities available in the room',\n",
              "  'type': 'string'},\n",
              " {'name': 'maxoccupancy',\n",
              "  'description': 'The maximum number of people that can occupy the room. Valid values are [1.0, 2.0, 3.0, 4.0, 5.0, 6.0, 7.0, 8.0, 10.0]',\n",
              "  'type': 'float'},\n",
              " {'name': 'roomdescription',\n",
              "  'description': 'A description of the room',\n",
              "  'type': 'string'},\n",
              " {'name': 'hotelname',\n",
              "  'description': 'The name of the hotel',\n",
              "  'type': 'string'},\n",
              " {'name': 'city',\n",
              "  'description': 'The city where the hotel is located',\n",
              "  'type': 'string'},\n",
              " {'name': 'country',\n",
              "  'description': \"The country where the hotel is located. Valid values are ['Austria', 'Belgium', 'Bulgaria', 'Croatia', 'Cyprus', 'Czech Republic', 'Finland', 'France', 'Germany', 'Greece', 'Italy', 'Latvia', 'Lithuania', 'Malta', 'Netherlands', 'Poland', 'Portugal', 'Romania', 'Slovakia', 'Slovenia', 'Spain', 'Sweden', 'Switzerland', 'United Kingdom']\",\n",
              "  'type': 'string'},\n",
              " {'name': 'starrating',\n",
              "  'description': 'The star rating of the hotel. Valid values are [2.0, 3.0, 4.0]',\n",
              "  'type': 'float'},\n",
              " {'name': 'mealsincluded',\n",
              "  'description': 'Whether meals are included in the room rate',\n",
              "  'type': 'boolean'}]"
            ]
          },
          "metadata": {},
          "execution_count": 21
        }
      ],
      "source": [
        "attribute_info"
      ]
    },
    {
      "cell_type": "markdown",
      "id": "81c75a25-9c64-4da6-87ae-580bd47962bb",
      "metadata": {
        "id": "81c75a25-9c64-4da6-87ae-580bd47962bb"
      },
      "source": [
        "## Creating a query constructor chain\n",
        "\n",
        "Let's take a look at the chain that will convert natural language requests into structured queries.\n",
        "\n",
        "To start we can just load the prompt and see what it looks like"
      ]
    },
    {
      "cell_type": "code",
      "execution_count": 22,
      "id": "b960f5f4-75f7-4a93-959f-b5293986b864",
      "metadata": {
        "id": "b960f5f4-75f7-4a93-959f-b5293986b864"
      },
      "outputs": [],
      "source": [
        "from langchain.chains.query_constructor.base import (\n",
        "    get_query_constructor_prompt,\n",
        "    load_query_constructor_runnable,\n",
        ")"
      ]
    },
    {
      "cell_type": "code",
      "execution_count": 23,
      "id": "bc85c90d-08fc-444f-b912-c6b2ac089bfd",
      "metadata": {
        "id": "bc85c90d-08fc-444f-b912-c6b2ac089bfd",
        "outputId": "9c4b030a-e6b1-4ab7-ff28-154db21ffbe0",
        "colab": {
          "base_uri": "https://localhost:8080/"
        }
      },
      "outputs": [
        {
          "output_type": "stream",
          "name": "stdout",
          "text": [
            "Your goal is to structure the user's query to match the request schema provided below.\n",
            "\n",
            "<< Structured Request Schema >>\n",
            "When responding use a markdown code snippet with a JSON object formatted in the following schema:\n",
            "\n",
            "```json\n",
            "{\n",
            "    \"query\": string \\ text string to compare to document contents\n",
            "    \"filter\": string \\ logical condition statement for filtering documents\n",
            "}\n",
            "```\n",
            "\n",
            "The query string should contain only text that is expected to match the contents of documents. Any conditions in the filter should not be mentioned in the query as well.\n",
            "\n",
            "A logical condition statement is composed of one or more comparison and logical operation statements.\n",
            "\n",
            "A comparison statement takes the form: `comp(attr, val)`:\n",
            "- `comp` (eq | ne | gt | gte | lt | lte | contain | like | in | nin): comparator\n",
            "- `attr` (string):  name of attribute to apply the comparison to\n",
            "- `val` (string): is the comparison value\n",
            "\n",
            "A logical operation statement takes the form `op(statement1, statement2, ...)`:\n",
            "- `op` (and | or | not): logical operator\n",
            "- `statement1`, `statement2`, ... (comparison statements or logical operation statements): one or more statements to apply the operation to\n",
            "\n",
            "Make sure that you only use the comparators and logical operators listed above and no others.\n",
            "Make sure that filters only refer to attributes that exist in the data source.\n",
            "Make sure that filters only use the attributed names with its function names if there are functions applied on them.\n",
            "Make sure that filters only use format `YYYY-MM-DD` when handling timestamp data typed values.\n",
            "Make sure that filters take into account the descriptions of attributes and only make comparisons that are feasible given the type of data being stored.\n",
            "Make sure that filters are only used as needed. If there are no filters that should be applied return \"NO_FILTER\" for the filter value.\n",
            "\n",
            "<< Example 1. >>\n",
            "Data Source:\n",
            "```json\n",
            "{\n",
            "    \"content\": \"Lyrics of a song\",\n",
            "    \"attributes\": {\n",
            "        \"artist\": {\n",
            "            \"type\": \"string\",\n",
            "            \"description\": \"Name of the song artist\"\n",
            "        },\n",
            "        \"length\": {\n",
            "            \"type\": \"integer\",\n",
            "            \"description\": \"Length of the song in seconds\"\n",
            "        },\n",
            "        \"genre\": {\n",
            "            \"type\": \"string\",\n",
            "            \"description\": \"The song genre, one of \"pop\", \"rock\" or \"rap\"\"\n",
            "        }\n",
            "    }\n",
            "}\n",
            "```\n",
            "\n",
            "User Query:\n",
            "What are songs by Taylor Swift or Katy Perry about teenage romance under 3 minutes long in the dance pop genre\n",
            "\n",
            "Structured Request:\n",
            "```json\n",
            "{\n",
            "    \"query\": \"teenager love\",\n",
            "    \"filter\": \"and(or(eq(\\\"artist\\\", \\\"Taylor Swift\\\"), eq(\\\"artist\\\", \\\"Katy Perry\\\")), lt(\\\"length\\\", 180), eq(\\\"genre\\\", \\\"pop\\\"))\"\n",
            "}\n",
            "```\n",
            "\n",
            "\n",
            "<< Example 2. >>\n",
            "Data Source:\n",
            "```json\n",
            "{\n",
            "    \"content\": \"Lyrics of a song\",\n",
            "    \"attributes\": {\n",
            "        \"artist\": {\n",
            "            \"type\": \"string\",\n",
            "            \"description\": \"Name of the song artist\"\n",
            "        },\n",
            "        \"length\": {\n",
            "            \"type\": \"integer\",\n",
            "            \"description\": \"Length of the song in seconds\"\n",
            "        },\n",
            "        \"genre\": {\n",
            "            \"type\": \"string\",\n",
            "            \"description\": \"The song genre, one of \"pop\", \"rock\" or \"rap\"\"\n",
            "        }\n",
            "    }\n",
            "}\n",
            "```\n",
            "\n",
            "User Query:\n",
            "What are songs that were not published on Spotify\n",
            "\n",
            "Structured Request:\n",
            "```json\n",
            "{\n",
            "    \"query\": \"\",\n",
            "    \"filter\": \"NO_FILTER\"\n",
            "}\n",
            "```\n",
            "\n",
            "\n",
            "<< Example 3. >>\n",
            "Data Source:\n",
            "```json\n",
            "{\n",
            "    \"content\": \"Detailed description of a hotel room\",\n",
            "    \"attributes\": {\n",
            "    \"roomtype\": {\n",
            "        \"description\": \"The type of room available in the hotel\",\n",
            "        \"type\": \"string\"\n",
            "    },\n",
            "    \"onsiterate\": {\n",
            "        \"description\": \"The rate of the room per night in dollars\",\n",
            "        \"type\": \"float\"\n",
            "    },\n",
            "    \"roomamenities\": {\n",
            "        \"description\": \"Amenities available in the room\",\n",
            "        \"type\": \"string\"\n",
            "    },\n",
            "    \"maxoccupancy\": {\n",
            "        \"description\": \"The maximum number of people that can occupy the room. Valid values are [1.0, 2.0, 3.0, 4.0, 5.0, 6.0, 7.0, 8.0, 10.0]\",\n",
            "        \"type\": \"float\"\n",
            "    },\n",
            "    \"roomdescription\": {\n",
            "        \"description\": \"A description of the room\",\n",
            "        \"type\": \"string\"\n",
            "    },\n",
            "    \"hotelname\": {\n",
            "        \"description\": \"The name of the hotel\",\n",
            "        \"type\": \"string\"\n",
            "    },\n",
            "    \"city\": {\n",
            "        \"description\": \"The city where the hotel is located\",\n",
            "        \"type\": \"string\"\n",
            "    },\n",
            "    \"country\": {\n",
            "        \"description\": \"The country where the hotel is located. Valid values are ['Austria', 'Belgium', 'Bulgaria', 'Croatia', 'Cyprus', 'Czech Republic', 'Finland', 'France', 'Germany', 'Greece', 'Italy', 'Latvia', 'Lithuania', 'Malta', 'Netherlands', 'Poland', 'Portugal', 'Romania', 'Slovakia', 'Slovenia', 'Spain', 'Sweden', 'Switzerland', 'United Kingdom']\",\n",
            "        \"type\": \"string\"\n",
            "    },\n",
            "    \"starrating\": {\n",
            "        \"description\": \"The star rating of the hotel. Valid values are [2.0, 3.0, 4.0]\",\n",
            "        \"type\": \"float\"\n",
            "    },\n",
            "    \"mealsincluded\": {\n",
            "        \"description\": \"Whether meals are included in the room rate\",\n",
            "        \"type\": \"boolean\"\n",
            "    }\n",
            "}\n",
            "}\n",
            "```\n",
            "\n",
            "User Query:\n",
            "{query}\n",
            "\n",
            "Structured Request:\n",
            "\n"
          ]
        }
      ],
      "source": [
        "doc_contents = \"Detailed description of a hotel room\"\n",
        "prompt = get_query_constructor_prompt(doc_contents, attribute_info)\n",
        "print(prompt.format(query=\"{query}\"))"
      ]
    },
    {
      "cell_type": "code",
      "execution_count": 24,
      "id": "1e7efcae-7943-4200-be43-5c5117ba1c9d",
      "metadata": {
        "id": "1e7efcae-7943-4200-be43-5c5117ba1c9d"
      },
      "outputs": [],
      "source": [
        "chain = load_query_constructor_runnable(\n",
        "    ChatOpenAI(openai_api_key=api_key, base_url=base_url , model=\"gpt-4-32k\", temperature=0), doc_contents, attribute_info\n",
        ")"
      ]
    },
    {
      "cell_type": "code",
      "execution_count": 25,
      "id": "74bf0cb2-84a5-45ef-8fc3-cbcffcaf0bbf",
      "metadata": {
        "id": "74bf0cb2-84a5-45ef-8fc3-cbcffcaf0bbf",
        "outputId": "59af211c-4be0-4308-8514-e86303b33947",
        "colab": {
          "base_uri": "https://localhost:8080/"
        }
      },
      "outputs": [
        {
          "output_type": "execute_result",
          "data": {
            "text/plain": [
              "StructuredQuery(query='hotel in Southern Europe', filter=Comparison(comparator=<Comparator.LTE: 'lte'>, attribute='onsiterate', value=200), limit=None)"
            ]
          },
          "metadata": {},
          "execution_count": 25
        }
      ],
      "source": [
        "chain.invoke({\"query\": \"I want a hotel in Southern Europe and my budget is 200 bucks.\"})"
      ]
    },
    {
      "cell_type": "code",
      "execution_count": 26,
      "id": "3ad704f3-679b-4dd2-b6c3-b4469ba60848",
      "metadata": {
        "id": "3ad704f3-679b-4dd2-b6c3-b4469ba60848",
        "outputId": "77fe55b8-a2a3-4df7-c7ae-370e33407ec5",
        "colab": {
          "base_uri": "https://localhost:8080/"
        }
      },
      "outputs": [
        {
          "output_type": "execute_result",
          "data": {
            "text/plain": [
              "StructuredQuery(query='AC', filter=Operation(operator=<Operator.AND: 'and'>, arguments=[Comparison(comparator=<Comparator.EQ: 'eq'>, attribute='maxoccupancy', value=2.0), Operation(operator=<Operator.OR: 'or'>, arguments=[Comparison(comparator=<Comparator.EQ: 'eq'>, attribute='city', value='Vienna'), Comparison(comparator=<Comparator.EQ: 'eq'>, attribute='city', value='London')]), Comparison(comparator=<Comparator.EQ: 'eq'>, attribute='mealsincluded', value=True)]), limit=None)"
            ]
          },
          "metadata": {},
          "execution_count": 26
        }
      ],
      "source": [
        "chain.invoke(\n",
        "    {\n",
        "        \"query\": \"Find a 2-person room in Vienna or London, preferably with meals included and AC\"\n",
        "    }\n",
        ")"
      ]
    },
    {
      "cell_type": "markdown",
      "id": "109591d0-758a-48ab-b337-41092c6d289f",
      "metadata": {
        "id": "109591d0-758a-48ab-b337-41092c6d289f"
      },
      "source": [
        "## Refining attribute descriptions\n",
        "\n",
        "We can see that at least two issues above. First is that when we ask for a Southern European destination we're only getting a filter for Italy, and second when we ask for AC we get a literal string lookup for AC (which isn't so bad but will miss things like 'Air conditioning').\n",
        "\n",
        "As a first step, let's try to update our description of the 'country' attribute to emphasize that equality should only be used when a specific country is mentioned."
      ]
    },
    {
      "cell_type": "code",
      "execution_count": 28,
      "id": "07b6a751-5122-4283-aa32-0f3bbc5e4354",
      "metadata": {
        "id": "07b6a751-5122-4283-aa32-0f3bbc5e4354"
      },
      "outputs": [],
      "source": [
        "attribute_info[-3][\n",
        "    \"description\"\n",
        "] += \". NOTE: Only use the 'eq' operator if a specific country is mentioned. If a region is mentioned, include all relevant countries in filter.\"\n",
        "chain = load_query_constructor_runnable(\n",
        "    ChatOpenAI(openai_api_key=api_key, base_url=base_url , model=\"gpt-4-32k\", temperature=0),\n",
        "    doc_contents,\n",
        "    attribute_info,\n",
        ")"
      ]
    },
    {
      "cell_type": "code",
      "execution_count": 29,
      "id": "ca33b44c-29bd-4d63-bb3e-ff8eabe1e86c",
      "metadata": {
        "id": "ca33b44c-29bd-4d63-bb3e-ff8eabe1e86c",
        "outputId": "a5dc6214-bce4-401a-98e7-e7361c9f2757",
        "colab": {
          "base_uri": "https://localhost:8080/"
        }
      },
      "outputs": [
        {
          "output_type": "execute_result",
          "data": {
            "text/plain": [
              "StructuredQuery(query='hotel', filter=Operation(operator=<Operator.AND: 'and'>, arguments=[Comparison(comparator=<Comparator.IN: 'in'>, attribute='country', value=['Italy', 'Greece', 'Spain', 'Portugal', 'Malta', 'Cyprus', 'Slovenia', 'Croatia']), Comparison(comparator=<Comparator.LTE: 'lte'>, attribute='onsiterate', value=200)]), limit=None)"
            ]
          },
          "metadata": {},
          "execution_count": 29
        }
      ],
      "source": [
        "chain.invoke({\"query\": \"I want a hotel in Southern Europe and my budget is 200 bucks.\"})"
      ]
    },
    {
      "cell_type": "markdown",
      "id": "eb793908-ea10-4a55-96b8-ab6915262c50",
      "metadata": {
        "id": "eb793908-ea10-4a55-96b8-ab6915262c50"
      },
      "source": [
        "## Refining which attributes to filter on\n",
        "\n",
        "This seems to have helped! Now let's try to narrow the attributes we're filtering on. More freeform attributes we can leave to the main query, which is better for capturing semantic meaning than searching for specific substrings."
      ]
    },
    {
      "cell_type": "code",
      "execution_count": 32,
      "id": "7ca32075-9361-48c1-b349-511a1dd4f908",
      "metadata": {
        "id": "7ca32075-9361-48c1-b349-511a1dd4f908"
      },
      "outputs": [],
      "source": [
        "content_attr = [\"roomtype\", \"roomamenities\", \"roomdescription\", \"hotelname\"]\n",
        "doc_contents = \"A detailed description of a hotel room, including information about the room type and room amenities.\"\n",
        "filter_attribute_info = tuple(\n",
        "    ai for ai in attribute_info if ai[\"name\"] not in content_attr\n",
        ")\n",
        "chain = load_query_constructor_runnable(\n",
        "    ChatOpenAI(openai_api_key=api_key, base_url=base_url , model=\"gpt-4-32k\", temperature=0),\n",
        "    doc_contents,\n",
        "    filter_attribute_info,\n",
        ")"
      ]
    },
    {
      "cell_type": "code",
      "execution_count": 33,
      "id": "8eb956af-a799-4267-a098-d443c975ee0f",
      "metadata": {
        "id": "8eb956af-a799-4267-a098-d443c975ee0f",
        "outputId": "e18c8da1-5d57-4864-d4f4-ca4d43154ab1",
        "colab": {
          "base_uri": "https://localhost:8080/"
        }
      },
      "outputs": [
        {
          "output_type": "execute_result",
          "data": {
            "text/plain": [
              "StructuredQuery(query='2-person room with meals included and AC', filter=Operation(operator=<Operator.OR: 'or'>, arguments=[Comparison(comparator=<Comparator.EQ: 'eq'>, attribute='city', value='Vienna'), Comparison(comparator=<Comparator.EQ: 'eq'>, attribute='city', value='London')]), limit=None)"
            ]
          },
          "metadata": {},
          "execution_count": 33
        }
      ],
      "source": [
        "chain.invoke(\n",
        "    {\n",
        "        \"query\": \"Find a 2-person room in Vienna or London, preferably with meals included and AC\"\n",
        "    }\n",
        ")"
      ]
    },
    {
      "cell_type": "markdown",
      "id": "b0263ad4-aef9-48ce-be66-eabd1999beb3",
      "metadata": {
        "id": "b0263ad4-aef9-48ce-be66-eabd1999beb3"
      },
      "source": [
        "## Adding examples specific to our use case\n",
        "\n",
        "We've removed the strict filter for 'AC' but it's still not being included in the query string. Our chain prompt is a few-shot prompt with some default examples. Let's see if adding use case-specific examples will help:"
      ]
    },
    {
      "cell_type": "code",
      "execution_count": 34,
      "id": "62b903c1-3861-4aef-9ea6-1666eeee503c",
      "metadata": {
        "scrolled": true,
        "id": "62b903c1-3861-4aef-9ea6-1666eeee503c",
        "outputId": "65dc2404-9353-4f39-e163-6b699f817a1c",
        "colab": {
          "base_uri": "https://localhost:8080/"
        }
      },
      "outputs": [
        {
          "output_type": "stream",
          "name": "stdout",
          "text": [
            "Your goal is to structure the user's query to match the request schema provided below.\n",
            "\n",
            "<< Structured Request Schema >>\n",
            "When responding use a markdown code snippet with a JSON object formatted in the following schema:\n",
            "\n",
            "```json\n",
            "{\n",
            "    \"query\": string \\ text string to compare to document contents\n",
            "    \"filter\": string \\ logical condition statement for filtering documents\n",
            "}\n",
            "```\n",
            "\n",
            "The query string should contain only text that is expected to match the contents of documents. Any conditions in the filter should not be mentioned in the query as well.\n",
            "\n",
            "A logical condition statement is composed of one or more comparison and logical operation statements.\n",
            "\n",
            "A comparison statement takes the form: `comp(attr, val)`:\n",
            "- `comp` (eq | ne | gt | gte | lt | lte | contain | like | in | nin): comparator\n",
            "- `attr` (string):  name of attribute to apply the comparison to\n",
            "- `val` (string): is the comparison value\n",
            "\n",
            "A logical operation statement takes the form `op(statement1, statement2, ...)`:\n",
            "- `op` (and | or | not): logical operator\n",
            "- `statement1`, `statement2`, ... (comparison statements or logical operation statements): one or more statements to apply the operation to\n",
            "\n",
            "Make sure that you only use the comparators and logical operators listed above and no others.\n",
            "Make sure that filters only refer to attributes that exist in the data source.\n",
            "Make sure that filters only use the attributed names with its function names if there are functions applied on them.\n",
            "Make sure that filters only use format `YYYY-MM-DD` when handling timestamp data typed values.\n",
            "Make sure that filters take into account the descriptions of attributes and only make comparisons that are feasible given the type of data being stored.\n",
            "Make sure that filters are only used as needed. If there are no filters that should be applied return \"NO_FILTER\" for the filter value.\n",
            "\n",
            "<< Data Source >>\n",
            "```json\n",
            "{\n",
            "    \"content\": \"A detailed description of a hotel room, including information about the room type and room amenities.\",\n",
            "    \"attributes\": {\n",
            "    \"onsiterate\": {\n",
            "        \"description\": \"The rate of the room per night in dollars\",\n",
            "        \"type\": \"float\"\n",
            "    },\n",
            "    \"maxoccupancy\": {\n",
            "        \"description\": \"The maximum number of people that can occupy the room. Valid values are [1.0, 2.0, 3.0, 4.0, 5.0, 6.0, 7.0, 8.0, 10.0]\",\n",
            "        \"type\": \"float\"\n",
            "    },\n",
            "    \"city\": {\n",
            "        \"description\": \"The city where the hotel is located\",\n",
            "        \"type\": \"string\"\n",
            "    },\n",
            "    \"country\": {\n",
            "        \"description\": \"The country where the hotel is located. Valid values are ['Austria', 'Belgium', 'Bulgaria', 'Croatia', 'Cyprus', 'Czech Republic', 'Finland', 'France', 'Germany', 'Greece', 'Italy', 'Latvia', 'Lithuania', 'Malta', 'Netherlands', 'Poland', 'Portugal', 'Romania', 'Slovakia', 'Slovenia', 'Spain', 'Sweden', 'Switzerland', 'United Kingdom']. NOTE: Only use the 'eq' operator if a specific country is mentioned. If a region is mentioned, include all relevant countries in filter.. NOTE: Only use the 'eq' operator if a specific country is mentioned. If a region is mentioned, include all relevant countries in filter.\",\n",
            "        \"type\": \"string\"\n",
            "    },\n",
            "    \"starrating\": {\n",
            "        \"description\": \"The star rating of the hotel. Valid values are [2.0, 3.0, 4.0]\",\n",
            "        \"type\": \"float\"\n",
            "    },\n",
            "    \"mealsincluded\": {\n",
            "        \"description\": \"Whether meals are included in the room rate\",\n",
            "        \"type\": \"boolean\"\n",
            "    }\n",
            "}\n",
            "}\n",
            "```\n",
            "\n",
            "\n",
            "<< Example 1. >>\n",
            "User Query:\n",
            "I want a hotel in the Balkans with a king sized bed and a hot tub. Budget is $300 a night\n",
            "\n",
            "Structured Request:\n",
            "```json\n",
            "{\n",
            "    \"query\": \"king-sized bed, hot tub\",\n",
            "    \"filter\": \"and(in(\\\"country\\\", [\\\"Bulgaria\\\", \\\"Greece\\\", \\\"Croatia\\\", \\\"Serbia\\\"]), lte(\\\"onsiterate\\\", 300))\"\n",
            "}\n",
            "```\n",
            "\n",
            "\n",
            "<< Example 2. >>\n",
            "User Query:\n",
            "A room with breakfast included for 3 people, at a Hilton\n",
            "\n",
            "Structured Request:\n",
            "```json\n",
            "{\n",
            "    \"query\": \"Hilton\",\n",
            "    \"filter\": \"and(eq(\\\"mealsincluded\\\", true), gte(\\\"maxoccupancy\\\", 3))\"\n",
            "}\n",
            "```\n",
            "\n",
            "\n",
            "<< Example 3. >>\n",
            "User Query:\n",
            "{query}\n",
            "\n",
            "Structured Request:\n",
            "\n"
          ]
        }
      ],
      "source": [
        "examples = [\n",
        "    (\n",
        "        \"I want a hotel in the Balkans with a king sized bed and a hot tub. Budget is $300 a night\",\n",
        "        {\n",
        "            \"query\": \"king-sized bed, hot tub\",\n",
        "            \"filter\": 'and(in(\"country\", [\"Bulgaria\", \"Greece\", \"Croatia\", \"Serbia\"]), lte(\"onsiterate\", 300))',\n",
        "        },\n",
        "    ),\n",
        "    (\n",
        "        \"A room with breakfast included for 3 people, at a Hilton\",\n",
        "        {\n",
        "            \"query\": \"Hilton\",\n",
        "            \"filter\": 'and(eq(\"mealsincluded\", true), gte(\"maxoccupancy\", 3))',\n",
        "        },\n",
        "    ),\n",
        "]\n",
        "prompt = get_query_constructor_prompt(\n",
        "    doc_contents, filter_attribute_info, examples=examples\n",
        ")\n",
        "print(prompt.format(query=\"{query}\"))"
      ]
    },
    {
      "cell_type": "code",
      "execution_count": 38,
      "id": "0f27f3eb-7261-4362-8060-58fbdc8beece",
      "metadata": {
        "id": "0f27f3eb-7261-4362-8060-58fbdc8beece"
      },
      "outputs": [],
      "source": [
        "chain = load_query_constructor_runnable(\n",
        "    ChatOpenAI(openai_api_key=api_key, base_url=base_url , model=\"gpt-4-32k\", temperature=0),\n",
        "    doc_contents,\n",
        "    filter_attribute_info,\n",
        "    examples=examples,\n",
        ")"
      ]
    },
    {
      "cell_type": "code",
      "execution_count": 39,
      "id": "5808741d-971a-4bb1-a8f0-c403059df842",
      "metadata": {
        "id": "5808741d-971a-4bb1-a8f0-c403059df842",
        "outputId": "fbc896d8-bae4-4317-c94b-5728619b54eb",
        "colab": {
          "base_uri": "https://localhost:8080/"
        }
      },
      "outputs": [
        {
          "output_type": "execute_result",
          "data": {
            "text/plain": [
              "StructuredQuery(query='2-person room, AC', filter=Operation(operator=<Operator.AND: 'and'>, arguments=[Operation(operator=<Operator.OR: 'or'>, arguments=[Comparison(comparator=<Comparator.EQ: 'eq'>, attribute='city', value='Vienna'), Comparison(comparator=<Comparator.EQ: 'eq'>, attribute='city', value='London')]), Comparison(comparator=<Comparator.EQ: 'eq'>, attribute='mealsincluded', value=True)]), limit=None)"
            ]
          },
          "metadata": {},
          "execution_count": 39
        }
      ],
      "source": [
        "chain.invoke(\n",
        "    {\n",
        "        \"query\": \"Find a 2-person room in Vienna or London, preferably with meals included and AC\"\n",
        "    }\n",
        ")"
      ]
    },
    {
      "cell_type": "markdown",
      "id": "8d66439f-4a4f-44c7-8b9a-8b2d5d6a3683",
      "metadata": {
        "id": "8d66439f-4a4f-44c7-8b9a-8b2d5d6a3683"
      },
      "source": [
        "This seems to have helped! Let's try another complex query:"
      ]
    },
    {
      "cell_type": "code",
      "execution_count": 40,
      "id": "29ed9602-8950-44c9-aaf8-32b69235eb8c",
      "metadata": {
        "id": "29ed9602-8950-44c9-aaf8-32b69235eb8c",
        "outputId": "d8df67a6-a5f7-4aea-a06c-70cc73b47ba0",
        "colab": {
          "base_uri": "https://localhost:8080/"
        }
      },
      "outputs": [
        {
          "output_type": "execute_result",
          "data": {
            "text/plain": [
              "StructuredQuery(query='coast, patio, fireplace', filter=Comparison(comparator=<Comparator.GTE: 'gte'>, attribute='starrating', value=4), limit=None)"
            ]
          },
          "metadata": {},
          "execution_count": 40
        }
      ],
      "source": [
        "chain.invoke(\n",
        "    {\n",
        "        \"query\": \"I want to stay somewhere highly rated along the coast. I want a room with a patio and a fireplace.\"\n",
        "    }\n",
        ")"
      ]
    },
    {
      "cell_type": "markdown",
      "id": "c845a5e3-9a4c-4f8d-b5af-6493fd0186cb",
      "metadata": {
        "id": "c845a5e3-9a4c-4f8d-b5af-6493fd0186cb"
      },
      "source": [
        "## Automatically ignoring invalid queries\n",
        "\n",
        "It seems our model get's tripped up on this more complex query and tries to search over an attribute ('description') that doesn't exist. By setting `fix_invalid=True` in our query constructor chain, we can automatically remove any parts of the filter that is invalid (meaning it's using disallowed operations, comparisons or attributes)."
      ]
    },
    {
      "cell_type": "code",
      "execution_count": 41,
      "id": "fff986c4-ba52-4619-afdb-b0545834c0f8",
      "metadata": {
        "id": "fff986c4-ba52-4619-afdb-b0545834c0f8"
      },
      "outputs": [],
      "source": [
        "chain = load_query_constructor_runnable(\n",
        "    ChatOpenAI(openai_api_key=api_key, base_url=base_url , model=\"gpt-4-32k\", temperature=0),\n",
        "    doc_contents,\n",
        "    filter_attribute_info,\n",
        "    examples=examples,\n",
        "    fix_invalid=True,\n",
        ")"
      ]
    },
    {
      "cell_type": "code",
      "execution_count": 42,
      "id": "bdafa338-ca2f-4587-9457-472a6b9a9b27",
      "metadata": {
        "id": "bdafa338-ca2f-4587-9457-472a6b9a9b27",
        "outputId": "a3ec4ba7-a4be-4376-b10a-25e09737166c",
        "colab": {
          "base_uri": "https://localhost:8080/"
        }
      },
      "outputs": [
        {
          "output_type": "execute_result",
          "data": {
            "text/plain": [
              "StructuredQuery(query='coast, patio, fireplace', filter=Comparison(comparator=<Comparator.EQ: 'eq'>, attribute='starrating', value=4.0), limit=None)"
            ]
          },
          "metadata": {},
          "execution_count": 42
        }
      ],
      "source": [
        "chain.invoke(\n",
        "    {\n",
        "        \"query\": \"I want to stay somewhere highly rated along the coast. I want a room with a patio and a fireplace.\"\n",
        "    }\n",
        ")"
      ]
    },
    {
      "cell_type": "markdown",
      "id": "8251d117-8406-48b1-b331-0fe597b57051",
      "metadata": {
        "id": "8251d117-8406-48b1-b331-0fe597b57051"
      },
      "source": [
        "## Using with a self-querying retriever\n",
        "\n",
        "Now that our query construction chain is in a decent place, let's try using it with an actual retriever. For this example we'll use the [ElasticsearchStore](https://python.langchain.com/docs/integrations/vectorstores/elasticsearch)."
      ]
    },
    {
      "cell_type": "code",
      "execution_count": 43,
      "id": "06f30efe-f96a-4baa-9571-1de01596a5ac",
      "metadata": {
        "id": "06f30efe-f96a-4baa-9571-1de01596a5ac"
      },
      "outputs": [],
      "source": [
        "from langchain.embeddings import OpenAIEmbeddings\n",
        "from langchain.schema import Document\n",
        "from langchain.vectorstores import ElasticsearchStore\n",
        "\n",
        "llm = ChatOpenAI(openai_api_key=api_key, base_url=base_url , model=\"gpt-4-32k\", temperature=0)\n",
        "embeddings = OpenAIEmbeddings(openai_api_key=userdata.get('OPENAI_API_KEY'))"
      ]
    },
    {
      "cell_type": "markdown",
      "id": "e468e0f6-fc1b-42ab-bf88-7088d8e1aad0",
      "metadata": {
        "id": "e468e0f6-fc1b-42ab-bf88-7088d8e1aad0"
      },
      "source": [
        "## Populating vectorstore\n",
        "\n",
        "The first time you run this, uncomment the below cell to first index the data."
      ]
    },
    {
      "cell_type": "code",
      "execution_count": null,
      "id": "1f73c1ff-bdb4-4c27-bfa3-c15a1b886244",
      "metadata": {
        "id": "1f73c1ff-bdb4-4c27-bfa3-c15a1b886244"
      },
      "outputs": [],
      "source": [
        "# docs = []\n",
        "# for _, room in latest_price.fillna(\"\").iterrows():\n",
        "#     doc = Document(\n",
        "#         page_content=json.dumps(room.to_dict(), indent=2),\n",
        "#         metadata=room.to_dict()\n",
        "#     )\n",
        "#     docs.append(doc)\n",
        "# vecstore = ElasticsearchStore.from_documents(\n",
        "#     docs,\n",
        "#     embeddings,\n",
        "#     es_url=\"http://localhost:9200\",\n",
        "#     index_name=\"hotel_rooms\",\n",
        "#     # strategy=ElasticsearchStore.ApproxRetrievalStrategy(\n",
        "#     #     hybrid=True,\n",
        "#     # )\n",
        "# )"
      ]
    },
    {
      "cell_type": "code",
      "execution_count": null,
      "id": "411af3ff-29e2-4042-9060-15f75c4fa0e9",
      "metadata": {
        "id": "411af3ff-29e2-4042-9060-15f75c4fa0e9"
      },
      "outputs": [],
      "source": [
        "vecstore = ElasticsearchStore(\n",
        "    \"hotel_rooms\",\n",
        "    embedding=embeddings,\n",
        "    es_url=\"http://localhost:9200\",\n",
        "    # strategy=ElasticsearchStore.ApproxRetrievalStrategy(hybrid=True) # seems to not be available in community version\n",
        ")"
      ]
    },
    {
      "cell_type": "code",
      "execution_count": null,
      "id": "309490df-5a5f-4ff6-863b-5a85b8811b44",
      "metadata": {
        "id": "309490df-5a5f-4ff6-863b-5a85b8811b44"
      },
      "outputs": [],
      "source": [
        "from langchain.retrievers import SelfQueryRetriever\n",
        "\n",
        "retriever = SelfQueryRetriever(\n",
        "    query_constructor=chain, vectorstore=vecstore, verbose=True\n",
        ")"
      ]
    },
    {
      "cell_type": "code",
      "execution_count": null,
      "id": "3e6aaca9-dd22-403b-8714-23b20137f483",
      "metadata": {
        "id": "3e6aaca9-dd22-403b-8714-23b20137f483",
        "outputId": "13e9c4d0-bc66-4dcc-cc65-b12b50c544d5"
      },
      "outputs": [
        {
          "name": "stdout",
          "output_type": "stream",
          "text": [
            "{\n",
            "  \"roomtype\": \"Three-Bedroom House With Sea View\",\n",
            "  \"onsiterate\": 341.75,\n",
            "  \"roomamenities\": \"Additional bathroom: ;Additional toilet: ;Air conditioning: ;Closet: ;Clothes dryer: ;Coffee/tea maker: ;Dishwasher: ;DVD/CD player: ;Fireplace: ;Free Wi-Fi in all rooms!: ;Full kitchen: ;Hair dryer: ;Heating: ;High chair: ;In-room safe box: ;Ironing facilities: ;Kitchenware: ;Linens: ;Microwave: ;Private entrance: ;Refrigerator: ;Seating area: ;Separate dining area: ;Smoke detector: ;Sofa: ;Towels: ;TV [flat screen]: ;Washing machine: ;\",\n",
            "  \"maxoccupancy\": 6,\n",
            "  \"roomdescription\": \"Room size: 125 m\\u00b2/1345 ft\\u00b2, 2 bathrooms, Shower and bathtub, Shared bathroom, Kitchenette, 3 bedrooms, 1 double bed or 2 single beds or 1 double bed\",\n",
            "  \"hotelname\": \"Downings Coastguard Cottages - Type B-E\",\n",
            "  \"city\": \"Downings\",\n",
            "  \"country\": \"Ireland\",\n",
            "  \"starrating\": 4,\n",
            "  \"mealsincluded\": false\n",
            "}\n",
            "\n",
            "--------------------\n",
            "\n",
            "{\n",
            "  \"roomtype\": \"Three-Bedroom House With Sea View\",\n",
            "  \"onsiterate\": 774.05,\n",
            "  \"roomamenities\": \"Additional bathroom: ;Additional toilet: ;Air conditioning: ;Closet: ;Clothes dryer: ;Coffee/tea maker: ;Dishwasher: ;DVD/CD player: ;Fireplace: ;Free Wi-Fi in all rooms!: ;Full kitchen: ;Hair dryer: ;Heating: ;High chair: ;In-room safe box: ;Ironing facilities: ;Kitchenware: ;Linens: ;Microwave: ;Private entrance: ;Refrigerator: ;Seating area: ;Separate dining area: ;Smoke detector: ;Sofa: ;Towels: ;TV [flat screen]: ;Washing machine: ;\",\n",
            "  \"maxoccupancy\": 6,\n",
            "  \"roomdescription\": \"Room size: 125 m\\u00b2/1345 ft\\u00b2, 2 bathrooms, Shower and bathtub, Shared bathroom, Kitchenette, 3 bedrooms, 1 double bed or 2 single beds or 1 double bed\",\n",
            "  \"hotelname\": \"Downings Coastguard Cottages - Type B-E\",\n",
            "  \"city\": \"Downings\",\n",
            "  \"country\": \"Ireland\",\n",
            "  \"starrating\": 4,\n",
            "  \"mealsincluded\": false\n",
            "}\n",
            "\n",
            "--------------------\n",
            "\n",
            "{\n",
            "  \"roomtype\": \"Four-Bedroom Apartment with Sea View\",\n",
            "  \"onsiterate\": 501.24,\n",
            "  \"roomamenities\": \"Additional toilet: ;Air conditioning: ;Carpeting: ;Cleaning products: ;Closet: ;Clothes dryer: ;Clothes rack: ;Coffee/tea maker: ;Dishwasher: ;DVD/CD player: ;Fireplace: ;Free Wi-Fi in all rooms!: ;Full kitchen: ;Hair dryer: ;Heating: ;High chair: ;In-room safe box: ;Ironing facilities: ;Kitchenware: ;Linens: ;Microwave: ;Private entrance: ;Refrigerator: ;Seating area: ;Separate dining area: ;Smoke detector: ;Sofa: ;Toiletries: ;Towels: ;TV [flat screen]: ;Wake-up service: ;Washing machine: ;\",\n",
            "  \"maxoccupancy\": 9,\n",
            "  \"roomdescription\": \"Room size: 110 m\\u00b2/1184 ft\\u00b2, Balcony/terrace, Shower and bathtub, Kitchenette, 4 bedrooms, 1 single bed or 1 queen bed or 1 double bed or 2 single beds\",\n",
            "  \"hotelname\": \"1 Elliot Terrace\",\n",
            "  \"city\": \"Plymouth\",\n",
            "  \"country\": \"United Kingdom\",\n",
            "  \"starrating\": 4,\n",
            "  \"mealsincluded\": false\n",
            "}\n",
            "\n",
            "--------------------\n",
            "\n",
            "{\n",
            "  \"roomtype\": \"Three-Bedroom Holiday Home with Terrace and Sea View\",\n",
            "  \"onsiterate\": 295.83,\n",
            "  \"roomamenities\": \"Air conditioning: ;Dishwasher: ;Free Wi-Fi in all rooms!: ;Full kitchen: ;Heating: ;In-room safe box: ;Kitchenware: ;Private entrance: ;Refrigerator: ;Satellite/cable channels: ;Seating area: ;Separate dining area: ;Sofa: ;Washing machine: ;\",\n",
            "  \"maxoccupancy\": 1,\n",
            "  \"roomdescription\": \"Room size: 157 m\\u00b2/1690 ft\\u00b2, Balcony/terrace, 3 bathrooms, Shower, Kitchenette, 3 bedrooms, 1 queen bed or 1 queen bed or 1 queen bed or 1 sofa bed\",\n",
            "  \"hotelname\": \"Seaside holiday house Artatore (Losinj) - 17102\",\n",
            "  \"city\": \"Mali Losinj\",\n",
            "  \"country\": \"Croatia\",\n",
            "  \"starrating\": 4,\n",
            "  \"mealsincluded\": false\n",
            "}\n",
            "\n",
            "--------------------\n",
            "\n"
          ]
        }
      ],
      "source": [
        "results = retriever.get_relevant_documents(\n",
        "    \"I want to stay somewhere highly rated along the coast. I want a room with a patio and a fireplace.\"\n",
        ")\n",
        "for res in results:\n",
        "    print(res.page_content)\n",
        "    print(\"\\n\" + \"-\" * 20 + \"\\n\")"
      ]
    },
    {
      "cell_type": "code",
      "execution_count": null,
      "id": "8adec291-5853-4d2d-ab5d-294164f07f73",
      "metadata": {
        "id": "8adec291-5853-4d2d-ab5d-294164f07f73"
      },
      "outputs": [],
      "source": []
    }
  ],
  "metadata": {
    "kernelspec": {
      "display_name": "poetry-venv",
      "language": "python",
      "name": "poetry-venv"
    },
    "language_info": {
      "codemirror_mode": {
        "name": "ipython",
        "version": 3
      },
      "file_extension": ".py",
      "mimetype": "text/x-python",
      "name": "python",
      "nbconvert_exporter": "python",
      "pygments_lexer": "ipython3",
      "version": "3.9.1"
    },
    "colab": {
      "provenance": []
    }
  },
  "nbformat": 4,
  "nbformat_minor": 5
}