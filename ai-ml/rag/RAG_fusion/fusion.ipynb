{
 "cells": [
  {
   "cell_type": "code",
   "execution_count": 1,
   "metadata": {},
   "outputs": [],
   "source": [
    "import os\n",
    "import random\n",
    "from openai import OpenAI"
   ]
  },
  {
   "cell_type": "code",
   "execution_count": 2,
   "metadata": {},
   "outputs": [],
   "source": [
    "client = OpenAI()"
   ]
  },
  {
   "cell_type": "code",
   "execution_count": 6,
   "metadata": {},
   "outputs": [],
   "source": [
    "def generate_queries_chatgpt(original_query):\n",
    "\n",
    "    response = client.chat.completions.create(\n",
    "        model=\"gpt-3.5-turbo\",\n",
    "        messages=[\n",
    "            {\"role\": \"system\", \"content\": \"You are a helpful assistant that generates multiple search queries based on a single input query.\"},\n",
    "            {\"role\": \"user\", \"content\": f\"Generate multiple search queries related to: {original_query}\"},\n",
    "            {\"role\": \"user\", \"content\": \"OUTPUT (4 queries):\"}\n",
    "        ]\n",
    "    )\n",
    "\n",
    "    generated_queries = response\n",
    "    return generated_queries\n"
   ]
  },
  {
   "cell_type": "code",
   "execution_count": 4,
   "metadata": {},
   "outputs": [],
   "source": [
    "def vector_search(query, all_documents):\n",
    "    available_docs = list(all_documents.keys())\n",
    "    random.shuffle(available_docs)\n",
    "    selected_docs = available_docs[:random.randint(2, 5)]\n",
    "    scores = {doc: round(random.uniform(0.7, 0.9), 2) for doc in selected_docs}\n",
    "    return {doc: score for doc, score in sorted(scores.items(), key=lambda x: x[1], reverse=True)}\n",
    "\n",
    "# Reciprocal Rank Fusion algorithm\n",
    "def reciprocal_rank_fusion(search_results_dict, k=60):\n",
    "    fused_scores = {}\n",
    "    print(\"Initial individual search result ranks:\")\n",
    "    for query, doc_scores in search_results_dict.items():\n",
    "        print(f\"For query '{query}': {doc_scores}\")\n",
    "        \n",
    "    for query, doc_scores in search_results_dict.items():\n",
    "        for rank, (doc, score) in enumerate(sorted(doc_scores.items(), key=lambda x: x[1], reverse=True)):\n",
    "            if doc not in fused_scores:\n",
    "                fused_scores[doc] = 0\n",
    "            previous_score = fused_scores[doc]\n",
    "            fused_scores[doc] += 1 / (rank + k)\n",
    "            print(f\"Updating score for {doc} from {previous_score} to {fused_scores[doc]} based on rank {rank} in query '{query}'\")\n",
    "\n",
    "    reranked_results = {doc: score for doc, score in sorted(fused_scores.items(), key=lambda x: x[1], reverse=True)}\n",
    "    print(\"Final reranked results:\", reranked_results)\n",
    "    return reranked_results\n",
    "\n",
    "# Dummy function to simulate generative output\n",
    "def generate_output(reranked_results, queries):\n",
    "    return f\"Final output based on {queries} and reranked documents: {list(reranked_results.keys())}\"\n",
    "\n",
    "\n",
    "# Predefined set of documents (usually these would be from your search database)\n",
    "all_documents = {\n",
    "    \"doc1\": \"Climate change and economic impact.\",\n",
    "    \"doc2\": \"Public health concerns due to climate change.\",\n",
    "    \"doc3\": \"Climate change: A social perspective.\",\n",
    "    \"doc4\": \"Technological solutions to climate change.\",\n",
    "    \"doc5\": \"Policy changes needed to combat climate change.\",\n",
    "    \"doc6\": \"Climate change and its impact on biodiversity.\",\n",
    "    \"doc7\": \"Climate change: The science and models.\",\n",
    "    \"doc8\": \"Global warming: A subset of climate change.\",\n",
    "    \"doc9\": \"How climate change affects daily weather.\",\n",
    "    \"doc10\": \"The history of climate change activism.\"\n",
    "}"
   ]
  },
  {
   "cell_type": "code",
   "execution_count": 7,
   "metadata": {},
   "outputs": [],
   "source": [
    "original_query = \"impact of climate change\"\n",
    "generated_queries = generate_queries_chatgpt(original_query)"
   ]
  },
  {
   "cell_type": "code",
   "execution_count": 8,
   "metadata": {},
   "outputs": [
    {
     "data": {
      "text/plain": [
       "ChatCompletion(id='chatcmpl-8MnqzcK31fP9ZLGkqY9rt0OnnPlLy', choices=[Choice(finish_reason='stop', index=0, message=ChatCompletionMessage(content='1. How does climate change impact biodiversity?\\n2. What are the economic consequences of climate change?\\n3. What are the health effects of climate change?\\n4. How does climate change impact food production?', role='assistant', function_call=None, tool_calls=None))], created=1700445545, model='gpt-3.5-turbo-0613', object='chat.completion', system_fingerprint=None, usage=CompletionUsage(completion_tokens=41, prompt_tokens=48, total_tokens=89))"
      ]
     },
     "execution_count": 8,
     "metadata": {},
     "output_type": "execute_result"
    }
   ],
   "source": [
    "generated_queries"
   ]
  },
  {
   "cell_type": "code",
   "execution_count": 11,
   "metadata": {},
   "outputs": [
    {
     "data": {
      "text/plain": [
       "'1. How does climate change impact biodiversity?\\n2. What are the economic consequences of climate change?\\n3. What are the health effects of climate change?\\n4. How does climate change impact food production?'"
      ]
     },
     "execution_count": 11,
     "metadata": {},
     "output_type": "execute_result"
    }
   ],
   "source": [
    "generated_queries.choices[0].message.content"
   ]
  },
  {
   "cell_type": "code",
   "execution_count": 13,
   "metadata": {},
   "outputs": [
    {
     "name": "stdout",
     "output_type": "stream",
     "text": [
      "Initial individual search result ranks:\n",
      "For query '1': {'doc10': 0.77, 'doc4': 0.71}\n",
      "For query '.': {'doc3': 0.88, 'doc7': 0.88, 'doc2': 0.84, 'doc8': 0.82, 'doc6': 0.72}\n",
      "For query ' ': {'doc1': 0.85, 'doc9': 0.83, 'doc7': 0.78, 'doc4': 0.74, 'doc2': 0.7}\n",
      "For query 'H': {'doc3': 0.88, 'doc6': 0.76, 'doc5': 0.7}\n",
      "For query 'o': {'doc6': 0.77, 'doc1': 0.71}\n",
      "For query 'w': {'doc5': 0.81, 'doc10': 0.76, 'doc3': 0.73}\n",
      "For query 'd': {'doc9': 0.9, 'doc2': 0.79, 'doc7': 0.78, 'doc3': 0.74}\n",
      "For query 'e': {'doc3': 0.88, 'doc5': 0.76, 'doc6': 0.72}\n",
      "For query 's': {'doc1': 0.86, 'doc4': 0.75}\n",
      "For query 'c': {'doc8': 0.88, 'doc2': 0.88, 'doc5': 0.73}\n",
      "For query 'l': {'doc5': 0.84, 'doc7': 0.7}\n",
      "For query 'i': {'doc1': 0.87, 'doc10': 0.84, 'doc8': 0.84, 'doc6': 0.74}\n",
      "For query 'm': {'doc2': 0.78, 'doc8': 0.78, 'doc3': 0.73}\n",
      "For query 'a': {'doc1': 0.86, 'doc4': 0.85, 'doc8': 0.82, 'doc5': 0.8}\n",
      "For query 't': {'doc4': 0.89, 'doc2': 0.84, 'doc7': 0.82, 'doc10': 0.73, 'doc6': 0.71}\n",
      "For query 'h': {'doc3': 0.89, 'doc8': 0.83, 'doc5': 0.79, 'doc4': 0.7}\n",
      "For query 'n': {'doc2': 0.83, 'doc6': 0.76, 'doc4': 0.74, 'doc5': 0.7}\n",
      "For query 'g': {'doc9': 0.9, 'doc5': 0.89, 'doc4': 0.8}\n",
      "For query 'p': {'doc9': 0.86, 'doc2': 0.71}\n",
      "For query 'b': {'doc5': 0.71, 'doc10': 0.7}\n",
      "For query 'v': {'doc8': 0.79, 'doc7': 0.78, 'doc1': 0.75, 'doc6': 0.73, 'doc9': 0.71}\n",
      "For query 'r': {'doc4': 0.78, 'doc10': 0.78, 'doc6': 0.74}\n",
      "For query 'y': {'doc8': 0.79, 'doc4': 0.77, 'doc7': 0.74}\n",
      "For query '?': {'doc9': 0.84, 'doc5': 0.78, 'doc3': 0.76}\n",
      "For query '\n",
      "': {'doc5': 0.86, 'doc9': 0.82}\n",
      "For query '2': {'doc5': 0.79, 'doc2': 0.73, 'doc6': 0.73}\n",
      "For query 'W': {'doc4': 0.81, 'doc5': 0.77, 'doc9': 0.76, 'doc7': 0.74, 'doc3': 0.7}\n",
      "For query 'q': {'doc7': 0.88, 'doc1': 0.82, 'doc5': 0.81, 'doc10': 0.81, 'doc9': 0.78}\n",
      "For query 'u': {'doc5': 0.89, 'doc7': 0.76, 'doc9': 0.7}\n",
      "For query 'f': {'doc2': 0.9, 'doc3': 0.8, 'doc10': 0.73, 'doc8': 0.71}\n",
      "For query '3': {'doc6': 0.89, 'doc9': 0.85, 'doc7': 0.74}\n",
      "For query '4': {'doc6': 0.76, 'doc5': 0.74}\n",
      "Updating score for doc10 from 0 to 0.016666666666666666 based on rank 0 in query '1'\n",
      "Updating score for doc4 from 0 to 0.01639344262295082 based on rank 1 in query '1'\n",
      "Updating score for doc3 from 0 to 0.016666666666666666 based on rank 0 in query '.'\n",
      "Updating score for doc7 from 0 to 0.01639344262295082 based on rank 1 in query '.'\n",
      "Updating score for doc2 from 0 to 0.016129032258064516 based on rank 2 in query '.'\n",
      "Updating score for doc8 from 0 to 0.015873015873015872 based on rank 3 in query '.'\n",
      "Updating score for doc6 from 0 to 0.015625 based on rank 4 in query '.'\n",
      "Updating score for doc1 from 0 to 0.016666666666666666 based on rank 0 in query ' '\n",
      "Updating score for doc9 from 0 to 0.01639344262295082 based on rank 1 in query ' '\n",
      "Updating score for doc7 from 0.01639344262295082 to 0.03252247488101534 based on rank 2 in query ' '\n",
      "Updating score for doc4 from 0.01639344262295082 to 0.032266458495966696 based on rank 3 in query ' '\n",
      "Updating score for doc2 from 0.016129032258064516 to 0.031754032258064516 based on rank 4 in query ' '\n",
      "Updating score for doc3 from 0.016666666666666666 to 0.03333333333333333 based on rank 0 in query 'H'\n",
      "Updating score for doc6 from 0.015625 to 0.032018442622950824 based on rank 1 in query 'H'\n",
      "Updating score for doc5 from 0 to 0.016129032258064516 based on rank 2 in query 'H'\n",
      "Updating score for doc6 from 0.032018442622950824 to 0.04868510928961749 based on rank 0 in query 'o'\n",
      "Updating score for doc1 from 0.016666666666666666 to 0.03306010928961749 based on rank 1 in query 'o'\n",
      "Updating score for doc5 from 0.016129032258064516 to 0.03279569892473118 based on rank 0 in query 'w'\n",
      "Updating score for doc10 from 0.016666666666666666 to 0.03306010928961749 based on rank 1 in query 'w'\n",
      "Updating score for doc3 from 0.03333333333333333 to 0.04946236559139785 based on rank 2 in query 'w'\n",
      "Updating score for doc9 from 0.01639344262295082 to 0.03306010928961749 based on rank 0 in query 'd'\n",
      "Updating score for doc2 from 0.031754032258064516 to 0.04814747488101534 based on rank 1 in query 'd'\n",
      "Updating score for doc7 from 0.03252247488101534 to 0.048651507139079855 based on rank 2 in query 'd'\n",
      "Updating score for doc3 from 0.04946236559139785 to 0.06533538146441373 based on rank 3 in query 'd'\n",
      "Updating score for doc3 from 0.06533538146441373 to 0.08200204813108039 based on rank 0 in query 'e'\n",
      "Updating score for doc5 from 0.03279569892473118 to 0.049189141547682 based on rank 1 in query 'e'\n",
      "Updating score for doc6 from 0.04868510928961749 to 0.064814141547682 based on rank 2 in query 'e'\n",
      "Updating score for doc1 from 0.03306010928961749 to 0.04972677595628415 based on rank 0 in query 's'\n",
      "Updating score for doc4 from 0.032266458495966696 to 0.04865990111891752 based on rank 1 in query 's'\n",
      "Updating score for doc8 from 0.015873015873015872 to 0.032539682539682535 based on rank 0 in query 'c'\n",
      "Updating score for doc2 from 0.04814747488101534 to 0.06454091750396616 based on rank 1 in query 'c'\n",
      "Updating score for doc5 from 0.049189141547682 to 0.06531817380574652 based on rank 2 in query 'c'\n",
      "Updating score for doc5 from 0.06531817380574652 to 0.08198484047241318 based on rank 0 in query 'l'\n",
      "Updating score for doc7 from 0.048651507139079855 to 0.06504494976203068 based on rank 1 in query 'l'\n",
      "Updating score for doc1 from 0.04972677595628415 to 0.06639344262295081 based on rank 0 in query 'i'\n",
      "Updating score for doc10 from 0.03306010928961749 to 0.04945355191256831 based on rank 1 in query 'i'\n",
      "Updating score for doc8 from 0.032539682539682535 to 0.04866871479774705 based on rank 2 in query 'i'\n",
      "Updating score for doc6 from 0.064814141547682 to 0.08068715742069787 based on rank 3 in query 'i'\n",
      "Updating score for doc2 from 0.06454091750396616 to 0.08120758417063283 based on rank 0 in query 'm'\n",
      "Updating score for doc8 from 0.04866871479774705 to 0.06506215742069787 based on rank 1 in query 'm'\n",
      "Updating score for doc3 from 0.08200204813108039 to 0.0981310803891449 based on rank 2 in query 'm'\n",
      "Updating score for doc1 from 0.06639344262295081 to 0.08306010928961748 based on rank 0 in query 'a'\n",
      "Updating score for doc4 from 0.04865990111891752 to 0.06505334374186834 based on rank 1 in query 'a'\n",
      "Updating score for doc8 from 0.06506215742069787 to 0.08119118967876239 based on rank 2 in query 'a'\n",
      "Updating score for doc5 from 0.08198484047241318 to 0.09785785634542905 based on rank 3 in query 'a'\n",
      "Updating score for doc4 from 0.06505334374186834 to 0.08172001040853501 based on rank 0 in query 't'\n",
      "Updating score for doc2 from 0.08120758417063283 to 0.09760102679358365 based on rank 1 in query 't'\n",
      "Updating score for doc7 from 0.06504494976203068 to 0.0811739820200952 based on rank 2 in query 't'\n",
      "Updating score for doc10 from 0.04945355191256831 to 0.06532656778558418 based on rank 3 in query 't'\n",
      "Updating score for doc6 from 0.08068715742069787 to 0.09631215742069787 based on rank 4 in query 't'\n",
      "Updating score for doc3 from 0.0981310803891449 to 0.11479774705581157 based on rank 0 in query 'h'\n",
      "Updating score for doc8 from 0.08119118967876239 to 0.09758463230171321 based on rank 1 in query 'h'\n",
      "Updating score for doc5 from 0.09785785634542905 to 0.11398688860349357 based on rank 2 in query 'h'\n",
      "Updating score for doc4 from 0.08172001040853501 to 0.09759302628155088 based on rank 3 in query 'h'\n",
      "Updating score for doc2 from 0.09760102679358365 to 0.11426769346025031 based on rank 0 in query 'n'\n",
      "Updating score for doc6 from 0.09631215742069787 to 0.1127056000436487 based on rank 1 in query 'n'\n",
      "Updating score for doc4 from 0.09759302628155088 to 0.1137220585396154 based on rank 2 in query 'n'\n",
      "Updating score for doc5 from 0.11398688860349357 to 0.12985990447650944 based on rank 3 in query 'n'\n",
      "Updating score for doc9 from 0.03306010928961749 to 0.04972677595628415 based on rank 0 in query 'g'\n",
      "Updating score for doc5 from 0.12985990447650944 to 0.14625334709946025 based on rank 1 in query 'g'\n",
      "Updating score for doc4 from 0.1137220585396154 to 0.12985109079767992 based on rank 2 in query 'g'\n",
      "Updating score for doc9 from 0.04972677595628415 to 0.06639344262295081 based on rank 0 in query 'p'\n",
      "Updating score for doc2 from 0.11426769346025031 to 0.13066113608320112 based on rank 1 in query 'p'\n",
      "Updating score for doc5 from 0.14625334709946025 to 0.16292001376612691 based on rank 0 in query 'b'\n",
      "Updating score for doc10 from 0.06532656778558418 to 0.08172001040853501 based on rank 1 in query 'b'\n",
      "Updating score for doc8 from 0.09758463230171321 to 0.11425129896837988 based on rank 0 in query 'v'\n",
      "Updating score for doc7 from 0.0811739820200952 to 0.09756742464304602 based on rank 1 in query 'v'\n",
      "Updating score for doc1 from 0.08306010928961748 to 0.09918914154768199 based on rank 2 in query 'v'\n",
      "Updating score for doc6 from 0.1127056000436487 to 0.12857861591666458 based on rank 3 in query 'v'\n",
      "Updating score for doc9 from 0.06639344262295081 to 0.08201844262295081 based on rank 4 in query 'v'\n",
      "Updating score for doc4 from 0.12985109079767992 to 0.1465177574643466 based on rank 0 in query 'r'\n",
      "Updating score for doc10 from 0.08172001040853501 to 0.09811345303148583 based on rank 1 in query 'r'\n",
      "Updating score for doc6 from 0.12857861591666458 to 0.1447076481747291 based on rank 2 in query 'r'\n",
      "Updating score for doc8 from 0.11425129896837988 to 0.13091796563504654 based on rank 0 in query 'y'\n",
      "Updating score for doc4 from 0.1465177574643466 to 0.1629112000872974 based on rank 1 in query 'y'\n",
      "Updating score for doc7 from 0.09756742464304602 to 0.11369645690111053 based on rank 2 in query 'y'\n",
      "Updating score for doc9 from 0.08201844262295081 to 0.09868510928961748 based on rank 0 in query '?'\n",
      "Updating score for doc5 from 0.16292001376612691 to 0.17931345638907772 based on rank 1 in query '?'\n",
      "Updating score for doc3 from 0.11479774705581157 to 0.13092677931387608 based on rank 2 in query '?'\n",
      "Updating score for doc5 from 0.17931345638907772 to 0.1959801230557444 based on rank 0 in query '\n",
      "'\n",
      "Updating score for doc9 from 0.09868510928961748 to 0.1150785519125683 based on rank 1 in query '\n",
      "'\n",
      "Updating score for doc5 from 0.1959801230557444 to 0.21264678972241105 based on rank 0 in query '2'\n",
      "Updating score for doc2 from 0.13066113608320112 to 0.14705457870615193 based on rank 1 in query '2'\n",
      "Updating score for doc6 from 0.1447076481747291 to 0.1608366804327936 based on rank 2 in query '2'\n",
      "Updating score for doc4 from 0.1629112000872974 to 0.17957786675396406 based on rank 0 in query 'W'\n",
      "Updating score for doc5 from 0.21264678972241105 to 0.22904023234536186 based on rank 1 in query 'W'\n",
      "Updating score for doc9 from 0.1150785519125683 to 0.13120758417063283 based on rank 2 in query 'W'\n",
      "Updating score for doc7 from 0.11369645690111053 to 0.1295694727741264 based on rank 3 in query 'W'\n",
      "Updating score for doc3 from 0.13092677931387608 to 0.14655177931387608 based on rank 4 in query 'W'\n",
      "Updating score for doc7 from 0.1295694727741264 to 0.14623613944079306 based on rank 0 in query 'q'\n",
      "Updating score for doc1 from 0.09918914154768199 to 0.11558258417063282 based on rank 1 in query 'q'\n",
      "Updating score for doc5 from 0.22904023234536186 to 0.24516926460342636 based on rank 2 in query 'q'\n",
      "Updating score for doc10 from 0.09811345303148583 to 0.1139864689045017 based on rank 3 in query 'q'\n",
      "Updating score for doc9 from 0.13120758417063283 to 0.14683258417063283 based on rank 4 in query 'q'\n",
      "Updating score for doc5 from 0.24516926460342636 to 0.261835931270093 based on rank 0 in query 'u'\n",
      "Updating score for doc7 from 0.14623613944079306 to 0.16262958206374387 based on rank 1 in query 'u'\n",
      "Updating score for doc9 from 0.14683258417063283 to 0.16296161642869733 based on rank 2 in query 'u'\n",
      "Updating score for doc2 from 0.14705457870615193 to 0.1637212453728186 based on rank 0 in query 'f'\n",
      "Updating score for doc3 from 0.14655177931387608 to 0.1629452219368269 based on rank 1 in query 'f'\n",
      "Updating score for doc10 from 0.1139864689045017 to 0.1301155011625662 based on rank 2 in query 'f'\n",
      "Updating score for doc8 from 0.13091796563504654 to 0.1467909815080624 based on rank 3 in query 'f'\n",
      "Updating score for doc6 from 0.1608366804327936 to 0.17750334709946025 based on rank 0 in query '3'\n",
      "Updating score for doc9 from 0.16296161642869733 to 0.17935505905164814 based on rank 1 in query '3'\n",
      "Updating score for doc7 from 0.16262958206374387 to 0.1787586143218084 based on rank 2 in query '3'\n",
      "Updating score for doc6 from 0.17750334709946025 to 0.19417001376612691 based on rank 0 in query '4'\n",
      "Updating score for doc5 from 0.261835931270093 to 0.27822937389304386 based on rank 1 in query '4'\n",
      "Final reranked results: {'doc5': 0.27822937389304386, 'doc6': 0.19417001376612691, 'doc4': 0.17957786675396406, 'doc9': 0.17935505905164814, 'doc7': 0.1787586143218084, 'doc2': 0.1637212453728186, 'doc3': 0.1629452219368269, 'doc8': 0.1467909815080624, 'doc10': 0.1301155011625662, 'doc1': 0.11558258417063282}\n"
     ]
    }
   ],
   "source": [
    "all_results = {}\n",
    "for query in generated_queries.choices[0].message.content:\n",
    "    search_results = vector_search(query, all_documents)\n",
    "    all_results[query] = search_results\n",
    "\n",
    "reranked_results = reciprocal_rank_fusion(all_results)\n",
    "\n",
    "final_output = generate_output(reranked_results, generated_queries)"
   ]
  },
  {
   "cell_type": "code",
   "execution_count": 14,
   "metadata": {},
   "outputs": [
    {
     "data": {
      "text/plain": [
       "\"Final output based on ChatCompletion(id='chatcmpl-8MnqzcK31fP9ZLGkqY9rt0OnnPlLy', choices=[Choice(finish_reason='stop', index=0, message=ChatCompletionMessage(content='1. How does climate change impact biodiversity?\\\\n2. What are the economic consequences of climate change?\\\\n3. What are the health effects of climate change?\\\\n4. How does climate change impact food production?', role='assistant', function_call=None, tool_calls=None))], created=1700445545, model='gpt-3.5-turbo-0613', object='chat.completion', system_fingerprint=None, usage=CompletionUsage(completion_tokens=41, prompt_tokens=48, total_tokens=89)) and reranked documents: ['doc5', 'doc6', 'doc4', 'doc9', 'doc7', 'doc2', 'doc3', 'doc8', 'doc10', 'doc1']\""
      ]
     },
     "execution_count": 14,
     "metadata": {},
     "output_type": "execute_result"
    }
   ],
   "source": [
    "final_output"
   ]
  },
  {
   "cell_type": "code",
   "execution_count": null,
   "metadata": {},
   "outputs": [],
   "source": [
    "from openai import AzureOpenAI"
   ]
  },
  {
   "cell_type": "code",
   "execution_count": null,
   "metadata": {},
   "outputs": [],
   "source": [
    "client = AzureOpenAI()"
   ]
  },
  {
   "cell_type": "code",
   "execution_count": null,
   "metadata": {},
   "outputs": [],
   "source": [
    "client.chat.completions.create()"
   ]
  }
 ],
 "metadata": {
  "kernelspec": {
   "display_name": "Python 3",
   "language": "python",
   "name": "python3"
  },
  "language_info": {
   "codemirror_mode": {
    "name": "ipython",
    "version": 3
   },
   "file_extension": ".py",
   "mimetype": "text/x-python",
   "name": "python",
   "nbconvert_exporter": "python",
   "pygments_lexer": "ipython3",
   "version": "3.11.5"
  }
 },
 "nbformat": 4,
 "nbformat_minor": 2
}
