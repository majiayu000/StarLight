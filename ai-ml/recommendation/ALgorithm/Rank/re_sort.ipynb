{
 "cells": [
  {
   "cell_type": "code",
   "execution_count": 1,
   "metadata": {},
   "outputs": [
    {
     "name": "stdout",
     "output_type": "stream",
     "text": [
      "Accuracy: 0.54\n",
      "  question_type  question_type_encoded  Prob_Wrong  Prob_Correct\n",
      "0       correct                      0    0.527025      0.472975\n",
      "1         wrong                      3    0.508935      0.491065\n",
      "2        unseen                      2    0.514970      0.485030\n",
      "3     unlearned                      1    0.521001      0.478999\n",
      "  question_type  Recommended_Probability\n",
      "0       correct                24.530998\n",
      "1         wrong                25.469274\n",
      "2        unseen                25.156259\n",
      "3     unlearned                24.843470\n"
     ]
    }
   ],
   "source": [
    "import numpy as np\n",
    "import pandas as pd\n",
    "from sklearn.preprocessing import LabelEncoder\n",
    "from sklearn.linear_model import LogisticRegression\n",
    "from sklearn.metrics import accuracy_score\n",
    "from sklearn.model_selection import train_test_split\n",
    "\n",
    "# 创建一个数据框来模拟用户的答题记录\n",
    "np.random.seed(42)  # 保持结果的一致性\n",
    "\n",
    "data = {\n",
    "    \"user_id\": np.random.randint(1, 100, 500),\n",
    "    \"question_id\": np.random.randint(1, 500, 500),\n",
    "    \"question_type\": np.random.choice([\"correct\", \"wrong\", \"unseen\", \"unlearned\"], 500),\n",
    "    \"correct\": np.random.randint(0, 2, 500),  # 1 表示对，0 表示错\n",
    "}\n",
    "\n",
    "df = pd.DataFrame(data)\n",
    "\n",
    "\n",
    "# 利用LabelEncoder处理分类数据\n",
    "le = LabelEncoder()\n",
    "df[\"question_type_encoded\"] = le.fit_transform(df[\"question_type\"])\n",
    "\n",
    "\n",
    "# 准备数据\n",
    "X = df[[\"question_type_encoded\"]]  # 特征\n",
    "y = df[\"correct\"]  # 标签\n",
    "\n",
    "# 划分训练集和测试集\n",
    "X_train, X_test, y_train, y_test = train_test_split(\n",
    "    X, y, test_size=0.2, random_state=42\n",
    ")\n",
    "\n",
    "# 创建和训练模型\n",
    "model = LogisticRegression()\n",
    "model.fit(X_train, y_train)\n",
    "\n",
    "# 预测和评估\n",
    "y_pred = model.predict(X_test)\n",
    "print(\"Accuracy:\", accuracy_score(y_test, y_pred))\n",
    "\n",
    "# 假设有新的题目类型数据\n",
    "new_questions = pd.DataFrame(\n",
    "    {\"question_type\": [\"correct\", \"wrong\", \"unseen\", \"unlearned\"]}\n",
    ")\n",
    "\n",
    "new_questions[\"question_type_encoded\"] = le.transform(new_questions[\"question_type\"])\n",
    "new_predictions = model.predict_proba(new_questions[[\"question_type_encoded\"]])\n",
    "\n",
    "# 显示预测结果\n",
    "prediction_df = pd.DataFrame(new_predictions, columns=[\"Prob_Wrong\", \"Prob_Correct\"])\n",
    "result_df = pd.concat([new_questions, prediction_df], axis=1)\n",
    "print(result_df)\n",
    "\n",
    "\n",
    "# 假设我们想要最大化正确答案的概率\n",
    "result_df[\"Recommended_Probability\"] = (\n",
    "    result_df[\"Prob_Correct\"] / result_df[\"Prob_Correct\"].sum()\n",
    ")\n",
    "result_df[\"Recommended_Probability\"] *= 100  # 转化为百分比\n",
    "print(result_df[[\"question_type\", \"Recommended_Probability\"]])\n"
   ]
  },
  {
   "cell_type": "code",
   "execution_count": null,
   "metadata": {},
   "outputs": [],
   "source": []
  }
 ],
 "metadata": {
  "language_info": {
   "name": "python"
  }
 },
 "nbformat": 4,
 "nbformat_minor": 2
}
