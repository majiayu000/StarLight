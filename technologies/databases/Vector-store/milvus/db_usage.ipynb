{
 "cells": [
  {
   "cell_type": "code",
   "execution_count": 3,
   "metadata": {},
   "outputs": [],
   "source": [
    "# connection\n",
    "from pymilvus import connections\n",
    "\n",
    "\n",
    "connections.connect(\"default\", host=\"localhost\", port=\"27017\")\n",
    "connections.disconnect(\"default\")\n",
    "# connections.remove_connection(\"default\")\n",
    "connections.connect()\n"
   ]
  },
  {
   "cell_type": "code",
   "execution_count": 6,
   "metadata": {},
   "outputs": [
    {
     "data": {
      "text/plain": [
       "['default', 'math', 'book', 'star']"
      ]
     },
     "execution_count": 6,
     "metadata": {},
     "output_type": "execute_result"
    }
   ],
   "source": [
    "# database\n",
    "from pymilvus import  db\n",
    "\n",
    "\n",
    "database = db.create_database(\"star\")\n",
    "\n",
    "db.using_database(\"star\") # 切换数据库\n",
    "db.list_database()\n",
    "# db.drop_database(\"book\")\n"
   ]
  },
  {
   "cell_type": "code",
   "execution_count": 18,
   "metadata": {},
   "outputs": [
    {
     "data": {
      "text/plain": [
       "['light', 'lights4', 'lights', 'lights2', 'lights3', 'lights5']"
      ]
     },
     "execution_count": 18,
     "metadata": {},
     "output_type": "execute_result"
    }
   ],
   "source": [
    "# collection\n",
    "from pymilvus import Collection, CollectionSchema, FieldSchema, DataType, utility\n",
    "\n",
    "## 需要提前创建列的名称、类型等数据，并且必须添加一个主键\n",
    "book_id = FieldSchema(\n",
    "  name=\"book_id\",\n",
    "  dtype=DataType.INT64,\n",
    "  is_primary=True,\n",
    ")\n",
    "book_name = FieldSchema(\n",
    "  name=\"book_name\",\n",
    "  dtype=DataType.VARCHAR,\n",
    "  max_length=200,\n",
    "  # The default value will be used if this field is left empty during data inserts or upserts.\n",
    "  # The data type of `default_value` must be the same as that specified in `dtype`.\n",
    "  default_value=\"Unknown\"\n",
    ")\n",
    "word_count = FieldSchema(\n",
    "  name=\"word_count\",\n",
    "  dtype=DataType.INT64,\n",
    "  # The default value will be used if this field is left empty during data inserts or upserts.\n",
    "  # The data type of `default_value` must be the same as that specified in `dtype`.\n",
    "  default_value=9999\n",
    ")\n",
    "book_intro = FieldSchema(\n",
    "  name=\"book_intro\",\n",
    "  dtype=DataType.FLOAT_VECTOR,\n",
    "  dim=2\n",
    ")\n",
    "# dim=2是向量的维度\n",
    "\n",
    "schema = CollectionSchema(\n",
    "  fields=[book_id, book_name, word_count, book_intro],\n",
    "  description=\"Test book search\",\n",
    "  enable_dynamic_field=True\n",
    ")\n",
    "\n",
    "\n",
    "collection_name = \"book\"\n",
    "\n",
    "collection = Collection(\n",
    "    name=collection_name,\n",
    "    schema=schema,\n",
    "    using='default',\n",
    "    shards_num=2\n",
    "    )\n",
    "\n",
    "utility.rename_collection(\"book\", \"lights4\") \n",
    "utility.has_collection(\"lights1\")\n",
    "utility.list_collections()\n",
    "# utility.drop_collection(\"lights\")\n",
    "\n",
    "collection = Collection(\"lights3\")      \n",
    "collection.load(replica_number=2)\n",
    "# reduce memory usage\n",
    "collection.release()"
   ]
  },
  {
   "cell_type": "code",
   "execution_count": null,
   "metadata": {},
   "outputs": [],
   "source": [
    "# Create a Partition\n",
    "\n",
    "collection = Collection(\"book\")      # Get an existing collection.\n",
    "collection.create_partition(\"novel\")"
   ]
  },
  {
   "cell_type": "code",
   "execution_count": null,
   "metadata": {},
   "outputs": [],
   "source": [
    "# Insert data and delete\n",
    "import pandas as pd\n",
    "import numpy as np\n",
    "\n",
    "insert_data = pd.read_csv(\"<Your_File>\")\n",
    "mr = collection.insert(insert_data)\n",
    "\n",
    "expr = \"book_id in [0,1]\"\n",
    "collection.delete(expr)\n",
    "\n",
    "collection.compact()"
   ]
  },
  {
   "cell_type": "code",
   "execution_count": null,
   "metadata": {},
   "outputs": [],
   "source": [
    "# Index\n",
    "index_params = {\n",
    "  \"metric_type\":\"L2\",\n",
    "  \"index_type\":\"IVF_FLAT\",\n",
    "  \"params\":{\"nlist\":1024}\n",
    "}\n",
    "\n",
    "collection.create_index(\n",
    "  field_name=\"book_intro\", \n",
    "  index_params=index_params\n",
    ")\n",
    "\n",
    "## metric_type是相似性计算算法，可选的有以下\n",
    "## For floating point vectors:\n",
    "## L2 (Euclidean distance)\n",
    "## IP (Inner product)\n",
    "## COSINE (Cosine similarity)\n",
    "## For binary vectors:\n",
    "## JACCARD (Jaccard distance)\n",
    "## HAMMING (Hamming distance)\n",
    "utility.index_building_progress(\"<Your_Collection>\")"
   ]
  },
  {
   "cell_type": "code",
   "execution_count": null,
   "metadata": {},
   "outputs": [],
   "source": [
    "# search\n",
    "search_params = {\n",
    "    \"metric_type\": \"L2\", \n",
    "    \"offset\": 5, \n",
    "    \"ignore_growing\": False, \n",
    "    \"params\": {\"nprobe\": 10}\n",
    "}\n",
    "\n",
    "results = collection.search(\n",
    "    data=[[0.1, 0.2]], \n",
    "    anns_field=\"book_intro\", \n",
    "    # the sum of `offset` in `param` and `limit` \n",
    "    # should be less than 16384.\n",
    "    param=search_params,\n",
    "    limit=10,\n",
    "    expr=None,\n",
    "    # 这里需要将想看的列名列举出来\n",
    "    output_fields=['title'],\n",
    "    consistency_level=\"Strong\"\n",
    ")\n",
    "\n",
    "# get the IDs of all returned hits\n",
    "results[0].ids\n",
    "\n",
    "# get the distances to the query vector from all returned hits\n",
    "results[0].distances\n",
    "\n",
    "# get the value of an output field specified in the search request.\n",
    "hit = results[0][0]\n",
    "hit.entity.get('title')"
   ]
  }
 ],
 "metadata": {
  "kernelspec": {
   "display_name": "Python 3",
   "language": "python",
   "name": "python3"
  },
  "language_info": {
   "codemirror_mode": {
    "name": "ipython",
    "version": 3
   },
   "file_extension": ".py",
   "mimetype": "text/x-python",
   "name": "python",
   "nbconvert_exporter": "python",
   "pygments_lexer": "ipython3",
   "version": "3.11.5"
  },
  "orig_nbformat": 4
 },
 "nbformat": 4,
 "nbformat_minor": 2
}
