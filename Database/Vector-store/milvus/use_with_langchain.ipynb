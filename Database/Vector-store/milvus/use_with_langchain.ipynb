{
 "cells": [
  {
   "cell_type": "code",
   "execution_count": 1,
   "metadata": {},
   "outputs": [],
   "source": [
    "from os import environ\n",
    "\n",
    "MILVUS_HOST = \"\"\n",
    "MILVUS_PORT = \"19530\"\n",
    "OPENAI_API_KEY = \"sk-****\" # example: \"sk-xxxxxxxxxxxxxxxxxxxxxxxxxxxxxxxxxxxxxxxx\"\n",
    "MILVUS_USER = \"\"\n",
    "MILVUS_PASSWORD = \"\"\n",
    "\n",
    "environ[\"OPENAI_API_KEY\"] = OPENAI_API_KEY"
   ]
  },
  {
   "cell_type": "code",
   "execution_count": 2,
   "metadata": {},
   "outputs": [],
   "source": [
    "from pymilvus import Collection, connections\n",
    "\n",
    "\n",
    "connections.connect(\"default\", host=MILVUS_HOST, port=MILVUS_PORT, user=MILVUS_USER, password=MILVUS_PASSWORD)\n"
   ]
  },
  {
   "cell_type": "code",
   "execution_count": 3,
   "metadata": {},
   "outputs": [
    {
     "name": "stderr",
     "output_type": "stream",
     "text": [
      "Created a chunk of size 1743, which is longer than the specified 1024\n",
      "Created a chunk of size 1278, which is longer than the specified 1024\n"
     ]
    }
   ],
   "source": [
    "from langchain.embeddings.openai import OpenAIEmbeddings\n",
    "from langchain.vectorstores import Milvus\n",
    "from langchain.document_loaders import WebBaseLoader\n",
    "from langchain.text_splitter import CharacterTextSplitter\n",
    "\n",
    "loader = WebBaseLoader([\n",
    "    \"https://milvus.io/docs/overview.md\",\n",
    "])\n",
    "\n",
    "docs = loader.load()\n",
    "\n",
    "text_splitter = CharacterTextSplitter(chunk_size=1024, chunk_overlap=0)\n",
    "docs = text_splitter.split_documents(docs)"
   ]
  },
  {
   "cell_type": "code",
   "execution_count": 18,
   "metadata": {},
   "outputs": [],
   "source": [
    "from pymilvus import Collection, connections\n",
    "\n",
    "connections.connect(\"default\", host=MILVUS_HOST, port=MILVUS_PORT, user=\"root\", password=\"vC2kRQnne8\")\n",
    "collection = Collection(\"ssd\")      # Get an existing collection.\n",
    "collection.load()"
   ]
  },
  {
   "cell_type": "code",
   "execution_count": 19,
   "metadata": {},
   "outputs": [
    {
     "ename": "AttributeError",
     "evalue": "'Collection' object has no attribute 'simiarity_search'",
     "output_type": "error",
     "traceback": [
      "\u001b[1;31m---------------------------------------------------------------------------\u001b[0m",
      "\u001b[1;31mAttributeError\u001b[0m                            Traceback (most recent call last)",
      "\u001b[1;32mc:\\learn\\star\\StarLight\\Database\\Vector-store\\milvus\\use_with_langchain.ipynb 单元格 4\u001b[0m line \u001b[0;36m1\n\u001b[1;32m----> <a href='vscode-notebook-cell:/c%3A/learn/star/StarLight/Database/Vector-store/milvus/use_with_langchain.ipynb#X10sZmlsZQ%3D%3D?line=0'>1</a>\u001b[0m collection\u001b[39m.\u001b[39;49msimiarity_search(\u001b[39m\"\u001b[39m\u001b[39m这是什么\u001b[39m\u001b[39m\"\u001b[39m, top_k\u001b[39m=\u001b[39m\u001b[39m10\u001b[39m)\n",
      "\u001b[1;31mAttributeError\u001b[0m: 'Collection' object has no attribute 'simiarity_search'"
     ]
    }
   ],
   "source": []
  },
  {
   "cell_type": "code",
   "execution_count": 16,
   "metadata": {},
   "outputs": [
    {
     "ename": "TypeError",
     "evalue": "Milvus._create_collection() got an unexpected keyword argument 'collection_name'",
     "output_type": "error",
     "traceback": [
      "\u001b[1;31m---------------------------------------------------------------------------\u001b[0m",
      "\u001b[1;31mTypeError\u001b[0m                                 Traceback (most recent call last)",
      "\u001b[1;32mc:\\learn\\star\\StarLight\\Database\\Vector-store\\milvus\\use_with_langchain.ipynb 单元格 4\u001b[0m line \u001b[0;36m1\n\u001b[1;32m----> <a href='vscode-notebook-cell:/c%3A/learn/star/StarLight/Database/Vector-store/milvus/use_with_langchain.ipynb#W6sZmlsZQ%3D%3D?line=0'>1</a>\u001b[0m vector_store \u001b[39m=\u001b[39m Milvus\u001b[39m.\u001b[39;49m_create_collection(\n\u001b[0;32m      <a href='vscode-notebook-cell:/c%3A/learn/star/StarLight/Database/Vector-store/milvus/use_with_langchain.ipynb#W6sZmlsZQ%3D%3D?line=1'>2</a>\u001b[0m \n\u001b[0;32m      <a href='vscode-notebook-cell:/c%3A/learn/star/StarLight/Database/Vector-store/milvus/use_with_langchain.ipynb#W6sZmlsZQ%3D%3D?line=2'>3</a>\u001b[0m     collection_name\u001b[39m=\u001b[39;49m\u001b[39m\"\u001b[39;49m\u001b[39mcomputer\u001b[39;49m\u001b[39m\"\u001b[39;49m,\n\u001b[0;32m      <a href='vscode-notebook-cell:/c%3A/learn/star/StarLight/Database/Vector-store/milvus/use_with_langchain.ipynb#W6sZmlsZQ%3D%3D?line=3'>4</a>\u001b[0m     connection_args\u001b[39m=\u001b[39;49m{\u001b[39m\"\u001b[39;49m\u001b[39mhost\u001b[39;49m\u001b[39m\"\u001b[39;49m: MILVUS_HOST,  \u001b[39m\"\u001b[39;49m\u001b[39mport\u001b[39;49m\u001b[39m\"\u001b[39;49m: MILVUS_PORT, \u001b[39m\"\u001b[39;49m\u001b[39muser\u001b[39;49m\u001b[39m\"\u001b[39;49m: MILVUS_USER, \u001b[39m\"\u001b[39;49m\u001b[39mpassword\u001b[39;49m\u001b[39m\"\u001b[39;49m: MILVUS_PASSWORD}\n\u001b[0;32m      <a href='vscode-notebook-cell:/c%3A/learn/star/StarLight/Database/Vector-store/milvus/use_with_langchain.ipynb#W6sZmlsZQ%3D%3D?line=4'>5</a>\u001b[0m )\n",
      "\u001b[1;31mTypeError\u001b[0m: Milvus._create_collection() got an unexpected keyword argument 'collection_name'"
     ]
    }
   ],
   "source": [
    "vector_store = Milvus.from_documents(\n",
    "    docs,\n",
    "    embedding=embeddings,\n",
    "    collection_name=\"computer\",\n",
    "    connection_args={\"host\": MILVUS_HOST,  \"port\": MILVUS_PORT, \"user\": MILVUS_USER, \"password\": MILVUS_PASSWORD}\n",
    ")"
   ]
  },
  {
   "cell_type": "code",
   "execution_count": 13,
   "metadata": {},
   "outputs": [
    {
     "name": "stdout",
     "output_type": "stream",
     "text": [
      "[Document(page_content='Milvus workflow.', metadata={'source': 'https://milvus.io/docs/overview.md', 'title': 'Introduction Milvus documentation', 'description': 'Milvus is an open-source vector database designed specifically for AI application development, embeddings similarity search, and MLOps v2.3.x.', 'language': 'en'}), Document(page_content='Introduction Milvus documentationDocsTutorialsToolsBlogCommunityStars0Join SlackTry Managed Milvus FREESearchHomev2.3.x\\u200bAbout MilvusWhat is MilvusMilvus AdoptersMilvus RoadmapMilvus LimitsReleasesEnhancement ProposalsBootcampGet StartedUser GuideAdministration GuideIntegrationsBenchmarksToolsReferenceExample ApplicationsFAQsAPI referenceIntroduction\\nThis page aims to give you an overview of Milvus by answering several questions. After reading this page, you will learn what Milvus is and how it works, as well as the key concepts, why use Milvus, supported indexes and metrics, example applications, the architecture, and relevant tools.\\nWhat is Milvus vector database?\\nMilvus was created in 2019 with a singular goal: store, index, and manage massive embedding vectors generated by deep neural networks and other machine learning (ML) models.\\nAs a database specifically designed to handle queries over input vectors, it is capable of indexing vectors on a trillion scale. Unlike existing relational databases which mainly deal with structured data following a pre-defined pattern, Milvus is designed from the bottom-up to handle embedding vectors converted from unstructured data.\\nAs the Internet grew and evolved, unstructured data became more and more common, including emails, papers, IoT sensor data, Facebook photos, protein structures, and much more. In order for computers to understand and process unstructured data, these are converted into vectors using embedding techniques. Milvus stores and indexes these vectors. Milvus is able to analyze the correlation between two vectors by calculating their similarity distance. If the two embedding vectors are very similar, it means that the original data sources are similar as well.', metadata={'source': 'https://milvus.io/docs/overview.md', 'title': 'Introduction Milvus documentation', 'description': 'Milvus is an open-source vector database designed specifically for AI application development, embeddings similarity search, and MLOps v2.3.x.', 'language': 'en'}), Document(page_content=\"See Milvus tutorials and Milvus Adopters for more Milvus application scenarios.\\nHow is Milvus designed?\\nAs a cloud-native vector database, Milvus separates storage and computation by design. To enhance elasticity and flexibility, all components in Milvus are stateless.\\nThe system breaks down into four levels:\\n\\nAccess layer: The access layer is composed of a group of stateless proxies and serves as the front layer of the system and endpoint to users.\\nCoordinator service: The coordinator service assigns tasks to the worker nodes and functions as the system's brain.\\nWorker nodes: The worker nodes function as arms and legs and are dumb executors that follow instructions from the coordinator service and execute user-triggered DML/DDL commands.\\nStorage: Storage is the bone of the system, and is responsible for data persistence. It comprises meta storage, log broker, and object storage.\\n\\nFor more information, see Architecture Overview.\\n\\n\\n\\n\\n\\n\\n\\nMilvus architecure.\", metadata={'source': 'https://milvus.io/docs/overview.md', 'title': 'Introduction Milvus documentation', 'description': 'Milvus is an open-source vector database designed specifically for AI application development, embeddings similarity search, and MLOps v2.3.x.', 'language': 'en'}), Document(page_content=\"Developer tools\\nMilvus is supported by rich APIs and tools to facilitate DevOps.\\nAPI access\\nMilvus has client libraries wrapped on top of the Milvus API that can be used to insert, delete, and query data programmatically from application code:\\n\\nPyMilvus\\nNode.js SDK\\nGo SDK\\nJava SDK\\n\\nWe are working on enabling more new client libraries. If you would like to contribute, go to the corresponding repository of the Milvus Project.\\nMilvus ecosystem tools\\nThe Milvus ecosystem provides helpful tools including:\\n\\nMilvus CLI\\nAttu, a graphical management system for Milvus.\\nMilvusDM (Milvus Data Migration), an open-source tool designed specifically for importing and exporting data with Milvus.\\nMilvus sizing tool, which helps you estimate the raw file size, memory size, and stable disk size needed for a specified number of vectors with various index types.\\n\\nWhat's next\\n\\nGet started with a 3-minute tutorial:\\n\\nHello Milvus\\n\\n\\nInstall Milvus for your testing or production environment:\", metadata={'source': 'https://milvus.io/docs/overview.md', 'title': 'Introduction Milvus documentation', 'description': 'Milvus is an open-source vector database designed specifically for AI application development, embeddings similarity search, and MLOps v2.3.x.', 'language': 'en'})]\n"
     ]
    }
   ],
   "source": [
    "query = \"这是什么\"\n",
    "docs = vector_store.similarity_search(query)\n",
    "\n",
    "print(docs)\n"
   ]
  },
  {
   "cell_type": "code",
   "execution_count": 10,
   "metadata": {},
   "outputs": [
    {
     "data": {
      "text/plain": [
       "{'intermediate_steps': [' No relevant text.',\n",
       "  '\\nWhat is Milvus? Milvus was created in 2019 with a singular goal: store, index, and manage massive embedding vectors generated by deep neural networks and other machine learning (ML) models. As a database specifically designed to handle queries over input vectors, it is capable of indexing vectors on a trillion scale. Unlike existing relational databases which mainly deal with structured data following a pre-defined pattern, Milvus is designed from the bottom-up to handle embedding vectors converted from unstructured data.',\n",
       "  ' Milvus is supported by rich APIs and tools to facilitate DevOps. Milvus has client libraries wrapped on top of the Milvus API that can be used to insert, delete, and query data programmatically from application code. The Milvus ecosystem provides helpful tools including: Milvus CLI, Attu, a graphical management system for Milvus, MilvusDM (Milvus Data Migration), an open-source tool designed specifically for importing and exporting data with Milvus, and Milvus sizing tool, which helps you estimate the raw file size, memory size, and stable disk size needed for a specified number of vectors with various index types.',\n",
       "  ' As a cloud-native vector database, Milvus separates storage and computation by design. To enhance elasticity and flexibility, all components in Milvus are stateless. The system breaks down into four levels: Access layer, Coordinator service, Worker nodes, and Storage. For more information, see Architecture Overview.'],\n",
       " 'output_text': ' Milvus is a cloud-native vector database created in 2019 with a singular goal: store, index, and manage massive embedding vectors generated by deep neural networks and other machine learning (ML) models. It is supported by rich APIs and tools to facilitate DevOps.\\nSOURCES: https://milvus.io/docs/overview.md'}"
      ]
     },
     "execution_count": 10,
     "metadata": {},
     "output_type": "execute_result"
    }
   ],
   "source": [
    "from langchain.chains.qa_with_sources import load_qa_with_sources_chain\n",
    "from langchain.llms import OpenAI\n",
    "\n",
    "chain = load_qa_with_sources_chain(OpenAI(temperature=0), chain_type=\"map_reduce\", return_intermediate_steps=True)\n",
    "query = \"What is Milvus?\"\n",
    "chain({\"input_documents\": docs, \"question\": query}, return_only_outputs=True)\n"
   ]
  },
  {
   "cell_type": "code",
   "execution_count": null,
   "metadata": {},
   "outputs": [],
   "source": []
  }
 ],
 "metadata": {
  "kernelspec": {
   "display_name": "Python 3",
   "language": "python",
   "name": "python3"
  },
  "language_info": {
   "codemirror_mode": {
    "name": "ipython",
    "version": 3
   },
   "file_extension": ".py",
   "mimetype": "text/x-python",
   "name": "python",
   "nbconvert_exporter": "python",
   "pygments_lexer": "ipython3",
   "version": "3.11.5"
  }
 },
 "nbformat": 4,
 "nbformat_minor": 2
}
