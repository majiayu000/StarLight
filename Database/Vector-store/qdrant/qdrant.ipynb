{
 "cells": [
  {
   "cell_type": "code",
   "execution_count": 1,
   "metadata": {},
   "outputs": [
    {
     "name": "stderr",
     "output_type": "stream",
     "text": [
      "ERROR: pip's dependency resolver does not currently take into account all the packages that are installed. This behaviour is the source of the following dependency conflicts.\n",
      "paddlenlp 2.6.1 requires protobuf==3.20.2, but you have protobuf 4.24.4 which is incompatible.\n",
      "paddlepaddle 2.5.1 requires protobuf<=3.20.2,>=3.1.0; platform_system == \"Windows\", but you have protobuf 4.24.4 which is incompatible.\n",
      "pymilvus 2.2.11 requires grpcio<=1.53.0,>=1.49.1, but you have grpcio 1.59.0 which is incompatible.\n"
     ]
    },
    {
     "name": "stdout",
     "output_type": "stream",
     "text": [
      "Requirement already satisfied: langchain in c:\\users\\18353\\appdata\\local\\programs\\python\\python311\\lib\\site-packages (0.0.162)\n",
      "Requirement already satisfied: openai in c:\\users\\18353\\appdata\\local\\programs\\python\\python311\\lib\\site-packages (0.27.7)\n",
      "Collecting qdrant_client\n",
      "  Downloading qdrant_client-1.6.4-py3-none-any.whl.metadata (9.0 kB)\n",
      "Requirement already satisfied: tiktoken in c:\\users\\18353\\appdata\\local\\programs\\python\\python311\\lib\\site-packages (0.4.0)\n",
      "Requirement already satisfied: PyYAML>=5.4.1 in c:\\users\\18353\\appdata\\local\\programs\\python\\python311\\lib\\site-packages (from langchain) (6.0.1)\n",
      "Requirement already satisfied: SQLAlchemy<3,>=1.4 in c:\\users\\18353\\appdata\\local\\programs\\python\\python311\\lib\\site-packages (from langchain) (2.0.21)\n",
      "Requirement already satisfied: aiohttp<4.0.0,>=3.8.3 in c:\\users\\18353\\appdata\\local\\programs\\python\\python311\\lib\\site-packages (from langchain) (3.8.5)\n",
      "Requirement already satisfied: dataclasses-json<0.6.0,>=0.5.7 in c:\\users\\18353\\appdata\\local\\programs\\python\\python311\\lib\\site-packages (from langchain) (0.5.14)\n",
      "Requirement already satisfied: numexpr<3.0.0,>=2.8.4 in c:\\users\\18353\\appdata\\local\\programs\\python\\python311\\lib\\site-packages (from langchain) (2.8.7)\n",
      "Requirement already satisfied: numpy<2,>=1 in c:\\users\\18353\\appdata\\local\\programs\\python\\python311\\lib\\site-packages (from langchain) (1.25.2)\n",
      "Requirement already satisfied: openapi-schema-pydantic<2.0,>=1.2 in c:\\users\\18353\\appdata\\local\\programs\\python\\python311\\lib\\site-packages (from langchain) (1.2.4)\n",
      "Requirement already satisfied: pydantic<2,>=1 in c:\\users\\18353\\appdata\\local\\programs\\python\\python311\\lib\\site-packages (from langchain) (1.10.13)\n",
      "Requirement already satisfied: requests<3,>=2 in c:\\users\\18353\\appdata\\local\\programs\\python\\python311\\lib\\site-packages (from langchain) (2.31.0)\n",
      "Requirement already satisfied: tenacity<9.0.0,>=8.1.0 in c:\\users\\18353\\appdata\\local\\programs\\python\\python311\\lib\\site-packages (from langchain) (8.2.3)\n",
      "Requirement already satisfied: tqdm>=4.48.0 in c:\\users\\18353\\appdata\\local\\programs\\python\\python311\\lib\\site-packages (from langchain) (4.66.1)\n",
      "Requirement already satisfied: grpcio>=1.41.0 in c:\\users\\18353\\appdata\\local\\programs\\python\\python311\\lib\\site-packages (from qdrant_client) (1.59.0)\n",
      "Collecting grpcio-tools>=1.41.0 (from qdrant_client)\n",
      "  Downloading grpcio_tools-1.59.0-cp311-cp311-win_amd64.whl.metadata (6.4 kB)\n",
      "Requirement already satisfied: httpx>=0.14.0 in c:\\users\\18353\\appdata\\local\\programs\\python\\python311\\lib\\site-packages (from httpx[http2]>=0.14.0->qdrant_client) (0.25.0)\n",
      "Requirement already satisfied: portalocker<3.0.0,>=2.7.0 in c:\\users\\18353\\appdata\\local\\programs\\python\\python311\\lib\\site-packages (from qdrant_client) (2.8.2)\n",
      "Requirement already satisfied: urllib3<2.0.0,>=1.26.14 in c:\\users\\18353\\appdata\\local\\programs\\python\\python311\\lib\\site-packages (from qdrant_client) (1.26.17)\n",
      "Requirement already satisfied: regex>=2022.1.18 in c:\\users\\18353\\appdata\\local\\programs\\python\\python311\\lib\\site-packages (from tiktoken) (2023.8.8)\n",
      "Requirement already satisfied: attrs>=17.3.0 in c:\\users\\18353\\appdata\\local\\programs\\python\\python311\\lib\\site-packages (from aiohttp<4.0.0,>=3.8.3->langchain) (23.1.0)\n",
      "Requirement already satisfied: charset-normalizer<4.0,>=2.0 in c:\\users\\18353\\appdata\\local\\programs\\python\\python311\\lib\\site-packages (from aiohttp<4.0.0,>=3.8.3->langchain) (3.2.0)\n",
      "Requirement already satisfied: multidict<7.0,>=4.5 in c:\\users\\18353\\appdata\\local\\programs\\python\\python311\\lib\\site-packages (from aiohttp<4.0.0,>=3.8.3->langchain) (6.0.4)\n",
      "Requirement already satisfied: async-timeout<5.0,>=4.0.0a3 in c:\\users\\18353\\appdata\\local\\programs\\python\\python311\\lib\\site-packages (from aiohttp<4.0.0,>=3.8.3->langchain) (4.0.3)\n",
      "Requirement already satisfied: yarl<2.0,>=1.0 in c:\\users\\18353\\appdata\\local\\programs\\python\\python311\\lib\\site-packages (from aiohttp<4.0.0,>=3.8.3->langchain) (1.9.2)\n",
      "Requirement already satisfied: frozenlist>=1.1.1 in c:\\users\\18353\\appdata\\local\\programs\\python\\python311\\lib\\site-packages (from aiohttp<4.0.0,>=3.8.3->langchain) (1.4.0)\n",
      "Requirement already satisfied: aiosignal>=1.1.2 in c:\\users\\18353\\appdata\\local\\programs\\python\\python311\\lib\\site-packages (from aiohttp<4.0.0,>=3.8.3->langchain) (1.3.1)\n",
      "Requirement already satisfied: marshmallow<4.0.0,>=3.18.0 in c:\\users\\18353\\appdata\\local\\programs\\python\\python311\\lib\\site-packages (from dataclasses-json<0.6.0,>=0.5.7->langchain) (3.20.1)\n",
      "Requirement already satisfied: typing-inspect<1,>=0.4.0 in c:\\users\\18353\\appdata\\local\\programs\\python\\python311\\lib\\site-packages (from dataclasses-json<0.6.0,>=0.5.7->langchain) (0.9.0)\n",
      "Collecting protobuf<5.0dev,>=4.21.6 (from grpcio-tools>=1.41.0->qdrant_client)\n",
      "  Downloading protobuf-4.24.4-cp310-abi3-win_amd64.whl.metadata (540 bytes)\n",
      "Requirement already satisfied: setuptools in c:\\users\\18353\\appdata\\local\\programs\\python\\python311\\lib\\site-packages (from grpcio-tools>=1.41.0->qdrant_client) (65.5.0)\n",
      "Requirement already satisfied: certifi in c:\\users\\18353\\appdata\\local\\programs\\python\\python311\\lib\\site-packages (from httpx>=0.14.0->httpx[http2]>=0.14.0->qdrant_client) (2023.7.22)\n",
      "Requirement already satisfied: httpcore<0.19.0,>=0.18.0 in c:\\users\\18353\\appdata\\local\\programs\\python\\python311\\lib\\site-packages (from httpx>=0.14.0->httpx[http2]>=0.14.0->qdrant_client) (0.18.0)\n",
      "Requirement already satisfied: idna in c:\\users\\18353\\appdata\\local\\programs\\python\\python311\\lib\\site-packages (from httpx>=0.14.0->httpx[http2]>=0.14.0->qdrant_client) (3.4)\n",
      "Requirement already satisfied: sniffio in c:\\users\\18353\\appdata\\local\\programs\\python\\python311\\lib\\site-packages (from httpx>=0.14.0->httpx[http2]>=0.14.0->qdrant_client) (1.3.0)\n",
      "Collecting h2<5,>=3 (from httpx[http2]>=0.14.0->qdrant_client)\n",
      "  Downloading h2-4.1.0-py3-none-any.whl (57 kB)\n",
      "     ---------------------------------------- 0.0/57.5 kB ? eta -:--:--\n",
      "     --------------------- ------------------ 30.7/57.5 kB 1.3 MB/s eta 0:00:01\n",
      "     ---------------------------------------- 57.5/57.5 kB 1.0 MB/s eta 0:00:00\n",
      "Requirement already satisfied: pywin32>=226 in c:\\users\\18353\\appdata\\roaming\\python\\python311\\site-packages (from portalocker<3.0.0,>=2.7.0->qdrant_client) (306)\n",
      "Requirement already satisfied: typing-extensions>=4.2.0 in c:\\users\\18353\\appdata\\local\\programs\\python\\python311\\lib\\site-packages (from pydantic<2,>=1->langchain) (4.8.0)\n",
      "Requirement already satisfied: greenlet!=0.4.17 in c:\\users\\18353\\appdata\\local\\programs\\python\\python311\\lib\\site-packages (from SQLAlchemy<3,>=1.4->langchain) (2.0.2)\n",
      "Requirement already satisfied: colorama in c:\\users\\18353\\appdata\\roaming\\python\\python311\\site-packages (from tqdm>=4.48.0->langchain) (0.4.6)\n",
      "Collecting hyperframe<7,>=6.0 (from h2<5,>=3->httpx[http2]>=0.14.0->qdrant_client)\n",
      "  Downloading hyperframe-6.0.1-py3-none-any.whl (12 kB)\n",
      "Collecting hpack<5,>=4.0 (from h2<5,>=3->httpx[http2]>=0.14.0->qdrant_client)\n",
      "  Downloading hpack-4.0.0-py3-none-any.whl (32 kB)\n",
      "Requirement already satisfied: anyio<5.0,>=3.0 in c:\\users\\18353\\appdata\\local\\programs\\python\\python311\\lib\\site-packages (from httpcore<0.19.0,>=0.18.0->httpx>=0.14.0->httpx[http2]>=0.14.0->qdrant_client) (3.7.1)\n",
      "Requirement already satisfied: h11<0.15,>=0.13 in c:\\users\\18353\\appdata\\local\\programs\\python\\python311\\lib\\site-packages (from httpcore<0.19.0,>=0.18.0->httpx>=0.14.0->httpx[http2]>=0.14.0->qdrant_client) (0.14.0)\n",
      "Requirement already satisfied: packaging>=17.0 in c:\\users\\18353\\appdata\\roaming\\python\\python311\\site-packages (from marshmallow<4.0.0,>=3.18.0->dataclasses-json<0.6.0,>=0.5.7->langchain) (23.1)\n",
      "Requirement already satisfied: mypy-extensions>=0.3.0 in c:\\users\\18353\\appdata\\local\\programs\\python\\python311\\lib\\site-packages (from typing-inspect<1,>=0.4.0->dataclasses-json<0.6.0,>=0.5.7->langchain) (1.0.0)\n",
      "Downloading qdrant_client-1.6.4-py3-none-any.whl (181 kB)\n",
      "   ---------------------------------------- 0.0/181.3 kB ? eta -:--:--\n",
      "   ------------------------ --------------- 112.6/181.3 kB 3.3 MB/s eta 0:00:01\n",
      "   ---------------------------------------- 181.3/181.3 kB 2.8 MB/s eta 0:00:00\n",
      "Downloading grpcio_tools-1.59.0-cp311-cp311-win_amd64.whl (1.1 MB)\n",
      "   ---------------------------------------- 0.0/1.1 MB ? eta -:--:--\n",
      "   --------- ------------------------------ 0.3/1.1 MB 7.9 MB/s eta 0:00:01\n",
      "   ---------------------- ----------------- 0.6/1.1 MB 7.5 MB/s eta 0:00:01\n",
      "   ---------------------- ----------------- 0.6/1.1 MB 7.5 MB/s eta 0:00:01\n",
      "   ---------------------------------------  1.1/1.1 MB 6.1 MB/s eta 0:00:01\n",
      "   ---------------------------------------- 1.1/1.1 MB 5.6 MB/s eta 0:00:00\n",
      "Downloading protobuf-4.24.4-cp310-abi3-win_amd64.whl (430 kB)\n",
      "   ---------------------------------------- 0.0/430.5 kB ? eta -:--:--\n",
      "   ------------- -------------------------- 143.4/430.5 kB ? eta -:--:--\n",
      "   ------------- -------------------------- 143.4/430.5 kB ? eta -:--:--\n",
      "   ------------------------------------- -- 399.4/430.5 kB 4.2 MB/s eta 0:00:01\n",
      "   ---------------------------------------- 430.5/430.5 kB 3.4 MB/s eta 0:00:00\n",
      "Installing collected packages: protobuf, hyperframe, hpack, h2, grpcio-tools, qdrant_client\n",
      "  Attempting uninstall: protobuf\n",
      "    Found existing installation: protobuf 3.19.3\n",
      "    Uninstalling protobuf-3.19.3:\n",
      "      Successfully uninstalled protobuf-3.19.3\n",
      "Successfully installed grpcio-tools-1.59.0 h2-4.1.0 hpack-4.0.0 hyperframe-6.0.1 protobuf-4.24.4 qdrant_client-1.6.4\n"
     ]
    }
   ],
   "source": [
    "!pip install langchain openai qdrant_client tiktoken"
   ]
  },
  {
   "cell_type": "code",
   "execution_count": 12,
   "metadata": {},
   "outputs": [],
   "source": [
    "from langchain.vectorstores import Qdrant\n",
    "from langchain.embeddings import OpenAIEmbeddings\n",
    "import qdrant_client\n",
    "import os"
   ]
  },
  {
   "cell_type": "code",
   "execution_count": 4,
   "metadata": {},
   "outputs": [],
   "source": [
    "os.environ[\"QDRANT_HOST\"] = \"****\"\n",
    "os.environ[\"QDRANT_API_KEY\"] = \"*****\"\n",
    "\n",
    "client = qdrant_client.QdrantClient(\n",
    "    os.getenv(\"QDRANT_HOST\"),\n",
    "    api_key=os.getenv(\"QDRANT_API_KEY\")\n",
    ")"
   ]
  },
  {
   "cell_type": "code",
   "execution_count": 6,
   "metadata": {},
   "outputs": [],
   "source": [
    "from qdrant_client.http import models\n",
    "\n",
    "os.environ[\"QDRANT_COLLECTION_NAME\"] = \"my-collection\"\n",
    "\n",
    "vectors_config = qdrant_client.http.models.VectorParams(size=1536, distance=models.Distance.COSINE) "
   ]
  },
  {
   "cell_type": "code",
   "execution_count": 7,
   "metadata": {},
   "outputs": [
    {
     "data": {
      "text/plain": [
       "True"
      ]
     },
     "execution_count": 7,
     "metadata": {},
     "output_type": "execute_result"
    }
   ],
   "source": [
    "client.create_collection(os.getenv(\"QDRANT_COLLECTION_NAME\"), vectors_config)"
   ]
  },
  {
   "cell_type": "markdown",
   "metadata": {},
   "source": [
    "create vector store"
   ]
  },
  {
   "cell_type": "code",
   "execution_count": 13,
   "metadata": {},
   "outputs": [],
   "source": [
    "os.environ[\"OPENAI_API_KEY\"] = \"sk-*****\"\n",
    "\n",
    "embeddings = OpenAIEmbeddings()\n",
    "\n",
    "vectorstore = Qdrant(\n",
    "    client=client,\n",
    "    collection_name=os.getenv(\"QDRANT_COLLECTION_NAME\"),\n",
    "    embeddings=embeddings,\n",
    ")"
   ]
  },
  {
   "cell_type": "markdown",
   "metadata": {},
   "source": [
    "add documents"
   ]
  },
  {
   "cell_type": "code",
   "execution_count": null,
   "metadata": {},
   "outputs": [],
   "source": [
    "from langchain.text_splitter import CharacterTextSplitter\n",
    "\n",
    "def get_chunks(text: str):\n",
    "    text_splitter = CharacterTextSplitter(\n",
    "        separator=\"\\n\",\n",
    "        chunk_size=1000,\n",
    "        chunk_over_lap=200,\n",
    "    )\n",
    "\n",
    "    chunks = text_splitter.split_text(text)\n",
    "    return chunks\n",
    "\n",
    "with open(\"story.txt\") as f:\n",
    "    raw_text = f.read()\n",
    "    \n",
    "texts = get_chunks(raw_text)\n",
    "\n",
    "vectorstore.add_texts(texts)"
   ]
  },
  {
   "cell_type": "code",
   "execution_count": null,
   "metadata": {},
   "outputs": [],
   "source": [
    "from langchain.chains import RetrievalQA\n",
    "from langchain.llms import OpenAI\n",
    "\n",
    "\n",
    "qa = RetrievalQA.from_chain_type(\n",
    "    llm=OpenAI(),\n",
    "    chain_type=\"stuff\",\n",
    "    retriever=vectorstore.as_retriever()\n",
    "    )"
   ]
  },
  {
   "cell_type": "code",
   "execution_count": null,
   "metadata": {},
   "outputs": [],
   "source": [
    "query = \"How many friends are there and what are their names?\"\n",
    "response = qa.run(query)\n",
    "\n",
    "print(response)"
   ]
  }
 ],
 "metadata": {
  "kernelspec": {
   "display_name": "Python 3",
   "language": "python",
   "name": "python3"
  },
  "language_info": {
   "codemirror_mode": {
    "name": "ipython",
    "version": 3
   },
   "file_extension": ".py",
   "mimetype": "text/x-python",
   "name": "python",
   "nbconvert_exporter": "python",
   "pygments_lexer": "ipython3",
   "version": "3.11.5"
  }
 },
 "nbformat": 4,
 "nbformat_minor": 2
}
